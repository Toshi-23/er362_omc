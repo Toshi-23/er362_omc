{
 "cells": [
  {
   "cell_type": "markdown",
   "id": "737cac07",
   "metadata": {},
   "source": [
    "# Lab 1 - fluence\n",
    "This lab exercise is intended merely to introduce the user to the basic\n",
    "elements of an input file, the procedures necessary to invoke the code\n",
    "and an orientation to the contents of an output file.  (all for MCNP)\n",
    "\n",
    "The geometry is a sphere of radius 10 cm centered at the origin. The material\n",
    "everywhere in the universe is void.  The sphere is contained within a larger\n",
    "RPP 100 cm on an edge.  Importance inside the RPP (and inside the sphere) is set\n",
    "to 1 and outside the RPP the importance is set to 0.\n",
    "\n",
    "100,000 neutron histories are run and an f1 tally is used to get the neutron\n",
    "fluence for the sphere.  MCNP output is confirmed to be equal to the theoretical\n",
    "value of 1/(surface are of sphere) per source particle."
   ]
  },
  {
   "cell_type": "code",
   "execution_count": 1,
   "id": "7e40b4bb",
   "metadata": {},
   "outputs": [],
   "source": [
    "import openmc"
   ]
  },
  {
   "cell_type": "markdown",
   "id": "a973474e",
   "metadata": {},
   "source": [
    "## Materials\n",
    "This lab has no materials; these will be discussed in follow-on labs once the students have a more basic orientation to the code."
   ]
  },
  {
   "cell_type": "markdown",
   "id": "daffeb32",
   "metadata": {},
   "source": [
    "## Geometry\n",
    "For this model, all we need is a sphere contained within a box."
   ]
  },
  {
   "cell_type": "code",
   "execution_count": 2,
   "id": "6d15f2eb",
   "metadata": {},
   "outputs": [],
   "source": [
    "sphere = openmc.Sphere(r=10.)\n",
    "\n",
    "box_xm = openmc.XPlane(x0=-50.0,boundary_type='vacuum');\n",
    "box_xp = openmc.XPlane(x0=50.0,boundary_type='vacuum');\n",
    "box_ym = openmc.YPlane(y0=-50.0,boundary_type='vacuum');\n",
    "box_yp = openmc.YPlane(y0=50.0,boundary_type='vacuum');\n",
    "box_zm = openmc.ZPlane(z0=-50.0,boundary_type='vacuum');\n",
    "box_zp = openmc.ZPlane(z0=50.0,boundary_type='vacuum');\n",
    "\n",
    "# define the cells\n",
    "sphere_region = -sphere;\n",
    "outer_region = (+box_xm & -box_xp & -box_yp & +box_ym & \n",
    "                +box_zm & -box_zp & +sphere)\n",
    "cell1 = openmc.Cell();\n",
    "cell1.fill = None;\n",
    "cell1.region = sphere_region;\n",
    "\n",
    "cell2 = openmc.Cell()\n",
    "cell2.fill = None;\n",
    "cell2.region = outer_region;\n",
    "\n",
    "root = openmc.Universe()\n",
    "root.add_cells((cell1,cell2))\n",
    "\n",
    "g = openmc.Geometry()\n",
    "g.root_universe = root\n",
    "g.export_to_xml()"
   ]
  },
  {
   "cell_type": "markdown",
   "id": "1a58f8e8",
   "metadata": {},
   "source": [
    "## Settings\n",
    "This is a fixed-source problem with neutrons as particles.  We will use an isotropic point source at the origin emitting 1 MeV netutrons."
   ]
  },
  {
   "cell_type": "code",
   "execution_count": 3,
   "id": "2bbd2478",
   "metadata": {},
   "outputs": [],
   "source": [
    "settings = openmc.Settings();\n",
    "settings.run_mode = 'fixed source';\n",
    "\n",
    "settings.batches = 50;# even for fixed source problems you need batches\n",
    "settings.particles = 10000; \n",
    "\n",
    "source = openmc.Source();\n",
    "source.particle = 'neutron';\n",
    "source.space = openmc.stats.Point(xyz=(0.,0.,0.)); # default is the origin\n",
    "source.angle = openmc.stats.Isotropic();\n",
    "source.energy = openmc.stats.Discrete([1.0e6],[1.0]);\n",
    "settings.source = source;\n",
    "\n",
    "settings.export_to_xml()"
   ]
  },
  {
   "cell_type": "markdown",
   "id": "c43aaa52",
   "metadata": {},
   "source": [
    "## Tallies\n",
    "What we want to masure is the passing of neutrons through the spherical surface.  Since there are no materials, we expect every single source neutron to do so. We will use a SurfacFilter filter type and the score will be 'current'.  We expect the output to be 1 particle per source particle.  "
   ]
  },
  {
   "cell_type": "code",
   "execution_count": 4,
   "id": "697a79e3",
   "metadata": {},
   "outputs": [],
   "source": [
    "t = openmc.Tally(name='sphere');\n",
    "s_filter = openmc.SurfaceFilter(sphere.id);\n",
    "t.filters = [s_filter];\n",
    "t.scores = ['current'];\n",
    "\n",
    "tallies = openmc.Tallies([t])\n",
    "tallies.export_to_xml()"
   ]
  },
  {
   "cell_type": "code",
   "execution_count": 5,
   "id": "04451583",
   "metadata": {},
   "outputs": [
    {
     "name": "stdout",
     "output_type": "stream",
     "text": [
      "                                %%%%%%%%%%%%%%%\n",
      "                           %%%%%%%%%%%%%%%%%%%%%%%%\n",
      "                        %%%%%%%%%%%%%%%%%%%%%%%%%%%%%%\n",
      "                      %%%%%%%%%%%%%%%%%%%%%%%%%%%%%%%%%%\n",
      "                    %%%%%%%%%%%%%%%%%%%%%%%%%%%%%%%%%%%%%%\n",
      "                   %%%%%%%%%%%%%%%%%%%%%%%%%%%%%%%%%%%%%%%%\n",
      "                                    %%%%%%%%%%%%%%%%%%%%%%%%\n",
      "                                     %%%%%%%%%%%%%%%%%%%%%%%%\n",
      "                 ###############      %%%%%%%%%%%%%%%%%%%%%%%%\n",
      "                ##################     %%%%%%%%%%%%%%%%%%%%%%%\n",
      "                ###################     %%%%%%%%%%%%%%%%%%%%%%%\n",
      "                ####################     %%%%%%%%%%%%%%%%%%%%%%\n",
      "                #####################     %%%%%%%%%%%%%%%%%%%%%\n",
      "                ######################     %%%%%%%%%%%%%%%%%%%%\n",
      "                #######################     %%%%%%%%%%%%%%%%%%\n",
      "                 #######################     %%%%%%%%%%%%%%%%%\n",
      "                 ######################     %%%%%%%%%%%%%%%%%\n",
      "                  ####################     %%%%%%%%%%%%%%%%%\n",
      "                    #################     %%%%%%%%%%%%%%%%%\n",
      "                     ###############     %%%%%%%%%%%%%%%%\n",
      "                       ############     %%%%%%%%%%%%%%%\n",
      "                          ########     %%%%%%%%%%%%%%\n",
      "                                      %%%%%%%%%%%\n",
      "\n",
      "                   | The OpenMC Monte Carlo Code\n",
      "         Copyright | 2011-2020 MIT and OpenMC contributors\n",
      "           License | https://docs.openmc.org/en/latest/license.html\n",
      "           Version | 0.12.0\n",
      "          Git SHA1 | 599a722a542ede426c3f1390a88ddb4e4e0045d3\n",
      "         Date/Time | 2021-04-27 10:07:15\n",
      "    OpenMP Threads | 36\n",
      "\n",
      " Reading settings XML file...\n",
      " Reading cross sections XML file...\n",
      " Reading materials XML file...\n",
      " Reading geometry XML file...\n",
      " Minimum neutron data temperature: 0.000000 K\n",
      " Maximum neutron data temperature:\n",
      " 17976931348623157081452742373170435679807056752584499659891747680315726078002853\n",
      " 87605895586327668781715404589535143824642343213268894641827684675467035375169860\n",
      " 49910576551282076245490090389328944075868508455133942304583236903222948165808559\n",
      " 332123348274797826204144723168738177180919299881250404026184124858368.000000 K\n",
      " Reading tallies XML file...\n",
      " Preparing distributed cell instances...\n",
      " Writing summary.h5 file...\n",
      "\n",
      " ===============>     FIXED SOURCE TRANSPORT SIMULATION     <===============\n",
      "\n",
      " Simulating batch 1\n",
      " Simulating batch 2\n",
      " Simulating batch 3\n",
      " Simulating batch 4\n",
      " Simulating batch 5\n",
      " Simulating batch 6\n",
      " Simulating batch 7\n",
      " Simulating batch 8\n",
      " Simulating batch 9\n",
      " Simulating batch 10\n",
      " Simulating batch 11\n",
      " Simulating batch 12\n",
      " Simulating batch 13\n",
      " Simulating batch 14\n",
      " Simulating batch 15\n",
      " Simulating batch 16\n",
      " Simulating batch 17\n",
      " Simulating batch 18\n",
      " Simulating batch 19\n",
      " Simulating batch 20\n",
      " Simulating batch 21\n",
      " Simulating batch 22\n",
      " Simulating batch 23\n",
      " Simulating batch 24\n",
      " Simulating batch 25\n",
      " Simulating batch 26\n",
      " Simulating batch 27\n",
      " Simulating batch 28\n",
      " Simulating batch 29\n",
      " Simulating batch 30\n",
      " Simulating batch 31\n",
      " Simulating batch 32\n",
      " Simulating batch 33\n",
      " Simulating batch 34\n",
      " Simulating batch 35\n",
      " Simulating batch 36\n",
      " Simulating batch 37\n",
      " Simulating batch 38\n",
      " Simulating batch 39\n",
      " Simulating batch 40\n",
      " Simulating batch 41\n",
      " Simulating batch 42\n",
      " Simulating batch 43\n",
      " Simulating batch 44\n",
      " Simulating batch 45\n",
      " Simulating batch 46\n",
      " Simulating batch 47\n",
      " Simulating batch 48\n",
      " Simulating batch 49\n",
      " Simulating batch 50\n",
      " Creating state point statepoint.50.h5...\n",
      "\n",
      " =======================>     TIMING STATISTICS     <=======================\n",
      "\n",
      " Total time for initialization     = 3.2925e-02 seconds\n",
      "   Reading cross sections          = 7.3332e-05 seconds\n",
      " Total time in simulation          = 5.0307e-01 seconds\n",
      "   Time in transport only          = 4.9554e-01 seconds\n",
      "   Time in active batches          = 5.0307e-01 seconds\n",
      "   Time accumulating tallies       = 4.9462e-05 seconds\n",
      " Total time for finalization       = 9.2009e-05 seconds\n",
      " Total time elapsed                = 5.3624e-01 seconds\n",
      " Calculation Rate (active)         = 993899.0 particles/second\n",
      "\n",
      " ============================>     RESULTS     <============================\n",
      "\n",
      " Leakage Fraction            = 1.00000 +/- 0.00000\n",
      "\n"
     ]
    }
   ],
   "source": [
    "openmc.run()"
   ]
  },
  {
   "cell_type": "markdown",
   "id": "d6056941",
   "metadata": {},
   "source": [
    "## Open Statepoint File and Read Tally Data\n"
   ]
  },
  {
   "cell_type": "code",
   "execution_count": 6,
   "id": "1573826b",
   "metadata": {},
   "outputs": [],
   "source": [
    "sp = openmc.StatePoint('statepoint.50.h5')"
   ]
  },
  {
   "cell_type": "code",
   "execution_count": 7,
   "id": "e31fdb5e",
   "metadata": {},
   "outputs": [
    {
     "name": "stdout",
     "output_type": "stream",
     "text": [
      "fixed source\n"
     ]
    }
   ],
   "source": [
    "print(sp.run_mode)"
   ]
  },
  {
   "cell_type": "code",
   "execution_count": 8,
   "id": "fda65f06",
   "metadata": {},
   "outputs": [
    {
     "name": "stdout",
     "output_type": "stream",
     "text": [
      "{1: Tally\n",
      "\tID             =\t1\n",
      "\tName           =\tsphere\n",
      "\tFilters        =\tSurfaceFilter\n",
      "\tNuclides       =\ttotal\n",
      "\tScores         =\t['current']\n",
      "\tEstimator      =\ttracklength}\n"
     ]
    }
   ],
   "source": [
    "print(sp.tallies)"
   ]
  },
  {
   "cell_type": "code",
   "execution_count": 9,
   "id": "51d92d4c",
   "metadata": {},
   "outputs": [],
   "source": [
    "flux_tally = sp.get_tally(name='sphere')"
   ]
  },
  {
   "cell_type": "code",
   "execution_count": 10,
   "id": "6d452263",
   "metadata": {},
   "outputs": [],
   "source": [
    "df = flux_tally.get_pandas_dataframe()"
   ]
  },
  {
   "cell_type": "code",
   "execution_count": 11,
   "id": "a5cf3e5c",
   "metadata": {},
   "outputs": [
    {
     "data": {
      "text/html": [
       "<div>\n",
       "<style scoped>\n",
       "    .dataframe tbody tr th:only-of-type {\n",
       "        vertical-align: middle;\n",
       "    }\n",
       "\n",
       "    .dataframe tbody tr th {\n",
       "        vertical-align: top;\n",
       "    }\n",
       "\n",
       "    .dataframe thead th {\n",
       "        text-align: right;\n",
       "    }\n",
       "</style>\n",
       "<table border=\"1\" class=\"dataframe\">\n",
       "  <thead>\n",
       "    <tr style=\"text-align: right;\">\n",
       "      <th></th>\n",
       "      <th>surface</th>\n",
       "      <th>nuclide</th>\n",
       "      <th>score</th>\n",
       "      <th>mean</th>\n",
       "      <th>std. dev.</th>\n",
       "    </tr>\n",
       "  </thead>\n",
       "  <tbody>\n",
       "    <tr>\n",
       "      <th>0</th>\n",
       "      <td>1</td>\n",
       "      <td>total</td>\n",
       "      <td>current</td>\n",
       "      <td>1.0</td>\n",
       "      <td>0.0</td>\n",
       "    </tr>\n",
       "  </tbody>\n",
       "</table>\n",
       "</div>"
      ],
      "text/plain": [
       "   surface nuclide    score  mean  std. dev.\n",
       "0        1   total  current   1.0        0.0"
      ]
     },
     "execution_count": 11,
     "metadata": {},
     "output_type": "execute_result"
    }
   ],
   "source": [
    "df.head(10)"
   ]
  },
  {
   "cell_type": "code",
   "execution_count": null,
   "id": "c980462b",
   "metadata": {},
   "outputs": [],
   "source": []
  }
 ],
 "metadata": {
  "kernelspec": {
   "display_name": "Python 3",
   "language": "python",
   "name": "python3"
  },
  "language_info": {
   "codemirror_mode": {
    "name": "ipython",
    "version": 3
   },
   "file_extension": ".py",
   "mimetype": "text/x-python",
   "name": "python",
   "nbconvert_exporter": "python",
   "pygments_lexer": "ipython3",
   "version": "3.9.2"
  }
 },
 "nbformat": 4,
 "nbformat_minor": 5
}
