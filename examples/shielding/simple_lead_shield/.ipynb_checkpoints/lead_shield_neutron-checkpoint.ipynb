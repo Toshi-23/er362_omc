{
 "cells": [
  {
   "cell_type": "markdown",
   "id": "6d969f55",
   "metadata": {},
   "source": [
    "# Simple Lead Shield for Neutron Radiation\n",
    "\n",
    "This notebook is intended to create a simple test case of a lead shield for neutron radiation."
   ]
  },
  {
   "cell_type": "code",
   "execution_count": 1,
   "id": "93407224",
   "metadata": {},
   "outputs": [],
   "source": [
    "import openmc\n",
    "import matplotlib.pyplot as plt\n",
    "%matplotlib inline\n",
    "import numpy as np"
   ]
  },
  {
   "cell_type": "code",
   "execution_count": 3,
   "id": "089b0bef",
   "metadata": {},
   "outputs": [],
   "source": [
    "lead = openmc.Material(name='lead');\n",
    "lead.add_element('Pb',1)\n",
    "lead.set_density=('g/cm3',11.34);\n",
    "\n",
    "air = openmc.Material(name='air');\n",
    "air.add_element('O',0.2);\n",
    "air.add_element('N',0.8);\n",
    "air.set_density('g/cm3',1.3e-3);\n",
    "\n",
    "materials = openmc.Materials([air,lead]);"
   ]
  },
  {
   "cell_type": "code",
   "execution_count": null,
   "id": "ff04b046",
   "metadata": {},
   "outputs": [],
   "source": [
    "length = 50.;# cm\n",
    "width = 10.; # cm\n",
    "height = 10.; # cm\n",
    "box = openmc.model.RectangularParallelepiped(-length/2.,length/2.,-width/2.,width/2.,\n",
    "                                            -height/2.,height/2.,boundary_type='vacuum');"
   ]
  }
 ],
 "metadata": {
  "kernelspec": {
   "display_name": "Python 3 (ipykernel)",
   "language": "python",
   "name": "python3"
  },
  "language_info": {
   "codemirror_mode": {
    "name": "ipython",
    "version": 3
   },
   "file_extension": ".py",
   "mimetype": "text/x-python",
   "name": "python",
   "nbconvert_exporter": "python",
   "pygments_lexer": "ipython3",
   "version": "3.9.10"
  }
 },
 "nbformat": 4,
 "nbformat_minor": 5
}
