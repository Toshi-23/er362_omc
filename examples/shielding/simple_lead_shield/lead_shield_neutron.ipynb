{
 "cells": [
  {
   "cell_type": "markdown",
   "id": "0b58294c",
   "metadata": {},
   "source": [
    "# Simple Lead Shield for Neutron Radiation\n",
    "\n",
    "This notebook is intended to create a simple test case of a lead shield for neutron radiation."
   ]
  },
  {
   "cell_type": "code",
   "execution_count": 1,
   "id": "f167ee6d",
   "metadata": {},
   "outputs": [],
   "source": [
    "import openmc\n",
    "import matplotlib.pyplot as plt\n",
    "%matplotlib inline\n",
    "import numpy as np"
   ]
  },
  {
   "cell_type": "code",
   "execution_count": 3,
   "id": "1e19f7a3",
   "metadata": {},
   "outputs": [],
   "source": [
    "lead = openmc.Material(name='lead');\n",
    "lead.add_element('Pb',1)\n",
    "lead.set_density=('g/cm3',11.34);\n",
    "\n",
    "air = openmc.Material(name='air');\n",
    "air.add_element('O',0.2);\n",
    "air.add_element('N',0.8);\n",
    "air.set_density('g/cm3',1.3e-3);\n",
    "\n",
    "materials = openmc.Materials([air,lead]);"
   ]
  },
  {
   "cell_type": "code",
   "execution_count": 7,
   "id": "91e580be",
   "metadata": {},
   "outputs": [],
   "source": [
    "length = 50.;# cm\n",
    "width = 10.; # cm\n",
    "height = 10.; # cm\n",
    "box = openmc.model.RectangularParallelepiped(0,length,0,width,\n",
    "                                             0,height,boundary_type='vacuum');\n",
    "\n",
    "# front wall of shield 5 cm from left boundary\n",
    "fwall = openmc.XPlane(x0=5.);\n",
    "\n",
    "shield_thickness = 5.; # cm\n",
    "bwall = openmc.XPlane(x0=5.+shield_thickness);\n",
    "\n",
    "# detector is a 3 cm radius sphere placed 15 cm from back wall of shield\n",
    "detector = openmc.Sphere(x0=5.0+shield_thickness+15.,y0=0,z0=0,r=3.0)\n",
    "\n",
    "c1 = openmc.Cell();\n",
    "c1.region = -box & -fwall\n",
    "c1.fill = air\n",
    "\n",
    "c2 = openmc.Cell();\n",
    "c2.region = -box & +fwall & -bwall\n",
    "c2.fill = lead\n",
    "\n",
    "\n",
    "\n",
    "c3 = openmc.Cell();\n",
    "c3.region = -box & +bwall & +detector\n",
    "c3.fill = air\n",
    "\n",
    "det = openmc.Cell();\n",
    "det.region = -detector\n",
    "det.fill = None\n",
    "\n",
    "root_univ = openmc.Universe();\n",
    "root_univ.add_cells([c1,c2,c3,det]);\n",
    "\n",
    "geometry = openmc.Geometry();\n",
    "geometry.root_universe = root_univ;\n",
    "\n",
    "materials.export_to_xml();\n",
    "geometry.export_to_xml();"
   ]
  },
  {
   "cell_type": "code",
   "execution_count": 8,
   "id": "187f0891",
   "metadata": {},
   "outputs": [],
   "source": [
    "flux = openmc.Tally(name='flux');\n",
    "energy,dose = openmc.data.dose_coefficients('neutron','AP');\n",
    "dose_filter = openmc.EnergyFunctionFilter(energy,dose);\n",
    "surface_filter = openmc.SurfaceFilter(detector);\n",
    "\n",
    "flux.filters = [dose_filter,surface_filter];\n",
    "flux.scores = ['current'];\n",
    "tallies = openmc.Tallies([flux]);\n",
    "tallies.export_to_xml();\n"
   ]
  },
  {
   "cell_type": "code",
   "execution_count": 9,
   "id": "bd72fea6",
   "metadata": {},
   "outputs": [],
   "source": [
    "point = openmc.stats.Point();\n",
    "energy = openmc.stats.Watt(); # default is for U-235 fission from thermal neutron(?)\n",
    "source = openmc.Source(space=point,energy=energy,particle='neutron');\n",
    "\n",
    "settings = openmc.Settings();\n",
    "settings.run_mode = 'fixed source';\n",
    "settings.batches = 100;\n",
    "settings.particles = 300000;\n",
    "settings.generations_per_batch = 1;\n",
    "settings.source = source;\n",
    "\n",
    "settings.export_to_xml();\n"
   ]
  },
  {
   "cell_type": "code",
   "execution_count": null,
   "id": "e4f4ef08",
   "metadata": {},
   "outputs": [],
   "source": []
  }
 ],
 "metadata": {
  "kernelspec": {
   "display_name": "Python 3 (ipykernel)",
   "language": "python",
   "name": "python3"
  },
  "language_info": {
   "codemirror_mode": {
    "name": "ipython",
    "version": 3
   },
   "file_extension": ".py",
   "mimetype": "text/x-python",
   "name": "python",
   "nbconvert_exporter": "python",
   "pygments_lexer": "ipython3",
   "version": "3.9.10"
  }
 },
 "nbformat": 4,
 "nbformat_minor": 5
}
