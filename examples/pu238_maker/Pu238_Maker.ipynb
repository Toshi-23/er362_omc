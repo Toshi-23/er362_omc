{
 "cells": [
  {
   "cell_type": "markdown",
   "id": "4bc0cfdf",
   "metadata": {},
   "source": [
    "# Pu-238 Maker\n",
    "\n",
    "In this notebook I will experiment with the OpenMC tools needed to estimate Pu-238 production rate due to irradiation of a NpO2/Al cermet target.  "
   ]
  },
  {
   "cell_type": "code",
   "execution_count": 1,
   "id": "881e05df",
   "metadata": {},
   "outputs": [],
   "source": [
    "import openmc\n",
    "import openmc.deplete # will be needed for depletion analysis eventually\n",
    "\n",
    "%matplotlib inline\n",
    "import numpy as np"
   ]
  },
  {
   "cell_type": "markdown",
   "id": "e591412f",
   "metadata": {},
   "source": [
    "## Materials\n",
    "\n",
    "While I would expect the driver fuel pins (or other driver fuel forms) will be of relatively easy to define composition, I do not have a firm grasp on the composition of the NpO2/Al CERMET target. What follows is my best guess based on information provided in: \n",
    "\n",
    "Howard, Richard H. Overview of the Plutonium-238 Supply Program's CERMET Production Target. Oak Ridge National Lab.(ORNL), Oak Ridge, TN (United States), 2019."
   ]
  },
  {
   "cell_type": "code",
   "execution_count": 2,
   "id": "0c79c97f",
   "metadata": {},
   "outputs": [
    {
     "name": "stderr",
     "output_type": "stream",
     "text": [
      "/home/sblair/miniconda3/envs/openmc-env/lib/python3.9/site-packages/openmc/material.py:1036: UserWarning: Warning: sum of fractions do not add to 1, void fraction set to 0.10000000000000009\n",
      "  warnings.warn(msg)\n"
     ]
    }
   ],
   "source": [
    "NpO2 = openmc.Material();\n",
    "NpO2.add_nuclide('Np237',1);\n",
    "NpO2.add_element('O',2);\n",
    "NpO2.set_density('g/cc',11.143);\n",
    "\n",
    "Al = openmc.Material();\n",
    "Al.add_element('Al',1);\n",
    "Al.set_density('g/cc',2.7);\n",
    "\n",
    "\n",
    "target = openmc.Material.mix_materials([NpO2,Al],[0.2,0.7],'vo'); \n",
    "# note: 10% is void so expect to get a UserWarning on this.\n"
   ]
  },
  {
   "cell_type": "code",
   "execution_count": 3,
   "id": "ea805d29",
   "metadata": {},
   "outputs": [
    {
     "name": "stdout",
     "output_type": "stream",
     "text": [
      "OrderedDict([('Np237', ('Np237', 0.004988479277370189)), ('O16', ('O16', 0.009973177287448133)), ('O17', ('O17', 3.781267292246604e-06)), ('Al27', ('Al27', 0.042183829047439676))])\n"
     ]
    }
   ],
   "source": [
    "print(target.get_nuclide_atom_densities());"
   ]
  },
  {
   "cell_type": "code",
   "execution_count": 4,
   "id": "5f748b8f",
   "metadata": {},
   "outputs": [
    {
     "name": "stdout",
     "output_type": "stream",
     "text": [
      "4.1186\n"
     ]
    }
   ],
   "source": [
    "print(target.get_mass_density())"
   ]
  },
  {
   "cell_type": "markdown",
   "id": "af6edd3c",
   "metadata": {},
   "source": [
    "I think this is at least reasonable.  "
   ]
  },
  {
   "cell_type": "markdown",
   "id": "a51e968e",
   "metadata": {},
   "source": [
    "## Other materials\n",
    "\n",
    "For this simple test I will simulate one target pin in the central position of a 5x5 lattice of fuel and target.  I seriously doubt that this is a *good* arrangement but it's something and will at least allow us to test the workflow."
   ]
  },
  {
   "cell_type": "code",
   "execution_count": 6,
   "id": "91bfe842",
   "metadata": {},
   "outputs": [],
   "source": [
    "# materials for fuel pin\n",
    "uo2 = openmc.Material(name='UO2')\n",
    "uo2.add_element('U',1.0, enrichment=3.0)\n",
    "uo2.add_element('O',2.0)\n",
    "uo2.set_density('g/cc',10.45)\n",
    "\n",
    "# cladding\n",
    "\n",
    "# based on PNNL-15870 Rev 1. \n",
    "zirc4 = openmc.Material(name='Zirc-4')\n",
    "zirc4.add_element('O',0.006790); # by default add_element in atom fraction.\n",
    "zirc4.add_element('Cr',0.001741);\n",
    "zirc4.add_element('Fe',0.003242);\n",
    "zirc4.add_element('Zr',0.977549);\n",
    "zirc4.add_element('Sn',0.010677);\n",
    "zirc4.set_density('g/cc',6.56);\n",
    "\n",
    "# gap will be modeled as a void\n",
    "\n",
    "water = openmc.Material(name='Water')\n",
    "water.set_density('g/cc',0.76);\n",
    "water.add_element('H',2);\n",
    "water.add_element('O',1);\n",
    "water.add_s_alpha_beta('c_H_in_H2O');\n",
    "\n",
    "materials = openmc.Materials([target, uo2, zirc4, water]);\n"
   ]
  },
  {
   "cell_type": "markdown",
   "id": "e359a268",
   "metadata": {},
   "source": [
    "## Geometry\n",
    "\n",
    "Here we will model individual fuel and target pins and construct a lattice within a RPP region having reflective boundary conditions.  This will thus simulate an infinite lattice."
   ]
  },
  {
   "cell_type": "code",
   "execution_count": null,
   "id": "bd845320",
   "metadata": {},
   "outputs": [],
   "source": []
  }
 ],
 "metadata": {
  "kernelspec": {
   "display_name": "Python 3 (ipykernel)",
   "language": "python",
   "name": "python3"
  },
  "language_info": {
   "codemirror_mode": {
    "name": "ipython",
    "version": 3
   },
   "file_extension": ".py",
   "mimetype": "text/x-python",
   "name": "python",
   "nbconvert_exporter": "python",
   "pygments_lexer": "ipython3",
   "version": "3.9.10"
  }
 },
 "nbformat": 4,
 "nbformat_minor": 5
}
