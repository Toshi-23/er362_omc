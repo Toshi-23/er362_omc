{
 "cells": [
  {
   "cell_type": "markdown",
   "id": "4bc0cfdf",
   "metadata": {},
   "source": [
    "# Pu-238 Maker\n",
    "\n",
    "In this notebook I will experiment with the OpenMC tools needed to estimate Pu-238 production rate due to irradiation of a NpO2/Al cermet target.  "
   ]
  },
  {
   "cell_type": "code",
   "execution_count": 1,
   "id": "881e05df",
   "metadata": {},
   "outputs": [],
   "source": [
    "import openmc\n",
    "import openmc.deplete # will be needed for depletion analysis eventually\n",
    "\n",
    "%matplotlib inline\n",
    "import numpy as np"
   ]
  },
  {
   "cell_type": "markdown",
   "id": "e591412f",
   "metadata": {},
   "source": [
    "## Materials\n",
    "\n",
    "While I would expect the driver fuel pins (or other driver fuel forms) will be of relatively easy to define composition, I do not have a firm grasp on the composition of the NpO2/Al CERMET target. What follows is my best guess based on information provided in: \n",
    "\n",
    "Howard, Richard H. Overview of the Plutonium-238 Supply Program's CERMET Production Target. Oak Ridge National Lab.(ORNL), Oak Ridge, TN (United States), 2019."
   ]
  },
  {
   "cell_type": "code",
   "execution_count": 6,
   "id": "0c79c97f",
   "metadata": {},
   "outputs": [],
   "source": [
    "NpO2 = openmc.Material();\n",
    "NpO2.add_nuclide('Np237',1);\n",
    "NpO2.add_element('O',2);\n",
    "NpO2.set_density('g/cc',11.143);\n",
    "\n",
    "Al = openmc.Material();\n",
    "Al.add_element('Al',1);\n",
    "Al.set_density('g/cc',2.7);\n",
    "\n",
    "target = openmc.Material.mix_materials([NpO2,Al],[0.2,0.7],'vo'); # note: 10% is void.\n"
   ]
  },
  {
   "cell_type": "code",
   "execution_count": 7,
   "id": "ea805d29",
   "metadata": {},
   "outputs": [
    {
     "name": "stdout",
     "output_type": "stream",
     "text": [
      "OrderedDict([('Np237', ('Np237', 0.004988479277370189)), ('O16', ('O16', 0.009973177287448133)), ('O17', ('O17', 3.781267292246604e-06)), ('Al27', ('Al27', 0.042183829047439676))])\n"
     ]
    }
   ],
   "source": [
    "print(target.get_nuclide_atom_densities());"
   ]
  },
  {
   "cell_type": "code",
   "execution_count": 8,
   "id": "5f748b8f",
   "metadata": {},
   "outputs": [
    {
     "name": "stdout",
     "output_type": "stream",
     "text": [
      "4.1186\n"
     ]
    }
   ],
   "source": [
    "print(target.get_mass_density())"
   ]
  },
  {
   "cell_type": "markdown",
   "id": "af6edd3c",
   "metadata": {},
   "source": [
    "I think this is at least reasonable.  "
   ]
  }
 ],
 "metadata": {
  "kernelspec": {
   "display_name": "Python 3 (ipykernel)",
   "language": "python",
   "name": "python3"
  },
  "language_info": {
   "codemirror_mode": {
    "name": "ipython",
    "version": 3
   },
   "file_extension": ".py",
   "mimetype": "text/x-python",
   "name": "python",
   "nbconvert_exporter": "python",
   "pygments_lexer": "ipython3",
   "version": "3.9.10"
  }
 },
 "nbformat": 4,
 "nbformat_minor": 5
}
