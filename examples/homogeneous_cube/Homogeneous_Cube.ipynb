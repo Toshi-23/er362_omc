{
 "cells": [
  {
   "cell_type": "markdown",
   "id": "53bd5a9f",
   "metadata": {},
   "source": [
    "# Homogeneous Cube"
   ]
  },
  {
   "cell_type": "markdown",
   "id": "1210019f",
   "metadata": {},
   "source": [
    "The purposes of this notebook are the following\n",
    "\n",
    "<ol>\n",
    "    <li>OpenMC comparison with Reactor Theory for homogeneous reactors with specified composition - find critical size</li>\n",
    "    <li>Experiment with distributed materials for burn-up calculations</li>\n",
    "</ol>\n",
    "\n",
    "\n",
    "    \n"
   ]
  },
  {
   "cell_type": "code",
   "execution_count": 1,
   "id": "e59df211",
   "metadata": {},
   "outputs": [],
   "source": [
    "import matplotlib.pyplot as plt\n",
    "import numpy as np\n",
    "%matplotlib inline\n",
    "import openmc"
   ]
  },
  {
   "cell_type": "markdown",
   "id": "eea392bc",
   "metadata": {},
   "source": [
    "## Diffusion Theory / Reactor Theory Problem Specification"
   ]
  },
  {
   "cell_type": "markdown",
   "id": "a0cbe3e0",
   "metadata": {},
   "source": [
    "Find the critical size of a homogeneous cube reactor comprising a mixture of U-235 and light water in which the light water is present at a given weight percent.  The density of the Uranium added to the mixture is 19.1 g/cc; the density of the light water is 1 g/cc.  The mixture temperature is 20 $^{\\circ}$C. "
   ]
  },
  {
   "cell_type": "code",
   "execution_count": 2,
   "id": "da82606d",
   "metadata": {},
   "outputs": [
    {
     "name": "stdout",
     "output_type": "stream",
     "text": [
      "The mixture density is approximately 1.02926 g/cc.\n"
     ]
    }
   ],
   "source": [
    "Nf_w_o = 0.03; # weight percent of fuel\n",
    "Nm_w_o = 1-Nf_w_o; # weight percent of moderator\n",
    "\n",
    "rho_f = 19.1; # g/cc, density of fuel\n",
    "rho_m = 1.0; # g/cc, density of moderator\n",
    "\n",
    "rho_mix = (Nf_w_o/rho_f + Nm_w_o/rho_m)**(-1); # density of mixture\n",
    "\n",
    "print('The mixture density is approximately %6.5f g/cc.' % rho_mix);\n"
   ]
  },
  {
   "cell_type": "code",
   "execution_count": 3,
   "id": "e8bff0db",
   "metadata": {},
   "outputs": [
    {
     "name": "stdout",
     "output_type": "stream",
     "text": [
      "Atom density of fuel: 7.9126e-05 atom/b-cm.\n",
      "Atom density of the moderator: 0.033401 atom/b-cm.\n"
     ]
    }
   ],
   "source": [
    "M_f = 235; # g/mol, gram atomic weight of U-235 fuel\n",
    "M_m = 18; # g/mol, gram atomic weight of light water moderator\n",
    "\n",
    "Nf = Nf_w_o*rho_mix/M_f*0.6022; # atom/b-cm, atom density of fuel\n",
    "Nm = Nm_w_o*rho_mix/M_m*0.6022; # atom/b-cm, atom density of the moderator\n",
    "\n",
    "print('Atom density of fuel: %6.5g atom/b-cm.' % Nf);\n",
    "print('Atom density of the moderator: %6.5g atom/b-cm.' % Nm);"
   ]
  },
  {
   "cell_type": "markdown",
   "id": "a9326766",
   "metadata": {},
   "source": [
    "### Find Z\n",
    "\n",
    "For Reactor Theory calculations where the composition (atom density of fuel and moderator) is specified, we will calculate the parameter Z which is the ratio of the thermal average macroscopic absorption cross section for the fuel and moderator respectively:\n",
    "\n",
    "$$ Z = \\frac{\\bar{\\Sigma}_{a_{F}}}{\\bar{\\Sigma}_{a_{M}}}$$"
   ]
  },
  {
   "cell_type": "code",
   "execution_count": 4,
   "id": "4a90b887",
   "metadata": {},
   "outputs": [
    {
     "name": "stdout",
     "output_type": "stream",
     "text": [
      "Z = 2.3971.\n"
     ]
    }
   ],
   "source": [
    "# from Table II.2 and II.3 in LaMarsh\n",
    "sigma_o_a_F = 687; #b, absorption cross section of U-235 at 0.0253 eV\n",
    "sigma_o_a_M = 0.664; #b, absorption cross section of light water at 0.0253 eV\n",
    "\n",
    "To = 293.; # K, reference temperature for cross sections\n",
    "T = 293.; # K, system temperature\n",
    "\n",
    "# from Table 3.2 in LaMarsh\n",
    "g_a_F = 0.9780; # non 1/v factor for fuel\n",
    "\n",
    "# thermal average macroscopic cross sections (1/cm)\n",
    "Sigma_bar_a_F = Nf*((np.pi)/2)**(0.5)*(To/T)**(0.5)*g_a_F*sigma_o_a_F;\n",
    "Sigma_bar_a_M = Nm*((np.pi)/2)**(0.5)*(To/T)**(0.5)*sigma_o_a_M;\n",
    "\n",
    "Z = Sigma_bar_a_F/Sigma_bar_a_M;\n",
    "\n",
    "print('Z = %6.5g.' % Z);\n"
   ]
  },
  {
   "cell_type": "markdown",
   "id": "7f038b66",
   "metadata": {},
   "source": [
    "### Find $k_{\\infty}$\n",
    "\n",
    "For reactor theory, $k_{\\infty}=\\eta_{T}f$ and $f = \\frac{Z}{Z+1}$"
   ]
  },
  {
   "cell_type": "code",
   "execution_count": 5,
   "id": "f7656061",
   "metadata": {},
   "outputs": [
    {
     "name": "stdout",
     "output_type": "stream",
     "text": [
      "k-infinity = 1.4571.\n"
     ]
    }
   ],
   "source": [
    "eta_T = 2.065; # from Table 6.3 of LaMarsh\n",
    "f = Z/(Z+1.);\n",
    "\n",
    "k_inf = eta_T*f;\n",
    "\n",
    "print('k-infinity = %6.5g.' % k_inf)"
   ]
  },
  {
   "cell_type": "markdown",
   "id": "4acd5717",
   "metadata": {},
   "source": [
    "### Find Migration Area\n",
    "\n",
    "From Diffusion Theory, $M_T^2 = L_T^2 + \\tau_T$. Where $L^2_T$ is the thermal diffusion area and $\\tau_T$ is the Fermi age.\n",
    "\n",
    "$$L_T^2 = \\frac{L^2_{T_M}}{Z+1}$$\n",
    "$$\\tau \\approx \\tau_{T_{M}}$$"
   ]
  },
  {
   "cell_type": "code",
   "execution_count": 6,
   "id": "279fdd82",
   "metadata": {},
   "outputs": [
    {
     "name": "stdout",
     "output_type": "stream",
     "text": [
      "Thermal Migration Area = 29.384 cm^2.\n"
     ]
    }
   ],
   "source": [
    "diff_area_mod = 8.1; # cm^2, from Table 5.2 LaMarsh\n",
    "tau_t_mod = 27; # cm, from Table 5.3 LaMarsh\n",
    "\n",
    "therm_diff_area = diff_area_mod/(Z+1);\n",
    "migration_area = therm_diff_area + tau_t_mod; # cm^2\n",
    "print('Thermal Migration Area = %6.5g cm^2.' % migration_area)"
   ]
  },
  {
   "cell_type": "markdown",
   "id": "87fee38b",
   "metadata": {},
   "source": [
    "### Find Buckling\n",
    "\n",
    "From Modified 1-group Reactor Theory, buckling is given by:\n",
    "$$B^2 = \\frac{k_{\\infty}-1}{M^2_T}$$"
   ]
  },
  {
   "cell_type": "code",
   "execution_count": 7,
   "id": "4738ffa4",
   "metadata": {},
   "outputs": [
    {
     "name": "stdout",
     "output_type": "stream",
     "text": [
      "Buckling = 0.015557 cm^-2.\n"
     ]
    }
   ],
   "source": [
    "B_sqr = (k_inf - 1.)/migration_area; # cm^-2, buckling\n",
    "\n",
    "print('Buckling = %6.5g cm^-2.' % B_sqr); "
   ]
  },
  {
   "cell_type": "markdown",
   "id": "364248e1",
   "metadata": {},
   "source": [
    "### Find Side-length of Cube\n",
    "\n",
    "From Diffusion Theory, the buckling for a cube is given by:\n",
    "$$B^2 = 3\\left(\\frac{\\pi}{a} \\right)^2$$\n",
    "where $a$ is the side length of the reactor.\n",
    "\n",
    "In this case, buckling is known, so we solve for the side length:\n",
    "\n",
    "$$a = \\left[\\frac{3\\pi^2}{B^2} \\right]^{\\frac{1}{2}}$$"
   ]
  },
  {
   "cell_type": "code",
   "execution_count": 8,
   "id": "c0c355e2",
   "metadata": {},
   "outputs": [
    {
     "name": "stdout",
     "output_type": "stream",
     "text": [
      "Reactor side-length =   43.6 cm\n"
     ]
    }
   ],
   "source": [
    "a = (3*(np.pi**2)/(B_sqr))**(0.5); # cm, side length\n",
    "\n",
    "print('Reactor side-length = %6.3g cm' % a);"
   ]
  },
  {
   "cell_type": "markdown",
   "id": "242c568a",
   "metadata": {},
   "source": [
    "## OpenMC Model\n",
    "\n",
    "In this part of the notebook, we will develop an OpenMC model with the same material composition.  The geometry will be parameterized by side-length and we will use the criticality search tools of OpenMC to find the critical size.\n",
    "\n",
    "We will also exploit the symmetry of the problem and only model 1/8th of the core (upper corner cube).  This will (hopefully) pay dividends when it comes to keeping reaction rate tallies and ultimately a discretized verion of the core to track material changes with burnup."
   ]
  },
  {
   "cell_type": "markdown",
   "id": "12497ee3",
   "metadata": {},
   "source": [
    "### OpenMC Model Function"
   ]
  },
  {
   "cell_type": "code",
   "execution_count": 9,
   "id": "17a43ac9",
   "metadata": {},
   "outputs": [],
   "source": [
    "def build_model(a):\n",
    "\n",
    "    fuel = openmc.Material();\n",
    "    fuel.add_nuclide(\"U235\",1,percent_type=\"ao\")\n",
    "    fuel.set_density(\"g/cc\",19.1);\n",
    "\n",
    "    mod =  openmc.Material();\n",
    "    mod.add_element(\"H\",2,percent_type=\"ao\")\n",
    "    mod.add_element(\"O\",1,percent_type=\"ao\")\n",
    "    mod.set_density(\"g/cc\",1.0);\n",
    "\n",
    "\n",
    "    # use the cool classmethod mix_materials to create a\n",
    "    # new material from a mixture of existing materials.\n",
    "    core_mat = openmc.Material.mix_materials([fuel,mod],\n",
    "                                     [Nf_w_o,Nm_w_o],\n",
    "                                     percent_type='wo');\n",
    "    core_mat.add_s_alpha_beta('c_H_in_H2O');\n",
    "    \n",
    "    materials = openmc.Materials([core_mat]);\n",
    "    \n",
    "    # geometry\n",
    "    bottom = openmc.ZPlane(z0=0,boundary_type='reflective');\n",
    "    top = openmc.ZPlane(z0=a/2.,boundary_type='vacuum');\n",
    "    front = openmc.XPlane(x0=a/2.,boundary_type='vacuum');\n",
    "    back = openmc.XPlane(x0=0.,boundary_type='reflective');\n",
    "    left = openmc.YPlane(y0=0.,boundary_type='reflective');\n",
    "    right=openmc.YPlane(y0=a/2.,boundary_type='vacuum');\n",
    "    \n",
    "    # core cell\n",
    "    core_cell = openmc.Cell();\n",
    "    core_cell.fill = core_mat;\n",
    "    core_cell.region = +bottom & -top & -front & +back & +left & -right\n",
    "    \n",
    "    # root universe\n",
    "    root_universe = openmc.Universe()\n",
    "    root_universe.add_cells([core_cell]);\n",
    "    \n",
    "    geometry = openmc.Geometry(root_universe);\n",
    "    \n",
    "    settings = openmc.Settings()\n",
    "    \n",
    "    settings.batches = 200;\n",
    "    settings.inactive = 50;\n",
    "    settings.particles = 5000;\n",
    "    \n",
    "    bounds = [0,0,0,a/2.,a/2.,a/2.];\n",
    "    uniform_dist = openmc.stats.Box(bounds[:3],bounds[3:],\n",
    "                                    only_fissionable=True);\n",
    "    settings.source = openmc.Source(space=uniform_dist);\n",
    "    \n",
    "    # okay - no disk output for now\n",
    "    settings.output = {'tallies': False}\n",
    "    \n",
    "    model = openmc.model.Model(geometry,materials,settings)\n",
    "    \n",
    "    return model\n",
    "    \n",
    "    \n",
    "    "
   ]
  },
  {
   "cell_type": "code",
   "execution_count": null,
   "id": "f2a535c1",
   "metadata": {},
   "outputs": [
    {
     "name": "stdout",
     "output_type": "stream",
     "text": [
      "Iteration: 1; Guess of 2.00e+01 produced a keff of 0.50394 +/- 0.00098\n",
      "Iteration: 2; Guess of 5.00e+02 produced a keff of 1.44505 +/- 0.00090\n",
      "Iteration: 3; Guess of 2.60e+02 produced a keff of 1.43252 +/- 0.00090\n",
      "Iteration: 4; Guess of 1.40e+02 produced a keff of 1.39640 +/- 0.00101\n",
      "Iteration: 5; Guess of 8.00e+01 produced a keff of 1.29949 +/- 0.00099\n",
      "Iteration: 6; Guess of 5.00e+01 produced a keff of 1.12674 +/- 0.00115\n",
      "Iteration: 7; Guess of 3.50e+01 produced a keff of 0.92087 +/- 0.00106\n",
      "Iteration: 8; Guess of 4.25e+01 produced a keff of 1.04028 +/- 0.00103\n"
     ]
    }
   ],
   "source": [
    "crit_size, guesses, keffs = openmc.search_for_keff(build_model,bracket=[20,500],\n",
    "                                                  tol=1e-3,print_iterations=True)\n",
    "\n",
    "print('Critical Cube Side-Length: %6.4f cm.' % crit_size)"
   ]
  },
  {
   "cell_type": "code",
   "execution_count": null,
   "id": "311248dc",
   "metadata": {},
   "outputs": [],
   "source": []
  }
 ],
 "metadata": {
  "kernelspec": {
   "display_name": "Python 3 (ipykernel)",
   "language": "python",
   "name": "python3"
  },
  "language_info": {
   "codemirror_mode": {
    "name": "ipython",
    "version": 3
   },
   "file_extension": ".py",
   "mimetype": "text/x-python",
   "name": "python",
   "nbconvert_exporter": "python",
   "pygments_lexer": "ipython3",
   "version": "3.9.10"
  }
 },
 "nbformat": 4,
 "nbformat_minor": 5
}
