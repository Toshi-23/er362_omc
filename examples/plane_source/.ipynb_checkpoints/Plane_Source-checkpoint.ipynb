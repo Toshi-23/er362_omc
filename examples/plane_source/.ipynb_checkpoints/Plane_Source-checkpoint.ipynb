{
 "cells": [
  {
   "cell_type": "code",
   "execution_count": 2,
   "id": "a2b4d4e1",
   "metadata": {},
   "outputs": [],
   "source": [
    "import openmc\n",
    "import matplotlib.pyplot as plt\n",
    "%matplotlib inline\n",
    "import numpy as np\n"
   ]
  },
  {
   "cell_type": "code",
   "execution_count": 3,
   "id": "33ca75ba",
   "metadata": {},
   "outputs": [],
   "source": [
    "xMin = -5.; xMax = 5.;\n",
    "yMin = -5.; yMax = 5.;\n",
    "z_position = 0.01;\n",
    "\n",
    "x_dist = openmc.stats.Uniform(xMin,xMax)\n",
    "y_dist = openmc.stats.Uniform(yMin,yMax);\n",
    "z_dist = openmc.stats.Discrete([z_position],[1.0]);\n",
    "\n",
    "planar_dist = openmc.stats.CartesianIndependent(x_dist,y_dist,z_dist);"
   ]
  },
  {
   "cell_type": "code",
   "execution_count": 4,
   "id": "5d4f813c",
   "metadata": {},
   "outputs": [],
   "source": [
    "angle_dist = openmc.stats.Monodirectional((0.0,0.0,1.0));"
   ]
  },
  {
   "cell_type": "code",
   "execution_count": 5,
   "id": "cccfb24f",
   "metadata": {},
   "outputs": [],
   "source": [
    "settings = openmc.Settings()\n",
    "settings.source = openmc.Source(space=planar_dist,angle=angle_dist);"
   ]
  },
  {
   "cell_type": "code",
   "execution_count": 6,
   "id": "2e8894ea",
   "metadata": {},
   "outputs": [],
   "source": [
    "lead = openmc.Material(name='lead');\n",
    "lead.add_element('Pb',1)\n",
    "lead.set_density=('g/cm3',11.34);\n",
    "\n",
    "air = openmc.Material(name='air');\n",
    "air.add_element('O',0.2);\n",
    "air.add_element('N',0.8);\n",
    "air.set_density('g/cm3',1.3e-3);\n",
    "\n",
    "materials = openmc.Materials([air,lead]);"
   ]
  },
  {
   "cell_type": "code",
   "execution_count": null,
   "id": "13d7e252",
   "metadata": {},
   "outputs": [],
   "source": [
    "length = 50.;# cm\n",
    "width = 10.; # cm\n",
    "height = 10.; # cm\n",
    "box = openmc.model.RectangularParallelepiped(-width/2.,width/2.,-height/2.,height/2.\n",
    "                                             0,length,boundary_type='vacuum');"
   ]
  }
 ],
 "metadata": {},
 "nbformat": 4,
 "nbformat_minor": 5
}
