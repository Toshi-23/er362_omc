{
 "cells": [
  {
   "cell_type": "code",
   "execution_count": 2,
   "id": "c4ccd79a",
   "metadata": {},
   "outputs": [],
   "source": [
    "import openmc\n",
    "import matplotlib.pyplot as plt\n",
    "%matplotlib inline\n",
    "import numpy as np\n"
   ]
  },
  {
   "cell_type": "code",
   "execution_count": 3,
   "id": "648b1faf",
   "metadata": {},
   "outputs": [],
   "source": [
    "xMin = -5.; xMax = 5.;\n",
    "yMin = -5.; yMax = 5.;\n",
    "z_position = 0.01;\n",
    "\n",
    "x_dist = openmc.stats.Uniform(xMin,xMax)\n",
    "y_dist = openmc.stats.Uniform(yMin,yMax);\n",
    "z_dist = openmc.stats.Discrete([z_position],[1.0]);\n",
    "\n",
    "planar_dist = openmc.stats.CartesianIndependent(x_dist,y_dist,z_dist);"
   ]
  },
  {
   "cell_type": "code",
   "execution_count": 4,
   "id": "4d80be52",
   "metadata": {},
   "outputs": [],
   "source": [
    "angle_dist = openmc.stats.Monodirectional((0.0,0.0,1.0));"
   ]
  },
  {
   "cell_type": "code",
   "execution_count": 10,
   "id": "da0456d3",
   "metadata": {},
   "outputs": [],
   "source": [
    "settings = openmc.Settings()\n",
    "energy = openmc.stats.Watt() # defaults to U-235 fission from thermal neutron\n",
    "settings.source = openmc.Source(space=planar_dist,energy=energy, angle=angle_dist);\n",
    "\n",
    "settings.run_mode = 'fixed source';\n",
    "settings.batches = 100;\n",
    "settings.particles = 30000;\n",
    "settings.generations_per_batch = 1;\n"
   ]
  },
  {
   "cell_type": "code",
   "execution_count": 6,
   "id": "060819bc",
   "metadata": {},
   "outputs": [],
   "source": [
    "lead = openmc.Material(name='lead');\n",
    "lead.add_element('Pb',1)\n",
    "lead.set_density=('g/cm3',11.34);\n",
    "\n",
    "air = openmc.Material(name='air');\n",
    "air.add_element('O',0.2);\n",
    "air.add_element('N',0.8);\n",
    "air.set_density('g/cm3',1.3e-3);\n",
    "\n",
    "materials = openmc.Materials([air,lead]);"
   ]
  },
  {
   "cell_type": "code",
   "execution_count": 8,
   "id": "80303be1",
   "metadata": {},
   "outputs": [],
   "source": [
    "length = 50.;# cm\n",
    "width = 10.; # cm\n",
    "height = 10.; # cm\n",
    "box = openmc.model.RectangularParallelepiped(-width/2.,width/2.,\n",
    "                                             -height/2.,height/2.0, 0., length,\n",
    "                                             boundary_type='vacuum')                                            \n",
    "fwall = openmc.ZPlane(z0=10.0);\n",
    "bwall = openmc.ZPlane(z0=11.0);\n",
    "\n",
    "detector = openmc.Sphere(x0=0., y0=0.,z0=15.0, r=2.0);\n",
    "\n",
    "\n",
    "c1 = openmc.Cell()\n",
    "c1.region = -box & -fwall\n",
    "c1.fill = air\n",
    "\n",
    "c2 = openmc.Cell()\n",
    "c2.region = -box & +fwall & -bwall\n",
    "c2.fill = lead\n",
    "\n",
    "c3 = openmc.Cell()\n",
    "c3.region = -box & +bwall & +detector\n",
    "c3.fill = air\n",
    "\n",
    "det = openmc.Cell()\n",
    "det.region = -detector\n",
    "det.fill = None\n",
    "\n",
    "root_univ = openmc.Universe();\n",
    "root_univ.add_cells([c1,c2,c3,det]);\n",
    "\n",
    "geometry = openmc.Geometry();\n",
    "geometry.root_universe = root_univ;\n",
    "\n",
    "materials.export_to_xml()\n",
    "geometry.export_to_xml()"
   ]
  },
  {
   "cell_type": "code",
   "execution_count": 9,
   "id": "b39f8fc9",
   "metadata": {},
   "outputs": [],
   "source": [
    "flux = openmc.Tally(name='flux');\n",
    "energy,dose = openmc.data.dose_coefficients('neutron','AP');\n",
    "dose_filter = openmc.EnergyFunctionFilter(energy,dose);\n",
    "surface_filter = openmc.SurfaceFilter(detector);\n",
    "\n",
    "flux.filters = [dose_filter,surface_filter];\n",
    "flux.scores = ['current'];\n",
    "tallies = openmc.Tallies([flux]);\n",
    "tallies.export_to_xml();"
   ]
  },
  {
   "cell_type": "code",
   "execution_count": null,
   "id": "8708310e",
   "metadata": {},
   "outputs": [],
   "source": []
  }
 ],
 "metadata": {},
 "nbformat": 4,
 "nbformat_minor": 5
}
