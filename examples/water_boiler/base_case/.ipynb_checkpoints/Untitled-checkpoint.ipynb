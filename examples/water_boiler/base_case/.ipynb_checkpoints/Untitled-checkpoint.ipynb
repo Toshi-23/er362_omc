{
 "cells": [
  {
   "cell_type": "markdown",
   "id": "81b512d4",
   "metadata": {},
   "source": [
    "# Water Boiler Demo"
   ]
  },
  {
   "cell_type": "code",
   "execution_count": 1,
   "id": "c1742a32",
   "metadata": {},
   "outputs": [],
   "source": [
    "import openmc\n",
    "import water_boiler"
   ]
  },
  {
   "cell_type": "code",
   "execution_count": 2,
   "id": "90f5830d",
   "metadata": {},
   "outputs": [],
   "source": [
    "material, geometry, tallies, settings = water_boiler.generate_model();"
   ]
  },
  {
   "cell_type": "code",
   "execution_count": null,
   "id": "ee851a72",
   "metadata": {},
   "outputs": [],
   "source": []
  }
 ],
 "metadata": {
  "kernelspec": {
   "display_name": "Python 3",
   "language": "python",
   "name": "python3"
  },
  "language_info": {
   "codemirror_mode": {
    "name": "ipython",
    "version": 3
   },
   "file_extension": ".py",
   "mimetype": "text/x-python",
   "name": "python",
   "nbconvert_exporter": "python",
   "pygments_lexer": "ipython3",
   "version": "3.9.2"
  }
 },
 "nbformat": 4,
 "nbformat_minor": 5
}
