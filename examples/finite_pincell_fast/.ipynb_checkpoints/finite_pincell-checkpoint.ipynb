{
 "cells": [
  {
   "cell_type": "code",
   "execution_count": 1,
   "id": "283f59ab",
   "metadata": {},
   "outputs": [],
   "source": [
    "import openmc\n",
    "import openmc.deplete\n",
    "import matplotlib.pyplot as plt\n",
    "\n",
    "%matplotlib inline\n",
    "import numpy as np"
   ]
  },
  {
   "cell_type": "code",
   "execution_count": 2,
   "id": "eccb5ba8",
   "metadata": {},
   "outputs": [],
   "source": [
    "fuel = openmc.Material(name=\"uo2\")\n",
    "fuel.add_element(\"U\", 1, percent_type=\"ao\", enrichment=4.25)\n",
    "fuel.add_element(\"O\", 2)\n",
    "fuel.set_density(\"g/cc\", 10.4)\n",
    "\n",
    "clad = openmc.Material(name='clad');\n",
    "clad.add_element(\"Zr\",1);\n",
    "clad.set_density('g/cc',6.0);\n",
    "\n",
    "water = openmc.Material(name='water');\n",
    "water.add_element('O',1);\n",
    "water.add_element('H',2)\n",
    "water.set_density('g/cc',0.712); # high temperature density\n",
    "water.add_s_alpha_beta('c_H_in_H2O');\n",
    "\n",
    "grph = openmc.Material(name='grph');\n",
    "grph.add_element('C',0.999999);\n",
    "grph.add_element('B',0.000001);\n",
    "grph.set_density('g/cc',1.7);\n",
    "grph.add_s_alpha_beta('c_Graphite');\n",
    "\n",
    "materials = openmc.Materials([fuel,clad,water,grph]);"
   ]
  },
  {
   "cell_type": "code",
   "execution_count": 3,
   "id": "70df9019",
   "metadata": {},
   "outputs": [],
   "source": [
    "h_core = 300.; \n",
    "h_fuel = 200.;\n",
    "\n",
    "r_fuel = 0.42;\n",
    "r_pin = 0.45;\n",
    "\n",
    "P_D = 1.4;\n",
    "\n",
    "pitch = P_D*2*r_pin;\n",
    "\n",
    "fuel_temp = 900; # K, guess at fuel temperature\n",
    "mod_temp = 600; # K, moderator temperature\n",
    "\n",
    "# fuel cylinder:\n",
    "fuel_cyl = openmc.model.RightCircularCylinder([0.,0.,-h_fuel/2.],\n",
    "                                             h_fuel, r_fuel);\n",
    "\n",
    "fuel.volume = np.pi*(r_fuel**2)*h_fuel;\n",
    "\n",
    "# pin cylinder\n",
    "pin_cyl = openmc.model.RightCircularCylinder([0.,0.,-(h_fuel+(r_pin-r_fuel))/2.],\n",
    "                                            h_fuel+(r_pin-r_fuel)*2.,r_pin);\n",
    "\n",
    "# pin cell container\n",
    "core_cell = openmc.model.RectangularParallelepiped(-pitch/2.,pitch/2.,\n",
    "                                                  -pitch/2.,pitch/2.,\n",
    "                                                  -h_core/2.,h_core/2.,\n",
    "                                                  boundary_type='reflective');\n",
    "\n",
    "fuel_cell = openmc.Cell();\n",
    "fuel_cell.region = -fuel_cyl\n",
    "fuel_cell.fill = fuel;\n",
    "fuel_cell.temperature = fuel_temp;\n",
    "\n",
    "\n",
    "clad_cell = openmc.Cell();\n",
    "clad_cell.region = +fuel_cyl & -pin_cyl;\n",
    "clad_cell.fill = clad;\n",
    "\n",
    "mod_cell = openmc.Cell();\n",
    "mod_cell.region = +pin_cyl & -core_cell;\n",
    "mod_cell.fill = grph\n",
    "\n",
    "root_univ = openmc.Universe();\n",
    "root_univ.add_cells([fuel_cell,clad_cell,mod_cell]);\n",
    "\n",
    "geometry = openmc.Geometry();\n",
    "geometry.root_universe = root_univ;\n",
    "\n",
    "\n",
    "\n",
    "materials.export_to_xml();\n",
    "geometry.export_to_xml();\n",
    "\n"
   ]
  },
  {
   "cell_type": "markdown",
   "id": "f9623903",
   "metadata": {},
   "source": [
    "### Tallies"
   ]
  },
  {
   "cell_type": "code",
   "execution_count": 5,
   "id": "0afd96b5",
   "metadata": {},
   "outputs": [],
   "source": [
    "# get flux energy spectrum in the fuel\n",
    "\n",
    "# filter for the fuel cell\n",
    "cell_filter = openmc.CellFilter(fuel_cell)\n",
    "\n",
    "# set up energy bins\n",
    "N = 1001\n",
    "energy_bins = np.logspace(-3,7,num=N)\n",
    "energy_filter = openmc.EnergyFilter(values=energy_bins)\n",
    "\n",
    "# establish flux tally\n",
    "flux = openmc.Tally(name='flux')\n",
    "flux.scores = ['flux']\n",
    "flux.filters = [cell_filter,energy_filter]\n",
    "\n",
    "tallies = openmc.Tallies([flux])\n",
    "\n",
    "tallies.export_to_xml()\n",
    "\n",
    "\n"
   ]
  },
  {
   "cell_type": "code",
   "execution_count": 6,
   "id": "2792c71e",
   "metadata": {},
   "outputs": [],
   "source": [
    "settings = openmc.Settings();\n",
    "settings.run_mode = 'eigenvalue';\n",
    "settings.particles = 10000;\n",
    "settings.batches = 100;\n",
    "settings.inactive = 25\n",
    "\n",
    "box = openmc.stats.Box(lower_left = (-r_fuel,-r_fuel,-h_fuel/2.),\n",
    "                      upper_right = (r_fuel,r_fuel,h_fuel/2.),\n",
    "                      only_fissionable=True);\n",
    "src = openmc.Source(space=box);\n",
    "\n",
    "settings.source = src;\n",
    "\n",
    "#settings.temperature['method']='interpolation';\n",
    "\n",
    "settings.export_to_xml();"
   ]
  },
  {
   "cell_type": "code",
   "execution_count": 7,
   "id": "93015f21",
   "metadata": {},
   "outputs": [
    {
     "data": {
      "image/png": "[encoded data removed]",
      "text/plain": [
       "<Figure size 432x288 with 1 Axes>"
      ]
     },
     "metadata": {
      "needs_background": "light"
     },
     "output_type": "display_data"
    }
   ],
   "source": [
    "root_univ.plot(width=(pitch,pitch));"
   ]
  },
  {
   "cell_type": "code",
   "execution_count": 8,
   "id": "066f80d1",
   "metadata": {},
   "outputs": [
    {
     "name": "stdout",
     "output_type": "stream",
     "text": [
      "                                %%%%%%%%%%%%%%%\n",
      "                           %%%%%%%%%%%%%%%%%%%%%%%%\n",
      "                        %%%%%%%%%%%%%%%%%%%%%%%%%%%%%%\n",
      "                      %%%%%%%%%%%%%%%%%%%%%%%%%%%%%%%%%%\n",
      "                    %%%%%%%%%%%%%%%%%%%%%%%%%%%%%%%%%%%%%%\n",
      "                   %%%%%%%%%%%%%%%%%%%%%%%%%%%%%%%%%%%%%%%%\n",
      "                                    %%%%%%%%%%%%%%%%%%%%%%%%\n",
      "                                     %%%%%%%%%%%%%%%%%%%%%%%%\n",
      "                 ###############      %%%%%%%%%%%%%%%%%%%%%%%%\n",
      "                ##################     %%%%%%%%%%%%%%%%%%%%%%%\n",
      "                ###################     %%%%%%%%%%%%%%%%%%%%%%%\n",
      "                ####################     %%%%%%%%%%%%%%%%%%%%%%\n",
      "                #####################     %%%%%%%%%%%%%%%%%%%%%\n",
      "                ######################     %%%%%%%%%%%%%%%%%%%%\n",
      "                #######################     %%%%%%%%%%%%%%%%%%\n",
      "                 #######################     %%%%%%%%%%%%%%%%%\n",
      "                 ######################     %%%%%%%%%%%%%%%%%\n",
      "                  ####################     %%%%%%%%%%%%%%%%%\n",
      "                    #################     %%%%%%%%%%%%%%%%%\n",
      "                     ###############     %%%%%%%%%%%%%%%%\n",
      "                       ############     %%%%%%%%%%%%%%%\n",
      "                          ########     %%%%%%%%%%%%%%\n",
      "                                      %%%%%%%%%%%\n",
      "\n",
      "                   | The OpenMC Monte Carlo Code\n",
      "         Copyright | 2011-2021 MIT and OpenMC contributors\n",
      "           License | https://docs.openmc.org/en/latest/license.html\n",
      "           Version | 0.12.2\n",
      "          Git SHA1 | 15a3a5e5e621a8029932f6da0309b705248e9d27\n",
      "         Date/Time | 2021-11-17 13:50:35\n",
      "    OpenMP Threads | 36\n",
      "\n",
      " Reading settings XML file...\n",
      " Reading cross sections XML file...\n",
      " Reading materials XML file...\n",
      " Reading geometry XML file...\n",
      " Reading U234 from /home/sblair/OMC_DATA/endfb71_hdf5/U234.h5\n",
      " Reading U235 from /home/sblair/OMC_DATA/endfb71_hdf5/U235.h5\n",
      " Reading U238 from /home/sblair/OMC_DATA/endfb71_hdf5/U238.h5\n",
      " Reading U236 from /home/sblair/OMC_DATA/endfb71_hdf5/U236.h5\n",
      " Reading O16 from /home/sblair/OMC_DATA/endfb71_hdf5/O16.h5\n",
      " Reading O17 from /home/sblair/OMC_DATA/endfb71_hdf5/O17.h5\n",
      " Reading Zr90 from /home/sblair/OMC_DATA/endfb71_hdf5/Zr90.h5\n",
      " Reading Zr91 from /home/sblair/OMC_DATA/endfb71_hdf5/Zr91.h5\n",
      " Reading Zr92 from /home/sblair/OMC_DATA/endfb71_hdf5/Zr92.h5\n",
      " Reading Zr94 from /home/sblair/OMC_DATA/endfb71_hdf5/Zr94.h5\n",
      " Reading Zr96 from /home/sblair/OMC_DATA/endfb71_hdf5/Zr96.h5\n",
      " Reading H1 from /home/sblair/OMC_DATA/endfb71_hdf5/H1.h5\n",
      " Reading H2 from /home/sblair/OMC_DATA/endfb71_hdf5/H2.h5\n",
      " Reading C0 from /home/sblair/OMC_DATA/endfb71_hdf5/C0.h5\n",
      " Reading B10 from /home/sblair/OMC_DATA/endfb71_hdf5/B10.h5\n",
      " Reading B11 from /home/sblair/OMC_DATA/endfb71_hdf5/B11.h5\n",
      " Reading c_H_in_H2O from /home/sblair/OMC_DATA/endfb71_hdf5/c_H_in_H2O.h5\n",
      " Reading c_Graphite from /home/sblair/OMC_DATA/endfb71_hdf5/c_Graphite.h5\n",
      " Minimum neutron data temperature: 250.0 K\n",
      " Maximum neutron data temperature: 2500.0 K\n",
      " Reading tallies XML file...\n",
      " Preparing distributed cell instances...\n",
      " Writing summary.h5 file...\n",
      " Maximum neutron transport energy: 20000000.0 eV for U235\n",
      " Initializing source particles...\n",
      "\n",
      " ====================>     K EIGENVALUE SIMULATION     <====================\n",
      "\n",
      "  Bat./Gen.      k            Average k\n",
      "  =========   ========   ====================\n",
      "        1/1    0.73122\n",
      "        2/1    0.75052\n",
      "        3/1    0.75695\n",
      "        4/1    0.76844\n",
      "        5/1    0.78220\n",
      "        6/1    0.79255\n",
      "        7/1    0.83040\n",
      "        8/1    0.81589\n",
      "        9/1    0.83569\n",
      "       10/1    0.83076\n",
      "       11/1    0.82698\n",
      "       12/1    0.83490\n",
      "       13/1    0.86156\n",
      "       14/1    0.83286\n",
      "       15/1    0.83587\n",
      "       16/1    0.83080\n",
      "       17/1    0.85198\n",
      "       18/1    0.85905\n",
      "       19/1    0.84838\n",
      "       20/1    0.83364\n",
      "       21/1    0.83291\n",
      "       22/1    0.85119\n",
      "       23/1    0.83701\n",
      "       24/1    0.85774\n",
      "       25/1    0.84898\n",
      "       26/1    0.83403\n",
      "       27/1    0.85542    0.84472 +/- 0.01070\n",
      "       28/1    0.84903    0.84616 +/- 0.00634\n",
      "       29/1    0.85411    0.84815 +/- 0.00490\n",
      "       30/1    0.86226    0.85097 +/- 0.00473\n",
      "       31/1    0.83449    0.84822 +/- 0.00474\n",
      "       32/1    0.84148    0.84726 +/- 0.00412\n",
      "       33/1    0.86665    0.84968 +/- 0.00431\n",
      "       34/1    0.81218    0.84552 +/- 0.00564\n",
      "       35/1    0.85866    0.84683 +/- 0.00521\n",
      "       36/1    0.86684    0.84865 +/- 0.00506\n",
      "       37/1    0.86609    0.85010 +/- 0.00484\n",
      "       38/1    0.84040    0.84936 +/- 0.00451\n",
      "       39/1    0.85500    0.84976 +/- 0.00420\n",
      "       40/1    0.86125    0.85052 +/- 0.00398\n",
      "       41/1    0.84328    0.85007 +/- 0.00375\n",
      "       42/1    0.87686    0.85165 +/- 0.00386\n",
      "       43/1    0.84451    0.85125 +/- 0.00366\n",
      "       44/1    0.85517    0.85146 +/- 0.00347\n",
      "       45/1    0.84261    0.85102 +/- 0.00332\n",
      "       46/1    0.86162    0.85152 +/- 0.00320\n",
      "       47/1    0.85976    0.85189 +/- 0.00307\n",
      "       48/1    0.84686    0.85168 +/- 0.00294\n",
      "       49/1    0.86636    0.85229 +/- 0.00288\n",
      "       50/1    0.88357    0.85354 +/- 0.00304\n",
      "       51/1    0.86143    0.85384 +/- 0.00293\n",
      "       52/1    0.84162    0.85339 +/- 0.00286\n",
      "       53/1    0.85146    0.85332 +/- 0.00276\n",
      "       54/1    0.85617    0.85342 +/- 0.00266\n",
      "       55/1    0.84352    0.85309 +/- 0.00259\n",
      "       56/1    0.86896    0.85360 +/- 0.00256\n",
      "       57/1    0.83481    0.85301 +/- 0.00255\n",
      "       58/1    0.85185    0.85298 +/- 0.00247\n",
      "       59/1    0.86180    0.85324 +/- 0.00241\n",
      "       60/1    0.86328    0.85353 +/- 0.00236\n",
      "       61/1    0.85513    0.85357 +/- 0.00229\n",
      "       62/1    0.85695    0.85366 +/- 0.00223\n",
      "       63/1    0.85222    0.85362 +/- 0.00217\n",
      "       64/1    0.86721    0.85397 +/- 0.00214\n",
      "       65/1    0.85230    0.85393 +/- 0.00209\n",
      "       66/1    0.86775    0.85427 +/- 0.00206\n",
      "       67/1    0.85021    0.85417 +/- 0.00202\n",
      "       68/1    0.83953    0.85383 +/- 0.00200\n",
      "       69/1    0.84920    0.85372 +/- 0.00196\n",
      "       70/1    0.85739    0.85381 +/- 0.00191\n",
      "       71/1    0.87375    0.85424 +/- 0.00192\n",
      "       72/1    0.86833    0.85454 +/- 0.00190\n",
      "       73/1    0.84359    0.85431 +/- 0.00188\n",
      "       74/1    0.85359    0.85430 +/- 0.00184\n",
      "       75/1    0.85734    0.85436 +/- 0.00180\n",
      "       76/1    0.84610    0.85420 +/- 0.00177\n",
      "       77/1    0.85846    0.85428 +/- 0.00174\n",
      "       78/1    0.85819    0.85435 +/- 0.00171\n",
      "       79/1    0.85239    0.85431 +/- 0.00168\n",
      "       80/1    0.86466    0.85450 +/- 0.00166\n",
      "       81/1    0.86425    0.85468 +/- 0.00164\n",
      "       82/1    0.84386    0.85449 +/- 0.00162\n",
      "       83/1    0.86135    0.85461 +/- 0.00160\n",
      "       84/1    0.83043    0.85420 +/- 0.00162\n",
      "       85/1    0.86395    0.85436 +/- 0.00160\n",
      "       86/1    0.84289    0.85417 +/- 0.00159\n",
      "       87/1    0.87670    0.85453 +/- 0.00160\n",
      "       88/1    0.85393    0.85452 +/- 0.00158\n",
      "       89/1    0.85770    0.85457 +/- 0.00155\n",
      "       90/1    0.84412    0.85441 +/- 0.00154\n",
      "       91/1    0.84814    0.85432 +/- 0.00152\n",
      "       92/1    0.85087    0.85427 +/- 0.00150\n",
      "       93/1    0.85553    0.85429 +/- 0.00147\n",
      "       94/1    0.85266    0.85426 +/- 0.00145\n",
      "       95/1    0.86162    0.85437 +/- 0.00143\n",
      "       96/1    0.85411    0.85436 +/- 0.00141\n",
      "       97/1    0.86887    0.85456 +/- 0.00141\n",
      "       98/1    0.86187    0.85466 +/- 0.00139\n",
      "       99/1    0.83329    0.85438 +/- 0.00140\n",
      "      100/1    0.84260    0.85422 +/- 0.00139\n",
      " Creating state point statepoint.100.h5...\n",
      "\n",
      " =======================>     TIMING STATISTICS     <=======================\n",
      "\n",
      " Total time for initialization     = 7.9409e-01 seconds\n",
      "   Reading cross sections          = 7.7610e-01 seconds\n",
      " Total time in simulation          = 2.9775e+01 seconds\n",
      "   Time in transport only          = 2.9618e+01 seconds\n",
      "   Time in inactive batches        = 5.7754e+00 seconds\n",
      "   Time in active batches          = 2.4000e+01 seconds\n",
      "   Time synchronizing fission bank = 7.9209e-02 seconds\n",
      "     Sampling source sites         = 7.0494e-02 seconds\n",
      "     SEND/RECV source sites        = 8.3935e-03 seconds\n",
      "   Time accumulating tallies       = 1.0547e-02 seconds\n",
      "   Time writing statepoints        = 5.5784e-03 seconds\n",
      " Total time for finalization       = 1.8753e-03 seconds\n",
      " Total time elapsed                = 3.0582e+01 seconds\n",
      " Calculation Rate (inactive)       = 43286.7 particles/second\n",
      " Calculation Rate (active)         = 31250.0 particles/second\n",
      "\n",
      " ============================>     RESULTS     <============================\n",
      "\n",
      " k-effective (Collision)     = 0.85426 +/- 0.00111\n",
      " k-effective (Track-length)  = 0.85422 +/- 0.00139\n",
      " k-effective (Absorption)    = 0.85205 +/- 0.00119\n",
      " Combined k-effective        = 0.85329 +/- 0.00097\n",
      " Leakage Fraction            = 0.00000 +/- 0.00000\n",
      "\n"
     ]
    }
   ],
   "source": [
    "openmc.run();"
   ]
  },
  {
   "cell_type": "code",
   "execution_count": 9,
   "id": "35ae6e64",
   "metadata": {},
   "outputs": [
    {
     "data": {
      "text/plain": [
       "{2: Tally\n",
       " \tID             =\t2\n",
       " \tName           =\tflux\n",
       " \tFilters        =\tCellFilter, EnergyFilter\n",
       " \tNuclides       =\ttotal\n",
       " \tScores         =\t['flux']\n",
       " \tEstimator      =\ttracklength}"
      ]
     },
     "execution_count": 9,
     "metadata": {},
     "output_type": "execute_result"
    }
   ],
   "source": [
    "sp = openmc.StatePoint('statepoint.100.h5')\n",
    "sp.tallies"
   ]
  },
  {
   "cell_type": "code",
   "execution_count": 10,
   "id": "2a203c90",
   "metadata": {},
   "outputs": [
    {
     "ename": "NameError",
     "evalue": "name 'plt' is not defined",
     "output_type": "error",
     "traceback": [
      "\u001b[0;31m---------------------------------------------------------------------------\u001b[0m",
      "\u001b[0;31mNameError\u001b[0m                                 Traceback (most recent call last)",
      "\u001b[0;32m/tmp/ipykernel_31967/4248193358.py\u001b[0m in \u001b[0;36m<module>\u001b[0;34m\u001b[0m\n\u001b[1;32m      5\u001b[0m \u001b[0menergy_x\u001b[0m \u001b[0;34m=\u001b[0m \u001b[0;36m0.5\u001b[0m\u001b[0;34m*\u001b[0m\u001b[0;34m(\u001b[0m\u001b[0menergy_bins\u001b[0m\u001b[0;34m[\u001b[0m\u001b[0;36m0\u001b[0m\u001b[0;34m:\u001b[0m\u001b[0;34m-\u001b[0m\u001b[0;36m1\u001b[0m\u001b[0;34m]\u001b[0m\u001b[0;34m+\u001b[0m\u001b[0menergy_bins\u001b[0m\u001b[0;34m[\u001b[0m\u001b[0;36m1\u001b[0m\u001b[0;34m:\u001b[0m\u001b[0;34m]\u001b[0m\u001b[0;34m)\u001b[0m\u001b[0;34m\u001b[0m\u001b[0;34m\u001b[0m\u001b[0m\n\u001b[1;32m      6\u001b[0m \u001b[0;34m\u001b[0m\u001b[0m\n\u001b[0;32m----> 7\u001b[0;31m \u001b[0mplt\u001b[0m\u001b[0;34m.\u001b[0m\u001b[0mloglog\u001b[0m\u001b[0;34m(\u001b[0m\u001b[0menergy_x\u001b[0m\u001b[0;34m,\u001b[0m\u001b[0mflux_vals\u001b[0m\u001b[0;34m)\u001b[0m\u001b[0;34m\u001b[0m\u001b[0;34m\u001b[0m\u001b[0m\n\u001b[0m\u001b[1;32m      8\u001b[0m \u001b[0mplt\u001b[0m\u001b[0;34m.\u001b[0m\u001b[0mgrid\u001b[0m\u001b[0;34m(\u001b[0m\u001b[0;34m)\u001b[0m\u001b[0;34m\u001b[0m\u001b[0;34m\u001b[0m\u001b[0m\n\u001b[1;32m      9\u001b[0m \u001b[0mplt\u001b[0m\u001b[0;34m.\u001b[0m\u001b[0mxlabel\u001b[0m\u001b[0;34m(\u001b[0m\u001b[0;34m'Energy [eV]'\u001b[0m\u001b[0;34m)\u001b[0m\u001b[0;34m\u001b[0m\u001b[0;34m\u001b[0m\u001b[0m\n",
      "\u001b[0;31mNameError\u001b[0m: name 'plt' is not defined"
     ]
    }
   ],
   "source": [
    "flux_t = sp.get_tally(name='flux')\n",
    "flux_df = flux_t.get_pandas_dataframe()\n",
    "flux_vals = flux_df['mean'].to_numpy()\n",
    "\n",
    "energy_x = 0.5*(energy_bins[0:-1]+energy_bins[1:])\n",
    "\n",
    "plt.loglog(energy_x,flux_vals)\n",
    "plt.grid()\n",
    "plt.xlabel('Energy [eV]')\n",
    "plt.ylabel('flux [n/cm**2-s]')"
   ]
  },
  {
   "cell_type": "code",
   "execution_count": null,
   "id": "4c54f2a0",
   "metadata": {},
   "outputs": [],
   "source": [
    "#operator = openmc.deplete.Operator(geometry,settings,\"chain_casl_pwr.xml\");\n",
    "operator = openmc.deplete.Operator(geometry,settings,\"chain_endfb71_pwr.xml\");\n",
    "\n",
    "\n",
    "power = 1e4;\n",
    "days = 24*3600;\n",
    "time_steps = [0.1*days,0.1*days,0.3*days,0.5*days,1.*days,30.*days,30.*days,100.*days, 360.*days, 360.*days, 360.*days,360.*days,720.*days,720.*days];\n",
    "integrator = openmc.deplete.PredictorIntegrator(operator,time_steps,power=power);"
   ]
  },
  {
   "cell_type": "code",
   "execution_count": null,
   "id": "cddad050",
   "metadata": {},
   "outputs": [],
   "source": [
    "integrator.integrate()"
   ]
  },
  {
   "cell_type": "code",
   "execution_count": null,
   "id": "e3724995",
   "metadata": {},
   "outputs": [],
   "source": [
    "results = openmc.deplete.ResultsList.from_hdf5('./depletion_results.h5')"
   ]
  },
  {
   "cell_type": "code",
   "execution_count": null,
   "id": "abfb4522",
   "metadata": {},
   "outputs": [],
   "source": [
    "time,k = results.get_eigenvalue()\n",
    "time /= (24*60*60);"
   ]
  },
  {
   "cell_type": "code",
   "execution_count": null,
   "id": "fb6474fd",
   "metadata": {},
   "outputs": [],
   "source": [
    "from matplotlib import pyplot"
   ]
  },
  {
   "cell_type": "code",
   "execution_count": null,
   "id": "cedd0e5b",
   "metadata": {},
   "outputs": [],
   "source": [
    "pyplot.errorbar(time,k[:,0],yerr=k[:,1]);\n",
    "pyplot.title('Burnup Result for Pincell')\n",
    "pyplot.xlabel('Time [d]');\n",
    "pyplot.ylabel('$k_{eff} \\pm \\sigma$');\n",
    "pyplot.grid()"
   ]
  },
  {
   "cell_type": "code",
   "execution_count": null,
   "id": "5504faad",
   "metadata": {},
   "outputs": [],
   "source": [
    "chain = openmc.deplete.Chain.from_xml(\"chain_endfb71_pwr.xml\")"
   ]
  },
  {
   "cell_type": "code",
   "execution_count": null,
   "id": "c2a2815d",
   "metadata": {},
   "outputs": [],
   "source": [
    "chain.nuclide_dict"
   ]
  },
  {
   "cell_type": "code",
   "execution_count": null,
   "id": "e4e9417e",
   "metadata": {},
   "outputs": [],
   "source": [
    "time, xe135 = results.get_atoms(\"1\",\"Xe135\")"
   ]
  },
  {
   "cell_type": "code",
   "execution_count": null,
   "id": "d7ff4a2c",
   "metadata": {},
   "outputs": [],
   "source": [
    "pyplot.plot(time,xe135,label=\"Xe135\")\n",
    "pyplot.xlabel(\"Time [d]\")\n",
    "pyplot.ylabel(\"Number of atoms - Xe135\")"
   ]
  },
  {
   "cell_type": "code",
   "execution_count": null,
   "id": "11812548",
   "metadata": {},
   "outputs": [],
   "source": [
    "time, cs137 = results.get_atoms(\"1\",\"Cs137\")"
   ]
  },
  {
   "cell_type": "code",
   "execution_count": null,
   "id": "05b84d1e",
   "metadata": {},
   "outputs": [],
   "source": [
    "pyplot.plot(time,cs137,label=\"Cs137\");\n",
    "pyplot.xlabel(\"Time [d]\");\n",
    "pyplot.ylabel(\"Number of atoms - Cs137\");"
   ]
  },
  {
   "cell_type": "code",
   "execution_count": null,
   "id": "a7a0cb7a",
   "metadata": {},
   "outputs": [],
   "source": []
  }
 ],
 "metadata": {
  "kernelspec": {
   "display_name": "Python 3 (ipykernel)",
   "language": "python",
   "name": "python3"
  },
  "language_info": {
   "codemirror_mode": {
    "name": "ipython",
    "version": 3
   },
   "file_extension": ".py",
   "mimetype": "text/x-python",
   "name": "python",
   "nbconvert_exporter": "python",
   "pygments_lexer": "ipython3",
   "version": "3.9.6"
  }
 },
 "nbformat": 4,
 "nbformat_minor": 5
}
