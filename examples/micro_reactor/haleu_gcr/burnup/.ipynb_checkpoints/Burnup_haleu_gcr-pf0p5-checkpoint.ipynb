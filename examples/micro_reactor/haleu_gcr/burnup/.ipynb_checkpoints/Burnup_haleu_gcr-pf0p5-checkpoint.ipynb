{
 "cells": [
  {
   "cell_type": "markdown",
   "id": "9923dcaa",
   "metadata": {},
   "source": [
    "# Burnup Study - Packing Factor 0.5\n",
    "\n",
    "The purpose of this notebook is to carry out a burnup analysis of the Graphite moderated gas-cooled reactor with TRISO particles in prismatic compacts."
   ]
  },
  {
   "cell_type": "code",
   "execution_count": 1,
   "id": "283f59ab",
   "metadata": {},
   "outputs": [],
   "source": [
    "import openmc\n",
    "import openmc.deplete\n",
    "import matplotlib.pyplot as plt\n",
    "\n",
    "%matplotlib inline\n",
    "import numpy as np"
   ]
  },
  {
   "cell_type": "code",
   "execution_count": 2,
   "id": "eccb5ba8",
   "metadata": {},
   "outputs": [],
   "source": [
    "fuel = openmc.Material(name=\"fuel_compact\")\n",
    "fuel.set_density('atom/b-cm',8.26793e-2) # To Do: implement a better method for adjusting triso fuel parameters\n",
    "fuel.add_nuclide('U235',3.5464306e-4)\n",
    "fuel.add_nuclide('U238',1.420345e-3)\n",
    "fuel.add_element('C',7.30472004e-2)\n",
    "fuel.add_element('O',3.5464306-3)\n",
    "fuel.add_element('S',4.31248291e-3)\n",
    "fuel.add_s_alpha_beta('c_Graphite')\n",
    "\n",
    "coolant = openmc.Material(name='He')\n",
    "coolant.set_density('g/cm3',1.86e-3) # at 3MPa, 500 C (need to fix)\n",
    "coolant.add_element('He',1.0)\n",
    " # no s_alpha_beta for Helium??\n",
    "    \n",
    "    \n",
    "mod = openmc.Material(name='Graphite')\n",
    "mod.set_density('g/cm3',1.7)\n",
    "mod.add_element('C',1)\n",
    "mod.add_s_alpha_beta('c_Graphite')\n",
    "\n",
    "materials = openmc.Materials([fuel,coolant,mod]);"
   ]
  },
  {
   "cell_type": "markdown",
   "id": "849cdbc4",
   "metadata": {},
   "source": [
    "## Pin Cell Geometry\n",
    "\n",
    "The goal is to establish a pin-cell to provide a simplified representation of the basic criticality and (especially) neutron energy spectrum for this concept.  "
   ]
  },
  {
   "cell_type": "code",
   "execution_count": 3,
   "id": "70df9019",
   "metadata": {},
   "outputs": [],
   "source": [
    "h_core = 300.; \n",
    "h_fuel = 200.;\n",
    "\n",
    "r_fuel = 0.6; #cm, radius of fuel compact\n",
    "r_channel = 0.8;#cm, radius of fuel channel \n",
    "\n",
    "P_D = 1.58\n",
    "\n",
    "pitch = P_D*(2*r_channel);\n",
    "\n",
    "fuel_temp = 1200; # K, representative fuel temperature (?)\n",
    "mod_temp = 800; # K, representative moderator temperature (?)\n",
    "\n",
    "# fuel cylinder:\n",
    "fuel_cyl = openmc.model.RightCircularCylinder([0.,0.,-h_fuel/2.],\n",
    "                                             h_fuel, r_fuel);\n",
    "\n",
    "fuel.volume = np.pi*(r_fuel**2)*h_fuel;\n",
    "\n",
    "# channel cylinder\n",
    "channel_cyl = openmc.model.RightCircularCylinder([0.,0.,-h_core/2+1.],\n",
    "                                            h_core-2.,r_channel);\n",
    "# avoid coincident boundaries with the core cell\n",
    "\n",
    "# core cell container\n",
    "core_cell = openmc.model.RectangularParallelepiped(-pitch/2.,pitch/2.,\n",
    "                                                  -pitch/2.,pitch/2.,\n",
    "                                                  -h_core/2.,h_core/2.,\n",
    "                                                  boundary_type='reflective');\n",
    "\n",
    "fuel_cell = openmc.Cell();\n",
    "fuel_cell.region = -fuel_cyl\n",
    "fuel_cell.fill = fuel;\n",
    "fuel_cell.temperature = fuel_temp;\n",
    "\n",
    "\n",
    "channel_cell = openmc.Cell();\n",
    "channel_cell.region = +fuel_cyl & -channel_cyl;\n",
    "channel_cell.fill = coolant;\n",
    "\n",
    "mod_cell = openmc.Cell();\n",
    "mod_cell.region = +channel_cyl & -core_cell;\n",
    "mod_cell.fill = mod\n",
    "mod_cell.temperature = mod_temp;\n",
    "\n",
    "root_univ = openmc.Universe();\n",
    "root_univ.add_cells([fuel_cell,channel_cell,mod_cell]);\n",
    "\n",
    "geometry = openmc.Geometry();\n",
    "geometry.root_universe = root_univ;\n",
    "\n",
    "\n",
    "\n",
    "materials.export_to_xml();\n",
    "geometry.export_to_xml();\n",
    "\n"
   ]
  },
  {
   "cell_type": "code",
   "execution_count": 4,
   "id": "2792c71e",
   "metadata": {},
   "outputs": [],
   "source": [
    "settings = openmc.Settings();\n",
    "settings.run_mode = 'eigenvalue';\n",
    "settings.particles = 20000;\n",
    "settings.batches = 200;\n",
    "settings.inactive = 50\n",
    "\n",
    "box = openmc.stats.Box(lower_left = (-r_fuel,-r_fuel,-h_fuel/2.),\n",
    "                      upper_right = (r_fuel,r_fuel,h_fuel/2.),\n",
    "                      only_fissionable=True);\n",
    "src = openmc.Source(space=box);\n",
    "\n",
    "settings.source = src;\n",
    "\n",
    "settings.temperature['method']='interpolation';\n",
    "\n",
    "settings.export_to_xml();"
   ]
  },
  {
   "cell_type": "code",
   "execution_count": 5,
   "id": "93015f21",
   "metadata": {},
   "outputs": [
    {
     "data": {
      "image/png": "[encoded data removed]",
      "text/plain": [
       "<Figure size 432x288 with 1 Axes>"
      ]
     },
     "metadata": {
      "needs_background": "light"
     },
     "output_type": "display_data"
    }
   ],
   "source": [
    "root_univ.plot(width=(pitch,pitch));"
   ]
  },
  {
   "cell_type": "code",
   "execution_count": 6,
   "id": "943d35c7",
   "metadata": {},
   "outputs": [],
   "source": [
    "# get flux energy spectrum in the fuel\n",
    "\n",
    "# filter for the fuel cell\n",
    "cell_filter = openmc.CellFilter(fuel_cell)\n",
    "\n",
    "# set up energy bins\n",
    "N = 1001\n",
    "energy_bins = np.logspace(-3,7,num=N)\n",
    "energy_filter = openmc.EnergyFilter(values=energy_bins)\n",
    "\n",
    "# establish flux tally\n",
    "flux = openmc.Tally(name='flux')\n",
    "flux.scores = ['flux']\n",
    "flux.filters = [cell_filter,energy_filter]\n",
    "\n",
    "tallies = openmc.Tallies([flux])\n",
    "\n",
    "tallies.export_to_xml()\n"
   ]
  },
  {
   "cell_type": "code",
   "execution_count": 7,
   "id": "8f7aee4f",
   "metadata": {},
   "outputs": [
    {
     "ename": "TypeError",
     "evalue": "str expected, not int",
     "output_type": "error",
     "traceback": [
      "\u001b[0;31m---------------------------------------------------------------------------\u001b[0m",
      "\u001b[0;31mTypeError\u001b[0m                                 Traceback (most recent call last)",
      "Input \u001b[0;32mIn [7]\u001b[0m, in \u001b[0;36m<cell line: 16>\u001b[0;34m()\u001b[0m\n\u001b[1;32m     13\u001b[0m integrator \u001b[38;5;241m=\u001b[39m openmc\u001b[38;5;241m.\u001b[39mdeplete\u001b[38;5;241m.\u001b[39mPredictorIntegrator(operator,time_steps,power\u001b[38;5;241m=\u001b[39mpower);\n\u001b[1;32m     15\u001b[0m \u001b[38;5;28;01mimport\u001b[39;00m \u001b[38;5;21;01mos\u001b[39;00m\n\u001b[0;32m---> 16\u001b[0m os\u001b[38;5;241m.\u001b[39menviron[\u001b[38;5;124m'\u001b[39m\u001b[38;5;124mOMP_NUM_THREADS\u001b[39m\u001b[38;5;124m'\u001b[39m]\u001b[38;5;241m=\u001b[39m\u001b[38;5;241m24\u001b[39m;\n\u001b[1;32m     18\u001b[0m integrator\u001b[38;5;241m.\u001b[39mintegrate()\n",
      "File \u001b[0;32m~/miniconda3/envs/openmc-env/lib/python3.9/os.py:684\u001b[0m, in \u001b[0;36m_Environ.__setitem__\u001b[0;34m(self, key, value)\u001b[0m\n\u001b[1;32m    682\u001b[0m \u001b[38;5;28;01mdef\u001b[39;00m \u001b[38;5;21m__setitem__\u001b[39m(\u001b[38;5;28mself\u001b[39m, key, value):\n\u001b[1;32m    683\u001b[0m     key \u001b[38;5;241m=\u001b[39m \u001b[38;5;28mself\u001b[39m\u001b[38;5;241m.\u001b[39mencodekey(key)\n\u001b[0;32m--> 684\u001b[0m     value \u001b[38;5;241m=\u001b[39m \u001b[38;5;28;43mself\u001b[39;49m\u001b[38;5;241;43m.\u001b[39;49m\u001b[43mencodevalue\u001b[49m\u001b[43m(\u001b[49m\u001b[43mvalue\u001b[49m\u001b[43m)\u001b[49m\n\u001b[1;32m    685\u001b[0m     putenv(key, value)\n\u001b[1;32m    686\u001b[0m     \u001b[38;5;28mself\u001b[39m\u001b[38;5;241m.\u001b[39m_data[key] \u001b[38;5;241m=\u001b[39m value\n",
      "File \u001b[0;32m~/miniconda3/envs/openmc-env/lib/python3.9/os.py:756\u001b[0m, in \u001b[0;36m_createenviron.<locals>.encode\u001b[0;34m(value)\u001b[0m\n\u001b[1;32m    754\u001b[0m \u001b[38;5;28;01mdef\u001b[39;00m \u001b[38;5;21mencode\u001b[39m(value):\n\u001b[1;32m    755\u001b[0m     \u001b[38;5;28;01mif\u001b[39;00m \u001b[38;5;129;01mnot\u001b[39;00m \u001b[38;5;28misinstance\u001b[39m(value, \u001b[38;5;28mstr\u001b[39m):\n\u001b[0;32m--> 756\u001b[0m         \u001b[38;5;28;01mraise\u001b[39;00m \u001b[38;5;167;01mTypeError\u001b[39;00m(\u001b[38;5;124m\"\u001b[39m\u001b[38;5;124mstr expected, not \u001b[39m\u001b[38;5;132;01m%s\u001b[39;00m\u001b[38;5;124m\"\u001b[39m \u001b[38;5;241m%\u001b[39m \u001b[38;5;28mtype\u001b[39m(value)\u001b[38;5;241m.\u001b[39m\u001b[38;5;18m__name__\u001b[39m)\n\u001b[1;32m    757\u001b[0m     \u001b[38;5;28;01mreturn\u001b[39;00m value\u001b[38;5;241m.\u001b[39mencode(encoding, \u001b[38;5;124m'\u001b[39m\u001b[38;5;124msurrogateescape\u001b[39m\u001b[38;5;124m'\u001b[39m)\n",
      "\u001b[0;31mTypeError\u001b[0m: str expected, not int"
     ]
    }
   ],
   "source": [
    "model = openmc.model.Model(geometry=geometry,materials=materials,settings=settings,\n",
    "                          tallies=tallies);\n",
    "\n",
    "\n",
    "# update for OpenMC 0.13.0; first argument for deplete.Operator must be a model\n",
    "operator = openmc.deplete.Operator(model,\"chain_endfb71_pwr.xml\")\n",
    "power = 1e4;\n",
    "days = 24*3600;\n",
    "#time_steps = [0.1*days, 0.1*days,0.3*days,0.5*days,1.*days,30.*days,30.*days,100.*days,365.*days,365.*days,365.*days,730.*days,730.*days]\n",
    "\n",
    "time_steps = [0.1*days, 0.1*days];\n",
    "\n",
    "integrator = openmc.deplete.PredictorIntegrator(operator,time_steps,power=power);\n",
    "\n",
    "import os\n",
    "os.environ['OMP_NUM_THREADS']='24';\n",
    "\n",
    "integrator.integrate()"
   ]
  },
  {
   "cell_type": "code",
   "execution_count": null,
   "id": "99428a99",
   "metadata": {},
   "outputs": [],
   "source": [
    "results = openmc.deplete.ResultsList.from_hdf5('./depletion_results.h5')\n",
    "\n",
    "time,k = results.get_eigenvalue()\n",
    "time /= (24*60*60)\n",
    "\n",
    "plt.errorbar(time,k[:,0],yerr=k[:,1])\n",
    "plt.title('Burnup Result for Model 3')\n",
    "plt.xlabel('Time [d]')\n",
    "plt.ylabel('$k_{eff} \\pm \\sigma$')\n",
    "plt.grid()\n",
    "\n"
   ]
  },
  {
   "cell_type": "code",
   "execution_count": null,
   "id": "9911adb9",
   "metadata": {},
   "outputs": [],
   "source": [
    "time, cs137 = results.get_atoms(\"1\",\"Cs137\")# I should verify that fuel is material \"1\"\n",
    "time /= (24*60*60)\n",
    "plt.plot(time,cs137,label=\"Cs137\")\n",
    "plt.xlabel(\"time [d]\")\n",
    "plt.ylabel(\"Number of atoms Cs137\")"
   ]
  },
  {
   "cell_type": "code",
   "execution_count": null,
   "id": "39df7144",
   "metadata": {},
   "outputs": [],
   "source": [
    "time, Pu239 = results.get_atoms(\"1\",\"Pu239\")\n",
    "\n",
    "time /= (24*60*60)\n",
    "plt.plot(time,Pu239,label=\"Pu239\")\n",
    "plt.xlabel(\"time [d]\")\n",
    "plt.ylabel(\"Number of atoms Pu239\")"
   ]
  },
  {
   "cell_type": "code",
   "execution_count": null,
   "id": "c9c2c25a",
   "metadata": {},
   "outputs": [],
   "source": [
    "time, Pu240 = results.get_atoms(\"1\",\"Pu240\")\n",
    "time, Pu241 = results.get_atoms(\"1\",\"Pu241\")\n",
    "time, Pu242 = results.get_atoms(\"1\",\"Pu242\")\n",
    "time /= (24*60*60)\n",
    "\n",
    "plt.semilogy(time,Pu239,label=\"Pu239\")\n",
    "plt.semilogy(time,Pu240,label=\"Pu240\")\n",
    "plt.semilogy(time,Pu241,label=\"Pu241\")\n",
    "plt.semilogy(time,Pu242,label=\"Pu242\")\n",
    "plt.legend()\n",
    "plt.grid()\n",
    "plt.xlabel(\"time [d]\")\n",
    "plt.ylabel(\"Number of atoms\")"
   ]
  },
  {
   "cell_type": "code",
   "execution_count": null,
   "id": "2be541ca",
   "metadata": {},
   "outputs": [],
   "source": [
    "total_pu = Pu239 + Pu240 + Pu241 + Pu242\n",
    "Pu239_frac = Pu239/total_pu\n",
    "\n",
    "plt.plot(time,Pu239_frac,label=\"Fraction Pu239\")\n",
    "plt.grid()\n",
    "plt.title(\"Fraction Pu239 of all Plutonium in Fuel\")\n",
    "plt.xlabel(\"time [d]\")\n",
    "plt.ylabel(\"Fraction Pu239\")"
   ]
  },
  {
   "cell_type": "code",
   "execution_count": null,
   "id": "9bff3184",
   "metadata": {},
   "outputs": [],
   "source": []
  }
 ],
 "metadata": {
  "kernelspec": {
   "display_name": "Python 3 (ipykernel)",
   "language": "python",
   "name": "python3"
  },
  "language_info": {
   "codemirror_mode": {
    "name": "ipython",
    "version": 3
   },
   "file_extension": ".py",
   "mimetype": "text/x-python",
   "name": "python",
   "nbconvert_exporter": "python",
   "pygments_lexer": "ipython3",
   "version": "3.9.10"
  }
 },
 "nbformat": 4,
 "nbformat_minor": 5
}
