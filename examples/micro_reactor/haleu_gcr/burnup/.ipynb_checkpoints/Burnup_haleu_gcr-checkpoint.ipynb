{
 "cells": [
  {
   "cell_type": "markdown",
   "id": "9923dcaa",
   "metadata": {},
   "source": [
    "# Begining of Life\n",
    "\n",
    "The purpose of this notebook is to establish basic beginning of life parameters of this concept including $k_{eff}$ and neutron energy spectrum."
   ]
  },
  {
   "cell_type": "code",
   "execution_count": 1,
   "id": "283f59ab",
   "metadata": {},
   "outputs": [],
   "source": [
    "import openmc\n",
    "import openmc.deplete\n",
    "import matplotlib.pyplot as plt\n",
    "\n",
    "%matplotlib inline\n",
    "import numpy as np"
   ]
  },
  {
   "cell_type": "code",
   "execution_count": 2,
   "id": "eccb5ba8",
   "metadata": {},
   "outputs": [],
   "source": [
    "fuel = openmc.Material(name=\"fuel_compact\")\n",
    "fuel.set_density('atom/b-cm',8.3206e-2) # To Do: implement a better method for adjusting triso fuel parameters\n",
    "fuel.add_nuclide('U235',2.8230e-4)\n",
    "fuel.add_nuclide('U238',1.1363e-3)\n",
    "fuel.add_element('C',7.5500e-2)\n",
    "fuel.add_element('O',2.8371e-3)\n",
    "fuel.add_element('S',3.4500e-3)\n",
    "fuel.add_s_alpha_beta('c_Graphite')\n",
    "\n",
    "coolant = openmc.Material(name='He')\n",
    "coolant.set_density('g/cm3',1.86e-3) # at 3MPa, 500 C (need to fix)\n",
    "coolant.add_element('He',1.0)\n",
    " # no s_alpha_beta for Helium??\n",
    "    \n",
    "    \n",
    "mod = openmc.Material(name='Graphite')\n",
    "mod.set_density('g/cm3',1.7)\n",
    "mod.add_element('C',1)\n",
    "mod.add_s_alpha_beta('c_Graphite')\n",
    "\n",
    "materials = openmc.Materials([fuel,coolant,mod]);"
   ]
  },
  {
   "cell_type": "markdown",
   "id": "849cdbc4",
   "metadata": {},
   "source": [
    "## Pin Cell Geometry\n",
    "\n",
    "The goal is to establish a pin-cell to provide a simplified representation of the basic criticality and (especially) neutron energy spectrum for this concept.  "
   ]
  },
  {
   "cell_type": "code",
   "execution_count": 3,
   "id": "70df9019",
   "metadata": {},
   "outputs": [],
   "source": [
    "h_core = 300.; \n",
    "h_fuel = 200.;\n",
    "\n",
    "r_fuel = 0.6; #cm, radius of fuel compact\n",
    "r_channel = 0.8;#cm, radius of fuel channel \n",
    "\n",
    "P_D = 1.1\n",
    "\n",
    "pitch = P_D*(2*r_channel);\n",
    "\n",
    "fuel_temp = 1200; # K, representative fuel temperature (?)\n",
    "mod_temp = 800; # K, representative moderator temperature (?)\n",
    "\n",
    "# fuel cylinder:\n",
    "fuel_cyl = openmc.model.RightCircularCylinder([0.,0.,-h_fuel/2.],\n",
    "                                             h_fuel, r_fuel);\n",
    "\n",
    "fuel.volume = np.pi*(r_fuel**2)*h_fuel;\n",
    "\n",
    "# channel cylinder\n",
    "channel_cyl = openmc.model.RightCircularCylinder([0.,0.,-h_core/2+1.],\n",
    "                                            h_core-2.,r_channel);\n",
    "# avoid coincident boundaries with the core cell\n",
    "\n",
    "# core cell container\n",
    "core_cell = openmc.model.RectangularParallelepiped(-pitch/2.,pitch/2.,\n",
    "                                                  -pitch/2.,pitch/2.,\n",
    "                                                  -h_core/2.,h_core/2.,\n",
    "                                                  boundary_type='reflective');\n",
    "\n",
    "fuel_cell = openmc.Cell();\n",
    "fuel_cell.region = -fuel_cyl\n",
    "fuel_cell.fill = fuel;\n",
    "fuel_cell.temperature = fuel_temp;\n",
    "\n",
    "\n",
    "channel_cell = openmc.Cell();\n",
    "channel_cell.region = +fuel_cyl & -channel_cyl;\n",
    "channel_cell.fill = coolant;\n",
    "\n",
    "mod_cell = openmc.Cell();\n",
    "mod_cell.region = +channel_cyl & -core_cell;\n",
    "mod_cell.fill = coolant\n",
    "mod_cell.temperature = mod_temp;\n",
    "\n",
    "root_univ = openmc.Universe();\n",
    "root_univ.add_cells([fuel_cell,channel_cell,mod_cell]);\n",
    "\n",
    "geometry = openmc.Geometry();\n",
    "geometry.root_universe = root_univ;\n",
    "\n",
    "\n",
    "\n",
    "materials.export_to_xml();\n",
    "geometry.export_to_xml();\n",
    "\n"
   ]
  },
  {
   "cell_type": "code",
   "execution_count": 4,
   "id": "2792c71e",
   "metadata": {},
   "outputs": [],
   "source": [
    "settings = openmc.Settings();\n",
    "settings.run_mode = 'eigenvalue';\n",
    "settings.particles = 20000;\n",
    "settings.batches = 200;\n",
    "settings.inactive = 50\n",
    "\n",
    "box = openmc.stats.Box(lower_left = (-r_fuel,-r_fuel,-h_fuel/2.),\n",
    "                      upper_right = (r_fuel,r_fuel,h_fuel/2.),\n",
    "                      only_fissionable=True);\n",
    "src = openmc.Source(space=box);\n",
    "\n",
    "settings.source = src;\n",
    "\n",
    "settings.temperature['method']='interpolation';\n",
    "\n",
    "settings.export_to_xml();"
   ]
  },
  {
   "cell_type": "code",
   "execution_count": 5,
   "id": "93015f21",
   "metadata": {},
   "outputs": [
    {
     "data": {
      "image/png": "[encoded data removed]",
      "text/plain": [
       "<Figure size 432x288 with 1 Axes>"
      ]
     },
     "metadata": {
      "needs_background": "light"
     },
     "output_type": "display_data"
    }
   ],
   "source": [
    "root_univ.plot(width=(pitch,pitch));"
   ]
  },
  {
   "cell_type": "code",
   "execution_count": 6,
   "id": "943d35c7",
   "metadata": {},
   "outputs": [],
   "source": [
    "# get flux energy spectrum in the fuel\n",
    "\n",
    "# filter for the fuel cell\n",
    "cell_filter = openmc.CellFilter(fuel_cell)\n",
    "\n",
    "# set up energy bins\n",
    "N = 1001\n",
    "energy_bins = np.logspace(-3,7,num=N)\n",
    "energy_filter = openmc.EnergyFilter(values=energy_bins)\n",
    "\n",
    "# establish flux tally\n",
    "flux = openmc.Tally(name='flux')\n",
    "flux.scores = ['flux']\n",
    "flux.filters = [cell_filter,energy_filter]\n",
    "\n",
    "tallies = openmc.Tallies([flux])\n",
    "\n",
    "tallies.export_to_xml()\n"
   ]
  },
  {
   "cell_type": "code",
   "execution_count": null,
   "id": "8f7aee4f",
   "metadata": {},
   "outputs": [],
   "source": []
  }
 ],
 "metadata": {
  "kernelspec": {
   "display_name": "Python 3 (ipykernel)",
   "language": "python",
   "name": "python3"
  },
  "language_info": {
   "codemirror_mode": {
    "name": "ipython",
    "version": 3
   },
   "file_extension": ".py",
   "mimetype": "text/x-python",
   "name": "python",
   "nbconvert_exporter": "python",
   "pygments_lexer": "ipython3",
   "version": "3.9.6"
  }
 },
 "nbformat": 4,
 "nbformat_minor": 5
}
