{
 "cells": [
  {
   "cell_type": "markdown",
   "id": "9923dcaa",
   "metadata": {},
   "source": [
    "# Begining of Life\n",
    "\n",
    "The purpose of this notebook is to establish basic beginning of life parameters of this concept including $k_{eff}$ and neutron energy spectrum."
   ]
  },
  {
   "cell_type": "code",
   "execution_count": 1,
   "id": "283f59ab",
   "metadata": {},
   "outputs": [],
   "source": [
    "import openmc\n",
    "import openmc.deplete\n",
    "import matplotlib.pyplot as plt\n",
    "\n",
    "%matplotlib inline\n",
    "import numpy as np"
   ]
  },
  {
   "cell_type": "code",
   "execution_count": 2,
   "id": "eccb5ba8",
   "metadata": {},
   "outputs": [],
   "source": [
    "fuel = openmc.Material(name=\"fuel_compact\")\n",
    "fuel.set_density('atom/b-cm',8.3206e-2) # To Do: implement a better method for adjusting triso fuel parameters\n",
    "fuel.add_nuclide('U235',2.8230e-4)\n",
    "fuel.add_nuclide('U238',1.1363e-3)\n",
    "fuel.add_element('C',7.5500e-2)\n",
    "fuel.add_element('O',2.8371e-3)\n",
    "fuel.add_element('S',3.4500e-3)\n",
    "fuel.add_s_alpha_beta('c_Graphite')\n",
    "\n",
    "coolant = openmc.Material(name='He')\n",
    "coolant.set_density('g/cm3',1.86e-3) # at 3MPa, 500 C (need to fix)\n",
    "coolant.add_element('He',1.0)\n",
    " # no s_alpha_beta for Helium??\n",
    "    \n",
    "    \n",
    "mod = openmc.Material(name='Graphite')\n",
    "mod.set_density('g/cm3',1.7)\n",
    "mod.add_element('C',1)\n",
    "mod.add_s_alpha_beta('c_Graphite')\n",
    "\n",
    "materials = openmc.Materials([fuel,coolant,mod]);"
   ]
  },
  {
   "cell_type": "markdown",
   "id": "849cdbc4",
   "metadata": {},
   "source": [
    "## Pin Cell Geometry\n",
    "\n",
    "The goal is to establish a pin-cell to provide a simplified representation of the basic criticality and (especially) neutron energy spectrum for this concept.  "
   ]
  },
  {
   "cell_type": "code",
   "execution_count": 3,
   "id": "70df9019",
   "metadata": {},
   "outputs": [],
   "source": [
    "h_core = 300.; \n",
    "h_fuel = 200.;\n",
    "\n",
    "r_fuel = 0.6; #cm, radius of fuel compact\n",
    "r_channel = 0.8;#cm, radius of fuel channel \n",
    "\n",
    "P_D = 1.1\n",
    "\n",
    "pitch = P_D*(2*r_channel);\n",
    "\n",
    "fuel_temp = 1200; # K, representative fuel temperature (?)\n",
    "mod_temp = 800; # K, representative moderator temperature (?)\n",
    "\n",
    "# fuel cylinder:\n",
    "fuel_cyl = openmc.model.RightCircularCylinder([0.,0.,-h_fuel/2.],\n",
    "                                             h_fuel, r_fuel);\n",
    "\n",
    "fuel.volume = np.pi*(r_fuel**2)*h_fuel;\n",
    "\n",
    "# channel cylinder\n",
    "channel_cyl = openmc.model.RightCircularCylinder([0.,0.,-h_core/2+1.],\n",
    "                                            h_core-2.,r_channel);\n",
    "# avoid coincident boundaries with the core cell\n",
    "\n",
    "# core cell container\n",
    "core_cell = openmc.model.RectangularParallelepiped(-pitch/2.,pitch/2.,\n",
    "                                                  -pitch/2.,pitch/2.,\n",
    "                                                  -h_core/2.,h_core/2.,\n",
    "                                                  boundary_type='reflective');\n",
    "\n",
    "fuel_cell = openmc.Cell();\n",
    "fuel_cell.region = -fuel_cyl\n",
    "fuel_cell.fill = fuel;\n",
    "fuel_cell.temperature = fuel_temp;\n",
    "\n",
    "\n",
    "channel_cell = openmc.Cell();\n",
    "channel_cell.region = +fuel_cyl & -channel_cyl;\n",
    "channel_cell.fill = coolant;\n",
    "\n",
    "mod_cell = openmc.Cell();\n",
    "mod_cell.region = +channel_cyl & -core_cell;\n",
    "mod_cell.fill = coolant\n",
    "mod_cell.temperature = mod_temp;\n",
    "\n",
    "root_univ = openmc.Universe();\n",
    "root_univ.add_cells([fuel_cell,channel_cell,mod_cell]);\n",
    "\n",
    "geometry = openmc.Geometry();\n",
    "geometry.root_universe = root_univ;\n",
    "\n",
    "\n",
    "\n",
    "materials.export_to_xml();\n",
    "geometry.export_to_xml();\n",
    "\n"
   ]
  },
  {
   "cell_type": "code",
   "execution_count": 4,
   "id": "2792c71e",
   "metadata": {},
   "outputs": [],
   "source": [
    "settings = openmc.Settings();\n",
    "settings.run_mode = 'eigenvalue';\n",
    "settings.particles = 20000;\n",
    "settings.batches = 200;\n",
    "settings.inactive = 50\n",
    "\n",
    "box = openmc.stats.Box(lower_left = (-r_fuel,-r_fuel,-h_fuel/2.),\n",
    "                      upper_right = (r_fuel,r_fuel,h_fuel/2.),\n",
    "                      only_fissionable=True);\n",
    "src = openmc.Source(space=box);\n",
    "\n",
    "settings.source = src;\n",
    "\n",
    "settings.temperature['method']='interpolation';\n",
    "\n",
    "settings.export_to_xml();"
   ]
  },
  {
   "cell_type": "code",
   "execution_count": 5,
   "id": "93015f21",
   "metadata": {},
   "outputs": [
    {
     "data": {
      "image/png": "[encoded data removed]",
      "text/plain": [
       "<Figure size 432x288 with 1 Axes>"
      ]
     },
     "metadata": {
      "needs_background": "light"
     },
     "output_type": "display_data"
    }
   ],
   "source": [
    "root_univ.plot(width=(pitch,pitch));"
   ]
  },
  {
   "cell_type": "code",
   "execution_count": 6,
   "id": "943d35c7",
   "metadata": {},
   "outputs": [],
   "source": [
    "# get flux energy spectrum in the fuel\n",
    "\n",
    "# filter for the fuel cell\n",
    "cell_filter = openmc.CellFilter(fuel_cell)\n",
    "\n",
    "# set up energy bins\n",
    "N = 1001\n",
    "energy_bins = np.logspace(-3,7,num=N)\n",
    "energy_filter = openmc.EnergyFilter(values=energy_bins)\n",
    "\n",
    "# establish flux tally\n",
    "flux = openmc.Tally(name='flux')\n",
    "flux.scores = ['flux']\n",
    "flux.filters = [cell_filter,energy_filter]\n",
    "\n",
    "tallies = openmc.Tallies([flux])\n",
    "\n",
    "tallies.export_to_xml()\n"
   ]
  },
  {
   "cell_type": "code",
   "execution_count": 7,
   "id": "066f80d1",
   "metadata": {},
   "outputs": [
    {
     "name": "stdout",
     "output_type": "stream",
     "text": [
      "                                %%%%%%%%%%%%%%%\n",
      "                           %%%%%%%%%%%%%%%%%%%%%%%%\n",
      "                        %%%%%%%%%%%%%%%%%%%%%%%%%%%%%%\n",
      "                      %%%%%%%%%%%%%%%%%%%%%%%%%%%%%%%%%%\n",
      "                    %%%%%%%%%%%%%%%%%%%%%%%%%%%%%%%%%%%%%%\n",
      "                   %%%%%%%%%%%%%%%%%%%%%%%%%%%%%%%%%%%%%%%%\n",
      "                                    %%%%%%%%%%%%%%%%%%%%%%%%\n",
      "                                     %%%%%%%%%%%%%%%%%%%%%%%%\n",
      "                 ###############      %%%%%%%%%%%%%%%%%%%%%%%%\n",
      "                ##################     %%%%%%%%%%%%%%%%%%%%%%%\n",
      "                ###################     %%%%%%%%%%%%%%%%%%%%%%%\n",
      "                ####################     %%%%%%%%%%%%%%%%%%%%%%\n",
      "                #####################     %%%%%%%%%%%%%%%%%%%%%\n",
      "                ######################     %%%%%%%%%%%%%%%%%%%%\n",
      "                #######################     %%%%%%%%%%%%%%%%%%\n",
      "                 #######################     %%%%%%%%%%%%%%%%%\n",
      "                 ######################     %%%%%%%%%%%%%%%%%\n",
      "                  ####################     %%%%%%%%%%%%%%%%%\n",
      "                    #################     %%%%%%%%%%%%%%%%%\n",
      "                     ###############     %%%%%%%%%%%%%%%%\n",
      "                       ############     %%%%%%%%%%%%%%%\n",
      "                          ########     %%%%%%%%%%%%%%\n",
      "                                      %%%%%%%%%%%\n",
      "\n",
      "                   | The OpenMC Monte Carlo Code\n",
      "         Copyright | 2011-2021 MIT and OpenMC contributors\n",
      "           License | https://docs.openmc.org/en/latest/license.html\n",
      "           Version | 0.12.2\n",
      "          Git SHA1 | 15a3a5e5e621a8029932f6da0309b705248e9d27\n",
      "         Date/Time | 2021-11-18 15:03:44\n",
      "    OpenMP Threads | 36\n",
      "\n",
      " Reading settings XML file...\n",
      " Reading cross sections XML file...\n",
      " Reading materials XML file...\n",
      " Reading geometry XML file...\n",
      " Reading U235 from /home/sblair/OMC_DATA/endfb71_hdf5/U235.h5\n",
      " Reading U238 from /home/sblair/OMC_DATA/endfb71_hdf5/U238.h5\n",
      " Reading C0 from /home/sblair/OMC_DATA/endfb71_hdf5/C0.h5\n",
      " Reading O16 from /home/sblair/OMC_DATA/endfb71_hdf5/O16.h5\n",
      " Reading O17 from /home/sblair/OMC_DATA/endfb71_hdf5/O17.h5\n",
      " Reading S32 from /home/sblair/OMC_DATA/endfb71_hdf5/S32.h5\n",
      " Reading S33 from /home/sblair/OMC_DATA/endfb71_hdf5/S33.h5\n",
      " Reading S34 from /home/sblair/OMC_DATA/endfb71_hdf5/S34.h5\n",
      " Reading S36 from /home/sblair/OMC_DATA/endfb71_hdf5/S36.h5\n",
      " Reading He3 from /home/sblair/OMC_DATA/endfb71_hdf5/He3.h5\n",
      " Reading He4 from /home/sblair/OMC_DATA/endfb71_hdf5/He4.h5\n",
      " Reading c_Graphite from /home/sblair/OMC_DATA/endfb71_hdf5/c_Graphite.h5\n",
      " Minimum neutron data temperature: 294.0 K\n",
      " Maximum neutron data temperature: 1200.0 K\n",
      " Reading tallies XML file...\n",
      " Preparing distributed cell instances...\n",
      " Writing summary.h5 file...\n",
      " Maximum neutron transport energy: 20000000.0 eV for U235\n",
      " Initializing source particles...\n",
      "\n",
      " ====================>     K EIGENVALUE SIMULATION     <====================\n",
      "\n",
      "  Bat./Gen.      k            Average k\n",
      "  =========   ========   ====================\n",
      "        1/1    1.02005\n",
      "        2/1    1.03548\n",
      "        3/1    1.02251\n",
      "        4/1    1.02435\n",
      "        5/1    1.04332\n",
      "        6/1    1.04325\n",
      "        7/1    1.03231\n",
      "        8/1    1.02969\n",
      "        9/1    1.02498\n",
      "       10/1    1.03271\n",
      "       11/1    1.03453\n"
     ]
    },
    {
     "ename": "KeyboardInterrupt",
     "evalue": "",
     "output_type": "error",
     "traceback": [
      "\u001b[0;31m---------------------------------------------------------------------------\u001b[0m",
      "\u001b[0;31mKeyboardInterrupt\u001b[0m                         Traceback (most recent call last)",
      "\u001b[0;32m/tmp/ipykernel_66602/3508431509.py\u001b[0m in \u001b[0;36m<module>\u001b[0;34m\u001b[0m\n\u001b[0;32m----> 1\u001b[0;31m \u001b[0mopenmc\u001b[0m\u001b[0;34m.\u001b[0m\u001b[0mrun\u001b[0m\u001b[0;34m(\u001b[0m\u001b[0;34m)\u001b[0m\u001b[0;34m;\u001b[0m\u001b[0;34m\u001b[0m\u001b[0;34m\u001b[0m\u001b[0m\n\u001b[0m",
      "\u001b[0;32m~/miniconda3/envs/openmc-env/lib/python3.9/site-packages/openmc/executor.py\u001b[0m in \u001b[0;36mrun\u001b[0;34m(particles, threads, geometry_debug, restart_file, tracks, output, cwd, openmc_exec, mpi_args, event_based)\u001b[0m\n\u001b[1;32m    225\u001b[0m         \u001b[0margs\u001b[0m \u001b[0;34m=\u001b[0m \u001b[0mmpi_args\u001b[0m \u001b[0;34m+\u001b[0m \u001b[0margs\u001b[0m\u001b[0;34m\u001b[0m\u001b[0;34m\u001b[0m\u001b[0m\n\u001b[1;32m    226\u001b[0m \u001b[0;34m\u001b[0m\u001b[0m\n\u001b[0;32m--> 227\u001b[0;31m     \u001b[0m_run\u001b[0m\u001b[0;34m(\u001b[0m\u001b[0margs\u001b[0m\u001b[0;34m,\u001b[0m \u001b[0moutput\u001b[0m\u001b[0;34m,\u001b[0m \u001b[0mcwd\u001b[0m\u001b[0;34m)\u001b[0m\u001b[0;34m\u001b[0m\u001b[0;34m\u001b[0m\u001b[0m\n\u001b[0m",
      "\u001b[0;32m~/miniconda3/envs/openmc-env/lib/python3.9/site-packages/openmc/executor.py\u001b[0m in \u001b[0;36m_run\u001b[0;34m(args, output, cwd)\u001b[0m\n\u001b[1;32m     15\u001b[0m     \u001b[0;32mwhile\u001b[0m \u001b[0;32mTrue\u001b[0m\u001b[0;34m:\u001b[0m\u001b[0;34m\u001b[0m\u001b[0;34m\u001b[0m\u001b[0m\n\u001b[1;32m     16\u001b[0m         \u001b[0;31m# If OpenMC is finished, break loop\u001b[0m\u001b[0;34m\u001b[0m\u001b[0;34m\u001b[0m\u001b[0;34m\u001b[0m\u001b[0m\n\u001b[0;32m---> 17\u001b[0;31m         \u001b[0mline\u001b[0m \u001b[0;34m=\u001b[0m \u001b[0mp\u001b[0m\u001b[0;34m.\u001b[0m\u001b[0mstdout\u001b[0m\u001b[0;34m.\u001b[0m\u001b[0mreadline\u001b[0m\u001b[0;34m(\u001b[0m\u001b[0;34m)\u001b[0m\u001b[0;34m\u001b[0m\u001b[0;34m\u001b[0m\u001b[0m\n\u001b[0m\u001b[1;32m     18\u001b[0m         \u001b[0;32mif\u001b[0m \u001b[0;32mnot\u001b[0m \u001b[0mline\u001b[0m \u001b[0;32mand\u001b[0m \u001b[0mp\u001b[0m\u001b[0;34m.\u001b[0m\u001b[0mpoll\u001b[0m\u001b[0;34m(\u001b[0m\u001b[0;34m)\u001b[0m \u001b[0;32mis\u001b[0m \u001b[0;32mnot\u001b[0m \u001b[0;32mNone\u001b[0m\u001b[0;34m:\u001b[0m\u001b[0;34m\u001b[0m\u001b[0;34m\u001b[0m\u001b[0m\n\u001b[1;32m     19\u001b[0m             \u001b[0;32mbreak\u001b[0m\u001b[0;34m\u001b[0m\u001b[0;34m\u001b[0m\u001b[0m\n",
      "\u001b[0;31mKeyboardInterrupt\u001b[0m: "
     ]
    }
   ],
   "source": [
    "openmc.run();"
   ]
  },
  {
   "cell_type": "code",
   "execution_count": null,
   "id": "a7a0cb7a",
   "metadata": {},
   "outputs": [],
   "source": [
    "sp = openmc.StatePoint('statepoint.200.h5')\n",
    "sp.tallies\n",
    "\n",
    "flux_t = sp.get_tally(name='flux')\n",
    "flux_df = flux_t.get_pandas_dataframe()\n",
    "flux_vals = flux_df['mean'].to_numpy()\n",
    "\n",
    "energy_x = 0.5*(energy_bins[0:-1]+energy_bins[1:])\n",
    "\n",
    "plt.loglog(energy_x,flux_vals)\n",
    "plt.grid()\n",
    "plt.xlabel('Energy [eV]')\n",
    "plt.ylabel('flux [n/cm**2-s]')"
   ]
  },
  {
   "cell_type": "code",
   "execution_count": null,
   "id": "08e6f146",
   "metadata": {},
   "outputs": [],
   "source": [
    "sp_lpwr = openmc.StatePoint('../leu_pwr/statepoint.200.h5')\n",
    "flux_lpwr = sp_lpwr.get_tally(name='flux')\n",
    "flux_lpwr_df = flux_lpwr.get_pandas_dataframe()\n",
    "flux_lpwr_vals = flux_lpwr_df['mean'].to_numpy()\n",
    "\n",
    "sp_hpwr = openmc.StatePoint('../haleu_pwr/statepoint.200.h5')\n",
    "flux_hpwr = sp_hpwr.get_tally(name='flux')\n",
    "flux_hpwr_df = flux_hpwr.get_pandas_dataframe()\n",
    "flux_hpwr_vals = flux_hpwr_df['mean'].to_numpy()\n",
    "\n",
    "plt.loglog(energy_x,flux_vals,label='HALEU GCR')\n",
    "plt.loglog(energy_x,flux_lpwr_vals,label='LEU PWR')\n",
    "plt.loglog(energy_x,flux_hpwr_vals,label='HALEU PWR')\n",
    "plt.legend()\n",
    "plt.grid()\n",
    "plt.xlabel('Energy [eV]')\n",
    "plt.ylabel('flux [n/cm^2-s]')"
   ]
  },
  {
   "cell_type": "code",
   "execution_count": null,
   "id": "8f7aee4f",
   "metadata": {},
   "outputs": [],
   "source": []
  }
 ],
 "metadata": {
  "kernelspec": {
   "display_name": "Python 3 (ipykernel)",
   "language": "python",
   "name": "python3"
  },
  "language_info": {
   "codemirror_mode": {
    "name": "ipython",
    "version": 3
   },
   "file_extension": ".py",
   "mimetype": "text/x-python",
   "name": "python",
   "nbconvert_exporter": "python",
   "pygments_lexer": "ipython3",
   "version": "3.9.6"
  }
 },
 "nbformat": 4,
 "nbformat_minor": 5
}
