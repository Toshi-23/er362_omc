{
 "cells": [
  {
   "cell_type": "markdown",
   "id": "b246d8d9",
   "metadata": {},
   "source": [
    "# Burunup\n",
    "\n",
    "The purpose of this notebook is to carry out a burnup calculation of the basic LEU PWR model."
   ]
  },
  {
   "cell_type": "code",
   "execution_count": 1,
   "id": "283f59ab",
   "metadata": {},
   "outputs": [],
   "source": [
    "import openmc\n",
    "import openmc.deplete\n",
    "import matplotlib.pyplot as plt\n",
    "\n",
    "%matplotlib inline\n",
    "import numpy as np"
   ]
  },
  {
   "cell_type": "code",
   "execution_count": 2,
   "id": "eccb5ba8",
   "metadata": {},
   "outputs": [],
   "source": [
    "fuel = openmc.Material(name=\"uo2\")\n",
    "fuel.add_element(\"U\", 1, percent_type=\"ao\", enrichment=4.5)\n",
    "fuel.add_element(\"O\", 2)\n",
    "fuel.set_density(\"g/cc\", 10.5)\n",
    "\n",
    "clad = openmc.Material(name='clad');\n",
    "clad.add_element(\"Zr\",1);\n",
    "clad.set_density('g/cc',6.0);\n",
    "\n",
    "water = openmc.Material(name='water');\n",
    "water.add_element('O',1);\n",
    "water.add_element('H',2)\n",
    "water.set_density('g/cc',0.712); # high temperature density\n",
    "water.add_s_alpha_beta('c_H_in_H2O');\n",
    "\n",
    "materials = openmc.Materials([fuel,clad,water]);"
   ]
  },
  {
   "cell_type": "markdown",
   "id": "fd356b8a",
   "metadata": {},
   "source": [
    "## Pin Cell Geometry\n",
    "\n",
    "The goal is to establish a pin-cell to provide a simplified representation of the basic criticality and (especially) neutron energy spectrum for this concept.  "
   ]
  },
  {
   "cell_type": "code",
   "execution_count": 3,
   "id": "70df9019",
   "metadata": {},
   "outputs": [],
   "source": [
    "h_core = 300.; \n",
    "h_fuel = 200.;\n",
    "\n",
    "r_fuel = 0.42;\n",
    "r_pin = 0.45;\n",
    "\n",
    "P_D = 1.4;\n",
    "\n",
    "pitch = P_D*(2*r_pin);\n",
    "\n",
    "fuel_temp = 900; # K, representative fuel temperature\n",
    "mod_temp = 600; # K, representative moderator temperature\n",
    "\n",
    "# fuel cylinder:\n",
    "fuel_cyl = openmc.model.RightCircularCylinder([0.,0.,-h_fuel/2.],\n",
    "                                             h_fuel, r_fuel);\n",
    "\n",
    "fuel.volume = np.pi*(r_fuel**2)*h_fuel; # needed for burnup calculation\n",
    "\n",
    "# pin cylinder\n",
    "pin_cyl = openmc.model.RightCircularCylinder([0.,0.,-(h_fuel+(r_pin-r_fuel))/2.],\n",
    "                                            h_fuel+(r_pin-r_fuel)*2.,r_pin);\n",
    "\n",
    "# pin cell container\n",
    "core_cell = openmc.model.RectangularParallelepiped(-pitch/2.,pitch/2.,\n",
    "                                                  -pitch/2.,pitch/2.,\n",
    "                                                  -h_core/2.,h_core/2.,\n",
    "                                                  boundary_type='reflective');\n",
    "\n",
    "fuel_cell = openmc.Cell();\n",
    "fuel_cell.region = -fuel_cyl\n",
    "fuel_cell.fill = fuel;\n",
    "fuel_cell.temperature = fuel_temp;\n",
    "\n",
    "\n",
    "clad_cell = openmc.Cell();\n",
    "clad_cell.region = +fuel_cyl & -pin_cyl;\n",
    "clad_cell.fill = clad;\n",
    "\n",
    "mod_cell = openmc.Cell();\n",
    "mod_cell.region = +pin_cyl & -core_cell;\n",
    "mod_cell.fill = water\n",
    "\n",
    "root_univ = openmc.Universe();\n",
    "root_univ.add_cells([fuel_cell,clad_cell,mod_cell]);\n",
    "\n",
    "geometry = openmc.Geometry();\n",
    "geometry.root_universe = root_univ;\n",
    "\n",
    "\n",
    "\n",
    "materials.export_to_xml();\n",
    "geometry.export_to_xml();\n",
    "\n"
   ]
  },
  {
   "cell_type": "code",
   "execution_count": 4,
   "id": "2792c71e",
   "metadata": {},
   "outputs": [],
   "source": [
    "settings = openmc.Settings();\n",
    "settings.run_mode = 'eigenvalue';\n",
    "settings.particles = 20000;\n",
    "settings.batches = 200;\n",
    "settings.inactive = 50\n",
    "\n",
    "box = openmc.stats.Box(lower_left = (-r_fuel,-r_fuel,-h_fuel/2.),\n",
    "                      upper_right = (r_fuel,r_fuel,h_fuel/2.),\n",
    "                      only_fissionable=True);\n",
    "src = openmc.Source(space=box);\n",
    "\n",
    "settings.source = src;\n",
    "\n",
    "settings.temperature['method']='interpolation';\n",
    "\n",
    "settings.export_to_xml();"
   ]
  },
  {
   "cell_type": "code",
   "execution_count": 5,
   "id": "93015f21",
   "metadata": {},
   "outputs": [
    {
     "data": {
      "image/png": "[encoded data removed]",
      "text/plain": [
       "<Figure size 432x288 with 1 Axes>"
      ]
     },
     "metadata": {
      "needs_background": "light"
     },
     "output_type": "display_data"
    }
   ],
   "source": [
    "root_univ.plot(width=(pitch,pitch));"
   ]
  },
  {
   "cell_type": "code",
   "execution_count": 6,
   "id": "51070672",
   "metadata": {},
   "outputs": [],
   "source": [
    "# get flux energy spectrum in the fuel\n",
    "\n",
    "# filter for the fuel cell\n",
    "cell_filter = openmc.CellFilter(fuel_cell)\n",
    "\n",
    "# set up energy bins\n",
    "N = 1001\n",
    "energy_bins = np.logspace(-3,7,num=N)\n",
    "energy_filter = openmc.EnergyFilter(values=energy_bins)\n",
    "\n",
    "# establish flux tally\n",
    "flux = openmc.Tally(name='flux')\n",
    "flux.scores = ['flux']\n",
    "flux.filters = [cell_filter,energy_filter]\n",
    "\n",
    "tallies = openmc.Tallies([flux])\n",
    "\n",
    "tallies.export_to_xml()\n"
   ]
  },
  {
   "cell_type": "code",
   "execution_count": null,
   "id": "0a9900ad",
   "metadata": {},
   "outputs": [],
   "source": [
    "operator = openmc.deplete.Operator(geometry,settings,\"chain_endfb71_pwr.xml\")\n",
    "power = 1e4;\n",
    "days = 24*3600;\n",
    "time_steps = [0.1*days, 0.1*days,0.3*days,0.5*days,1.*days,30.*days,30.*days,100.*days,365.*days,365.*days,365.*days,730.*days,730.*days]\n",
    "integrator = openmc.deplete.PredictorIntegrator(operator,time_steps,power=power);\n",
    "\n",
    "integrator.integrate()"
   ]
  }
 ],
 "metadata": {
  "kernelspec": {
   "display_name": "Python 3 (ipykernel)",
   "language": "python",
   "name": "python3"
  },
  "language_info": {
   "codemirror_mode": {
    "name": "ipython",
    "version": 3
   },
   "file_extension": ".py",
   "mimetype": "text/x-python",
   "name": "python",
   "nbconvert_exporter": "python",
   "pygments_lexer": "ipython3",
   "version": "3.9.6"
  }
 },
 "nbformat": 4,
 "nbformat_minor": 5
}
