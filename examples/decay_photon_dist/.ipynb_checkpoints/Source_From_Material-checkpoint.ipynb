{
 "cells": [
  {
   "cell_type": "markdown",
   "id": "ef9eb6ac",
   "metadata": {},
   "source": [
    "# Source From Material"
   ]
  },
  {
   "cell_type": "code",
   "execution_count": 1,
   "id": "1905d937",
   "metadata": {},
   "outputs": [
    {
     "name": "stderr",
     "output_type": "stream",
     "text": [
      "hwloc/linux: Ignoring PCI device with non-16bit domain.\n",
      "Pass --enable-32bits-pci-domain to configure to support such devices\n",
      "(warning: it would break the library ABI, don't enable unless really needed).\n"
     ]
    }
   ],
   "source": [
    "import openmc\n",
    "import openmc.deplete\n",
    "import matplotlib.pyplot as plt\n",
    "%matplotlib inline\n",
    "import numpy as np\n",
    "from math import pi\n",
    "import xml.etree.ElementTree as et"
   ]
  },
  {
   "cell_type": "code",
   "execution_count": 2,
   "id": "6a24a3e4",
   "metadata": {},
   "outputs": [],
   "source": [
    "openmc.config['chain_file']=\"chain_endfb71_pwr.xml\""
   ]
  },
  {
   "cell_type": "code",
   "execution_count": 3,
   "id": "98947b1c",
   "metadata": {},
   "outputs": [
    {
     "name": "stderr",
     "output_type": "stream",
     "text": [
      "/home/sblair/miniconda3/envs/openmc-env/lib/python3.9/site-packages/openmc/data/decay.py:620: UserWarning: Chain file 'chain_endfb71_pwr.xml' does not have any decay photon sources listed.\n",
      "  warn(f\"Chain file '{chain_file}' does not have any decay photon \"\n"
     ]
    }
   ],
   "source": [
    "photon_erg_dis = openmc.data.decay_photon_energy('Cs137')"
   ]
  },
  {
   "cell_type": "markdown",
   "id": "517f5e08",
   "metadata": {},
   "source": [
    "Data downloaded from: https://t2.lanl.gov/nis/data/endf/decayVII.1.html\n",
    "and placed into an appropriately-named textfile."
   ]
  },
  {
   "cell_type": "code",
   "execution_count": 4,
   "id": "8405eaf5",
   "metadata": {},
   "outputs": [
    {
     "name": "stdout",
     "output_type": "stream",
     "text": [
      "{'light': 179446.0+/-646.9703, 'electromagnetic': 1.6443+/-0.2268007, 'heavy': 0.0+/-0}\n"
     ]
    }
   ],
   "source": [
    "cs_data = openmc.data.Decay('cs137_endf');\n",
    "print(cs_data.average_energies)\n",
    "\n",
    "ce144_data = openmc.data.Decay('ce144_endf');\n"
   ]
  },
  {
   "cell_type": "code",
   "execution_count": 5,
   "id": "9dfe3fb8",
   "metadata": {},
   "outputs": [
    {
     "data": {
      "text/plain": [
       "949252600.0+/-2840184.0"
      ]
     },
     "execution_count": 5,
     "metadata": {},
     "output_type": "execute_result"
    }
   ],
   "source": [
    "cs_data.half_life"
   ]
  },
  {
   "cell_type": "code",
   "execution_count": 6,
   "id": "c8ba73d7",
   "metadata": {},
   "outputs": [
    {
     "data": {
      "text/plain": [
       "[<DecayMode: (beta-), Cs137 -> Ba137, 0.0530+/-0.0020>,\n",
       " <DecayMode: (beta-), Cs137 -> Ba137_m1, 0.9470+/-0.0020>]"
      ]
     },
     "execution_count": 6,
     "metadata": {},
     "output_type": "execute_result"
    }
   ],
   "source": [
    "cs_data.modes"
   ]
  },
  {
   "cell_type": "code",
   "execution_count": 7,
   "id": "79956ba7",
   "metadata": {},
   "outputs": [
    {
     "data": {
      "text/plain": [
       "{'photon': <openmc.stats.univariate.Discrete at 0x1492df369ac0>,\n",
       " 'electron': <openmc.stats.univariate.Discrete at 0x1492df369a60>}"
      ]
     },
     "execution_count": 7,
     "metadata": {},
     "output_type": "execute_result"
    }
   ],
   "source": [
    "cs_data.sources"
   ]
  },
  {
   "cell_type": "code",
   "execution_count": 8,
   "id": "84a95e8a",
   "metadata": {},
   "outputs": [],
   "source": [
    "photon_source = cs_data.sources['photon']\n",
    "\n",
    "ce144_photon_source = ce144_data.sources['photon']"
   ]
  },
  {
   "cell_type": "code",
   "execution_count": 9,
   "id": "0a70b6ab",
   "metadata": {},
   "outputs": [
    {
     "name": "stdout",
     "output_type": "stream",
     "text": [
      "<openmc.stats.univariate.Discrete object at 0x1492df369ac0>\n"
     ]
    }
   ],
   "source": [
    "print(photon_source)"
   ]
  },
  {
   "cell_type": "code",
   "execution_count": 10,
   "id": "9439fc6b",
   "metadata": {},
   "outputs": [
    {
     "data": {
      "text/plain": [
       "{'gamma': {'type': 'gamma',\n",
       "  'continuous_flag': 'discrete',\n",
       "  'discrete_normalization': 1.0+/-0,\n",
       "  'energy_average': 1.6443+/-0.2268007,\n",
       "  'continuous_normalization': 0.0+/-0,\n",
       "  'discrete': [{'energy': 283500.0+/-100.0,\n",
       "    'from_mode': ['beta-'],\n",
       "    'type': None,\n",
       "    'intensity': 5.8e-06+/-8e-07,\n",
       "    'internal_pair': 0.0+/-0}]},\n",
       " 'beta-': {'type': 'beta-',\n",
       "  'continuous_flag': 'discrete',\n",
       "  'discrete_normalization': 1.0+/-0,\n",
       "  'energy_average': 179446.0+/-646.9703,\n",
       "  'continuous_normalization': 0.0+/-0,\n",
       "  'discrete': [{'energy': 513971.0+/-170.0265,\n",
       "    'from_mode': ['beta-'],\n",
       "    'type': 'first-forbidden',\n",
       "    'intensity': 0.947+/-0.002},\n",
       "   {'energy': 892130.0+/-197.2308,\n",
       "    'from_mode': ['beta-'],\n",
       "    'type': 'second-forbidden',\n",
       "    'intensity': 5.8e-06+/-8e-07},\n",
       "   {'energy': 1175630.0+/-170.0,\n",
       "    'from_mode': ['beta-'],\n",
       "    'type': 'allowed',\n",
       "    'intensity': 0.053+/-0.002}]}}"
      ]
     },
     "execution_count": 10,
     "metadata": {},
     "output_type": "execute_result"
    }
   ],
   "source": [
    "cs_data.spectra"
   ]
  },
  {
   "cell_type": "code",
   "execution_count": 11,
   "id": "372c191a",
   "metadata": {},
   "outputs": [],
   "source": [
    "\n",
    "air = openmc.Material(name=\"air\");\n",
    "air.add_element('O',0.2);\n",
    "air.add_element('N',0.8);\n",
    "air.set_density('g/cm3',1.3e-3);\n",
    "\n",
    "materials = openmc.Materials([air]);\n"
   ]
  },
  {
   "cell_type": "code",
   "execution_count": 12,
   "id": "b43dd51a",
   "metadata": {},
   "outputs": [],
   "source": [
    "s1 = openmc.Sphere(r=10.0);\n",
    "s2 = openmc.Sphere(r=20.0);\n",
    "s3 = openmc.Sphere(r=50.0);\n",
    "s4 = openmc.Sphere(r=80.0);\n",
    "s5 = openmc.Sphere(r=100.0);\n",
    "s6 = openmc.Sphere(r=200.0, boundary_type='vacuum');\n",
    "\n",
    "c1 = openmc.Cell();\n",
    "c1.region = -s1;\n",
    "c1.fill = air;\n",
    "\n",
    "c2 = openmc.Cell();\n",
    "c2.region = +s1 & -s2;\n",
    "c2.fill = air;\n",
    "\n",
    "c3 = openmc.Cell();\n",
    "c3.region = +s2 & -s3;\n",
    "c3.fill = air;\n",
    "\n",
    "c4 = openmc.Cell();\n",
    "c4.region = +s3 & -s4;\n",
    "c4.fill = air;\n",
    "\n",
    "c5 = openmc.Cell();\n",
    "c5.region = +s4 & -s5;\n",
    "c5.fill = air;\n",
    "\n",
    "c6 = openmc.Cell();\n",
    "c6.region = +s5 & -s6;\n",
    "c6.fill = air;\n",
    "\n",
    "root_univ = openmc.Universe();\n",
    "root_univ.add_cells([c1,c2,c3,c4,c5,c6]);\n",
    "\n",
    "geometry = openmc.Geometry();\n",
    "geometry.root_universe = root_univ;\n",
    "\n",
    "materials.export_to_xml();\n",
    "geometry.export_to_xml();"
   ]
  },
  {
   "cell_type": "code",
   "execution_count": 13,
   "id": "41e90207",
   "metadata": {},
   "outputs": [],
   "source": [
    "flux = openmc.Tally(name = 'flux');\n",
    "energy,dose = openmc.data.dose_coefficients('photon','ISO');\n",
    "dose_filter = openmc.EnergyFunctionFilter(energy,dose);\n",
    "surface_filter = openmc.SurfaceFilter(s5);\n",
    "\n",
    "flux.filters = [dose_filter,surface_filter];\n",
    "flux.scores = ['current'];\n",
    "tallies = openmc.Tallies([flux]);\n",
    "tallies.export_to_xml();"
   ]
  },
  {
   "cell_type": "code",
   "execution_count": 14,
   "id": "7fadfa49",
   "metadata": {},
   "outputs": [],
   "source": [
    "point = openmc.stats.Point();\n",
    "\n",
    "\n",
    "source_cs137 = openmc.Source(space=point,energy=photon_source,particle='photon');\n",
    "source_cs137.strength = 5102171640.792741;\n",
    "#source_cs137.strength=0;\n",
    "\n",
    "source_ce144 = openmc.Source(space=point,energy=ce144_photon_source,particle='photon');\n",
    "source_ce144.strength = 6038858726.860761;\n",
    "#source_ce144.strength = 0;\n",
    "\n",
    "settings = openmc.Settings();\n",
    "settings.run_mode = 'fixed source';\n",
    "settings.batches = 100;\n",
    "settings.particles = 30000;\n",
    "settings.generations_per_batch = 100;\n",
    "settings.source = [source_cs137,source_ce144];\n",
    "\n",
    "settings.export_to_xml();"
   ]
  },
  {
   "cell_type": "code",
   "execution_count": 15,
   "id": "086e7137",
   "metadata": {},
   "outputs": [
    {
     "name": "stdout",
     "output_type": "stream",
     "text": [
      "hwloc/linux: Ignoring PCI device with non-16bit domain.\n",
      "Pass --enable-32bits-pci-domain to configure to support such devices\n",
      "(warning: it would break the library ABI, don't enable unless really needed).\n",
      "                                %%%%%%%%%%%%%%%\n",
      "                           %%%%%%%%%%%%%%%%%%%%%%%%\n",
      "                        %%%%%%%%%%%%%%%%%%%%%%%%%%%%%%\n",
      "                      %%%%%%%%%%%%%%%%%%%%%%%%%%%%%%%%%%\n",
      "                    %%%%%%%%%%%%%%%%%%%%%%%%%%%%%%%%%%%%%%\n",
      "                   %%%%%%%%%%%%%%%%%%%%%%%%%%%%%%%%%%%%%%%%\n",
      "                                    %%%%%%%%%%%%%%%%%%%%%%%%\n",
      "                                     %%%%%%%%%%%%%%%%%%%%%%%%\n",
      "                 ###############      %%%%%%%%%%%%%%%%%%%%%%%%\n",
      "                ##################     %%%%%%%%%%%%%%%%%%%%%%%\n",
      "                ###################     %%%%%%%%%%%%%%%%%%%%%%%\n",
      "                ####################     %%%%%%%%%%%%%%%%%%%%%%\n",
      "                #####################     %%%%%%%%%%%%%%%%%%%%%\n",
      "                ######################     %%%%%%%%%%%%%%%%%%%%\n",
      "                #######################     %%%%%%%%%%%%%%%%%%\n",
      "                 #######################     %%%%%%%%%%%%%%%%%\n",
      "                 ######################     %%%%%%%%%%%%%%%%%\n",
      "                  ####################     %%%%%%%%%%%%%%%%%\n",
      "                    #################     %%%%%%%%%%%%%%%%%\n",
      "                     ###############     %%%%%%%%%%%%%%%%\n",
      "                       ############     %%%%%%%%%%%%%%%\n",
      "                          ########     %%%%%%%%%%%%%%\n",
      "                                      %%%%%%%%%%%\n",
      "\n",
      "                 | The OpenMC Monte Carlo Code\n",
      "       Copyright | 2011-2022 MIT, UChicago Argonne LLC, and contributors\n",
      "         License | https://docs.openmc.org/en/latest/license.html\n",
      "         Version | 0.13.2\n",
      "        Git SHA1 | d349674efaa19b4338c81a12b08a079195aca35a\n",
      "       Date/Time | 2023-03-23 10:26:25\n",
      "   MPI Processes | 1\n",
      "  OpenMP Threads | 36\n",
      "\n",
      " Reading settings XML file...\n",
      " Reading cross sections XML file...\n",
      " Reading materials XML file...\n",
      " Reading geometry XML file...\n",
      " Reading O16 from /home/sblair/OMC_DATA/endfb71_hdf5/O16.h5\n",
      " Reading O from /home/sblair/OMC_DATA/endfb71_hdf5/photon/O.h5 \n",
      " Reading O17 from /home/sblair/OMC_DATA/endfb71_hdf5/O17.h5\n",
      " Reading N14 from /home/sblair/OMC_DATA/endfb71_hdf5/N14.h5\n",
      " Reading N from /home/sblair/OMC_DATA/endfb71_hdf5/photon/N.h5 \n",
      " Reading N15 from /home/sblair/OMC_DATA/endfb71_hdf5/N15.h5\n",
      " Minimum neutron data temperature: 294 K\n",
      " Maximum neutron data temperature: 294 K\n",
      " Reading tallies XML file...\n",
      " WARNING: Particle filter is not used with photon transport on and current\n",
      "          score.\n",
      " Preparing distributed cell instances...\n",
      " Reading plot XML file...\n",
      " Writing summary.h5 file...\n",
      " Maximum neutron transport energy: 20000000 eV for O17\n",
      "\n",
      " ===============>     FIXED SOURCE TRANSPORT SIMULATION     <===============\n",
      "\n",
      " Simulating batch 1\n",
      " Simulating batch 2\n",
      " Simulating batch 3\n",
      " Simulating batch 4\n",
      " Simulating batch 5\n",
      " Simulating batch 6\n",
      " Simulating batch 7\n",
      " Simulating batch 8\n",
      " Simulating batch 9\n",
      " Simulating batch 10\n",
      " Simulating batch 11\n",
      " Simulating batch 12\n",
      " Simulating batch 13\n",
      " Simulating batch 14\n",
      " Simulating batch 15\n",
      " Simulating batch 16\n",
      " Simulating batch 17\n",
      " Simulating batch 18\n",
      " Simulating batch 19\n",
      " Simulating batch 20\n",
      " Simulating batch 21\n",
      " Simulating batch 22\n",
      " Simulating batch 23\n",
      " Simulating batch 24\n",
      " Simulating batch 25\n",
      " Simulating batch 26\n",
      " Simulating batch 27\n",
      " Simulating batch 28\n",
      " Simulating batch 29\n",
      " Simulating batch 30\n",
      " Simulating batch 31\n",
      " Simulating batch 32\n",
      " Simulating batch 33\n",
      " Simulating batch 34\n",
      " Simulating batch 35\n",
      " Simulating batch 36\n",
      " Simulating batch 37\n",
      " Simulating batch 38\n",
      " Simulating batch 39\n",
      " Simulating batch 40\n",
      " Simulating batch 41\n",
      " Simulating batch 42\n",
      " Simulating batch 43\n",
      " Simulating batch 44\n",
      " Simulating batch 45\n",
      " Simulating batch 46\n",
      " Simulating batch 47\n",
      " Simulating batch 48\n",
      " Simulating batch 49\n",
      " Simulating batch 50\n",
      " Simulating batch 51\n",
      " Simulating batch 52\n",
      " Simulating batch 53\n",
      " Simulating batch 54\n",
      " Simulating batch 55\n",
      " Simulating batch 56\n",
      " Simulating batch 57\n",
      " Simulating batch 58\n",
      " Simulating batch 59\n",
      " Simulating batch 60\n",
      " Simulating batch 61\n",
      " Simulating batch 62\n",
      " Simulating batch 63\n",
      " Simulating batch 64\n",
      " Simulating batch 65\n",
      " Simulating batch 66\n",
      " Simulating batch 67\n",
      " Simulating batch 68\n",
      " Simulating batch 69\n",
      " Simulating batch 70\n",
      " Simulating batch 71\n",
      " Simulating batch 72\n",
      " Simulating batch 73\n",
      " Simulating batch 74\n",
      " Simulating batch 75\n",
      " Simulating batch 76\n",
      " Simulating batch 77\n",
      " Simulating batch 78\n",
      " Simulating batch 79\n",
      " Simulating batch 80\n",
      " Simulating batch 81\n",
      " Simulating batch 82\n",
      " Simulating batch 83\n",
      " Simulating batch 84\n",
      " Simulating batch 85\n",
      " Simulating batch 86\n",
      " Simulating batch 87\n",
      " Simulating batch 88\n",
      " Simulating batch 89\n",
      " Simulating batch 90\n",
      " Simulating batch 91\n",
      " Simulating batch 92\n",
      " Simulating batch 93\n",
      " Simulating batch 94\n",
      " Simulating batch 95\n",
      " Simulating batch 96\n",
      " Simulating batch 97\n",
      " Simulating batch 98\n",
      " Simulating batch 99\n",
      " Simulating batch 100\n",
      " Creating state point statepoint.100.h5...\n",
      "\n",
      " =======================>     TIMING STATISTICS     <=======================\n",
      "\n",
      " Total time for initialization     = 2.4069e-01 seconds\n",
      "   Reading cross sections          = 2.2263e-01 seconds\n",
      " Total time in simulation          = 9.3771e-01 seconds\n",
      "   Time in transport only          = 9.1680e-01 seconds\n",
      "   Time in active batches          = 9.3771e-01 seconds\n",
      "   Time accumulating tallies       = 1.2620e-02 seconds\n",
      "   Time writing statepoints        = 2.8514e-03 seconds\n",
      " Total time for finalization       = 9.7057e-05 seconds\n",
      " Total time elapsed                = 1.1793e+00 seconds\n",
      " Calculation Rate (active)         = 3.19928e+06 particles/second\n",
      "\n",
      " ============================>     RESULTS     <============================\n",
      "\n",
      " Leakage Fraction            = 0.93180 +/- 0.00014\n",
      "\n"
     ]
    }
   ],
   "source": [
    "openmc.run()"
   ]
  },
  {
   "cell_type": "code",
   "execution_count": 16,
   "id": "02d47ffe",
   "metadata": {},
   "outputs": [
    {
     "data": {
      "text/html": [
       "<div>\n",
       "<style scoped>\n",
       "    .dataframe tbody tr th:only-of-type {\n",
       "        vertical-align: middle;\n",
       "    }\n",
       "\n",
       "    .dataframe tbody tr th {\n",
       "        vertical-align: top;\n",
       "    }\n",
       "\n",
       "    .dataframe thead th {\n",
       "        text-align: right;\n",
       "    }\n",
       "</style>\n",
       "<table border=\"1\" class=\"dataframe\">\n",
       "  <thead>\n",
       "    <tr style=\"text-align: right;\">\n",
       "      <th></th>\n",
       "      <th>energyfunction</th>\n",
       "      <th>surface</th>\n",
       "      <th>nuclide</th>\n",
       "      <th>score</th>\n",
       "      <th>mean</th>\n",
       "      <th>std. dev.</th>\n",
       "    </tr>\n",
       "  </thead>\n",
       "  <tbody>\n",
       "    <tr>\n",
       "      <th>0</th>\n",
       "      <td>a06dfe97442a18</td>\n",
       "      <td>5</td>\n",
       "      <td>total</td>\n",
       "      <td>current</td>\n",
       "      <td>1.559055e+09</td>\n",
       "      <td>469091.860173</td>\n",
       "    </tr>\n",
       "  </tbody>\n",
       "</table>\n",
       "</div>"
      ],
      "text/plain": [
       "   energyfunction  surface nuclide    score          mean      std. dev.\n",
       "0  a06dfe97442a18        5   total  current  1.559055e+09  469091.860173"
      ]
     },
     "execution_count": 16,
     "metadata": {},
     "output_type": "execute_result"
    }
   ],
   "source": [
    "sp = openmc.StatePoint('statepoint.100.h5');\n",
    "\n",
    "dose_t = sp.get_tally(name='flux');\n",
    "dose_df = dose_t.get_pandas_dataframe();\n",
    "dose_df.head()"
   ]
  },
  {
   "cell_type": "code",
   "execution_count": 17,
   "id": "c1a60538",
   "metadata": {},
   "outputs": [],
   "source": [
    "current = dose_df['mean'];\n",
    "\n",
    "conv_pSv_to_rem = 1e-10;\n",
    "surf_area = 4*np.pi*(100**2); # cm^2 for the given surface\n",
    "time = 3600; # seconds in an hour\n",
    "\n",
    "current = current*conv_pSv_to_rem*time/surf_area"
   ]
  },
  {
   "cell_type": "code",
   "execution_count": 18,
   "id": "02041135",
   "metadata": {},
   "outputs": [
    {
     "name": "stdout",
     "output_type": "stream",
     "text": [
      "the dose is approximately 0.004466 rem/hr\n"
     ]
    }
   ],
   "source": [
    "print('the dose is approximately %6.4g rem/hr' % current)"
   ]
  },
  {
   "cell_type": "code",
   "execution_count": null,
   "id": "8e8a9495",
   "metadata": {},
   "outputs": [],
   "source": []
  }
 ],
 "metadata": {
  "kernelspec": {
   "display_name": "Python 3 (ipykernel)",
   "language": "python",
   "name": "python3"
  },
  "language_info": {
   "codemirror_mode": {
    "name": "ipython",
    "version": 3
   },
   "file_extension": ".py",
   "mimetype": "text/x-python",
   "name": "python",
   "nbconvert_exporter": "python",
   "pygments_lexer": "ipython3",
   "version": "3.9.16"
  }
 },
 "nbformat": 4,
 "nbformat_minor": 5
}
