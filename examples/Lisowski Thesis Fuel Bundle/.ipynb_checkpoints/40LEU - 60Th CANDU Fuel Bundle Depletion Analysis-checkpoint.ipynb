{
 "cells": [
  {
   "cell_type": "markdown",
   "id": "fb14b56b",
   "metadata": {},
   "source": [
    "# Lisowski Thesis Fuel Bundle\n",
    "\n",
    "This notebook is transcribed from Appendix A of the title thesis.  \n",
    "\n",
    "Lisowski, Eva. Evaluation of material attractiveness to non-state actors of various nuclear materials in Thorium fuel cycles. Massachusetts Institute of Technology, 2020."
   ]
  },
  {
   "cell_type": "code",
   "execution_count": 1,
   "id": "f1f9a85c",
   "metadata": {},
   "outputs": [],
   "source": [
    "from math import pi, sin, cos\n",
    "import numpy as np\n",
    "import openmc\n",
    "import openmc.deplete"
   ]
  },
  {
   "cell_type": "code",
   "execution_count": null,
   "id": "4cbc6983",
   "metadata": {},
   "outputs": [],
   "source": [
    "fuel_materials = [] # note: list of fuel materials\n",
    "for i in range(0,35): # had to know in advance how many fuel-containing cells.\n",
    "    fuel = openmc.Material(name='fuel')\n",
    "    # 40%LEU-60%Th Oxide fuel. \n",
    "    fuel.add_nuclide('Th232',0.60611,'ao')\n",
    "    fuel.add_nuclide('U235',0.019695,'ao')\n",
    "    fuel.add_nuclide('U238',0.37420,'ao')\n",
    "    fuel.add_element('O',2.0)\n",
    "    fuel.set_density('g/cm3',9.7); # check out Blair Bromley reference\n",
    "    fuel_materials.append(fuel); \n",
    "\n",
    "# Center displacer rod of ZrO2\n",
    "center = openmc.Material(name='rod')\n",
    "center.add_element('Zr',1.0)\n",
    "center.add_element('O',2.0)\n",
    "center.set_density('g/cm3',4.3)\n",
    "\n",
    "# Lisowski approximates Zirc-4 with elemental Zr.\n",
    "# here I will use the PNNL Material compendium composition for Zirc-4\n",
    "clad = openmc.Material(name='zircaloy')\n",
    "clad.add_element('O',0.006790)\n",
    "clad.add_element('Cr',0.001741)\n",
    "clad.add_element('Fe',0.003242)\n",
    "clad.add_element('Zr',0.977550)\n",
    "clad.add_element('Sn',0.010677)\n",
    "clad.set_density('g/cm3',6.56)"
   ]
  }
 ],
 "metadata": {
  "kernelspec": {
   "display_name": "Python 3 (ipykernel)",
   "language": "python",
   "name": "python3"
  },
  "language_info": {
   "codemirror_mode": {
    "name": "ipython",
    "version": 3
   },
   "file_extension": ".py",
   "mimetype": "text/x-python",
   "name": "python",
   "nbconvert_exporter": "python",
   "pygments_lexer": "ipython3",
   "version": "3.9.10"
  }
 },
 "nbformat": 4,
 "nbformat_minor": 5
}
