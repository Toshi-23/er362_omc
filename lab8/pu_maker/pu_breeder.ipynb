{
 "cells": [
  {
   "cell_type": "markdown",
   "id": "e713a113",
   "metadata": {},
   "source": [
    "# Plutonium Maker\n",
    "The purpose of this notebook is to investigate the performance of various pin-cell configurations in producing weapons grade plutonium.\n",
    "\n",
    "The sorts of questions that I want to be able to answer:\n",
    "1. What are the trade-offs in moderator selection\n",
    "2. What should be the fuel pitch, diameter and/or pitch to diameter ratio?\n",
    "3. How long should the fuel be left in the reactor for maximum production of plutonium? \n",
    "4.  I expect the answer to 3 to depend on the power density and the neutron energy spectrum.  I assume you should just operate at the maximum achievable power density (with respect to heat transfer requirements) but how does the neutron energy spectrum change things?\n",
    "5. If I wanted to make Pu-238, how would the reactor core design change. (fuel, moderator, coolant, geometric arrangement, etc...)\n",
    "\n",
    "After some initial investigations, I can investigate the available design information for early plutonium production reactors.  As much as is possible, I could try to observe how plutonium production reactor core design has changed over the years and try to infer the engineering rationale for the evolution. \n",
    "\n",
    "In short: I hope to build a *quantitative* intuition regarding these considerations.\n"
   ]
  },
  {
   "cell_type": "code",
   "execution_count": 1,
   "id": "360934a0",
   "metadata": {},
   "outputs": [],
   "source": [
    "import openmc\n",
    "import numpy as np\n",
    "\n",
    "%matplotlib inline"
   ]
  },
  {
   "cell_type": "markdown",
   "id": "90a4b2d5",
   "metadata": {},
   "source": [
    "## Materials\n"
   ]
  },
  {
   "cell_type": "code",
   "execution_count": 2,
   "id": "f2c43aac",
   "metadata": {},
   "outputs": [],
   "source": [
    "fuel = openmc.Material(name=\"uo2\")\n",
    "fuel.add_element(\"U\", 1, percent_type=\"ao\", enrichment=0.7)\n",
    "#fuel.add_element(\"O\", 2)\n",
    "fuel.set_density(\"g/cc\", 18.4)\n",
    "\n",
    "clad = openmc.Material(name='clad');\n",
    "clad.add_element(\"Zr\",1);\n",
    "clad.set_density('g/cc',6.0);\n",
    "\n",
    "alum = openmc.Material(name='alum');\n",
    "alum.add_element('Al',1);\n",
    "alum.set_density('g/cc',2.7); #according to Google...\n",
    "\n",
    "water = openmc.Material(name='water');\n",
    "water.add_element('O',1);\n",
    "water.add_element('H',2)\n",
    "water.set_density('g/cc',0.712); # higher temperature water...\n",
    "water.add_s_alpha_beta('c_H_in_H2O');\n",
    "\n",
    "graphite = openmc.Material(name='graphite');\n",
    "graphite.add_element('C',1);\n",
    "graphite.set_density('g/cc',1.7);\n",
    "graphite.add_s_alpha_beta('c_Graphite');\n",
    "\n",
    "materials = openmc.Materials([fuel,clad,water,alum,graphite]);\n",
    "materials.export_to_xml();"
   ]
  },
  {
   "cell_type": "markdown",
   "id": "00667e59",
   "metadata": {},
   "source": [
    "## Geometry\n",
    "I will make a pin cell.  In order to (roughly) model a hanford pin cell I will use a uranium metal slug coated with aluminum in a graphite reflector cooled with water. "
   ]
  },
  {
   "cell_type": "code",
   "execution_count": 3,
   "id": "c9ba611c",
   "metadata": {},
   "outputs": [],
   "source": [
    "h_core = 300.; # all dimensions in cm \n",
    "h_fuel = 200.;\n",
    "\n",
    "r_fuel = 2.0;\n",
    "r_pin = 2.1;\n",
    "r_cool = 2.25;\n",
    "\n",
    "P_D = 5.5; # with graphite moderator a relatively high P/D is needed for reasonable neutron economy\n",
    "# 10 is too high, 3 is too low (0.889), 7 is too high again (0.974), 5.5 (.9959) 4.5 (0.9859), 5.0 (0.9935), 6.0 (0.9948)\n",
    "\n",
    "# note that for P/D=5.5, if I eliminate the water from the cooling channel, keff jumps up to 1.0341 (!!)\n",
    "# all of the above was with a fuel radius (without the clad) of 1 cm.\n",
    "\n",
    "# when I increase the r_fuel to 2.0 with clad thickness and coolant channel \"thickness\" the same k_eff increases\n",
    "# somewhat. Effectively this increases the atom fraction of fuel compared to coolant or cladding so it is likely to help.\n",
    "\n",
    "\n",
    "pitch = P_D*r_cool*2.; # set P/D relative to the coolant channel diameter\n",
    "\n",
    "# on later iterations add temperature effects to the fuel to see how important they are.\n",
    "\n",
    "fuel_cyl = openmc.model.RightCircularCylinder([0.,0.,-h_fuel/2.],\n",
    "                                             h_fuel, r_fuel);\n",
    "fuel.volume = np.pi*(r_fuel**2)*h_fuel;\n",
    "\n",
    "pin_cyl = openmc.model.RightCircularCylinder([0.,0.,-(h_fuel+(r_pin-r_fuel))/2.],\n",
    "                                            h_fuel+(r_pin-r_fuel)*2.,r_pin);\n",
    "\n",
    "cool_ch_cyl = openmc.model.RightCircularCylinder([0.,0.,-h_core/2.+5.],\n",
    "                                                h_core-10.,r_cool);\n",
    "# note: I added some margin between the coolant cell upper and lower boundaries and the core.\n",
    "# having those surfaces coincident resulted in lost particles.\n",
    "\n",
    "core_cell = openmc.model.RectangularParallelepiped(-pitch/2.,pitch/2.,\n",
    "                                                  -pitch/2.,pitch/2.,\n",
    "                                                  -h_core/2.,h_core/2.,\n",
    "                                                  boundary_type='reflective');\n",
    "\n",
    "fuel_cell = openmc.Cell();\n",
    "fuel_cell.region = -fuel_cyl;\n",
    "fuel_cell.fill = fuel;\n",
    "fuel_cell.temperature = 800; #K, reminder to fill this in later\n",
    "\n",
    "clad_cell = openmc.Cell();\n",
    "clad_cell.region = +fuel_cyl & -pin_cyl\n",
    "clad_cell.fill = clad;\n",
    "\n",
    "cool_cell = openmc.Cell();\n",
    "cool_cell.region = +pin_cyl & -cool_ch_cyl;\n",
    "cool_cell.fill = water;\n",
    "\n",
    "mod_cell = openmc.Cell();\n",
    "mod_cell.region = +cool_ch_cyl & -core_cell;\n",
    "mod_cell.fill = graphite;\n",
    "mod_cell.temperature = 700; # K, just a guess\n",
    "\n",
    "\n"
   ]
  },
  {
   "cell_type": "code",
   "execution_count": 4,
   "id": "a6426ca7",
   "metadata": {},
   "outputs": [],
   "source": [
    "root_univ = openmc.Universe();\n",
    "root_univ.add_cells([fuel_cell,clad_cell,cool_cell,mod_cell]);\n",
    "\n",
    "geometry = openmc.Geometry();\n",
    "geometry.root_universe = root_univ;\n",
    "\n",
    "geometry.export_to_xml();\n"
   ]
  },
  {
   "cell_type": "code",
   "execution_count": 5,
   "id": "21c5e7d1",
   "metadata": {},
   "outputs": [
    {
     "data": {
      "image/png": "[encoded data removed]",
      "text/plain": [
       "<Figure size 432x288 with 1 Axes>"
      ]
     },
     "metadata": {
      "needs_background": "light"
     },
     "output_type": "display_data"
    }
   ],
   "source": [
    "color = {}\n",
    "color[fuel]='yellow';\n",
    "color[alum]='gray';\n",
    "color[water]='blue';\n",
    "color[graphite]='black';\n",
    "\n",
    "#root_univ.plot(width=(pitch,pitch),color_by='material',colors=color);\n",
    "root_univ.plot(width=(2*r_cool,2*r_cool),color_by='material',colors=color);"
   ]
  },
  {
   "cell_type": "markdown",
   "id": "5ba10d9a",
   "metadata": {},
   "source": [
    "## Settings\n",
    "Initially we will just find what the eigenvalue is.  Since this will model a reactor that is infinite, the materials will need to be tweaked so that the eigenvalue is greater than 1.  "
   ]
  },
  {
   "cell_type": "code",
   "execution_count": 6,
   "id": "6c498adc",
   "metadata": {},
   "outputs": [],
   "source": [
    "settings = openmc.Settings();\n",
    "settings.run_mode = 'eigenvalue';\n",
    "settings.particles = 4000;\n",
    "settings.batches = 150;\n",
    "settings.inactive = 50;\n",
    "\n",
    "box = openmc.stats.Box(lower_left = (-r_fuel,-r_fuel,-h_fuel/2.),\n",
    "                      upper_right = (r_fuel,r_fuel,h_fuel/2.),\n",
    "                      only_fissionable=True);\n",
    "src = openmc.Source(space=box);\n",
    "\n",
    "settings.source = src;\n",
    "\n",
    "settings.temperature['method']='interpolation';\n",
    "\n",
    "settings.export_to_xml();\n"
   ]
  },
  {
   "cell_type": "code",
   "execution_count": 7,
   "id": "2a5ede94",
   "metadata": {},
   "outputs": [
    {
     "name": "stdout",
     "output_type": "stream",
     "text": [
      "                                %%%%%%%%%%%%%%%\n",
      "                           %%%%%%%%%%%%%%%%%%%%%%%%\n",
      "                        %%%%%%%%%%%%%%%%%%%%%%%%%%%%%%\n",
      "                      %%%%%%%%%%%%%%%%%%%%%%%%%%%%%%%%%%\n",
      "                    %%%%%%%%%%%%%%%%%%%%%%%%%%%%%%%%%%%%%%\n",
      "                   %%%%%%%%%%%%%%%%%%%%%%%%%%%%%%%%%%%%%%%%\n",
      "                                    %%%%%%%%%%%%%%%%%%%%%%%%\n",
      "                                     %%%%%%%%%%%%%%%%%%%%%%%%\n",
      "                 ###############      %%%%%%%%%%%%%%%%%%%%%%%%\n",
      "                ##################     %%%%%%%%%%%%%%%%%%%%%%%\n",
      "                ###################     %%%%%%%%%%%%%%%%%%%%%%%\n",
      "                ####################     %%%%%%%%%%%%%%%%%%%%%%\n",
      "                #####################     %%%%%%%%%%%%%%%%%%%%%\n",
      "                ######################     %%%%%%%%%%%%%%%%%%%%\n",
      "                #######################     %%%%%%%%%%%%%%%%%%\n",
      "                 #######################     %%%%%%%%%%%%%%%%%\n",
      "                 ######################     %%%%%%%%%%%%%%%%%\n",
      "                  ####################     %%%%%%%%%%%%%%%%%\n",
      "                    #################     %%%%%%%%%%%%%%%%%\n",
      "                     ###############     %%%%%%%%%%%%%%%%\n",
      "                       ############     %%%%%%%%%%%%%%%\n",
      "                          ########     %%%%%%%%%%%%%%\n",
      "                                      %%%%%%%%%%%\n",
      "\n",
      "                   | The OpenMC Monte Carlo Code\n",
      "         Copyright | 2011-2021 MIT and OpenMC contributors\n",
      "           License | https://docs.openmc.org/en/latest/license.html\n",
      "           Version | 0.12.1\n",
      "          Git SHA1 | d49e6ccb837685e399efdef8b29e46cdc693ccec\n",
      "         Date/Time | 2021-05-15 19:24:28\n",
      "    OpenMP Threads | 8\n",
      "\n",
      " Reading settings XML file...\n",
      " Reading cross sections XML file...\n",
      " Reading materials XML file...\n",
      " Reading geometry XML file...\n",
      " Reading U234 from /home/stu/OMC_DATA/endfb71_hdf5/U234.h5\n",
      " Reading U235 from /home/stu/OMC_DATA/endfb71_hdf5/U235.h5\n",
      " Reading U238 from /home/stu/OMC_DATA/endfb71_hdf5/U238.h5\n",
      " Reading U236 from /home/stu/OMC_DATA/endfb71_hdf5/U236.h5\n",
      " Reading Zr90 from /home/stu/OMC_DATA/endfb71_hdf5/Zr90.h5\n",
      " Reading Zr91 from /home/stu/OMC_DATA/endfb71_hdf5/Zr91.h5\n",
      " Reading Zr92 from /home/stu/OMC_DATA/endfb71_hdf5/Zr92.h5\n",
      " Reading Zr94 from /home/stu/OMC_DATA/endfb71_hdf5/Zr94.h5\n",
      " Reading Zr96 from /home/stu/OMC_DATA/endfb71_hdf5/Zr96.h5\n",
      " Reading Al27 from /home/stu/OMC_DATA/endfb71_hdf5/Al27.h5\n",
      " Reading O16 from /home/stu/OMC_DATA/endfb71_hdf5/O16.h5\n",
      " Reading O17 from /home/stu/OMC_DATA/endfb71_hdf5/O17.h5\n",
      " Reading H1 from /home/stu/OMC_DATA/endfb71_hdf5/H1.h5\n",
      " Reading H2 from /home/stu/OMC_DATA/endfb71_hdf5/H2.h5\n",
      " Reading C0 from /home/stu/OMC_DATA/endfb71_hdf5/C0.h5\n",
      " Reading c_H_in_H2O from /home/stu/OMC_DATA/endfb71_hdf5/c_H_in_H2O.h5\n",
      " Reading c_Graphite from /home/stu/OMC_DATA/endfb71_hdf5/c_Graphite.h5\n",
      " Minimum neutron data temperature: 600.0 K\n",
      " Maximum neutron data temperature: 600.0 K\n",
      " Preparing distributed cell instances...\n",
      " Writing summary.h5 file...\n",
      " Maximum neutron transport energy: 20000000.0 eV for U235\n",
      " Initializing source particles...\n",
      "\n",
      " ====================>     K EIGENVALUE SIMULATION     <====================\n",
      "\n",
      "  Bat./Gen.      k            Average k\n",
      "  =========   ========   ====================\n",
      "        1/1    0.98037\n",
      "        2/1    1.03333\n",
      "        3/1    1.00368\n",
      "        4/1    1.04212\n",
      "        5/1    1.02100\n",
      "        6/1    1.01451\n",
      "        7/1    0.99377\n",
      "        8/1    1.00007\n",
      "        9/1    1.01610\n",
      "       10/1    0.99711\n",
      "       11/1    1.01300\n",
      "       12/1    0.98478\n",
      "       13/1    1.02445\n",
      "       14/1    0.99751\n",
      "       15/1    1.02510\n",
      "       16/1    1.01721\n",
      "       17/1    0.98808\n",
      "       18/1    1.02409\n",
      "       19/1    0.96791\n",
      "       20/1    1.01111\n",
      "       21/1    0.99750\n",
      "       22/1    0.98475\n",
      "       23/1    1.00849\n",
      "       24/1    1.02650\n",
      "       25/1    1.03240\n",
      "       26/1    0.98973\n",
      "       27/1    0.99505\n",
      "       28/1    1.00926\n",
      "       29/1    1.01874\n",
      "       30/1    0.97931\n",
      "       31/1    1.02685\n",
      "       32/1    0.98730\n",
      "       33/1    1.00210\n",
      "       34/1    0.99824\n",
      "       35/1    0.99805\n",
      "       36/1    0.98923\n",
      "       37/1    1.01774\n",
      "       38/1    1.00091\n",
      "       39/1    1.03987\n",
      "       40/1    0.97982\n",
      "       41/1    1.01147\n",
      "       42/1    1.01904\n",
      "       43/1    1.00072\n",
      "       44/1    0.99729\n",
      "       45/1    1.01199\n",
      "       46/1    1.04424\n",
      "       47/1    0.99500\n",
      "       48/1    1.00168\n",
      "       49/1    0.98591\n",
      "       50/1    1.02926\n",
      "       51/1    1.00822\n",
      "       52/1    1.01613    1.01217 +/- 0.00396\n",
      "       53/1    0.97728    1.00054 +/- 0.01185\n",
      "       54/1    0.99867    1.00008 +/- 0.00839\n",
      "       55/1    1.02663    1.00539 +/- 0.00840\n",
      "       56/1    1.00101    1.00466 +/- 0.00689\n",
      "       57/1    1.01873    1.00667 +/- 0.00616\n",
      "       58/1    1.00191    1.00607 +/- 0.00537\n",
      "       59/1    0.98829    1.00410 +/- 0.00513\n",
      "       60/1    0.98733    1.00242 +/- 0.00489\n",
      "       61/1    1.00456    1.00261 +/- 0.00442\n",
      "       62/1    0.98638    1.00126 +/- 0.00426\n",
      "       63/1    0.99532    1.00080 +/- 0.00394\n",
      "       64/1    1.01258    1.00164 +/- 0.00375\n",
      "       65/1    1.00726    1.00202 +/- 0.00351\n",
      "       66/1    0.99795    1.00176 +/- 0.00329\n",
      "       67/1    1.01911    1.00278 +/- 0.00326\n",
      "       68/1    0.98405    1.00174 +/- 0.00324\n",
      "       69/1    1.00448    1.00189 +/- 0.00307\n",
      "       70/1    1.01330    1.00246 +/- 0.00297\n",
      "       71/1    1.00741    1.00269 +/- 0.00283\n",
      "       72/1    0.98526    1.00190 +/- 0.00281\n",
      "       73/1    1.01293    1.00238 +/- 0.00273\n",
      "       74/1    0.99930    1.00225 +/- 0.00262\n",
      "       75/1    0.99702    1.00204 +/- 0.00252\n",
      "       76/1    1.01106    1.00239 +/- 0.00245\n",
      "       77/1    1.00902    1.00264 +/- 0.00237\n",
      "       78/1    1.01009    1.00290 +/- 0.00230\n",
      "       79/1    1.04698    1.00442 +/- 0.00269\n",
      "       80/1    0.99155    1.00399 +/- 0.00263\n",
      "       81/1    1.00692    1.00409 +/- 0.00255\n",
      "       82/1    1.00562    1.00414 +/- 0.00247\n",
      "       83/1    1.00179    1.00406 +/- 0.00239\n",
      "       84/1    0.99561    1.00382 +/- 0.00233\n",
      "       85/1    1.01202    1.00405 +/- 0.00228\n",
      "       86/1    1.00856    1.00418 +/- 0.00222\n",
      "       87/1    0.99201    1.00385 +/- 0.00218\n",
      "       88/1    1.01340    1.00410 +/- 0.00214\n",
      "       89/1    1.00962    1.00424 +/- 0.00209\n",
      "       90/1    0.99933    1.00412 +/- 0.00204\n",
      "       91/1    0.98815    1.00373 +/- 0.00203\n",
      "       92/1    1.01220    1.00393 +/- 0.00199\n",
      "       93/1    0.99534    1.00373 +/- 0.00195\n",
      "       94/1    0.96462    1.00284 +/- 0.00210\n",
      "       95/1    0.96737    1.00205 +/- 0.00220\n",
      "       96/1    1.01052    1.00224 +/- 0.00216\n",
      "       97/1    1.01998    1.00261 +/- 0.00215\n",
      "       98/1    1.00459    1.00266 +/- 0.00210\n",
      "       99/1    1.00047    1.00261 +/- 0.00206\n",
      "      100/1    0.98950    1.00235 +/- 0.00204\n",
      "      101/1    1.00865    1.00247 +/- 0.00200\n",
      "      102/1    1.01279    1.00267 +/- 0.00197\n",
      "      103/1    1.04709    1.00351 +/- 0.00211\n",
      "      104/1    0.99943    1.00343 +/- 0.00207\n",
      "      105/1    1.00861    1.00353 +/- 0.00203\n",
      "      106/1    1.00842    1.00361 +/- 0.00200\n",
      "      107/1    1.01815    1.00387 +/- 0.00198\n",
      "      108/1    0.99314    1.00368 +/- 0.00195\n",
      "      109/1    0.98365    1.00335 +/- 0.00195\n",
      "      110/1    1.02082    1.00364 +/- 0.00194\n",
      "      111/1    0.96871    1.00306 +/- 0.00199\n",
      "      112/1    1.04534    1.00375 +/- 0.00207\n",
      "      113/1    1.00047    1.00369 +/- 0.00204\n",
      "      114/1    0.99115    1.00350 +/- 0.00202\n",
      "      115/1    1.03800    1.00403 +/- 0.00206\n",
      "      116/1    0.99224    1.00385 +/- 0.00203\n",
      "      117/1    1.00057    1.00380 +/- 0.00200\n",
      "      118/1    0.99234    1.00363 +/- 0.00198\n",
      "      119/1    1.01538    1.00380 +/- 0.00196\n",
      "      120/1    0.98040    1.00347 +/- 0.00196\n",
      "      121/1    1.01345    1.00361 +/- 0.00194\n",
      "      122/1    0.97941    1.00327 +/- 0.00194\n",
      "      123/1    1.03103    1.00365 +/- 0.00195\n",
      "      124/1    0.97965    1.00333 +/- 0.00195\n",
      "      125/1    1.00895    1.00340 +/- 0.00193\n",
      "      126/1    1.03557    1.00383 +/- 0.00195\n",
      "      127/1    0.98741    1.00361 +/- 0.00193\n",
      "      128/1    1.02942    1.00394 +/- 0.00194\n",
      "      129/1    1.00741    1.00399 +/- 0.00191\n",
      "      130/1    1.03248    1.00434 +/- 0.00192\n",
      "      131/1    1.02168    1.00456 +/- 0.00191\n",
      "      132/1    1.00992    1.00462 +/- 0.00189\n",
      "      133/1    1.04865    1.00515 +/- 0.00194\n",
      "      134/1    1.01548    1.00528 +/- 0.00192\n"
     ]
    },
    {
     "name": "stdout",
     "output_type": "stream",
     "text": [
      "      135/1    1.00605    1.00529 +/- 0.00190\n",
      "      136/1    1.02201    1.00548 +/- 0.00189\n",
      "      137/1    1.00519    1.00548 +/- 0.00186\n",
      "      138/1    1.01058    1.00554 +/- 0.00184\n",
      "      139/1    0.99496    1.00542 +/- 0.00183\n",
      "      140/1    0.97843    1.00512 +/- 0.00183\n",
      "      141/1    1.00896    1.00516 +/- 0.00181\n",
      "      142/1    0.97083    1.00479 +/- 0.00183\n",
      "      143/1    1.00724    1.00481 +/- 0.00181\n",
      "      144/1    1.00074    1.00477 +/- 0.00179\n",
      "      145/1    0.99144    1.00463 +/- 0.00178\n",
      "      146/1    1.00345    1.00462 +/- 0.00176\n",
      "      147/1    0.96047    1.00416 +/- 0.00180\n",
      "      148/1    0.99447    1.00406 +/- 0.00178\n",
      "      149/1    1.01076    1.00413 +/- 0.00177\n",
      "      150/1    0.96442    1.00373 +/- 0.00179\n",
      " Creating state point statepoint.150.h5...\n",
      "\n",
      " =======================>     TIMING STATISTICS     <=======================\n",
      "\n",
      " Total time for initialization     = 1.4422e+00 seconds\n",
      "   Reading cross sections          = 1.4287e+00 seconds\n",
      " Total time in simulation          = 4.3596e+01 seconds\n",
      "   Time in transport only          = 4.3461e+01 seconds\n",
      "   Time in inactive batches        = 1.1947e+01 seconds\n",
      "   Time in active batches          = 3.1648e+01 seconds\n",
      "   Time synchronizing fission bank = 5.3755e-02 seconds\n",
      "     Sampling source sites         = 4.6982e-02 seconds\n",
      "     SEND/RECV source sites        = 6.3375e-03 seconds\n",
      "   Time accumulating tallies       = 2.1560e-04 seconds\n",
      "   Time writing statepoints        = 5.1870e-03 seconds\n",
      " Total time for finalization       = 1.2990e-06 seconds\n",
      " Total time elapsed                = 4.5061e+01 seconds\n",
      " Calculation Rate (inactive)       = 16740.0 particles/second\n",
      " Calculation Rate (active)         = 12638.9 particles/second\n",
      "\n",
      " ============================>     RESULTS     <============================\n",
      "\n",
      " k-effective (Collision)     = 1.00432 +/- 0.00158\n",
      " k-effective (Track-length)  = 1.00373 +/- 0.00179\n",
      " k-effective (Absorption)    = 1.00148 +/- 0.00162\n",
      " Combined k-effective        = 1.00293 +/- 0.00126\n",
      " Leakage Fraction            = 0.00000 +/- 0.00000\n",
      "\n"
     ]
    }
   ],
   "source": [
    "openmc.run();"
   ]
  },
  {
   "cell_type": "markdown",
   "id": "5a226344",
   "metadata": {},
   "source": [
    "## Depletion Calculation\n",
    "Okay - this is a start.  I fully expect that the reactor, as modeled, will not remain critical once equilibrium Xe-135 and Sm-149 are established in the core.  The negative reactivity from the doppler broadening of the fuel didn't turn out to be such a big deal."
   ]
  },
  {
   "cell_type": "code",
   "execution_count": 8,
   "id": "bd44a9c4",
   "metadata": {},
   "outputs": [
    {
     "name": "stdout",
     "output_type": "stream",
     "text": [
      "Maximum recommended depletion step 9248.849 days\n"
     ]
    }
   ],
   "source": [
    "import openmc.deplete\n",
    "\n",
    "operator = openmc.deplete.Operator(geometry,settings,\"chain_casl_pwr.xml\");\n",
    "power = 1e4; # W, this is a guess\n",
    "\n",
    "operator.heavy_metal\n",
    "\n",
    "max_step = 2*operator.heavy_metal/power*1e3\n",
    "print(f'Maximum recommended depletion step %5.3f days' % max_step);"
   ]
  },
  {
   "cell_type": "code",
   "execution_count": 9,
   "id": "9d7ad7ce",
   "metadata": {},
   "outputs": [],
   "source": [
    "\n",
    "days = 24*3600; # seconds in a day\n",
    "time_steps = [0.1*days,0.1*days,0.2*days,0.3*days,0.5*days,\n",
    "              1.0*days,10.0*days, 100.0*days, 100.0*days, 200.*days,\n",
    "             200.*days, 200.*days, 500.*days, 500.*days];\n"
   ]
  },
  {
   "cell_type": "code",
   "execution_count": 10,
   "id": "b4432c24",
   "metadata": {},
   "outputs": [],
   "source": [
    "integrator = openmc.deplete.PredictorIntegrator(operator,time_steps,power=power);\n",
    "#integrator = openmc.deplete.CELIIntegrator(operator,time_steps,power=power);"
   ]
  },
  {
   "cell_type": "code",
   "execution_count": 11,
   "id": "2fe55288",
   "metadata": {},
   "outputs": [],
   "source": [
    "integrator.integrate()"
   ]
  },
  {
   "cell_type": "code",
   "execution_count": 12,
   "id": "e4021ac1",
   "metadata": {},
   "outputs": [],
   "source": [
    "results = openmc.deplete.ResultsList.from_hdf5(\"./depletion_results.h5\")"
   ]
  },
  {
   "cell_type": "code",
   "execution_count": 13,
   "id": "dc4fea0c",
   "metadata": {},
   "outputs": [],
   "source": [
    "time, k = results.get_eigenvalue()"
   ]
  },
  {
   "cell_type": "code",
   "execution_count": 14,
   "id": "c06c5383",
   "metadata": {},
   "outputs": [],
   "source": [
    "time /= (24*3600);"
   ]
  },
  {
   "cell_type": "code",
   "execution_count": 15,
   "id": "d8ff16b8",
   "metadata": {},
   "outputs": [],
   "source": [
    "from matplotlib import pyplot"
   ]
  },
  {
   "cell_type": "code",
   "execution_count": 16,
   "id": "8de243e4",
   "metadata": {},
   "outputs": [
    {
     "data": {
      "image/png": "[encoded data removed]",
      "text/plain": [
       "<Figure size 432x288 with 1 Axes>"
      ]
     },
     "metadata": {
      "needs_background": "light"
     },
     "output_type": "display_data"
    }
   ],
   "source": [
    "pyplot.errorbar(time,k[:,0],yerr=k[:,1]);\n",
    "pyplot.xlabel('Time [d]');\n",
    "pyplot.ylabel('$k_{eff}\\pm \\sigma$');\n",
    "pyplot.title(\"$k_{eff}$ vs time\");\n",
    "pyplot.grid();"
   ]
  },
  {
   "cell_type": "markdown",
   "id": "465b72c7",
   "metadata": {},
   "source": [
    "obviously, these results suck.  A better analysis would use more particles at least and probably smaller time steps."
   ]
  },
  {
   "cell_type": "code",
   "execution_count": 17,
   "id": "8abcd910",
   "metadata": {},
   "outputs": [],
   "source": [
    "_time, pu239 = results.get_atoms(\"1\",\"Pu239\");\n",
    "_time, pu240 = results.get_atoms(\"1\",\"Pu240\");\n",
    "_time, pu241 = results.get_atoms(\"1\",\"Pu241\");"
   ]
  },
  {
   "cell_type": "code",
   "execution_count": 18,
   "id": "80a8d8d9",
   "metadata": {},
   "outputs": [
    {
     "data": {
      "image/png": "[encoded data removed]",
      "text/plain": [
       "<Figure size 432x288 with 1 Axes>"
      ]
     },
     "metadata": {
      "needs_background": "light"
     },
     "output_type": "display_data"
    }
   ],
   "source": [
    "pyplot.semilogy(time,pu239,label=\"Pu239\");\n",
    "pyplot.semilogy(time,pu240,label=\"Pu240\");\n",
    "pyplot.semilogy(time,pu241,label=\"Pu241\");\n",
    "pyplot.grid();\n",
    "pyplot.xlabel('Time [d]');\n",
    "pyplot.ylabel('Number of atoms');\n",
    "pyplot.legend();\n"
   ]
  },
  {
   "cell_type": "code",
   "execution_count": 19,
   "id": "0fdffae3",
   "metadata": {},
   "outputs": [],
   "source": [
    "mass_pu239 = pu239*(239./6.022e23);\n",
    "mass_pu240 = pu240*(240./6.022e23);\n",
    "mass_pu241 = pu241*(241./6.022e23);\n",
    "\n",
    "mass_pu = mass_pu239 + mass_pu240 + mass_pu241"
   ]
  },
  {
   "cell_type": "code",
   "execution_count": 20,
   "id": "1d283f7b",
   "metadata": {},
   "outputs": [],
   "source": [
    "pu_239_ratio = mass_pu239/mass_pu"
   ]
  },
  {
   "cell_type": "code",
   "execution_count": 21,
   "id": "c89e7bc3",
   "metadata": {},
   "outputs": [
    {
     "name": "stdout",
     "output_type": "stream",
     "text": [
      "[0.33194444 0.99997289 0.9999703  0.99996558 0.99995983 0.99995093\n",
      " 0.99993331 0.99973355 0.99738792 0.99503391 0.9903911  0.98579829\n",
      " 0.98132707 0.9702453  0.95968948]\n"
     ]
    }
   ],
   "source": [
    "print(pu_239_ratio)"
   ]
  },
  {
   "cell_type": "code",
   "execution_count": 22,
   "id": "7474e9dd",
   "metadata": {},
   "outputs": [
    {
     "data": {
      "image/png": "[encoded data removed]",
      "text/plain": [
       "<Figure size 432x288 with 1 Axes>"
      ]
     },
     "metadata": {
      "needs_background": "light"
     },
     "output_type": "display_data"
    }
   ],
   "source": [
    "_time, xe135 = results.get_atoms(\"1\",\"Xe135\")\n",
    "_time, sm149 = results.get_atoms(\"1\",\"Sm149\")\n",
    "\n",
    "pyplot.semilogy(time,xe135,label=\"Xe135\");\n",
    "pyplot.semilogy(time,sm149,label=\"Sm149\");\n",
    "pyplot.grid();\n",
    "pyplot.xlabel('Time [d]');\n",
    "pyplot.ylabel('Number of atoms');\n",
    "pyplot.legend();\n"
   ]
  },
  {
   "cell_type": "code",
   "execution_count": null,
   "id": "41246ebc",
   "metadata": {},
   "outputs": [],
   "source": []
  },
  {
   "cell_type": "code",
   "execution_count": null,
   "id": "2aa58239",
   "metadata": {},
   "outputs": [],
   "source": []
  },
  {
   "cell_type": "code",
   "execution_count": null,
   "id": "6d508f34",
   "metadata": {},
   "outputs": [],
   "source": []
  }
 ],
 "metadata": {
  "kernelspec": {
   "display_name": "Python 3",
   "language": "python",
   "name": "python3"
  },
  "language_info": {
   "codemirror_mode": {
    "name": "ipython",
    "version": 3
   },
   "file_extension": ".py",
   "mimetype": "text/x-python",
   "name": "python",
   "nbconvert_exporter": "python",
   "pygments_lexer": "ipython3",
   "version": "3.9.2"
  }
 },
 "nbformat": 4,
 "nbformat_minor": 5
}
