{
 "cells": [
  {
   "cell_type": "markdown",
   "id": "e713a113",
   "metadata": {},
   "source": [
    "# Plutonium Maker\n",
    "The purpose of this notebook is to investigate the performance of various pin-cell configurations in producing weapons grade plutonium.\n",
    "\n",
    "The sorts of questions that I want to be able to answer:\n",
    "1. What are the trade-offs in moderator selection\n",
    "2. What should be the fuel pitch, diameter and/or pitch to diameter ratio?\n",
    "3. How long should the fuel be left in the reactor for maximum production of plutonium? \n",
    "4.  I expect the answer to 3 to depend on the power density and the neutron energy spectrum.  I assume you should just operate at the maximum achievable power density (with respect to heat transfer requirements) but how does the neutron energy spectrum change things?\n",
    "5. If I wanted to make Pu-238, how would the reactor core design change. (fuel, moderator, coolant, geometric arrangement, etc...)\n",
    "\n",
    "After some initial investigations, I can investigate the available design information for early plutonium production reactors.  As much as is possible, I could try to observe how plutonium production reactor core design has changed over the years and try to infer the engineering rationale for the evolution. \n",
    "\n",
    "In short: I hope to build a *quantitative* intuition regarding these considerations.\n"
   ]
  },
  {
   "cell_type": "code",
   "execution_count": 1,
   "id": "360934a0",
   "metadata": {},
   "outputs": [],
   "source": [
    "import openmc\n",
    "import numpy as np\n",
    "\n",
    "%matplotlib inline"
   ]
  },
  {
   "cell_type": "markdown",
   "id": "90a4b2d5",
   "metadata": {},
   "source": [
    "## Materials\n"
   ]
  },
  {
   "cell_type": "code",
   "execution_count": 2,
   "id": "f2c43aac",
   "metadata": {},
   "outputs": [],
   "source": [
    "fuel = openmc.Material(name=\"uo2\")\n",
    "fuel.add_element(\"U\", 1, percent_type=\"ao\", enrichment=0.7)\n",
    "#fuel.add_element(\"O\", 2)\n",
    "fuel.set_density(\"g/cc\", 18.4)\n",
    "\n",
    "clad = openmc.Material(name='clad');\n",
    "clad.add_element(\"Zr\",1);\n",
    "clad.set_density('g/cc',6.0);\n",
    "\n",
    "alum = openmc.Material(name='alum');\n",
    "alum.add_element('Al',1);\n",
    "alum.set_density('g/cc',2.7); #according to Google...\n",
    "\n",
    "water = openmc.Material(name='water');\n",
    "water.add_element('O',1);\n",
    "water.add_element('H',2)\n",
    "water.set_density('g/cc',0.712); # higher temperature water...\n",
    "water.add_s_alpha_beta('c_H_in_H2O');\n",
    "\n",
    "graphite = openmc.Material(name='graphite');\n",
    "graphite.add_element('C',1);\n",
    "graphite.set_density('g/cc',1.7);\n",
    "graphite.add_s_alpha_beta('c_Graphite');\n",
    "\n",
    "materials = openmc.Materials([fuel,clad,water,alum,graphite]);\n",
    "materials.export_to_xml();"
   ]
  },
  {
   "cell_type": "markdown",
   "id": "00667e59",
   "metadata": {},
   "source": [
    "## Geometry\n",
    "I will make a pin cell.  In order to (roughly) model a hanford pin cell I will use a uranium metal slug coated with aluminum in a graphite reflector cooled with water. "
   ]
  },
  {
   "cell_type": "code",
   "execution_count": 3,
   "id": "c9ba611c",
   "metadata": {},
   "outputs": [],
   "source": [
    "h_core = 300.; # all dimensions in cm \n",
    "h_fuel = 200.;\n",
    "\n",
    "r_fuel = 2.0;\n",
    "r_pin = 2.1;\n",
    "r_cool = 2.25;\n",
    "\n",
    "P_D = 5.5; # with graphite moderator a relatively high P/D is needed for reasonable neutron economy\n",
    "# 10 is too high, 3 is too low (0.889), 7 is too high again (0.974), 5.5 (.9959) 4.5 (0.9859), 5.0 (0.9935), 6.0 (0.9948)\n",
    "\n",
    "# note that for P/D=5.5, if I eliminate the water from the cooling channel, keff jumps up to 1.0341 (!!)\n",
    "# all of the above was with a fuel radius (without the clad) of 1 cm.\n",
    "\n",
    "# when I increase the r_fuel to 2.0 with clad thickness and coolant channel \"thickness\" the same k_eff increases\n",
    "# somewhat. Effectively this increases the atom fraction of fuel compared to coolant or cladding so it is likely to help.\n",
    "\n",
    "\n",
    "pitch = P_D*r_cool*2.; # set P/D relative to the coolant channel diameter\n",
    "\n",
    "# on later iterations add temperature effects to the fuel to see how important they are.\n",
    "\n",
    "fuel_cyl = openmc.model.RightCircularCylinder([0.,0.,-h_fuel/2.],\n",
    "                                             h_fuel, r_fuel);\n",
    "fuel.volume = np.pi*(r_fuel**2)*h_fuel;\n",
    "\n",
    "pin_cyl = openmc.model.RightCircularCylinder([0.,0.,-(h_fuel+(r_pin-r_fuel))/2.],\n",
    "                                            h_fuel+(r_pin-r_fuel)*2.,r_pin);\n",
    "\n",
    "cool_ch_cyl = openmc.model.RightCircularCylinder([0.,0.,-h_core/2.+5.],\n",
    "                                                h_core-10.,r_cool);\n",
    "# note: I added some margin between the coolant cell upper and lower boundaries and the core.\n",
    "# having those surfaces coincident resulted in lost particles.\n",
    "\n",
    "core_cell = openmc.model.RectangularParallelepiped(-pitch/2.,pitch/2.,\n",
    "                                                  -pitch/2.,pitch/2.,\n",
    "                                                  -h_core/2.,h_core/2.,\n",
    "                                                  boundary_type='reflective');\n",
    "\n",
    "fuel_cell = openmc.Cell();\n",
    "fuel_cell.region = -fuel_cyl;\n",
    "fuel_cell.fill = fuel;\n",
    "fuel_cell.temperature = 800; #K, reminder to fill this in later\n",
    "\n",
    "clad_cell = openmc.Cell();\n",
    "clad_cell.region = +fuel_cyl & -pin_cyl\n",
    "clad_cell.fill = clad;\n",
    "\n",
    "cool_cell = openmc.Cell();\n",
    "cool_cell.region = +pin_cyl & -cool_ch_cyl;\n",
    "cool_cell.fill = water;\n",
    "\n",
    "mod_cell = openmc.Cell();\n",
    "mod_cell.region = +cool_ch_cyl & -core_cell;\n",
    "mod_cell.fill = graphite;\n",
    "mod_cell.temperature = 700; # K, just a guess\n",
    "\n",
    "\n"
   ]
  },
  {
   "cell_type": "code",
   "execution_count": 4,
   "id": "a6426ca7",
   "metadata": {},
   "outputs": [],
   "source": [
    "root_univ = openmc.Universe();\n",
    "root_univ.add_cells([fuel_cell,clad_cell,cool_cell,mod_cell]);\n",
    "\n",
    "geometry = openmc.Geometry();\n",
    "geometry.root_universe = root_univ;\n",
    "\n",
    "geometry.export_to_xml();\n"
   ]
  },
  {
   "cell_type": "code",
   "execution_count": 5,
   "id": "21c5e7d1",
   "metadata": {},
   "outputs": [
    {
     "data": {
      "image/png": "[encoded data removed]",
      "text/plain": [
       "<Figure size 432x288 with 1 Axes>"
      ]
     },
     "metadata": {
      "needs_background": "light"
     },
     "output_type": "display_data"
    }
   ],
   "source": [
    "color = {}\n",
    "color[fuel]='yellow';\n",
    "color[alum]='gray';\n",
    "color[water]='blue';\n",
    "color[graphite]='black';\n",
    "\n",
    "#root_univ.plot(width=(pitch,pitch),color_by='material',colors=color);\n",
    "root_univ.plot(width=(2*r_cool,2*r_cool),color_by='material',colors=color);"
   ]
  },
  {
   "cell_type": "markdown",
   "id": "5ba10d9a",
   "metadata": {},
   "source": [
    "## Settings\n",
    "Initially we will just find what the eigenvalue is.  Since this will model a reactor that is infinite, the materials will need to be tweaked so that the eigenvalue is greater than 1.  "
   ]
  },
  {
   "cell_type": "code",
   "execution_count": 6,
   "id": "6c498adc",
   "metadata": {},
   "outputs": [],
   "source": [
    "settings = openmc.Settings();\n",
    "settings.run_mode = 'eigenvalue';\n",
    "settings.particles = 10000;\n",
    "settings.batches = 150;\n",
    "settings.inactive = 50;\n",
    "\n",
    "box = openmc.stats.Box(lower_left = (-r_fuel,-r_fuel,-h_fuel/2.),\n",
    "                      upper_right = (r_fuel,r_fuel,h_fuel/2.),\n",
    "                      only_fissionable=True);\n",
    "src = openmc.Source(space=box);\n",
    "\n",
    "settings.source = src;\n",
    "\n",
    "settings.temperature['method']='interpolation';\n",
    "\n",
    "settings.export_to_xml();\n"
   ]
  },
  {
   "cell_type": "code",
   "execution_count": 7,
   "id": "2a5ede94",
   "metadata": {},
   "outputs": [
    {
     "name": "stdout",
     "output_type": "stream",
     "text": [
      "                                %%%%%%%%%%%%%%%\n",
      "                           %%%%%%%%%%%%%%%%%%%%%%%%\n",
      "                        %%%%%%%%%%%%%%%%%%%%%%%%%%%%%%\n",
      "                      %%%%%%%%%%%%%%%%%%%%%%%%%%%%%%%%%%\n",
      "                    %%%%%%%%%%%%%%%%%%%%%%%%%%%%%%%%%%%%%%\n",
      "                   %%%%%%%%%%%%%%%%%%%%%%%%%%%%%%%%%%%%%%%%\n",
      "                                    %%%%%%%%%%%%%%%%%%%%%%%%\n",
      "                                     %%%%%%%%%%%%%%%%%%%%%%%%\n",
      "                 ###############      %%%%%%%%%%%%%%%%%%%%%%%%\n",
      "                ##################     %%%%%%%%%%%%%%%%%%%%%%%\n",
      "                ###################     %%%%%%%%%%%%%%%%%%%%%%%\n",
      "                ####################     %%%%%%%%%%%%%%%%%%%%%%\n",
      "                #####################     %%%%%%%%%%%%%%%%%%%%%\n",
      "                ######################     %%%%%%%%%%%%%%%%%%%%\n",
      "                #######################     %%%%%%%%%%%%%%%%%%\n",
      "                 #######################     %%%%%%%%%%%%%%%%%\n",
      "                 ######################     %%%%%%%%%%%%%%%%%\n",
      "                  ####################     %%%%%%%%%%%%%%%%%\n",
      "                    #################     %%%%%%%%%%%%%%%%%\n",
      "                     ###############     %%%%%%%%%%%%%%%%\n",
      "                       ############     %%%%%%%%%%%%%%%\n",
      "                          ########     %%%%%%%%%%%%%%\n",
      "                                      %%%%%%%%%%%\n",
      "\n",
      "                   | The OpenMC Monte Carlo Code\n",
      "         Copyright | 2011-2021 MIT and OpenMC contributors\n",
      "           License | https://docs.openmc.org/en/latest/license.html\n",
      "           Version | 0.12.1\n",
      "          Git SHA1 | d49e6ccb837685e399efdef8b29e46cdc693ccec\n",
      "         Date/Time | 2021-05-16 10:51:06\n",
      "    OpenMP Threads | 8\n",
      "\n",
      " Reading settings XML file...\n",
      " Reading cross sections XML file...\n",
      " Reading materials XML file...\n",
      " Reading geometry XML file...\n",
      " Reading U234 from /home/stu/OMC_DATA/endfb71_hdf5/U234.h5\n",
      " Reading U235 from /home/stu/OMC_DATA/endfb71_hdf5/U235.h5\n",
      " Reading U238 from /home/stu/OMC_DATA/endfb71_hdf5/U238.h5\n",
      " Reading U236 from /home/stu/OMC_DATA/endfb71_hdf5/U236.h5\n",
      " Reading Zr90 from /home/stu/OMC_DATA/endfb71_hdf5/Zr90.h5\n",
      " Reading Zr91 from /home/stu/OMC_DATA/endfb71_hdf5/Zr91.h5\n",
      " Reading Zr92 from /home/stu/OMC_DATA/endfb71_hdf5/Zr92.h5\n",
      " Reading Zr94 from /home/stu/OMC_DATA/endfb71_hdf5/Zr94.h5\n",
      " Reading Zr96 from /home/stu/OMC_DATA/endfb71_hdf5/Zr96.h5\n",
      " Reading Al27 from /home/stu/OMC_DATA/endfb71_hdf5/Al27.h5\n",
      " Reading O16 from /home/stu/OMC_DATA/endfb71_hdf5/O16.h5\n",
      " Reading O17 from /home/stu/OMC_DATA/endfb71_hdf5/O17.h5\n",
      " Reading H1 from /home/stu/OMC_DATA/endfb71_hdf5/H1.h5\n",
      " Reading H2 from /home/stu/OMC_DATA/endfb71_hdf5/H2.h5\n",
      " Reading C0 from /home/stu/OMC_DATA/endfb71_hdf5/C0.h5\n",
      " Reading c_H_in_H2O from /home/stu/OMC_DATA/endfb71_hdf5/c_H_in_H2O.h5\n",
      " Reading c_Graphite from /home/stu/OMC_DATA/endfb71_hdf5/c_Graphite.h5\n",
      " Minimum neutron data temperature: 600.0 K\n",
      " Maximum neutron data temperature: 600.0 K\n",
      " Preparing distributed cell instances...\n",
      " Writing summary.h5 file...\n",
      " Maximum neutron transport energy: 20000000.0 eV for U235\n",
      " Initializing source particles...\n",
      "\n",
      " ====================>     K EIGENVALUE SIMULATION     <====================\n",
      "\n",
      "  Bat./Gen.      k            Average k\n",
      "  =========   ========   ====================\n",
      "        1/1    0.98290\n",
      "        2/1    0.99595\n",
      "        3/1    1.01275\n",
      "        4/1    0.99166\n",
      "        5/1    1.00324\n",
      "        6/1    0.99769\n",
      "        7/1    1.00867\n",
      "        8/1    1.01772\n",
      "        9/1    0.98554\n",
      "       10/1    0.99616\n",
      "       11/1    0.99011\n",
      "       12/1    0.97974\n",
      "       13/1    0.99493\n",
      "       14/1    1.02692\n",
      "       15/1    1.02359\n",
      "       16/1    0.99102\n",
      "       17/1    1.00440\n",
      "       18/1    1.00718\n",
      "       19/1    1.00402\n",
      "       20/1    1.01032\n",
      "       21/1    0.99756\n",
      "       22/1    1.01499\n",
      "       23/1    1.01292\n",
      "       24/1    0.97596\n",
      "       25/1    0.98478\n",
      "       26/1    1.01358\n",
      "       27/1    1.00680\n",
      "       28/1    0.98449\n",
      "       29/1    1.00263\n",
      "       30/1    1.00474\n",
      "       31/1    0.99073\n",
      "       32/1    1.00590\n",
      "       33/1    1.01700\n",
      "       34/1    1.00652\n",
      "       35/1    1.00201\n",
      "       36/1    1.00112\n",
      "       37/1    0.99030\n",
      "       38/1    0.99775\n",
      "       39/1    0.98450\n",
      "       40/1    1.02089\n",
      "       41/1    1.01567\n",
      "       42/1    0.99767\n",
      "       43/1    1.01825\n",
      "       44/1    1.02624\n",
      "       45/1    1.00602\n",
      "       46/1    0.98731\n",
      "       47/1    0.99250\n",
      "       48/1    1.03352\n",
      "       49/1    1.00994\n",
      "       50/1    1.00925\n",
      "       51/1    1.01382\n",
      "       52/1    1.00907    1.01145 +/- 0.00238\n",
      "       53/1    0.98409    1.00233 +/- 0.00922\n",
      "       54/1    1.00547    1.00311 +/- 0.00657\n",
      "       55/1    1.00713    1.00392 +/- 0.00515\n",
      "       56/1    1.00204    1.00361 +/- 0.00422\n",
      "       57/1    1.00045    1.00316 +/- 0.00359\n",
      "       58/1    0.99526    1.00217 +/- 0.00326\n",
      "       59/1    1.01386    1.00347 +/- 0.00316\n",
      "       60/1    1.03063    1.00618 +/- 0.00392\n",
      "       61/1    0.99438    1.00511 +/- 0.00370\n",
      "       62/1    0.99154    1.00398 +/- 0.00356\n",
      "       63/1    1.02171    1.00535 +/- 0.00355\n",
      "       64/1    1.02176    1.00652 +/- 0.00349\n",
      "       65/1    1.00205    1.00622 +/- 0.00326\n",
      "       66/1    0.98962    1.00518 +/- 0.00322\n",
      "       67/1    1.00002    1.00488 +/- 0.00304\n",
      "       68/1    1.00777    1.00504 +/- 0.00287\n",
      "       69/1    0.99558    1.00454 +/- 0.00276\n",
      "       70/1    0.99474    1.00405 +/- 0.00267\n",
      "       71/1    1.00292    1.00400 +/- 0.00254\n",
      "       72/1    0.97159    1.00253 +/- 0.00283\n",
      "       73/1    0.99844    1.00235 +/- 0.00271\n",
      "       74/1    0.99061    1.00186 +/- 0.00264\n",
      "       75/1    1.00698    1.00206 +/- 0.00254\n",
      "       76/1    1.00118    1.00203 +/- 0.00244\n",
      "       77/1    1.00964    1.00231 +/- 0.00237\n",
      "       78/1    1.00548    1.00242 +/- 0.00228\n",
      "       79/1    0.99827    1.00228 +/- 0.00221\n",
      "       80/1    1.00034    1.00222 +/- 0.00214\n",
      "       81/1    1.00171    1.00220 +/- 0.00207\n",
      "       82/1    1.01676    1.00266 +/- 0.00205\n",
      "       83/1    1.00990    1.00287 +/- 0.00200\n",
      "       84/1    1.00141    1.00283 +/- 0.00194\n",
      "       85/1    1.01973    1.00331 +/- 0.00195\n",
      "       86/1    1.00048    1.00324 +/- 0.00189\n",
      "       87/1    1.00110    1.00318 +/- 0.00184\n",
      "       88/1    1.01831    1.00358 +/- 0.00184\n",
      "       89/1    0.99421    1.00334 +/- 0.00180\n",
      "       90/1    1.01411    1.00361 +/- 0.00178\n",
      "       91/1    0.98887    1.00325 +/- 0.00177\n",
      "       92/1    1.01062    1.00342 +/- 0.00174\n",
      "       93/1    1.00501    1.00346 +/- 0.00170\n",
      "       94/1    1.02220    1.00388 +/- 0.00171\n",
      "       95/1    1.02902    1.00444 +/- 0.00176\n",
      "       96/1    1.02636    1.00492 +/- 0.00179\n",
      "       97/1    0.99630    1.00474 +/- 0.00176\n",
      "       98/1    0.99390    1.00451 +/- 0.00174\n",
      "       99/1    1.00988    1.00462 +/- 0.00171\n",
      "      100/1    1.00316    1.00459 +/- 0.00167\n",
      "      101/1    1.00468    1.00459 +/- 0.00164\n",
      "      102/1    0.98885    1.00429 +/- 0.00164\n",
      "      103/1    0.98167    1.00386 +/- 0.00166\n",
      "      104/1    0.99883    1.00377 +/- 0.00163\n",
      "      105/1    1.00341    1.00376 +/- 0.00160\n",
      "      106/1    1.01176    1.00391 +/- 0.00158\n",
      "      107/1    1.02181    1.00422 +/- 0.00158\n",
      "      108/1    1.00037    1.00415 +/- 0.00156\n",
      "      109/1    0.98245    1.00379 +/- 0.00157\n",
      "      110/1    0.99070    1.00357 +/- 0.00156\n",
      "      111/1    1.02123    1.00386 +/- 0.00156\n",
      "      112/1    1.01220    1.00399 +/- 0.00154\n",
      "      113/1    0.99858    1.00391 +/- 0.00152\n",
      "      114/1    0.98722    1.00365 +/- 0.00152\n",
      "      115/1    1.00640    1.00369 +/- 0.00150\n",
      "      116/1    1.01570    1.00387 +/- 0.00149\n",
      "      117/1    1.00908    1.00395 +/- 0.00147\n",
      "      118/1    0.99600    1.00383 +/- 0.00145\n",
      "      119/1    1.00124    1.00379 +/- 0.00143\n",
      "      120/1    0.99348    1.00365 +/- 0.00142\n",
      "      121/1    0.98615    1.00340 +/- 0.00142\n",
      "      122/1    1.00190    1.00338 +/- 0.00140\n",
      "      123/1    0.98286    1.00310 +/- 0.00141\n",
      "      124/1    1.01554    1.00327 +/- 0.00140\n",
      "      125/1    1.00007    1.00322 +/- 0.00138\n",
      "      126/1    1.02917    1.00356 +/- 0.00140\n",
      "      127/1    1.00608    1.00360 +/- 0.00139\n",
      "      128/1    1.00507    1.00362 +/- 0.00137\n",
      "      129/1    0.98807    1.00342 +/- 0.00136\n",
      "      130/1    0.98451    1.00318 +/- 0.00137\n",
      "      131/1    1.01132    1.00328 +/- 0.00135\n",
      "      132/1    1.01084    1.00338 +/- 0.00134\n",
      "      133/1    0.99117    1.00323 +/- 0.00133\n",
      "      134/1    1.00371    1.00323 +/- 0.00132\n"
     ]
    },
    {
     "name": "stdout",
     "output_type": "stream",
     "text": [
      "      135/1    0.98713    1.00304 +/- 0.00132\n",
      "      136/1    1.02212    1.00327 +/- 0.00132\n",
      "      137/1    1.01259    1.00337 +/- 0.00131\n",
      "      138/1    0.99571    1.00329 +/- 0.00130\n",
      "      139/1    1.01241    1.00339 +/- 0.00129\n",
      "      140/1    1.00552    1.00341 +/- 0.00127\n",
      "      141/1    0.99719    1.00334 +/- 0.00126\n",
      "      142/1    1.00869    1.00340 +/- 0.00125\n",
      "      143/1    0.99977    1.00336 +/- 0.00123\n",
      "      144/1    1.00002    1.00333 +/- 0.00122\n",
      "      145/1    0.99736    1.00327 +/- 0.00121\n",
      "      146/1    1.00847    1.00332 +/- 0.00120\n",
      "      147/1    1.00410    1.00333 +/- 0.00119\n",
      "      148/1    0.99736    1.00327 +/- 0.00118\n",
      "      149/1    0.99144    1.00315 +/- 0.00117\n",
      "      150/1    0.99606    1.00308 +/- 0.00116\n",
      " Creating state point statepoint.150.h5...\n",
      "\n",
      " =======================>     TIMING STATISTICS     <=======================\n",
      "\n",
      " Total time for initialization     = 1.5192e+00 seconds\n",
      "   Reading cross sections          = 1.4339e+00 seconds\n",
      " Total time in simulation          = 1.1645e+02 seconds\n",
      "   Time in transport only          = 1.1620e+02 seconds\n",
      "   Time in inactive batches        = 3.0961e+01 seconds\n",
      "   Time in active batches          = 8.5494e+01 seconds\n",
      "   Time synchronizing fission bank = 1.3637e-01 seconds\n",
      "     Sampling source sites         = 1.1976e-01 seconds\n",
      "     SEND/RECV source sites        = 1.6071e-02 seconds\n",
      "   Time accumulating tallies       = 2.3741e-04 seconds\n",
      "   Time writing statepoints        = 5.3707e-03 seconds\n",
      " Total time for finalization       = 1.0620e-06 seconds\n",
      " Total time elapsed                = 1.1800e+02 seconds\n",
      " Calculation Rate (inactive)       = 16149.2 particles/second\n",
      " Calculation Rate (active)         = 11696.8 particles/second\n",
      "\n",
      " ============================>     RESULTS     <============================\n",
      "\n",
      " k-effective (Collision)     = 1.00400 +/- 0.00105\n",
      " k-effective (Track-length)  = 1.00308 +/- 0.00116\n",
      " k-effective (Absorption)    = 1.00294 +/- 0.00104\n",
      " Combined k-effective        = 1.00332 +/- 0.00080\n",
      " Leakage Fraction            = 0.00000 +/- 0.00000\n",
      "\n"
     ]
    }
   ],
   "source": [
    "openmc.run();"
   ]
  },
  {
   "cell_type": "markdown",
   "id": "5a226344",
   "metadata": {},
   "source": [
    "## Depletion Calculation\n",
    "Okay - this is a start.  I fully expect that the reactor, as modeled, will not remain critical once equilibrium Xe-135 and Sm-149 are established in the core.  The negative reactivity from the doppler broadening of the fuel didn't turn out to be such a big deal."
   ]
  },
  {
   "cell_type": "code",
   "execution_count": 8,
   "id": "bd44a9c4",
   "metadata": {},
   "outputs": [
    {
     "name": "stdout",
     "output_type": "stream",
     "text": [
      "Maximum recommended depletion step 9248.849 days\n"
     ]
    }
   ],
   "source": [
    "import openmc.deplete\n",
    "\n",
    "operator = openmc.deplete.Operator(geometry,settings,\"chain_casl_pwr.xml\");\n",
    "power = 1e4; # W, this is a guess\n",
    "\n",
    "operator.heavy_metal\n",
    "\n",
    "max_step = 2*operator.heavy_metal/power*1e3\n",
    "print(f'Maximum recommended depletion step %5.3f days' % max_step);"
   ]
  },
  {
   "cell_type": "code",
   "execution_count": 9,
   "id": "9d7ad7ce",
   "metadata": {},
   "outputs": [],
   "source": [
    "\n",
    "days = 24*3600; # seconds in a day\n",
    "time_steps = [0.1*days,0.1*days,0.2*days,0.3*days,0.5*days,\n",
    "              1.0*days,10.0*days, 100.0*days, 100.0*days, 200.*days,\n",
    "             200.*days, 200.*days, 500.*days, 500.*days];\n"
   ]
  },
  {
   "cell_type": "code",
   "execution_count": 10,
   "id": "b4432c24",
   "metadata": {},
   "outputs": [],
   "source": [
    "integrator = openmc.deplete.PredictorIntegrator(operator,time_steps,power=power);\n",
    "#integrator = openmc.deplete.CELIIntegrator(operator,time_steps,power=power);\n",
    "integrator = openmc.deplete.SICELIIntegrator(operator,time_steps,power=power);"
   ]
  },
  {
   "cell_type": "code",
   "execution_count": null,
   "id": "2fe55288",
   "metadata": {},
   "outputs": [],
   "source": [
    "integrator.integrate()"
   ]
  },
  {
   "cell_type": "code",
   "execution_count": null,
   "id": "e4021ac1",
   "metadata": {},
   "outputs": [],
   "source": [
    "results = openmc.deplete.ResultsList.from_hdf5(\"./depletion_results.h5\")"
   ]
  },
  {
   "cell_type": "code",
   "execution_count": null,
   "id": "dc4fea0c",
   "metadata": {},
   "outputs": [],
   "source": [
    "time, k = results.get_eigenvalue()"
   ]
  },
  {
   "cell_type": "code",
   "execution_count": null,
   "id": "c06c5383",
   "metadata": {},
   "outputs": [],
   "source": [
    "time /= (24*3600);"
   ]
  },
  {
   "cell_type": "code",
   "execution_count": null,
   "id": "d8ff16b8",
   "metadata": {},
   "outputs": [],
   "source": [
    "from matplotlib import pyplot"
   ]
  },
  {
   "cell_type": "code",
   "execution_count": null,
   "id": "8de243e4",
   "metadata": {},
   "outputs": [],
   "source": [
    "pyplot.errorbar(time,k[:,0],yerr=k[:,1]);\n",
    "pyplot.xlabel('Time [d]');\n",
    "pyplot.ylabel('$k_{eff}\\pm \\sigma$');\n",
    "pyplot.title(\"$k_{eff}$ vs time\");\n",
    "pyplot.grid();"
   ]
  },
  {
   "cell_type": "markdown",
   "id": "465b72c7",
   "metadata": {},
   "source": [
    "obviously, these results suck.  A better analysis would use more particles at least and probably smaller time steps."
   ]
  },
  {
   "cell_type": "code",
   "execution_count": null,
   "id": "8abcd910",
   "metadata": {},
   "outputs": [],
   "source": [
    "_time, pu239 = results.get_atoms(\"1\",\"Pu239\");\n",
    "_time, pu240 = results.get_atoms(\"1\",\"Pu240\");\n",
    "_time, pu241 = results.get_atoms(\"1\",\"Pu241\");"
   ]
  },
  {
   "cell_type": "code",
   "execution_count": null,
   "id": "80a8d8d9",
   "metadata": {},
   "outputs": [],
   "source": [
    "pyplot.semilogy(time,pu239,label=\"Pu239\");\n",
    "pyplot.semilogy(time,pu240,label=\"Pu240\");\n",
    "pyplot.semilogy(time,pu241,label=\"Pu241\");\n",
    "pyplot.grid();\n",
    "pyplot.xlabel('Time [d]');\n",
    "pyplot.ylabel('Number of atoms');\n",
    "pyplot.legend();\n"
   ]
  },
  {
   "cell_type": "code",
   "execution_count": null,
   "id": "0fdffae3",
   "metadata": {},
   "outputs": [],
   "source": [
    "mass_pu239 = pu239*(239./6.022e23);\n",
    "mass_pu240 = pu240*(240./6.022e23);\n",
    "mass_pu241 = pu241*(241./6.022e23);\n",
    "\n",
    "mass_pu = mass_pu239 + mass_pu240 + mass_pu241"
   ]
  },
  {
   "cell_type": "code",
   "execution_count": null,
   "id": "1d283f7b",
   "metadata": {},
   "outputs": [],
   "source": [
    "pu_239_ratio = mass_pu239/mass_pu"
   ]
  },
  {
   "cell_type": "code",
   "execution_count": null,
   "id": "c89e7bc3",
   "metadata": {},
   "outputs": [],
   "source": [
    "print(pu_239_ratio)"
   ]
  },
  {
   "cell_type": "code",
   "execution_count": null,
   "id": "7474e9dd",
   "metadata": {},
   "outputs": [],
   "source": [
    "_time, xe135 = results.get_atoms(\"1\",\"Xe135\")\n",
    "_time, sm149 = results.get_atoms(\"1\",\"Sm149\")\n",
    "\n",
    "pyplot.semilogy(time,xe135,label=\"Xe135\");\n",
    "pyplot.semilogy(time,sm149,label=\"Sm149\");\n",
    "pyplot.grid();\n",
    "pyplot.xlabel('Time [d]');\n",
    "pyplot.ylabel('Number of atoms');\n",
    "pyplot.legend();\n"
   ]
  },
  {
   "cell_type": "code",
   "execution_count": null,
   "id": "41246ebc",
   "metadata": {},
   "outputs": [],
   "source": []
  },
  {
   "cell_type": "code",
   "execution_count": null,
   "id": "2aa58239",
   "metadata": {},
   "outputs": [],
   "source": []
  },
  {
   "cell_type": "code",
   "execution_count": null,
   "id": "6d508f34",
   "metadata": {},
   "outputs": [],
   "source": []
  }
 ],
 "metadata": {
  "kernelspec": {
   "display_name": "Python 3",
   "language": "python",
   "name": "python3"
  },
  "language_info": {
   "codemirror_mode": {
    "name": "ipython",
    "version": 3
   },
   "file_extension": ".py",
   "mimetype": "text/x-python",
   "name": "python",
   "nbconvert_exporter": "python",
   "pygments_lexer": "ipython3",
   "version": "3.9.2"
  }
 },
 "nbformat": 4,
 "nbformat_minor": 5
}
