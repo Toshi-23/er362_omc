{
 "cells": [
  {
   "cell_type": "markdown",
   "id": "e713a113",
   "metadata": {},
   "source": [
    "# Plutonium Maker\n",
    "The purpose of this notebook is to investigate the performance of various pin-cell configurations in producing weapons grade plutonium.\n",
    "\n",
    "The sorts of questions that I want to be able to answer:\n",
    "1. What are the trade-offs in moderator selection\n",
    "2. What should be the fuel pitch, diameter and/or pitch to diameter ratio?\n",
    "3. How long should the fuel be left in the reactor for maximum production of plutonium? \n",
    "4.  I expect the answer to 3 to depend on the power density and the neutron energy spectrum.  I assume you should just operate at the maximum achievable power density (with respect to heat transfer requirements) but how does the neutron energy spectrum change things?\n",
    "5. If I wanted to make Pu-238, how would the reactor core design change. (fuel, moderator, coolant, geometric arrangement, etc...)\n",
    "\n",
    "After some initial investigations, I can investigate the available design information for early plutonium production reactors.  As much as is possible, I could try to observe how plutonium production reactor core design has changed over the years and try to infer the engineering rationale for the evolution. \n",
    "\n",
    "In short: I hope to build a *quantitative* intuition regarding these considerations.\n"
   ]
  },
  {
   "cell_type": "code",
   "execution_count": 1,
   "id": "360934a0",
   "metadata": {},
   "outputs": [],
   "source": [
    "import openmc\n",
    "import numpy as np\n",
    "\n",
    "%matplotlib inline"
   ]
  },
  {
   "cell_type": "markdown",
   "id": "90a4b2d5",
   "metadata": {},
   "source": [
    "## Materials\n"
   ]
  },
  {
   "cell_type": "code",
   "execution_count": 2,
   "id": "f2c43aac",
   "metadata": {},
   "outputs": [],
   "source": [
    "fuel = openmc.Material(name=\"uo2\")\n",
    "fuel.add_element(\"U\", 1, percent_type=\"ao\", enrichment=0.7)\n",
    "#fuel.add_element(\"O\", 2)\n",
    "fuel.set_density(\"g/cc\", 18.4)\n",
    "\n",
    "clad = openmc.Material(name='clad');\n",
    "clad.add_element(\"Zr\",1);\n",
    "clad.set_density('g/cc',6.0);\n",
    "\n",
    "alum = openmc.Material(name='alum');\n",
    "alum.add_element('Al',1);\n",
    "alum.set_density('g/cc',2.7); #according to Google...\n",
    "\n",
    "water = openmc.Material(name='water');\n",
    "water.add_element('O',1);\n",
    "water.add_element('H',2)\n",
    "water.set_density('g/cc',0.712); # higher temperature water...\n",
    "water.add_s_alpha_beta('c_H_in_H2O');\n",
    "\n",
    "graphite = openmc.Material(name='graphite');\n",
    "graphite.add_element('C',1);\n",
    "graphite.set_density('g/cc',1.7);\n",
    "graphite.add_s_alpha_beta('c_Graphite');\n",
    "\n",
    "heavy_w = openmc.Material(name='heavy_w');\n",
    "heavy_w.add_element('O',1);\n",
    "heavy_w.add_nuclide('H2',2);\n",
    "heavy_w.set_density('g/cc',1.1);\n",
    "heavy_w.add_s_alpha_beta('c_D_in_D2O');\n",
    "\n",
    "materials = openmc.Materials([fuel,clad,water,alum,graphite,heavy_w]);\n",
    "materials.export_to_xml();"
   ]
  },
  {
   "cell_type": "markdown",
   "id": "00667e59",
   "metadata": {},
   "source": [
    "## Geometry\n",
    "I will make a pin cell.  In order to (roughly) model a hanford pin cell I will use a uranium metal slug coated with aluminum in a graphite reflector cooled with water. "
   ]
  },
  {
   "cell_type": "code",
   "execution_count": 3,
   "id": "c9ba611c",
   "metadata": {},
   "outputs": [],
   "source": [
    "h_core = 300.; # all dimensions in cm \n",
    "h_fuel = 200.;\n",
    "\n",
    "r_fuel = 2.0;\n",
    "r_pin = 2.1;\n",
    "r_cool = 2.25;\n",
    "\n",
    "P_D = 6; \n",
    "\n",
    "pitch = P_D*r_cool*2.; # set P/D relative to the coolant channel diameter\n",
    "# P_D=2 is too tight; k_eff = 0.93\n",
    "# on later iterations add temperature effects to the fuel to see how important they are.\n",
    "\n",
    "fuel_cyl = openmc.model.RightCircularCylinder([0.,0.,-h_fuel/2.],\n",
    "                                             h_fuel, r_fuel);\n",
    "fuel.volume = np.pi*(r_fuel**2)*h_fuel;\n",
    "\n",
    "pin_cyl = openmc.model.RightCircularCylinder([0.,0.,-(h_fuel+(r_pin-r_fuel))/2.],\n",
    "                                            h_fuel+(r_pin-r_fuel)*2.,r_pin);\n",
    "\n",
    "cool_ch_cyl = openmc.model.RightCircularCylinder([0.,0.,-h_core/2.+5.],\n",
    "                                                h_core-10.,r_cool);\n",
    "# note: I added some margin between the coolant cell upper and lower boundaries and the core.\n",
    "# having those surfaces coincident resulted in lost particles.\n",
    "\n",
    "core_cell = openmc.model.RectangularParallelepiped(-pitch/2.,pitch/2.,\n",
    "                                                  -pitch/2.,pitch/2.,\n",
    "                                                  -h_core/2.,h_core/2.,\n",
    "                                                  boundary_type='reflective');\n",
    "\n",
    "fuel_cell = openmc.Cell();\n",
    "fuel_cell.region = -fuel_cyl;\n",
    "fuel_cell.fill = fuel;\n",
    "fuel_cell.temperature = 800; #K, reminder to fill this in later\n",
    "\n",
    "clad_cell = openmc.Cell();\n",
    "clad_cell.region = +fuel_cyl & -pin_cyl\n",
    "clad_cell.fill = clad;\n",
    "\n",
    "cool_cell = openmc.Cell();\n",
    "cool_cell.region = +pin_cyl & -cool_ch_cyl;\n",
    "cool_cell.fill = water;\n",
    "\n",
    "mod_cell = openmc.Cell();\n",
    "mod_cell.region = +cool_ch_cyl & -core_cell;\n",
    "mod_cell.fill = heavy_w;\n",
    "mod_cell.temperature = 300; # K, just a guess\n",
    "\n",
    "\n"
   ]
  },
  {
   "cell_type": "code",
   "execution_count": 4,
   "id": "a6426ca7",
   "metadata": {},
   "outputs": [],
   "source": [
    "root_univ = openmc.Universe();\n",
    "root_univ.add_cells([fuel_cell,clad_cell,cool_cell,mod_cell]);\n",
    "\n",
    "geometry = openmc.Geometry();\n",
    "geometry.root_universe = root_univ;\n",
    "\n",
    "geometry.export_to_xml();\n"
   ]
  },
  {
   "cell_type": "code",
   "execution_count": 5,
   "id": "21c5e7d1",
   "metadata": {},
   "outputs": [
    {
     "data": {
      "image/png": "[encoded data removed]",
      "text/plain": [
       "<Figure size 432x288 with 1 Axes>"
      ]
     },
     "metadata": {
      "needs_background": "light"
     },
     "output_type": "display_data"
    }
   ],
   "source": [
    "color = {}\n",
    "color[fuel]='yellow';\n",
    "color[alum]='gray';\n",
    "color[water]='blue';\n",
    "color[graphite]='black';\n",
    "color[heavy_w] = 'cyan';\n",
    "\n",
    "#root_univ.plot(width=(pitch,pitch),color_by='material',colors=color);\n",
    "root_univ.plot(width=(3*r_cool,3*r_cool),color_by='material',colors=color);"
   ]
  },
  {
   "cell_type": "markdown",
   "id": "5ba10d9a",
   "metadata": {},
   "source": [
    "## Settings\n",
    "Initially we will just find what the eigenvalue is.  Since this will model a reactor that is infinite, the materials will need to be tweaked so that the eigenvalue is greater than 1.  "
   ]
  },
  {
   "cell_type": "code",
   "execution_count": 6,
   "id": "6c498adc",
   "metadata": {},
   "outputs": [],
   "source": [
    "settings = openmc.Settings();\n",
    "settings.run_mode = 'eigenvalue';\n",
    "settings.particles = 10000;\n",
    "settings.batches = 150;\n",
    "settings.inactive = 50;\n",
    "\n",
    "box = openmc.stats.Box(lower_left = (-r_fuel,-r_fuel,-h_fuel/2.),\n",
    "                      upper_right = (r_fuel,r_fuel,h_fuel/2.),\n",
    "                      only_fissionable=True);\n",
    "src = openmc.Source(space=box);\n",
    "\n",
    "settings.source = src;\n",
    "\n",
    "settings.temperature['method']='interpolation';\n",
    "\n",
    "settings.export_to_xml();\n"
   ]
  },
  {
   "cell_type": "code",
   "execution_count": 7,
   "id": "2a5ede94",
   "metadata": {},
   "outputs": [
    {
     "name": "stdout",
     "output_type": "stream",
     "text": [
      "                                %%%%%%%%%%%%%%%\n",
      "                           %%%%%%%%%%%%%%%%%%%%%%%%\n",
      "                        %%%%%%%%%%%%%%%%%%%%%%%%%%%%%%\n",
      "                      %%%%%%%%%%%%%%%%%%%%%%%%%%%%%%%%%%\n",
      "                    %%%%%%%%%%%%%%%%%%%%%%%%%%%%%%%%%%%%%%\n",
      "                   %%%%%%%%%%%%%%%%%%%%%%%%%%%%%%%%%%%%%%%%\n",
      "                                    %%%%%%%%%%%%%%%%%%%%%%%%\n",
      "                                     %%%%%%%%%%%%%%%%%%%%%%%%\n",
      "                 ###############      %%%%%%%%%%%%%%%%%%%%%%%%\n",
      "                ##################     %%%%%%%%%%%%%%%%%%%%%%%\n",
      "                ###################     %%%%%%%%%%%%%%%%%%%%%%%\n",
      "                ####################     %%%%%%%%%%%%%%%%%%%%%%\n",
      "                #####################     %%%%%%%%%%%%%%%%%%%%%\n",
      "                ######################     %%%%%%%%%%%%%%%%%%%%\n",
      "                #######################     %%%%%%%%%%%%%%%%%%\n",
      "                 #######################     %%%%%%%%%%%%%%%%%\n",
      "                 ######################     %%%%%%%%%%%%%%%%%\n",
      "                  ####################     %%%%%%%%%%%%%%%%%\n",
      "                    #################     %%%%%%%%%%%%%%%%%\n",
      "                     ###############     %%%%%%%%%%%%%%%%\n",
      "                       ############     %%%%%%%%%%%%%%%\n",
      "                          ########     %%%%%%%%%%%%%%\n",
      "                                      %%%%%%%%%%%\n",
      "\n",
      "                   | The OpenMC Monte Carlo Code\n",
      "         Copyright | 2011-2021 MIT and OpenMC contributors\n",
      "           License | https://docs.openmc.org/en/latest/license.html\n",
      "           Version | 0.12.1\n",
      "          Git SHA1 | d49e6ccb837685e399efdef8b29e46cdc693ccec\n",
      "         Date/Time | 2021-05-16 16:25:42\n",
      "    OpenMP Threads | 8\n",
      "\n",
      " Reading settings XML file...\n",
      " Reading cross sections XML file...\n",
      " Reading materials XML file...\n",
      " Reading geometry XML file...\n",
      " Reading U234 from /home/stu/OMC_DATA/endfb71_hdf5/U234.h5\n",
      " Reading U235 from /home/stu/OMC_DATA/endfb71_hdf5/U235.h5\n",
      " Reading U238 from /home/stu/OMC_DATA/endfb71_hdf5/U238.h5\n",
      " Reading U236 from /home/stu/OMC_DATA/endfb71_hdf5/U236.h5\n",
      " Reading Zr90 from /home/stu/OMC_DATA/endfb71_hdf5/Zr90.h5\n",
      " Reading Zr91 from /home/stu/OMC_DATA/endfb71_hdf5/Zr91.h5\n",
      " Reading Zr92 from /home/stu/OMC_DATA/endfb71_hdf5/Zr92.h5\n",
      " Reading Zr94 from /home/stu/OMC_DATA/endfb71_hdf5/Zr94.h5\n",
      " Reading Zr96 from /home/stu/OMC_DATA/endfb71_hdf5/Zr96.h5\n",
      " Reading Al27 from /home/stu/OMC_DATA/endfb71_hdf5/Al27.h5\n",
      " Reading O16 from /home/stu/OMC_DATA/endfb71_hdf5/O16.h5\n",
      " Reading O17 from /home/stu/OMC_DATA/endfb71_hdf5/O17.h5\n",
      " Reading H1 from /home/stu/OMC_DATA/endfb71_hdf5/H1.h5\n",
      " Reading H2 from /home/stu/OMC_DATA/endfb71_hdf5/H2.h5\n",
      " Reading C0 from /home/stu/OMC_DATA/endfb71_hdf5/C0.h5\n",
      " Reading c_H_in_H2O from /home/stu/OMC_DATA/endfb71_hdf5/c_H_in_H2O.h5\n",
      " Reading c_Graphite from /home/stu/OMC_DATA/endfb71_hdf5/c_Graphite.h5\n",
      " Reading c_D_in_D2O from /home/stu/OMC_DATA/endfb71_hdf5/c_D_in_D2O.h5\n",
      " Minimum neutron data temperature: 600.0 K\n",
      " Maximum neutron data temperature: 600.0 K\n",
      " Preparing distributed cell instances...\n",
      " Writing summary.h5 file...\n",
      " Maximum neutron transport energy: 20000000.0 eV for U235\n",
      " Initializing source particles...\n",
      "\n",
      " ====================>     K EIGENVALUE SIMULATION     <====================\n",
      "\n",
      "  Bat./Gen.      k            Average k\n",
      "  =========   ========   ====================\n",
      "        1/1    1.17375\n",
      "        2/1    1.19139\n",
      "        3/1    1.20876\n",
      "        4/1    1.18702\n",
      "        5/1    1.21334\n",
      "        6/1    1.19299\n",
      "        7/1    1.17658\n",
      "        8/1    1.20549\n",
      "        9/1    1.21817\n",
      "       10/1    1.20262\n",
      "       11/1    1.16825\n",
      "       12/1    1.19795\n",
      "       13/1    1.21085\n",
      "       14/1    1.18918\n",
      "       15/1    1.17870\n",
      "       16/1    1.17958\n",
      "       17/1    1.17620\n",
      "       18/1    1.19931\n",
      "       19/1    1.19330\n",
      "       20/1    1.20798\n",
      "       21/1    1.18442\n",
      "       22/1    1.19211\n",
      "       23/1    1.17329\n",
      "       24/1    1.18540\n",
      "       25/1    1.17348\n",
      "       26/1    1.20069\n",
      "       27/1    1.19382\n",
      "       28/1    1.18938\n",
      "       29/1    1.19693\n",
      "       30/1    1.20908\n",
      "       31/1    1.18954\n",
      "       32/1    1.18661\n",
      "       33/1    1.18226\n",
      "       34/1    1.18877\n",
      "       35/1    1.20777\n",
      "       36/1    1.17479\n",
      "       37/1    1.19782\n",
      "       38/1    1.18169\n",
      "       39/1    1.18188\n",
      "       40/1    1.19500\n",
      "       41/1    1.17532\n",
      "       42/1    1.19129\n",
      "       43/1    1.19106\n",
      "       44/1    1.18490\n",
      "       45/1    1.17989\n",
      "       46/1    1.20867\n",
      "       47/1    1.17116\n",
      "       48/1    1.18819\n",
      "       49/1    1.20288\n",
      "       50/1    1.22511\n",
      "       51/1    1.18353\n",
      "       52/1    1.19970    1.19161 +/- 0.00809\n",
      "       53/1    1.18761    1.19028 +/- 0.00486\n",
      "       54/1    1.16790    1.18469 +/- 0.00656\n",
      "       55/1    1.18119    1.18399 +/- 0.00513\n",
      "       56/1    1.19290    1.18547 +/- 0.00445\n",
      "       57/1    1.20746    1.18861 +/- 0.00490\n",
      "       58/1    1.18094    1.18765 +/- 0.00435\n",
      "       59/1    1.19788    1.18879 +/- 0.00400\n",
      "       60/1    1.18101    1.18801 +/- 0.00366\n",
      "       61/1    1.16281    1.18572 +/- 0.00403\n",
      "       62/1    1.19651    1.18662 +/- 0.00378\n",
      "       63/1    1.18665    1.18662 +/- 0.00348\n",
      "       64/1    1.19209    1.18701 +/- 0.00325\n",
      "       65/1    1.19848    1.18778 +/- 0.00312\n",
      "       66/1    1.18690    1.18772 +/- 0.00292\n",
      "       67/1    1.19740    1.18829 +/- 0.00280\n",
      "       68/1    1.16529    1.18701 +/- 0.00293\n",
      "       69/1    1.19005    1.18717 +/- 0.00278\n",
      "       70/1    1.17065    1.18635 +/- 0.00276\n",
      "       71/1    1.19652    1.18683 +/- 0.00267\n",
      "       72/1    1.18928    1.18694 +/- 0.00255\n",
      "       73/1    1.19447    1.18727 +/- 0.00246\n",
      "       74/1    1.20559    1.18803 +/- 0.00247\n",
      "       75/1    1.17660    1.18758 +/- 0.00242\n",
      "       76/1    1.19947    1.18803 +/- 0.00237\n",
      "       77/1    1.18218    1.18782 +/- 0.00229\n",
      "       78/1    1.19614    1.18811 +/- 0.00222\n",
      "       79/1    1.18819    1.18812 +/- 0.00215\n",
      "       80/1    1.18026    1.18785 +/- 0.00209\n",
      "       81/1    1.18213    1.18767 +/- 0.00203\n",
      "       82/1    1.19416    1.18787 +/- 0.00198\n",
      "       83/1    1.19075    1.18796 +/- 0.00192\n",
      "       84/1    1.18496    1.18787 +/- 0.00186\n",
      "       85/1    1.18706    1.18785 +/- 0.00181\n",
      "       86/1    1.19837    1.18814 +/- 0.00178\n",
      "       87/1    1.16364    1.18748 +/- 0.00185\n",
      "       88/1    1.19827    1.18776 +/- 0.00183\n",
      "       89/1    1.17703    1.18749 +/- 0.00180\n",
      "       90/1    1.18666    1.18747 +/- 0.00176\n",
      "       91/1    1.16839    1.18700 +/- 0.00177\n",
      "       92/1    1.20847    1.18751 +/- 0.00181\n",
      "       93/1    1.17027    1.18711 +/- 0.00181\n",
      "       94/1    1.20217    1.18745 +/- 0.00180\n",
      "       95/1    1.18376    1.18737 +/- 0.00176\n",
      "       96/1    1.20617    1.18778 +/- 0.00177\n",
      "       97/1    1.17697    1.18755 +/- 0.00175\n",
      "       98/1    1.18775    1.18755 +/- 0.00171\n",
      "       99/1    1.21205    1.18805 +/- 0.00175\n",
      "      100/1    1.20455    1.18838 +/- 0.00174\n",
      "      101/1    1.17118    1.18805 +/- 0.00174\n",
      "      102/1    1.20741    1.18842 +/- 0.00175\n",
      "      103/1    1.16557    1.18799 +/- 0.00177\n",
      "      104/1    1.17289    1.18771 +/- 0.00176\n",
      "      105/1    1.19652    1.18787 +/- 0.00173\n",
      "      106/1    1.17008    1.18755 +/- 0.00173\n",
      "      107/1    1.18918    1.18758 +/- 0.00170\n",
      "      108/1    1.19921    1.18778 +/- 0.00168\n",
      "      109/1    1.18728    1.18777 +/- 0.00165\n",
      "      110/1    1.17561    1.18757 +/- 0.00164\n",
      "      111/1    1.19895    1.18776 +/- 0.00162\n",
      "      112/1    1.19787    1.18792 +/- 0.00160\n",
      "      113/1    1.18098    1.18781 +/- 0.00158\n",
      "      114/1    1.17544    1.18762 +/- 0.00157\n",
      "      115/1    1.18227    1.18753 +/- 0.00155\n",
      "      116/1    1.18007    1.18742 +/- 0.00153\n",
      "      117/1    1.19000    1.18746 +/- 0.00151\n",
      "      118/1    1.18264    1.18739 +/- 0.00149\n",
      "      119/1    1.18385    1.18734 +/- 0.00146\n",
      "      120/1    1.18358    1.18728 +/- 0.00144\n",
      "      121/1    1.20813    1.18758 +/- 0.00145\n",
      "      122/1    1.16671    1.18729 +/- 0.00146\n",
      "      123/1    1.21888    1.18772 +/- 0.00151\n",
      "      124/1    1.15481    1.18727 +/- 0.00155\n",
      "      125/1    1.19668    1.18740 +/- 0.00153\n",
      "      126/1    1.19086    1.18745 +/- 0.00152\n",
      "      127/1    1.18502    1.18741 +/- 0.00150\n",
      "      128/1    1.20452    1.18763 +/- 0.00149\n",
      "      129/1    1.19329    1.18771 +/- 0.00148\n",
      "      130/1    1.19013    1.18774 +/- 0.00146\n",
      "      131/1    1.20486    1.18795 +/- 0.00145\n",
      "      132/1    1.18359    1.18789 +/- 0.00144\n"
     ]
    },
    {
     "name": "stdout",
     "output_type": "stream",
     "text": [
      "      133/1    1.18078    1.18781 +/- 0.00142\n",
      "      134/1    1.19895    1.18794 +/- 0.00141\n",
      "      135/1    1.19813    1.18806 +/- 0.00140\n",
      "      136/1    1.18522    1.18803 +/- 0.00138\n",
      "      137/1    1.17592    1.18789 +/- 0.00138\n",
      "      138/1    1.18732    1.18788 +/- 0.00136\n",
      "      139/1    1.16138    1.18758 +/- 0.00138\n",
      "      140/1    1.20406    1.18777 +/- 0.00137\n",
      "      141/1    1.19478    1.18784 +/- 0.00136\n",
      "      142/1    1.17730    1.18773 +/- 0.00135\n",
      "      143/1    1.16978    1.18754 +/- 0.00135\n",
      "      144/1    1.19302    1.18759 +/- 0.00134\n",
      "      145/1    1.18452    1.18756 +/- 0.00132\n",
      "      146/1    1.19222    1.18761 +/- 0.00131\n",
      "      147/1    1.18699    1.18760 +/- 0.00130\n",
      "      148/1    1.17034    1.18743 +/- 0.00130\n",
      "      149/1    1.19703    1.18753 +/- 0.00129\n",
      "      150/1    1.18861    1.18754 +/- 0.00127\n",
      " Creating state point statepoint.150.h5...\n",
      "\n",
      " =======================>     TIMING STATISTICS     <=======================\n",
      "\n",
      " Total time for initialization     = 1.6004e+00 seconds\n",
      "   Reading cross sections          = 1.5796e+00 seconds\n",
      " Total time in simulation          = 2.1982e+02 seconds\n",
      "   Time in transport only          = 2.1954e+02 seconds\n",
      "   Time in inactive batches        = 6.7621e+01 seconds\n",
      "   Time in active batches          = 1.5219e+02 seconds\n",
      "   Time synchronizing fission bank = 1.6040e-01 seconds\n",
      "     Sampling source sites         = 1.3950e-01 seconds\n",
      "     SEND/RECV source sites        = 2.0242e-02 seconds\n",
      "   Time accumulating tallies       = 2.4370e-04 seconds\n",
      "   Time writing statepoints        = 5.2965e-03 seconds\n",
      " Total time for finalization       = 1.2910e-06 seconds\n",
      " Total time elapsed                = 2.2144e+02 seconds\n",
      " Calculation Rate (inactive)       = 7394.13 particles/second\n",
      " Calculation Rate (active)         = 6570.57 particles/second\n",
      "\n",
      " ============================>     RESULTS     <============================\n",
      "\n",
      " k-effective (Collision)     = 1.18717 +/- 0.00095\n",
      " k-effective (Track-length)  = 1.18754 +/- 0.00127\n",
      " k-effective (Absorption)    = 1.18728 +/- 0.00102\n",
      " Combined k-effective        = 1.18724 +/- 0.00077\n",
      " Leakage Fraction            = 0.00000 +/- 0.00000\n",
      "\n"
     ]
    }
   ],
   "source": [
    "openmc.run();"
   ]
  },
  {
   "cell_type": "markdown",
   "id": "5a226344",
   "metadata": {},
   "source": [
    "## Depletion Calculation\n",
    "Okay - this is a start.  I fully expect that the reactor, as modeled, will not remain critical once equilibrium Xe-135 and Sm-149 are established in the core.  The negative reactivity from the doppler broadening of the fuel didn't turn out to be such a big deal."
   ]
  },
  {
   "cell_type": "code",
   "execution_count": 8,
   "id": "bd44a9c4",
   "metadata": {},
   "outputs": [
    {
     "name": "stdout",
     "output_type": "stream",
     "text": [
      "Maximum recommended depletion step 9248.849 days\n"
     ]
    }
   ],
   "source": [
    "import openmc.deplete\n",
    "\n",
    "operator = openmc.deplete.Operator(geometry,settings,\"chain_casl_pwr.xml\");\n",
    "power = 1e4; # W, this is a guess\n",
    "\n",
    "operator.heavy_metal\n",
    "\n",
    "max_step = 2*operator.heavy_metal/power*1e3\n",
    "print(f'Maximum recommended depletion step %5.3f days' % max_step);"
   ]
  },
  {
   "cell_type": "code",
   "execution_count": 9,
   "id": "9d7ad7ce",
   "metadata": {},
   "outputs": [],
   "source": [
    "\n",
    "days = 24*3600; # seconds in a day\n",
    "time_steps = [0.1*days,0.1*days,0.2*days,0.3*days,0.5*days,\n",
    "              1.0*days,10.0*days, 100.0*days, 100.0*days, 200.*days,\n",
    "             200.*days, 200.*days, 500.*days, 500.*days];\n"
   ]
  },
  {
   "cell_type": "code",
   "execution_count": 10,
   "id": "b4432c24",
   "metadata": {},
   "outputs": [],
   "source": [
    "integrator = openmc.deplete.PredictorIntegrator(operator,time_steps,power=power);\n",
    "#integrator = openmc.deplete.CELIIntegrator(operator,time_steps,power=power);\n",
    "#integrator = openmc.deplete.SICELIIntegrator(operator,time_steps,power=power);"
   ]
  },
  {
   "cell_type": "code",
   "execution_count": 11,
   "id": "2fe55288",
   "metadata": {},
   "outputs": [],
   "source": [
    "integrator.integrate()"
   ]
  },
  {
   "cell_type": "code",
   "execution_count": 12,
   "id": "e4021ac1",
   "metadata": {},
   "outputs": [],
   "source": [
    "results = openmc.deplete.ResultsList.from_hdf5(\"./depletion_results.h5\")"
   ]
  },
  {
   "cell_type": "code",
   "execution_count": 13,
   "id": "dc4fea0c",
   "metadata": {},
   "outputs": [],
   "source": [
    "time, k = results.get_eigenvalue()"
   ]
  },
  {
   "cell_type": "code",
   "execution_count": 14,
   "id": "c06c5383",
   "metadata": {},
   "outputs": [],
   "source": [
    "time /= (24*3600);"
   ]
  },
  {
   "cell_type": "code",
   "execution_count": 15,
   "id": "d8ff16b8",
   "metadata": {},
   "outputs": [],
   "source": [
    "from matplotlib import pyplot"
   ]
  },
  {
   "cell_type": "code",
   "execution_count": 16,
   "id": "8de243e4",
   "metadata": {},
   "outputs": [
    {
     "data": {
      "image/png": "[encoded data removed]",
      "text/plain": [
       "<Figure size 432x288 with 1 Axes>"
      ]
     },
     "metadata": {
      "needs_background": "light"
     },
     "output_type": "display_data"
    }
   ],
   "source": [
    "pyplot.errorbar(time,k[:,0],yerr=k[:,1]);\n",
    "pyplot.xlabel('Time [d]');\n",
    "pyplot.ylabel('$k_{eff}\\pm \\sigma$');\n",
    "pyplot.title(\"$k_{eff}$ vs time\");\n",
    "pyplot.grid();"
   ]
  },
  {
   "cell_type": "markdown",
   "id": "465b72c7",
   "metadata": {},
   "source": [
    "obviously, these results suck.  A better analysis would use more particles at least and probably smaller time steps."
   ]
  },
  {
   "cell_type": "code",
   "execution_count": 17,
   "id": "8abcd910",
   "metadata": {},
   "outputs": [],
   "source": [
    "_time, pu239 = results.get_atoms(\"1\",\"Pu239\");\n",
    "_time, pu240 = results.get_atoms(\"1\",\"Pu240\");\n",
    "_time, pu241 = results.get_atoms(\"1\",\"Pu241\");"
   ]
  },
  {
   "cell_type": "code",
   "execution_count": 18,
   "id": "80a8d8d9",
   "metadata": {},
   "outputs": [
    {
     "data": {
      "image/png": "[encoded data removed]",
      "text/plain": [
       "<Figure size 432x288 with 1 Axes>"
      ]
     },
     "metadata": {
      "needs_background": "light"
     },
     "output_type": "display_data"
    }
   ],
   "source": [
    "pyplot.semilogy(time,pu239,label=\"Pu239\");\n",
    "pyplot.semilogy(time,pu240,label=\"Pu240\");\n",
    "pyplot.semilogy(time,pu241,label=\"Pu241\");\n",
    "pyplot.grid();\n",
    "pyplot.xlabel('Time [d]');\n",
    "pyplot.ylabel('Number of atoms');\n",
    "pyplot.legend();\n"
   ]
  },
  {
   "cell_type": "code",
   "execution_count": 19,
   "id": "0fdffae3",
   "metadata": {},
   "outputs": [],
   "source": [
    "mass_pu239 = pu239*(239./6.022e23);\n",
    "mass_pu240 = pu240*(240./6.022e23);\n",
    "mass_pu241 = pu241*(241./6.022e23);\n",
    "\n",
    "mass_pu = mass_pu239 + mass_pu240 + mass_pu241"
   ]
  },
  {
   "cell_type": "code",
   "execution_count": 20,
   "id": "1d283f7b",
   "metadata": {},
   "outputs": [],
   "source": [
    "pu_239_ratio = mass_pu239/mass_pu"
   ]
  },
  {
   "cell_type": "code",
   "execution_count": 21,
   "id": "c89e7bc3",
   "metadata": {},
   "outputs": [
    {
     "name": "stdout",
     "output_type": "stream",
     "text": [
      "[0.33194444 0.99998626 0.99998535 0.99998331 0.99998067 0.99997665\n",
      " 0.99996874 0.99987819 0.99881152 0.9977371  0.99558637 0.99344878\n",
      " 0.9913082  0.9859625  0.98066563]\n"
     ]
    }
   ],
   "source": [
    "print(pu_239_ratio)"
   ]
  },
  {
   "cell_type": "code",
   "execution_count": 22,
   "id": "7474e9dd",
   "metadata": {},
   "outputs": [
    {
     "data": {
      "image/png": "[encoded data removed]",
      "text/plain": [
       "<Figure size 432x288 with 1 Axes>"
      ]
     },
     "metadata": {
      "needs_background": "light"
     },
     "output_type": "display_data"
    }
   ],
   "source": [
    "_time, xe135 = results.get_atoms(\"1\",\"Xe135\")\n",
    "_time, sm149 = results.get_atoms(\"1\",\"Sm149\")\n",
    "\n",
    "pyplot.semilogy(time,xe135,label=\"Xe135\");\n",
    "pyplot.semilogy(time,sm149,label=\"Sm149\");\n",
    "pyplot.grid();\n",
    "pyplot.xlabel('Time [d]');\n",
    "pyplot.ylabel('Number of atoms');\n",
    "pyplot.legend();\n"
   ]
  },
  {
   "cell_type": "code",
   "execution_count": null,
   "id": "41246ebc",
   "metadata": {},
   "outputs": [],
   "source": [
    "results_list = openmc.deplete.ResultsList."
   ]
  },
  {
   "cell_type": "code",
   "execution_count": null,
   "id": "2aa58239",
   "metadata": {},
   "outputs": [],
   "source": []
  },
  {
   "cell_type": "code",
   "execution_count": null,
   "id": "6d508f34",
   "metadata": {},
   "outputs": [],
   "source": []
  }
 ],
 "metadata": {
  "kernelspec": {
   "display_name": "Python 3",
   "language": "python",
   "name": "python3"
  },
  "language_info": {
   "codemirror_mode": {
    "name": "ipython",
    "version": 3
   },
   "file_extension": ".py",
   "mimetype": "text/x-python",
   "name": "python",
   "nbconvert_exporter": "python",
   "pygments_lexer": "ipython3",
   "version": "3.9.2"
  }
 },
 "nbformat": 4,
 "nbformat_minor": 5
}
