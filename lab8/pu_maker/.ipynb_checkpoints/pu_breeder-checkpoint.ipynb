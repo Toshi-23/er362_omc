{
 "cells": [
  {
   "cell_type": "markdown",
   "id": "e713a113",
   "metadata": {},
   "source": [
    "# Plutonium Maker\n",
    "The purpose of this notebook is to investigate the performance of various pin-cell configurations in producing weapons grade plutonium.\n",
    "\n",
    "The sorts of questions that I want to be able to answer:\n",
    "1. What are the trade-offs in moderator selection\n",
    "2. What should be the fuel pitch, diameter and/or pitch to diameter ratio?\n",
    "3. How long should the fuel be left in the reactor for maximum production of plutonium? \n",
    "4.  I expect the answer to 3 to depend on the power density and the neutron energy spectrum.  I assume you should just operate at the maximum achievable power density (with respect to heat transfer requirements) but how does the neutron energy spectrum change things?\n",
    "5. If I wanted to make Pu-238, how would the reactor core design change. (fuel, moderator, coolant, geometric arrangement, etc...)\n",
    "\n",
    "After some initial investigations, I can investigate the available design information for early plutonium production reactors.  As much as is possible, I could try to observe how plutonium production reactor core design has changed over the years and try to infer the engineering rationale for the evolution. \n",
    "\n",
    "In short: I hope to build a *quantitative* intuition regarding these considerations.\n"
   ]
  },
  {
   "cell_type": "code",
   "execution_count": 1,
   "id": "360934a0",
   "metadata": {},
   "outputs": [],
   "source": [
    "import openmc\n",
    "import numpy as np\n",
    "\n",
    "%matplotlib inline"
   ]
  },
  {
   "cell_type": "markdown",
   "id": "90a4b2d5",
   "metadata": {},
   "source": [
    "## Materials\n"
   ]
  },
  {
   "cell_type": "code",
   "execution_count": 2,
   "id": "f2c43aac",
   "metadata": {},
   "outputs": [],
   "source": [
    "fuel = openmc.Material(name=\"uo2\")\n",
    "fuel.add_element(\"U\", 1, percent_type=\"ao\", enrichment=0.7)\n",
    "#fuel.add_element(\"O\", 2)\n",
    "fuel.set_density(\"g/cc\", 18.4)\n",
    "\n",
    "clad = openmc.Material(name='clad');\n",
    "clad.add_element(\"Zr\",1);\n",
    "clad.set_density('g/cc',6.0);\n",
    "\n",
    "alum = openmc.Material(name='alum');\n",
    "alum.add_element('Al',1);\n",
    "alum.set_density('g/cc',2.7); #according to Google...\n",
    "\n",
    "water = openmc.Material(name='water');\n",
    "water.add_element('O',1);\n",
    "water.add_element('H',2)\n",
    "water.set_density('g/cc',0.712); # higher temperature water...\n",
    "water.add_s_alpha_beta('c_H_in_H2O');\n",
    "\n",
    "graphite = openmc.Material(name='graphite');\n",
    "graphite.add_element('C',1);\n",
    "graphite.set_density('g/cc',1.7);\n",
    "graphite.add_s_alpha_beta('c_Graphite');\n",
    "\n",
    "materials = openmc.Materials([fuel,clad,water,alum,graphite]);\n",
    "materials.export_to_xml();"
   ]
  },
  {
   "cell_type": "markdown",
   "id": "00667e59",
   "metadata": {},
   "source": [
    "## Geometry\n",
    "I will make a pin cell.  In order to (roughly) model a hanford pin cell I will use a uranium metal slug coated with aluminum in a graphite reflector cooled with water. "
   ]
  },
  {
   "cell_type": "code",
   "execution_count": 3,
   "id": "c9ba611c",
   "metadata": {},
   "outputs": [],
   "source": [
    "h_core = 300.; # all dimensions in cm \n",
    "h_fuel = 200.;\n",
    "\n",
    "r_fuel = 2.0;\n",
    "r_pin = 2.1;\n",
    "r_cool = 2.25;\n",
    "\n",
    "P_D = 5.5; # with graphite moderator a relatively high P/D is needed for reasonable neutron economy\n",
    "# 10 is too high, 3 is too low (0.889), 7 is too high again (0.974), 5.5 (.9959) 4.5 (0.9859), 5.0 (0.9935), 6.0 (0.9948)\n",
    "\n",
    "# note that for P/D=5.5, if I eliminate the water from the cooling channel, keff jumps up to 1.0341 (!!)\n",
    "# all of the above was with a fuel radius (without the clad) of 1 cm.\n",
    "\n",
    "# when I increase the r_fuel to 2.0 with clad thickness and coolant channel \"thickness\" the same k_eff increases\n",
    "# somewhat. Effectively this increases the atom fraction of fuel compared to coolant or cladding so it is likely to help.\n",
    "\n",
    "\n",
    "pitch = P_D*r_cool*2.; # set P/D relative to the coolant channel diameter\n",
    "\n",
    "# on later iterations add temperature effects to the fuel to see how important they are.\n",
    "\n",
    "fuel_cyl = openmc.model.RightCircularCylinder([0.,0.,-h_fuel/2.],\n",
    "                                             h_fuel, r_fuel);\n",
    "fuel.volume = np.pi*(r_fuel**2)*h_fuel;\n",
    "\n",
    "pin_cyl = openmc.model.RightCircularCylinder([0.,0.,-(h_fuel+(r_pin-r_fuel))/2.],\n",
    "                                            h_fuel+(r_pin-r_fuel)*2.,r_pin);\n",
    "\n",
    "cool_ch_cyl = openmc.model.RightCircularCylinder([0.,0.,-h_core/2.+5.],\n",
    "                                                h_core-10.,r_cool);\n",
    "# note: I added some margin between the coolant cell upper and lower boundaries and the core.\n",
    "# having those surfaces coincident resulted in lost particles.\n",
    "\n",
    "core_cell = openmc.model.RectangularParallelepiped(-pitch/2.,pitch/2.,\n",
    "                                                  -pitch/2.,pitch/2.,\n",
    "                                                  -h_core/2.,h_core/2.,\n",
    "                                                  boundary_type='reflective');\n",
    "\n",
    "fuel_cell = openmc.Cell();\n",
    "fuel_cell.region = -fuel_cyl;\n",
    "fuel_cell.fill = fuel;\n",
    "fuel_cell.temperature = 800; #K, reminder to fill this in later\n",
    "\n",
    "clad_cell = openmc.Cell();\n",
    "clad_cell.region = +fuel_cyl & -pin_cyl\n",
    "clad_cell.fill = clad;\n",
    "\n",
    "cool_cell = openmc.Cell();\n",
    "cool_cell.region = +pin_cyl & -cool_ch_cyl;\n",
    "cool_cell.fill = water;\n",
    "\n",
    "mod_cell = openmc.Cell();\n",
    "mod_cell.region = +cool_ch_cyl & -core_cell;\n",
    "mod_cell.fill = graphite;\n",
    "mod_cell.temperature = 700; # K, just a guess\n",
    "\n",
    "\n"
   ]
  },
  {
   "cell_type": "code",
   "execution_count": 4,
   "id": "a6426ca7",
   "metadata": {},
   "outputs": [],
   "source": [
    "root_univ = openmc.Universe();\n",
    "root_univ.add_cells([fuel_cell,clad_cell,cool_cell,mod_cell]);\n",
    "\n",
    "geometry = openmc.Geometry();\n",
    "geometry.root_universe = root_univ;\n",
    "\n",
    "geometry.export_to_xml();\n"
   ]
  },
  {
   "cell_type": "code",
   "execution_count": 5,
   "id": "21c5e7d1",
   "metadata": {},
   "outputs": [
    {
     "data": {
      "image/png": "[encoded data removed]",
      "text/plain": [
       "<Figure size 432x288 with 1 Axes>"
      ]
     },
     "metadata": {
      "needs_background": "light"
     },
     "output_type": "display_data"
    }
   ],
   "source": [
    "color = {}\n",
    "color[fuel]='yellow';\n",
    "color[alum]='gray';\n",
    "color[water]='blue';\n",
    "color[graphite]='black';\n",
    "\n",
    "#root_univ.plot(width=(pitch,pitch),color_by='material',colors=color);\n",
    "root_univ.plot(width=(2*r_cool,2*r_cool),color_by='material',colors=color);"
   ]
  },
  {
   "cell_type": "markdown",
   "id": "5ba10d9a",
   "metadata": {},
   "source": [
    "## Settings\n",
    "Initially we will just find what the eigenvalue is.  Since this will model a reactor that is infinite, the materials will need to be tweaked so that the eigenvalue is greater than 1.  "
   ]
  },
  {
   "cell_type": "code",
   "execution_count": 6,
   "id": "6c498adc",
   "metadata": {},
   "outputs": [],
   "source": [
    "settings = openmc.Settings();\n",
    "settings.run_mode = 'eigenvalue';\n",
    "settings.particles = 4000;\n",
    "settings.batches = 150;\n",
    "settings.inactive = 50;\n",
    "\n",
    "box = openmc.stats.Box(lower_left = (-r_fuel,-r_fuel,-h_fuel/2.),\n",
    "                      upper_right = (r_fuel,r_fuel,h_fuel/2.),\n",
    "                      only_fissionable=True);\n",
    "src = openmc.Source(space=box);\n",
    "\n",
    "settings.source = src;\n",
    "\n",
    "settings.temperature['method']='interpolation';\n",
    "\n",
    "settings.export_to_xml();\n"
   ]
  },
  {
   "cell_type": "code",
   "execution_count": 7,
   "id": "2a5ede94",
   "metadata": {},
   "outputs": [
    {
     "name": "stdout",
     "output_type": "stream",
     "text": [
      "                                %%%%%%%%%%%%%%%\n",
      "                           %%%%%%%%%%%%%%%%%%%%%%%%\n",
      "                        %%%%%%%%%%%%%%%%%%%%%%%%%%%%%%\n",
      "                      %%%%%%%%%%%%%%%%%%%%%%%%%%%%%%%%%%\n",
      "                    %%%%%%%%%%%%%%%%%%%%%%%%%%%%%%%%%%%%%%\n",
      "                   %%%%%%%%%%%%%%%%%%%%%%%%%%%%%%%%%%%%%%%%\n",
      "                                    %%%%%%%%%%%%%%%%%%%%%%%%\n",
      "                                     %%%%%%%%%%%%%%%%%%%%%%%%\n",
      "                 ###############      %%%%%%%%%%%%%%%%%%%%%%%%\n",
      "                ##################     %%%%%%%%%%%%%%%%%%%%%%%\n",
      "                ###################     %%%%%%%%%%%%%%%%%%%%%%%\n",
      "                ####################     %%%%%%%%%%%%%%%%%%%%%%\n",
      "                #####################     %%%%%%%%%%%%%%%%%%%%%\n",
      "                ######################     %%%%%%%%%%%%%%%%%%%%\n",
      "                #######################     %%%%%%%%%%%%%%%%%%\n",
      "                 #######################     %%%%%%%%%%%%%%%%%\n",
      "                 ######################     %%%%%%%%%%%%%%%%%\n",
      "                  ####################     %%%%%%%%%%%%%%%%%\n",
      "                    #################     %%%%%%%%%%%%%%%%%\n",
      "                     ###############     %%%%%%%%%%%%%%%%\n",
      "                       ############     %%%%%%%%%%%%%%%\n",
      "                          ########     %%%%%%%%%%%%%%\n",
      "                                      %%%%%%%%%%%\n",
      "\n",
      "                   | The OpenMC Monte Carlo Code\n",
      "         Copyright | 2011-2021 MIT and OpenMC contributors\n",
      "           License | https://docs.openmc.org/en/latest/license.html\n",
      "           Version | 0.12.1\n",
      "          Git SHA1 | d49e6ccb837685e399efdef8b29e46cdc693ccec\n",
      "         Date/Time | 2021-05-15 18:10:34\n",
      "    OpenMP Threads | 8\n",
      "\n",
      " Reading settings XML file...\n",
      " Reading cross sections XML file...\n",
      " Reading materials XML file...\n",
      " Reading geometry XML file...\n",
      " Reading U234 from /home/stu/OMC_DATA/endfb71_hdf5/U234.h5\n",
      " Reading U235 from /home/stu/OMC_DATA/endfb71_hdf5/U235.h5\n",
      " Reading U238 from /home/stu/OMC_DATA/endfb71_hdf5/U238.h5\n",
      " Reading U236 from /home/stu/OMC_DATA/endfb71_hdf5/U236.h5\n",
      " Reading Zr90 from /home/stu/OMC_DATA/endfb71_hdf5/Zr90.h5\n",
      " Reading Zr91 from /home/stu/OMC_DATA/endfb71_hdf5/Zr91.h5\n",
      " Reading Zr92 from /home/stu/OMC_DATA/endfb71_hdf5/Zr92.h5\n",
      " Reading Zr94 from /home/stu/OMC_DATA/endfb71_hdf5/Zr94.h5\n",
      " Reading Zr96 from /home/stu/OMC_DATA/endfb71_hdf5/Zr96.h5\n",
      " Reading Al27 from /home/stu/OMC_DATA/endfb71_hdf5/Al27.h5\n",
      " Reading O16 from /home/stu/OMC_DATA/endfb71_hdf5/O16.h5\n",
      " Reading O17 from /home/stu/OMC_DATA/endfb71_hdf5/O17.h5\n",
      " Reading H1 from /home/stu/OMC_DATA/endfb71_hdf5/H1.h5\n",
      " Reading H2 from /home/stu/OMC_DATA/endfb71_hdf5/H2.h5\n",
      " Reading C0 from /home/stu/OMC_DATA/endfb71_hdf5/C0.h5\n",
      " Reading c_H_in_H2O from /home/stu/OMC_DATA/endfb71_hdf5/c_H_in_H2O.h5\n",
      " Reading c_Graphite from /home/stu/OMC_DATA/endfb71_hdf5/c_Graphite.h5\n",
      " Minimum neutron data temperature: 600.0 K\n",
      " Maximum neutron data temperature: 600.0 K\n",
      " Preparing distributed cell instances...\n",
      " Writing summary.h5 file...\n",
      " Maximum neutron transport energy: 20000000.0 eV for U235\n",
      " Initializing source particles...\n",
      "\n",
      " ====================>     K EIGENVALUE SIMULATION     <====================\n",
      "\n",
      "  Bat./Gen.      k            Average k\n",
      "  =========   ========   ====================\n",
      "        1/1    0.97704\n",
      "        2/1    0.99450\n",
      "        3/1    0.98133\n",
      "        4/1    1.00101\n",
      "        5/1    0.99791\n",
      "        6/1    1.01049\n",
      "        7/1    1.02688\n",
      "        8/1    1.01887\n",
      "        9/1    0.98885\n",
      "       10/1    0.99847\n",
      "       11/1    1.03526\n",
      "       12/1    1.07566\n",
      "       13/1    0.97804\n",
      "       14/1    1.04720\n",
      "       15/1    1.00997\n",
      "       16/1    1.01146\n",
      "       17/1    0.99281\n",
      "       18/1    1.01908\n",
      "       19/1    0.99831\n",
      "       20/1    1.05851\n",
      "       21/1    1.03741\n",
      "       22/1    0.99652\n",
      "       23/1    1.02513\n",
      "       24/1    1.01153\n",
      "       25/1    1.01521\n",
      "       26/1    1.00013\n",
      "       27/1    1.03181\n",
      "       28/1    0.99847\n",
      "       29/1    1.00218\n",
      "       30/1    0.98791\n",
      "       31/1    1.00708\n",
      "       32/1    1.00396\n",
      "       33/1    1.00505\n",
      "       34/1    1.03786\n",
      "       35/1    1.01286\n",
      "       36/1    1.00177\n",
      "       37/1    1.02585\n",
      "       38/1    1.00317\n",
      "       39/1    1.01907\n",
      "       40/1    1.05637\n",
      "       41/1    1.01101\n",
      "       42/1    0.99353\n",
      "       43/1    1.03542\n",
      "       44/1    1.04098\n",
      "       45/1    1.03111\n",
      "       46/1    1.04277\n",
      "       47/1    1.02118\n",
      "       48/1    1.02523\n",
      "       49/1    0.99722\n",
      "       50/1    0.99010\n",
      "       51/1    1.03016\n",
      "       52/1    1.03766    1.03391 +/- 0.00375\n",
      "       53/1    1.04335    1.03705 +/- 0.00382\n",
      "       54/1    1.00473    1.02897 +/- 0.00852\n",
      "       55/1    1.03992    1.03116 +/- 0.00695\n",
      "       56/1    1.00739    1.02720 +/- 0.00692\n",
      "       57/1    1.00042    1.02337 +/- 0.00699\n",
      "       58/1    0.99909    1.02034 +/- 0.00677\n",
      "       59/1    0.97988    1.01584 +/- 0.00748\n",
      "       60/1    0.98456    1.01271 +/- 0.00738\n",
      "       61/1    1.05368    1.01644 +/- 0.00765\n",
      "       62/1    0.97478    1.01297 +/- 0.00780\n",
      "       63/1    1.03054    1.01432 +/- 0.00730\n",
      "       64/1    1.02088    1.01479 +/- 0.00677\n",
      "       65/1    1.02768    1.01565 +/- 0.00636\n",
      "       66/1    0.98449    1.01370 +/- 0.00626\n",
      "       67/1    0.97639    1.01151 +/- 0.00628\n",
      "       68/1    1.01774    1.01185 +/- 0.00593\n",
      "       69/1    0.98285    1.01032 +/- 0.00581\n",
      "       70/1    1.01738    1.01068 +/- 0.00553\n",
      "       71/1    1.00592    1.01045 +/- 0.00526\n",
      "       72/1    0.98509    1.00930 +/- 0.00515\n",
      "       73/1    0.99874    1.00884 +/- 0.00494\n",
      "       74/1    0.99732    1.00836 +/- 0.00475\n",
      "       75/1    1.01007    1.00843 +/- 0.00456\n",
      "       76/1    1.03139    1.00931 +/- 0.00447\n",
      "       77/1    1.04902    1.01078 +/- 0.00454\n",
      "       78/1    0.98901    1.01000 +/- 0.00445\n",
      "       79/1    1.02144    1.01040 +/- 0.00431\n",
      "       80/1    0.94217    1.00812 +/- 0.00474\n",
      "       81/1    1.03520    1.00900 +/- 0.00467\n",
      "       82/1    1.02179    1.00940 +/- 0.00454\n",
      "       83/1    1.02745    1.00994 +/- 0.00443\n",
      "       84/1    1.00379    1.00976 +/- 0.00431\n",
      "       85/1    0.95648    1.00824 +/- 0.00445\n",
      "       86/1    1.00998    1.00829 +/- 0.00432\n",
      "       87/1    0.97648    1.00743 +/- 0.00429\n",
      "       88/1    0.99348    1.00706 +/- 0.00419\n",
      "       89/1    1.01811    1.00735 +/- 0.00410\n",
      "       90/1    1.00895    1.00739 +/- 0.00399\n",
      "       91/1    0.97269    1.00654 +/- 0.00398\n",
      "       92/1    1.04768    1.00752 +/- 0.00401\n",
      "       93/1    1.00930    1.00756 +/- 0.00392\n",
      "       94/1    0.96885    1.00668 +/- 0.00393\n",
      "       95/1    1.03340    1.00727 +/- 0.00388\n",
      "       96/1    1.01616    1.00747 +/- 0.00380\n",
      "       97/1    1.01366    1.00760 +/- 0.00372\n",
      "       98/1    1.07219    1.00895 +/- 0.00389\n",
      "       99/1    1.01169    1.00900 +/- 0.00381\n",
      "      100/1    0.97956    1.00841 +/- 0.00377\n",
      "      101/1    0.94266    1.00712 +/- 0.00392\n",
      "      102/1    1.03366    1.00763 +/- 0.00388\n",
      "      103/1    0.97683    1.00705 +/- 0.00385\n",
      "      104/1    1.00552    1.00702 +/- 0.00377\n",
      "      105/1    1.01099    1.00710 +/- 0.00371\n",
      "      106/1    0.98395    1.00668 +/- 0.00366\n",
      "      107/1    0.99438    1.00647 +/- 0.00360\n",
      "      108/1    0.98295    1.00606 +/- 0.00356\n",
      "      109/1    0.98525    1.00571 +/- 0.00352\n",
      "      110/1    1.00632    1.00572 +/- 0.00346\n",
      "      111/1    1.02740    1.00607 +/- 0.00342\n",
      "      112/1    1.00087    1.00599 +/- 0.00337\n",
      "      113/1    0.99525    1.00582 +/- 0.00332\n",
      "      114/1    0.99202    1.00560 +/- 0.00327\n",
      "      115/1    1.07285    1.00664 +/- 0.00339\n",
      "      116/1    1.00289    1.00658 +/- 0.00333\n",
      "      117/1    0.99103    1.00635 +/- 0.00329\n",
      "      118/1    1.00400    1.00632 +/- 0.00324\n",
      "      119/1    0.99216    1.00611 +/- 0.00320\n",
      "      120/1    1.00618    1.00611 +/- 0.00316\n",
      "      121/1    1.03624    1.00654 +/- 0.00314\n",
      "      122/1    1.05314    1.00718 +/- 0.00316\n",
      "      123/1    0.96586    1.00662 +/- 0.00317\n",
      "      124/1    0.99081    1.00640 +/- 0.00314\n",
      "      125/1    1.02132    1.00660 +/- 0.00310\n",
      "      126/1    1.01444    1.00671 +/- 0.00306\n",
      "      127/1    0.97133    1.00625 +/- 0.00305\n",
      "      128/1    0.99550    1.00611 +/- 0.00302\n",
      "      129/1    0.99209    1.00593 +/- 0.00299\n",
      "      130/1    1.01312    1.00602 +/- 0.00295\n",
      "      131/1    0.99146    1.00584 +/- 0.00292\n",
      "      132/1    0.96814    1.00538 +/- 0.00292\n",
      "      133/1    1.00313    1.00535 +/- 0.00288\n",
      "      134/1    1.00438    1.00534 +/- 0.00285\n"
     ]
    },
    {
     "name": "stdout",
     "output_type": "stream",
     "text": [
      "      135/1    1.02848    1.00561 +/- 0.00283\n",
      "      136/1    1.00042    1.00555 +/- 0.00280\n",
      "      137/1    0.97096    1.00516 +/- 0.00279\n",
      "      138/1    1.00417    1.00515 +/- 0.00276\n",
      "      139/1    0.99487    1.00503 +/- 0.00273\n",
      "      140/1    0.97560    1.00470 +/- 0.00272\n",
      "      141/1    1.03781    1.00507 +/- 0.00272\n",
      "      142/1    0.95179    1.00449 +/- 0.00275\n",
      "      143/1    0.99481    1.00438 +/- 0.00272\n",
      "      144/1    0.94945    1.00380 +/- 0.00275\n",
      "      145/1    0.97765    1.00352 +/- 0.00274\n",
      "      146/1    0.97011    1.00318 +/- 0.00273\n",
      "      147/1    0.97851    1.00292 +/- 0.00272\n",
      "      148/1    0.97022    1.00259 +/- 0.00271\n",
      "      149/1    1.01007    1.00266 +/- 0.00268\n",
      "      150/1    0.99190    1.00256 +/- 0.00266\n",
      " Creating state point statepoint.150.h5...\n",
      "\n",
      " =======================>     TIMING STATISTICS     <=======================\n",
      "\n",
      " Total time for initialization     = 1.4350e+00 seconds\n",
      "   Reading cross sections          = 1.4204e+00 seconds\n",
      " Total time in simulation          = 1.8809e+01 seconds\n",
      "   Time in transport only          = 1.8739e+01 seconds\n",
      "   Time in inactive batches        = 5.9208e+00 seconds\n",
      "   Time in active batches          = 1.2888e+01 seconds\n",
      "   Time synchronizing fission bank = 2.2313e-02 seconds\n",
      "     Sampling source sites         = 1.9397e-02 seconds\n",
      "     SEND/RECV source sites        = 2.5473e-03 seconds\n",
      "   Time accumulating tallies       = 1.6596e-04 seconds\n",
      "   Time writing statepoints        = 3.8687e-03 seconds\n",
      " Total time for finalization       = 8.3500e-07 seconds\n",
      " Total time elapsed                = 2.0267e+01 seconds\n",
      " Calculation Rate (inactive)       = 16889.7 particles/second\n",
      " Calculation Rate (active)         = 15518.3 particles/second\n",
      "\n",
      " ============================>     RESULTS     <============================\n",
      "\n",
      " k-effective (Collision)     = 1.00069 +/- 0.00227\n",
      " k-effective (Track-length)  = 1.00256 +/- 0.00266\n",
      " k-effective (Absorption)    = 1.00145 +/- 0.00205\n",
      " Combined k-effective        = 1.00116 +/- 0.00167\n",
      " Leakage Fraction            = 0.00000 +/- 0.00000\n",
      "\n"
     ]
    }
   ],
   "source": [
    "openmc.run();"
   ]
  },
  {
   "cell_type": "markdown",
   "id": "14be73d4",
   "metadata": {},
   "source": [
    "## Depletion Calculation\n",
    "Okay - this is a start.  I fully expect that the reactor, as modeled, will not remain critical once equilibrium Xe-135 and Sm-149 are established in the core.  The negative reactivity from the doppler broadening of the fuel didn't turn out to be such a big deal."
   ]
  },
  {
   "cell_type": "code",
   "execution_count": 8,
   "id": "51c259c4",
   "metadata": {},
   "outputs": [
    {
     "name": "stdout",
     "output_type": "stream",
     "text": [
      "Maximum recommended depletion step 9248.849 days\n"
     ]
    }
   ],
   "source": [
    "import openmc.deplete\n",
    "\n",
    "operator = openmc.deplete.Operator(geometry,settings,\"chain_casl_pwr.xml\");\n",
    "power = 1e4; # W, this is a guess\n",
    "\n",
    "operator.heavy_metal\n",
    "\n",
    "max_step = 2*operator.heavy_metal/power*1e3\n",
    "print(f'Maximum recommended depletion step %5.3f days' % max_step);"
   ]
  },
  {
   "cell_type": "code",
   "execution_count": 9,
   "id": "fa56965f",
   "metadata": {},
   "outputs": [],
   "source": [
    "\n",
    "days = 24*3600; # seconds in a day\n",
    "time_steps = [0.1*days,0.1*days,0.2*days,0.3*days,0.5*days,\n",
    "              1.0*days,10.0*days, 100.0*days, 100.0*days, 200.*days,\n",
    "             200.*days, 200.*days, 500.*days, 500.*days];\n"
   ]
  },
  {
   "cell_type": "code",
   "execution_count": 10,
   "id": "23ebfb2c",
   "metadata": {},
   "outputs": [],
   "source": [
    "integrator = openmc.deplete.PredictorIntegrator(operator,time_steps,power=power);\n",
    "#integrator = openmc.deplete.CELIIntegrator(operator,time_steps,power=power);"
   ]
  },
  {
   "cell_type": "code",
   "execution_count": 11,
   "id": "0f2c3c58",
   "metadata": {},
   "outputs": [],
   "source": [
    "integrator.integrate()"
   ]
  },
  {
   "cell_type": "code",
   "execution_count": 12,
   "id": "c1a9b12b",
   "metadata": {},
   "outputs": [],
   "source": [
    "results = openmc.deplete.ResultsList.from_hdf5(\"./depletion_results.h5\")"
   ]
  },
  {
   "cell_type": "code",
   "execution_count": 13,
   "id": "fcf8f558",
   "metadata": {},
   "outputs": [],
   "source": [
    "time, k = results.get_eigenvalue()"
   ]
  },
  {
   "cell_type": "code",
   "execution_count": 14,
   "id": "1e6f0617",
   "metadata": {},
   "outputs": [],
   "source": [
    "time /= (24*3600);"
   ]
  },
  {
   "cell_type": "code",
   "execution_count": 15,
   "id": "2c98bacc",
   "metadata": {},
   "outputs": [],
   "source": [
    "from matplotlib import pyplot"
   ]
  },
  {
   "cell_type": "code",
   "execution_count": 16,
   "id": "5eb22941",
   "metadata": {},
   "outputs": [
    {
     "data": {
      "image/png": "[encoded data removed]",
      "text/plain": [
       "<Figure size 432x288 with 1 Axes>"
      ]
     },
     "metadata": {
      "needs_background": "light"
     },
     "output_type": "display_data"
    }
   ],
   "source": [
    "pyplot.errorbar(time,k[:,0],yerr=k[:,1]);\n",
    "pyplot.xlabel('Time [d]');\n",
    "pyplot.ylabel('$k_{eff}\\pm \\sigma$');\n",
    "pyplot.title(\"$k_{eff}$ vs time\");\n",
    "pyplot.grid();"
   ]
  },
  {
   "cell_type": "markdown",
   "id": "b50f15a4",
   "metadata": {},
   "source": [
    "obviously, these results suck.  A better analysis would use more particles at least and probably smaller time steps."
   ]
  },
  {
   "cell_type": "code",
   "execution_count": 17,
   "id": "1e047e92",
   "metadata": {},
   "outputs": [],
   "source": [
    "_time, pu239 = results.get_atoms(\"1\",\"Pu239\");\n",
    "_time, pu240 = results.get_atoms(\"1\",\"Pu240\");\n",
    "_time, pu241 = results.get_atoms(\"1\",\"Pu241\");"
   ]
  },
  {
   "cell_type": "code",
   "execution_count": 18,
   "id": "44b2fcd1",
   "metadata": {},
   "outputs": [
    {
     "data": {
      "image/png": "[encoded data removed]",
      "text/plain": [
       "<Figure size 432x288 with 1 Axes>"
      ]
     },
     "metadata": {
      "needs_background": "light"
     },
     "output_type": "display_data"
    }
   ],
   "source": [
    "pyplot.semilogy(time,pu239,label=\"Pu239\");\n",
    "pyplot.semilogy(time,pu240,label=\"Pu240\");\n",
    "pyplot.semilogy(time,pu241,label=\"Pu241\");\n",
    "pyplot.grid();\n",
    "pyplot.xlabel('Time [d]');\n",
    "pyplot.ylabel('Number of atoms');\n",
    "pyplot.legend();\n"
   ]
  },
  {
   "cell_type": "code",
   "execution_count": 19,
   "id": "0a489490",
   "metadata": {},
   "outputs": [],
   "source": [
    "mass_pu239 = pu239*(239./6.022e23);\n",
    "mass_pu240 = pu240*(240./6.022e23);\n",
    "mass_pu241 = pu241*(241./6.022e23);\n",
    "\n",
    "mass_pu = mass_pu239 + mass_pu240 + mass_pu241"
   ]
  },
  {
   "cell_type": "code",
   "execution_count": 20,
   "id": "87922cdd",
   "metadata": {},
   "outputs": [],
   "source": [
    "pu_239_ratio = mass_pu239/mass_pu"
   ]
  },
  {
   "cell_type": "code",
   "execution_count": 21,
   "id": "a58fd6fb",
   "metadata": {},
   "outputs": [
    {
     "name": "stdout",
     "output_type": "stream",
     "text": [
      "[0.33194444 0.99997295 0.99997036 0.99996559 0.99995966 0.99995095\n",
      " 0.99993342 0.99991549 0.99989694 0.99987802 0.99983855 0.99979749\n",
      " 0.99975542 0.99964487 0.9995318 ]\n"
     ]
    }
   ],
   "source": [
    "print(pu_239_ratio)"
   ]
  },
  {
   "cell_type": "code",
   "execution_count": 22,
   "id": "e80237a4",
   "metadata": {},
   "outputs": [
    {
     "data": {
      "image/png": "[encoded data removed]",
      "text/plain": [
       "<Figure size 432x288 with 1 Axes>"
      ]
     },
     "metadata": {
      "needs_background": "light"
     },
     "output_type": "display_data"
    }
   ],
   "source": [
    "_time, xe135 = results.get_atoms(\"1\",\"Xe135\")\n",
    "_time, sm149 = results.get_atoms(\"1\",\"Sm149\")\n",
    "\n",
    "pyplot.semilogy(time,xe135,label=\"Xe135\");\n",
    "pyplot.semilogy(time,sm149,label=\"Sm149\");\n",
    "pyplot.grid();\n",
    "pyplot.xlabel('Time [d]');\n",
    "pyplot.ylabel('Number of atoms');\n",
    "pyplot.legend();\n"
   ]
  },
  {
   "cell_type": "code",
   "execution_count": null,
   "id": "5daa30f0",
   "metadata": {},
   "outputs": [],
   "source": []
  },
  {
   "cell_type": "code",
   "execution_count": null,
   "id": "f9c98669",
   "metadata": {},
   "outputs": [],
   "source": []
  },
  {
   "cell_type": "code",
   "execution_count": null,
   "id": "29b8de8f",
   "metadata": {},
   "outputs": [],
   "source": []
  }
 ],
 "metadata": {
  "kernelspec": {
   "display_name": "Python 3",
   "language": "python",
   "name": "python3"
  },
  "language_info": {
   "codemirror_mode": {
    "name": "ipython",
    "version": 3
   },
   "file_extension": ".py",
   "mimetype": "text/x-python",
   "name": "python",
   "nbconvert_exporter": "python",
   "pygments_lexer": "ipython3",
   "version": "3.9.2"
  }
 },
 "nbformat": 4,
 "nbformat_minor": 5
}
