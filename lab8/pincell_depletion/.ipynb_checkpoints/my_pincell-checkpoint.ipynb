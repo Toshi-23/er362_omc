{
 "cells": [
  {
   "cell_type": "markdown",
   "id": "04c1a302",
   "metadata": {},
   "source": [
    "# Pincell Depletion\n",
    "This is mostly just a copy of the example from the documentation.  Intention is to take some time to play with this functionality."
   ]
  },
  {
   "cell_type": "code",
   "execution_count": 1,
   "id": "466d9c3e",
   "metadata": {},
   "outputs": [],
   "source": [
    "%matplotlib inline\n",
    "import math\n",
    "import openmc"
   ]
  },
  {
   "cell_type": "code",
   "execution_count": 2,
   "id": "b30a19fc",
   "metadata": {},
   "outputs": [],
   "source": [
    "fuel = openmc.Material(name='uo2');\n",
    "fuel.add_element('U',1,percent_type=\"ao\",enrichment=4.25);\n",
    "fuel.add_element('O',2);\n",
    "fuel.set_density('g/cc',10.4);"
   ]
  },
  {
   "cell_type": "code",
   "execution_count": 3,
   "id": "1efeb64a",
   "metadata": {},
   "outputs": [],
   "source": [
    "clad = openmc.Material(name='clad');\n",
    "clad.add_element(\"Zr\",1);\n",
    "clad.set_density('g/cc',6.0);\n"
   ]
  },
  {
   "cell_type": "code",
   "execution_count": 4,
   "id": "78875322",
   "metadata": {},
   "outputs": [],
   "source": [
    "water = openmc.Material(name='water');\n",
    "water.add_element('O',1);\n",
    "water.add_element('H',2)\n",
    "water.set_density('g/cc',1.0)\n",
    "water.add_s_alpha_beta('c_H_in_H2O');\n"
   ]
  },
  {
   "cell_type": "code",
   "execution_count": 5,
   "id": "b0f59265",
   "metadata": {},
   "outputs": [],
   "source": [
    "materials = openmc.Materials([fuel,clad,water]);"
   ]
  },
  {
   "cell_type": "code",
   "execution_count": 6,
   "id": "4e9955fe",
   "metadata": {},
   "outputs": [],
   "source": [
    "radii = [0.42,0.45];"
   ]
  },
  {
   "cell_type": "code",
   "execution_count": 7,
   "id": "1258c8eb",
   "metadata": {},
   "outputs": [],
   "source": [
    "pin_surfaces = [openmc.ZCylinder(r=r) for r in radii]; #fancy syntax"
   ]
  },
  {
   "cell_type": "code",
   "execution_count": 8,
   "id": "932a3326",
   "metadata": {},
   "outputs": [],
   "source": [
    "pin_univ = openmc.model.pin(pin_surfaces,materials); # fancy constructor"
   ]
  },
  {
   "cell_type": "code",
   "execution_count": 9,
   "id": "2e8cff9d",
   "metadata": {},
   "outputs": [
    {
     "data": {
      "image/png": "[encoded data removed]",
      "text/plain": [
       "<Figure size 432x288 with 1 Axes>"
      ]
     },
     "metadata": {
      "needs_background": "light"
     },
     "output_type": "display_data"
    }
   ],
   "source": [
    "pin_univ.plot();"
   ]
  },
  {
   "cell_type": "code",
   "execution_count": 10,
   "id": "ddcee0e1",
   "metadata": {},
   "outputs": [],
   "source": [
    "bound_box = openmc.rectangular_prism(0.62,0.62,boundary_type=\"reflective\");"
   ]
  },
  {
   "cell_type": "code",
   "execution_count": 11,
   "id": "23bee590",
   "metadata": {},
   "outputs": [],
   "source": [
    "root_cell = openmc.Cell(fill=pin_univ,region=bound_box);\n",
    "root_univ = openmc.Universe(cells=[root_cell]);\n",
    "geometry = openmc.Geometry(root_univ);"
   ]
  },
  {
   "cell_type": "code",
   "execution_count": 12,
   "id": "5bff8d45",
   "metadata": {},
   "outputs": [],
   "source": [
    "settings = openmc.Settings();\n",
    "settings.particles = 1000;\n",
    "settings.inactive = 50;\n",
    "settings.batches = 100;"
   ]
  },
  {
   "cell_type": "code",
   "execution_count": 13,
   "id": "38af79f1",
   "metadata": {},
   "outputs": [],
   "source": [
    "geometry.export_to_xml();\n",
    "settings.export_to_xml();\n",
    "\n",
    "fuel.volume = math.pi * radii[0]**2;\n",
    "materials.export_to_xml()"
   ]
  },
  {
   "cell_type": "code",
   "execution_count": 14,
   "id": "b6dbb455",
   "metadata": {},
   "outputs": [],
   "source": [
    "import openmc.deplete"
   ]
  },
  {
   "cell_type": "code",
   "execution_count": 15,
   "id": "9090be04",
   "metadata": {
    "scrolled": true
   },
   "outputs": [],
   "source": [
    "chain = openmc.deplete.Chain.from_xml(\"chain_casl_pwr.xml\");"
   ]
  },
  {
   "cell_type": "code",
   "execution_count": 16,
   "id": "f2ccdbd4",
   "metadata": {},
   "outputs": [
    {
     "data": {
      "text/plain": [
       "OrderedDict([('B10', 0),\n",
       "             ('B11', 1),\n",
       "             ('O16', 2),\n",
       "             ('Br81', 3),\n",
       "             ('Br82', 4),\n",
       "             ('Kr82', 5),\n",
       "             ('Kr83', 6),\n",
       "             ('Kr84', 7),\n",
       "             ('Kr85', 8),\n",
       "             ('Kr86', 9),\n",
       "             ('Sr89', 10),\n",
       "             ('Sr90', 11),\n",
       "             ('Y89', 12),\n",
       "             ('Y90', 13),\n",
       "             ('Y91', 14),\n",
       "             ('Zr90', 15),\n",
       "             ('Zr91', 16),\n",
       "             ('Zr92', 17),\n",
       "             ('Zr93', 18),\n",
       "             ('Zr94', 19),\n",
       "             ('Zr95', 20),\n",
       "             ('Zr96', 21),\n",
       "             ('Nb95', 22),\n",
       "             ('Mo92', 23),\n",
       "             ('Mo94', 24),\n",
       "             ('Mo95', 25),\n",
       "             ('Mo96', 26),\n",
       "             ('Mo97', 27),\n",
       "             ('Mo98', 28),\n",
       "             ('Mo99', 29),\n",
       "             ('Mo100', 30),\n",
       "             ('Tc99', 31),\n",
       "             ('Tc99_m1', 32),\n",
       "             ('Tc100', 33),\n",
       "             ('Ru100', 34),\n",
       "             ('Ru101', 35),\n",
       "             ('Ru102', 36),\n",
       "             ('Ru103', 37),\n",
       "             ('Ru104', 38),\n",
       "             ('Ru105', 39),\n",
       "             ('Ru106', 40),\n",
       "             ('Rh102', 41),\n",
       "             ('Rh102_m1', 42),\n",
       "             ('Rh103', 43),\n",
       "             ('Rh103_m1', 44),\n",
       "             ('Rh104', 45),\n",
       "             ('Rh105', 46),\n",
       "             ('Rh105_m1', 47),\n",
       "             ('Rh106', 48),\n",
       "             ('Rh106_m1', 49),\n",
       "             ('Pd104', 50),\n",
       "             ('Pd105', 51),\n",
       "             ('Pd106', 52),\n",
       "             ('Pd107', 53),\n",
       "             ('Pd108', 54),\n",
       "             ('Pd109', 55),\n",
       "             ('Ag107', 56),\n",
       "             ('Ag109', 57),\n",
       "             ('Ag109_m1', 58),\n",
       "             ('Ag110', 59),\n",
       "             ('Ag110_m1', 60),\n",
       "             ('Ag111', 61),\n",
       "             ('Cd110', 62),\n",
       "             ('Cd111', 63),\n",
       "             ('Cd112', 64),\n",
       "             ('Cd113', 65),\n",
       "             ('Cd114', 66),\n",
       "             ('Cd115', 67),\n",
       "             ('In113', 68),\n",
       "             ('In115', 69),\n",
       "             ('Sb121', 70),\n",
       "             ('Sb123', 71),\n",
       "             ('Sb125', 72),\n",
       "             ('Sb127', 73),\n",
       "             ('Te127', 74),\n",
       "             ('Te127_m1', 75),\n",
       "             ('Te129_m1', 76),\n",
       "             ('Te132', 77),\n",
       "             ('I127', 78),\n",
       "             ('I128', 79),\n",
       "             ('I129', 80),\n",
       "             ('I130', 81),\n",
       "             ('I131', 82),\n",
       "             ('I132', 83),\n",
       "             ('I135', 84),\n",
       "             ('Xe128', 85),\n",
       "             ('Xe130', 86),\n",
       "             ('Xe131', 87),\n",
       "             ('Xe132', 88),\n",
       "             ('Xe133', 89),\n",
       "             ('Xe134', 90),\n",
       "             ('Xe135', 91),\n",
       "             ('Xe135_m1', 92),\n",
       "             ('Xe136', 93),\n",
       "             ('Xe137', 94),\n",
       "             ('Cs133', 95),\n",
       "             ('Cs134', 96),\n",
       "             ('Cs135', 97),\n",
       "             ('Cs136', 98),\n",
       "             ('Cs137', 99),\n",
       "             ('Ba134', 100),\n",
       "             ('Ba137', 101),\n",
       "             ('Ba140', 102),\n",
       "             ('La139', 103),\n",
       "             ('La140', 104),\n",
       "             ('Ce140', 105),\n",
       "             ('Ce141', 106),\n",
       "             ('Ce142', 107),\n",
       "             ('Ce143', 108),\n",
       "             ('Ce144', 109),\n",
       "             ('Pr141', 110),\n",
       "             ('Pr142', 111),\n",
       "             ('Pr143', 112),\n",
       "             ('Pr144', 113),\n",
       "             ('Nd142', 114),\n",
       "             ('Nd143', 115),\n",
       "             ('Nd144', 116),\n",
       "             ('Nd145', 117),\n",
       "             ('Nd146', 118),\n",
       "             ('Nd147', 119),\n",
       "             ('Nd148', 120),\n",
       "             ('Nd149', 121),\n",
       "             ('Nd150', 122),\n",
       "             ('Nd151', 123),\n",
       "             ('Pm147', 124),\n",
       "             ('Pm148', 125),\n",
       "             ('Pm148_m1', 126),\n",
       "             ('Pm149', 127),\n",
       "             ('Pm150', 128),\n",
       "             ('Pm151', 129),\n",
       "             ('Sm147', 130),\n",
       "             ('Sm148', 131),\n",
       "             ('Sm149', 132),\n",
       "             ('Sm150', 133),\n",
       "             ('Sm151', 134),\n",
       "             ('Sm152', 135),\n",
       "             ('Sm153', 136),\n",
       "             ('Sm154', 137),\n",
       "             ('Sm155', 138),\n",
       "             ('Eu151', 139),\n",
       "             ('Eu152', 140),\n",
       "             ('Eu152_m1', 141),\n",
       "             ('Eu153', 142),\n",
       "             ('Eu154', 143),\n",
       "             ('Eu155', 144),\n",
       "             ('Eu156', 145),\n",
       "             ('Eu157', 146),\n",
       "             ('Gd152', 147),\n",
       "             ('Gd154', 148),\n",
       "             ('Gd155', 149),\n",
       "             ('Gd156', 150),\n",
       "             ('Gd157', 151),\n",
       "             ('Gd158', 152),\n",
       "             ('Gd159', 153),\n",
       "             ('Gd160', 154),\n",
       "             ('Gd161', 155),\n",
       "             ('Tb159', 156),\n",
       "             ('Tb160', 157),\n",
       "             ('Tb161', 158),\n",
       "             ('Dy160', 159),\n",
       "             ('Dy161', 160),\n",
       "             ('Dy162', 161),\n",
       "             ('Dy163', 162),\n",
       "             ('Dy164', 163),\n",
       "             ('Dy165', 164),\n",
       "             ('Ho165', 165),\n",
       "             ('Er162', 166),\n",
       "             ('Er164', 167),\n",
       "             ('Er166', 168),\n",
       "             ('Er167', 169),\n",
       "             ('Er168', 170),\n",
       "             ('Er169', 171),\n",
       "             ('Er170', 172),\n",
       "             ('Er171', 173),\n",
       "             ('Tm169', 174),\n",
       "             ('Tm170', 175),\n",
       "             ('Tm171', 176),\n",
       "             ('Hf174', 177),\n",
       "             ('Hf176', 178),\n",
       "             ('Hf177', 179),\n",
       "             ('Hf178', 180),\n",
       "             ('Hf179', 181),\n",
       "             ('Hf180', 182),\n",
       "             ('Hf181', 183),\n",
       "             ('Ta181', 184),\n",
       "             ('Ta182', 185),\n",
       "             ('Th230', 186),\n",
       "             ('Th231', 187),\n",
       "             ('Th232', 188),\n",
       "             ('Th233', 189),\n",
       "             ('Th234', 190),\n",
       "             ('Pa231', 191),\n",
       "             ('Pa232', 192),\n",
       "             ('Pa233', 193),\n",
       "             ('Pa234', 194),\n",
       "             ('U232', 195),\n",
       "             ('U233', 196),\n",
       "             ('U234', 197),\n",
       "             ('U235', 198),\n",
       "             ('U236', 199),\n",
       "             ('U237', 200),\n",
       "             ('U238', 201),\n",
       "             ('U239', 202),\n",
       "             ('Np236', 203),\n",
       "             ('Np237', 204),\n",
       "             ('Np238', 205),\n",
       "             ('Np239', 206),\n",
       "             ('Np240', 207),\n",
       "             ('Np240_m1', 208),\n",
       "             ('Pu236', 209),\n",
       "             ('Pu237', 210),\n",
       "             ('Pu238', 211),\n",
       "             ('Pu239', 212),\n",
       "             ('Pu240', 213),\n",
       "             ('Pu241', 214),\n",
       "             ('Pu242', 215),\n",
       "             ('Pu243', 216),\n",
       "             ('Am241', 217),\n",
       "             ('Am242', 218),\n",
       "             ('Am242_m1', 219),\n",
       "             ('Am243', 220),\n",
       "             ('Am244', 221),\n",
       "             ('Am244_m1', 222),\n",
       "             ('Cm242', 223),\n",
       "             ('Cm243', 224),\n",
       "             ('Cm244', 225),\n",
       "             ('Cm245', 226),\n",
       "             ('Cm246', 227)])"
      ]
     },
     "execution_count": 16,
     "metadata": {},
     "output_type": "execute_result"
    }
   ],
   "source": [
    "chain.nuclide_dict"
   ]
  },
  {
   "cell_type": "code",
   "execution_count": 17,
   "id": "a736fe7e",
   "metadata": {},
   "outputs": [],
   "source": [
    "operator = openmc.deplete.Operator(geometry,settings,\"chain_casl_pwr.xml\");"
   ]
  },
  {
   "cell_type": "code",
   "execution_count": 18,
   "id": "f7337391",
   "metadata": {},
   "outputs": [],
   "source": [
    "power = 1e4;\n",
    "#time_steps = [30*24*60*60]*6\n",
    "days = 24*3600;\n",
    "time_steps = [0.1*days, 0.1*days, 0.1*days, 0.3*days, 0.5*days, 1.*days, 2.*days,\n",
    "              30.*days, 30.*days, 30.*days, 30.*days, 30.*days, 30.*days];"
   ]
  },
  {
   "cell_type": "code",
   "execution_count": 19,
   "id": "df203e31",
   "metadata": {},
   "outputs": [],
   "source": [
    "integrator = openmc.deplete.PredictorIntegrator(operator,time_steps,power);"
   ]
  },
  {
   "cell_type": "code",
   "execution_count": 20,
   "id": "9feb0c70",
   "metadata": {},
   "outputs": [],
   "source": [
    "integrator.integrate()"
   ]
  },
  {
   "cell_type": "code",
   "execution_count": 21,
   "id": "76c13c6a",
   "metadata": {},
   "outputs": [],
   "source": [
    "results = openmc.deplete.ResultsList.from_hdf5('./depletion_results.h5');"
   ]
  },
  {
   "cell_type": "code",
   "execution_count": 22,
   "id": "e93a1f5d",
   "metadata": {},
   "outputs": [],
   "source": [
    "time, k = results.get_eigenvalue()"
   ]
  },
  {
   "cell_type": "code",
   "execution_count": 23,
   "id": "f5c6f2dd",
   "metadata": {},
   "outputs": [],
   "source": [
    "time /= (24*60*60)"
   ]
  },
  {
   "cell_type": "code",
   "execution_count": 24,
   "id": "26e549e8",
   "metadata": {},
   "outputs": [
    {
     "data": {
      "text/plain": [
       "array([[0.76141051, 0.00797878],\n",
       "       [0.75820088, 0.00926001],\n",
       "       [0.77155978, 0.01054561],\n",
       "       [0.74674379, 0.01028882],\n",
       "       [0.76392529, 0.00806793],\n",
       "       [0.74947672, 0.00931071],\n",
       "       [0.74287512, 0.00752144],\n",
       "       [0.75605054, 0.00804328],\n",
       "       [1.11890845, 0.00724322],\n",
       "       [1.16042983, 0.00996693],\n",
       "       [1.14255539, 0.00814212],\n",
       "       [1.12293213, 0.00919457],\n",
       "       [1.06699269, 0.00997477],\n",
       "       [0.99763879, 0.00707067]])"
      ]
     },
     "execution_count": 24,
     "metadata": {},
     "output_type": "execute_result"
    }
   ],
   "source": [
    "k"
   ]
  },
  {
   "cell_type": "code",
   "execution_count": 25,
   "id": "0f2b7a7f",
   "metadata": {},
   "outputs": [],
   "source": [
    "from matplotlib import pyplot"
   ]
  },
  {
   "cell_type": "code",
   "execution_count": 26,
   "id": "e6f25801",
   "metadata": {},
   "outputs": [
    {
     "data": {
      "image/png": "[encoded data removed]",
      "text/plain": [
       "<Figure size 432x288 with 1 Axes>"
      ]
     },
     "metadata": {
      "needs_background": "light"
     },
     "output_type": "display_data"
    }
   ],
   "source": [
    "pyplot.errorbar(time,k[:,0],yerr=k[:,1])\n",
    "pyplot.xlabel('Time [d]');\n",
    "pyplot.ylabel('$k_{eff}\\pm \\sigma$');"
   ]
  },
  {
   "cell_type": "code",
   "execution_count": null,
   "id": "812fa923",
   "metadata": {},
   "outputs": [],
   "source": []
  }
 ],
 "metadata": {
  "kernelspec": {
   "display_name": "Python 3",
   "language": "python",
   "name": "python3"
  },
  "language_info": {
   "codemirror_mode": {
    "name": "ipython",
    "version": 3
   },
   "file_extension": ".py",
   "mimetype": "text/x-python",
   "name": "python",
   "nbconvert_exporter": "python",
   "pygments_lexer": "ipython3",
   "version": "3.9.2"
  }
 },
 "nbformat": 4,
 "nbformat_minor": 5
}
