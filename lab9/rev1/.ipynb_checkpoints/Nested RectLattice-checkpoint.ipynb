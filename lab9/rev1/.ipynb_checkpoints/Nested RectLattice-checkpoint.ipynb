{
 "cells": [
  {
   "cell_type": "code",
   "execution_count": 1,
   "id": "74491fbc",
   "metadata": {},
   "outputs": [],
   "source": [
    "import openmc \n",
    "import openmc.deplete\n",
    "\n",
    "%matplotlib inline\n",
    "import numpy as np"
   ]
  },
  {
   "cell_type": "markdown",
   "id": "db37805f",
   "metadata": {},
   "source": [
    "### Model materials\n"
   ]
  },
  {
   "cell_type": "code",
   "execution_count": 2,
   "id": "05026692",
   "metadata": {},
   "outputs": [],
   "source": [
    "# materials\n",
    "fuel = openmc.Material(name=\"uo2\")\n",
    "fuel.add_element(\"U\",1.0, percent_type=\"ao\",enrichment=5.0)\n",
    "fuel.add_element(\"O\",2.0)\n",
    "fuel.set_density(\"g/cc\",10.45)\n",
    "\n",
    "clad = openmc.Material(name=\"clad\")\n",
    "clad.add_element(\"Zr\",0.981858,percent_type=\"wo\");\n",
    "clad.add_element(\"O\",0.001196,percent_type=\"wo\");\n",
    "clad.add_element(\"Cr\",9.97e-4,percent_type=\"wo\");\n",
    "clad.add_element(\"Fe\",1.994e-3,percent_type=\"wo\");\n",
    "clad.add_element(\"Sn\",1.3955e-2,percent_type=\"wo\");\n",
    "clad.set_density(\"g/cc\",6.56)\n",
    "\n",
    "gas = openmc.Material(name=\"gas\")\n",
    "gas.add_element(\"He\",1.0,percent_type=\"ao\");\n",
    "gas.set_density(\"g/cc\",1.47e-2);\n",
    "\n",
    "blanket = openmc.Material(name=\"blanket\")\n",
    "blanket.add_element(\"U\",1.0,percent_type=\"ao\");\n",
    "blanket.set_density(\"g/cc\",18.95);\n",
    "\n",
    "water = openmc.Material(name=\"water\");\n",
    "water.add_element(\"O\",1);\n",
    "water.add_element(\"H\",2);\n",
    "water.set_density(\"g/cc\",0.712);\n",
    "water.add_s_alpha_beta('c_H_in_H2O');\n",
    "\n",
    "materials = openmc.Materials([fuel,clad,gas,blanket,water]);\n",
    "materials.export_to_xml();\n"
   ]
  },
  {
   "cell_type": "markdown",
   "id": "88f998a4",
   "metadata": {},
   "source": [
    "### Model parameters"
   ]
  },
  {
   "cell_type": "code",
   "execution_count": 3,
   "id": "3286d8c6",
   "metadata": {},
   "outputs": [],
   "source": [
    "h_fuel = 100. # cm\n",
    "h_core = 150. # cm\n",
    "r_core = 60. # cm\n",
    "P_D = 1.3     # pitch/diameter ratio\n",
    "N_assy = 9; # number of pins per dimension in the assembly, i.e. N_assy x N_assy \n",
    "\n",
    "r_fo = 0.4096 # cm, fuel outer radius\n",
    "r_ci = 0.4179 # cm, clad inner radius\n",
    "r_co = 0.4751 # cm, clad outer radius\n",
    "\n",
    "pitch = r_co*2.*P_D; # cm, pin pitch\n",
    "a_pitch = N_assy*pitch\n",
    "\n",
    "N_core = 7; # number of assemblies per dimension in the core\n",
    "c_pitch = N_core*a_pitch"
   ]
  },
  {
   "cell_type": "markdown",
   "id": "b81575c5",
   "metadata": {},
   "source": [
    "### Surfaces"
   ]
  },
  {
   "cell_type": "code",
   "execution_count": 4,
   "id": "cab2bc5e",
   "metadata": {},
   "outputs": [],
   "source": [
    "# pin boundaries\n",
    "c_fo = openmc.ZCylinder(r=r_fo); # cylinder, fuel outer\n",
    "c_ci = openmc.ZCylinder(r=r_ci); # cylinder, clad inner\n",
    "c_co = openmc.ZCylinder(r=r_co); # cylinder, clad outer\n",
    "c_t = openmc.ZPlane(z0=h_fuel/2.); # top of fuel pin\n",
    "c_b = openmc.ZPlane(z0=-h_fuel/2.); # bottom of fuel pin\n",
    "\n",
    "# assembly boundary\n",
    "assy_bdy = openmc.model.RectangularParallelepiped(-a_pitch/2.,a_pitch/2.,\n",
    "                                                  -a_pitch/2.,a_pitch/2.,\n",
    "                                                  -h_fuel/2.,h_fuel/2.);\n",
    "\n",
    "# core boundary\n",
    "core_bdy = openmc.model.RectangularParallelepiped(-c_pitch/2.,c_pitch/2.,\n",
    "                                                  -c_pitch/2.,c_pitch/2.,\n",
    "                                                  -h_fuel/2.,h_fuel/2.);\n",
    "\n",
    "# reactor pressure vessel boundary\n",
    "rpv_bdy = openmc.model.RightCircularCylinder([0.,0.,-h_core/2.],\n",
    "                                              h_core,r_core,\n",
    "                                              boundary_type = 'vacuum');"
   ]
  },
  {
   "cell_type": "code",
   "execution_count": 5,
   "id": "58fdcdd9",
   "metadata": {},
   "outputs": [
    {
     "ename": "TypeError",
     "evalue": "unsupported operand type(s) for +: 'NoneType' and 'ZCylinder'",
     "output_type": "error",
     "traceback": [
      "\u001b[0;31m---------------------------------------------------------------------------\u001b[0m",
      "\u001b[0;31mTypeError\u001b[0m                                 Traceback (most recent call last)",
      "Input \u001b[0;32mIn [5]\u001b[0m, in \u001b[0;36m<cell line: 25>\u001b[0;34m()\u001b[0m\n\u001b[1;32m     23\u001b[0m bclad_cell \u001b[38;5;241m=\u001b[39m openmc\u001b[38;5;241m.\u001b[39mCell();\n\u001b[1;32m     24\u001b[0m bclad_cell\u001b[38;5;241m.\u001b[39mfill \u001b[38;5;241m=\u001b[39m clad;\n\u001b[0;32m---> 25\u001b[0m \u001b[43mbclad_cell\u001b[49m\u001b[38;5;241;43m.\u001b[39;49m\u001b[43mregion\u001b[49m\u001b[43m \u001b[49m\u001b[38;5;241;43m+\u001b[39;49m\u001b[43mc_ci\u001b[49m \u001b[38;5;241m&\u001b[39m \u001b[38;5;241m-\u001b[39mc_co \u001b[38;5;241m&\u001b[39m \u001b[38;5;241m+\u001b[39mc_b \u001b[38;5;241m&\u001b[39m \u001b[38;5;241m-\u001b[39mc_t;\n\u001b[1;32m     28\u001b[0m \u001b[38;5;66;03m# coolant outside the pin\u001b[39;00m\n\u001b[1;32m     29\u001b[0m coolant_cell \u001b[38;5;241m=\u001b[39m openmc\u001b[38;5;241m.\u001b[39mCell();\n",
      "\u001b[0;31mTypeError\u001b[0m: unsupported operand type(s) for +: 'NoneType' and 'ZCylinder'"
     ]
    }
   ],
   "source": [
    "# fuel pellet\n",
    "fuel_cell = openmc.Cell()\n",
    "fuel_cell.region = -c_fo & +c_b & -c_t\n",
    "fuel_cell.fill = fuel;\n",
    "\n",
    "# gap\n",
    "gap_cell = openmc.Cell();\n",
    "gap_cell.region = +c_fo & -c_ci & +c_b & -c_t;\n",
    "gap_cell.fill = gas;\n",
    "\n",
    "# bgap\n",
    "bgap_cell = openmc.Cell();\n",
    "bgap_cell.region = +c_fo & -c_ci & +c_b & -c_t;\n",
    "bgap_cell.fill = gas;\n",
    "\n",
    "\n",
    "# clad\n",
    "clad_cell = openmc.Cell();\n",
    "clad_cell.fill = clad;\n",
    "clad_cell.region = +c_ci & -c_co & +c_b & -c_t;\n",
    "\n",
    "#bclad\n",
    "bclad_cell = openmc.Cell();\n",
    "bclad_cell.fill = clad;\n",
    "bclad_cell.region = +c_ci & -c_co & +c_b & -c_t;\n",
    "\n",
    "\n",
    "# coolant outside the pin\n",
    "coolant_cell = openmc.Cell();\n",
    "coolant_cell.fill = water\n",
    "coolant_cell.region = +c_co & +c_b & -c_t # note: infinite in extent\n",
    "\n",
    "bcool_cell = openmc.Cell();\n",
    "bcool_cell.fill = water;\n",
    "bcool_cell.region = +c_co & +c_b & -c_t\n",
    "\n",
    "# to be used as exterior cell for core lattices\n",
    "water_cell = openmc.Cell();\n",
    "#water_cell.region = -rpv_bdy \n",
    "water_cell.fill = water;  \n",
    "\n",
    "all_water = openmc.Universe()\n",
    "all_water.add_cell(water_cell);\n"
   ]
  },
  {
   "cell_type": "code",
   "execution_count": null,
   "id": "9848a4c2",
   "metadata": {},
   "outputs": [],
   "source": [
    "pin_outer = openmc.Cell();\n",
    "pin_outer.fill = water\n",
    "pin_outer.region = +core_bdy & -rpv_bdy\n",
    "\n",
    "fpc = openmc.Universe();\n",
    "fpc.add_cells([fuel_cell,gap_cell,clad_cell,coolant_cell])\n",
    "\n",
    "\n",
    "# lattice of seed fuel pins\n",
    "SL = openmc.RectLattice();\n",
    "SL.center = (0.,0.);\n",
    "SL.dimension = [N_assy,N_assy];\n",
    "SL.lower_left = [-N_assy/2.*pitch,-N_assy/2.*pitch]\n",
    "SL.pitch = [pitch,pitch]\n",
    "SL.universes = [\n",
    "    [fpc,fpc,fpc,fpc,fpc,fpc,fpc,fpc,fpc],\n",
    "    [fpc,fpc,fpc,fpc,fpc,fpc,fpc,fpc,fpc],\n",
    "    [fpc,fpc,fpc,fpc,fpc,fpc,fpc,fpc,fpc],\n",
    "    [fpc,fpc,fpc,fpc,fpc,fpc,fpc,fpc,fpc],\n",
    "    [fpc,fpc,fpc,fpc,fpc,fpc,fpc,fpc,fpc],\n",
    "    [fpc,fpc,fpc,fpc,fpc,fpc,fpc,fpc,fpc],\n",
    "    [fpc,fpc,fpc,fpc,fpc,fpc,fpc,fpc,fpc],\n",
    "    [fpc,fpc,fpc,fpc,fpc,fpc,fpc,fpc,fpc],\n",
    "    [fpc,fpc,fpc,fpc,fpc,fpc,fpc,fpc,fpc]\n",
    "]\n",
    "SL.outer = all_water;\n",
    "\n",
    "# universe corresponding to a seed assembly\n",
    "S = openmc.Universe();\n",
    "seed_cell = openmc.Cell();\n",
    "seed_cell.fill = SL;\n",
    "seed_cell.region = -assy_bdy\n",
    "S.add_cell(seed_cell);\n",
    "\n",
    "\n",
    "\n",
    "\n"
   ]
  },
  {
   "cell_type": "code",
   "execution_count": null,
   "id": "9c934d79",
   "metadata": {},
   "outputs": [],
   "source": [
    "blanket_cell = openmc.Cell();\n",
    "blanket_cell.fill = blanket\n",
    "blanket_cell.region = -c_fo & +c_b & -c_t\n",
    "\n",
    "bpc = openmc.Universe();\n",
    "bpc.add_cells([blanket_cell,bgap_cell,bclad_cell,\n",
    "              bcool_cell]);\n",
    "\n",
    "# blanket lattice\n",
    "BL = openmc.RectLattice();\n",
    "BL.dimension = [N_assy,N_assy];\n",
    "BL.lower_left = [-N_assy/2.*pitch,-N_assy/2.*pitch]\n",
    "BL.pitch = [pitch,pitch];\n",
    "BL.universes = [\n",
    "    [bpc,bpc,bpc,bpc,bpc,bpc,bpc,bpc,bpc],\n",
    "    [bpc,bpc,bpc,bpc,bpc,bpc,bpc,bpc,bpc],\n",
    "    [bpc,bpc,bpc,bpc,bpc,bpc,bpc,bpc,bpc],\n",
    "    [bpc,bpc,bpc,bpc,bpc,bpc,bpc,bpc,bpc],\n",
    "    [bpc,bpc,bpc,bpc,bpc,bpc,bpc,bpc,bpc],\n",
    "    [bpc,bpc,bpc,bpc,bpc,bpc,bpc,bpc,bpc],\n",
    "    [bpc,bpc,bpc,bpc,bpc,bpc,bpc,bpc,bpc],\n",
    "    [bpc,bpc,bpc,bpc,bpc,bpc,bpc,bpc,bpc],\n",
    "    [bpc,bpc,bpc,bpc,bpc,bpc,bpc,bpc,bpc]    \n",
    "]\n",
    "BL.outer = all_water;\n",
    "\n",
    "# universe corresponding to a blanket assembly\n",
    "B = openmc.Universe();\n",
    "blanket_cell = openmc.Cell();\n",
    "blanket_cell.region = -assy_bdy;\n",
    "blanket_cell.fill = BL;\n",
    "B.add_cell(blanket_cell);\n",
    "\n"
   ]
  },
  {
   "cell_type": "code",
   "execution_count": null,
   "id": "0aa69522",
   "metadata": {},
   "outputs": [],
   "source": [
    "# water lattice\n",
    "WL = openmc.RectLattice();\n",
    "WL.dimension = [N_assy,N_assy];\n",
    "WL.lower_left = [-N_assy/2.*pitch,-N_assy/2.*pitch]\n",
    "WL.pitch = [pitch,pitch];\n",
    "WL.universes = [\n",
    "    [all_water]*9,\n",
    "    [all_water]*9,\n",
    "    [all_water]*9,\n",
    "    [all_water]*9,\n",
    "    [all_water]*9,\n",
    "    [all_water]*9,\n",
    "    [all_water]*9,\n",
    "    [all_water]*9,\n",
    "    [all_water]*9    \n",
    "]\n",
    "WL.outer = all_water;\n",
    "\n",
    "W = openmc.Universe();\n",
    "water_cell = openmc.Cell();\n",
    "water_cell.region = -assy_bdy;\n",
    "water_cell.fill = WL;\n",
    "W.add_cell(water_cell);"
   ]
  },
  {
   "cell_type": "code",
   "execution_count": null,
   "id": "5b2531d7",
   "metadata": {},
   "outputs": [],
   "source": [
    "# core lattice\n",
    "CL = openmc.RectLattice();\n",
    "CL.dimension = [N_core,N_core];\n",
    "CL.lower_left = [-c_pitch/2.,-c_pitch/2.]\n",
    "CL.pitch = [a_pitch,a_pitch];\n",
    "CL.universes = [\n",
    "    [W,B,B,B,B,B,W],\n",
    "    [B,B,S,S,S,B,B],\n",
    "    [B,S,S,S,S,S,B],\n",
    "    [B,S,S,S,S,S,B],\n",
    "    [B,S,S,S,S,S,B],\n",
    "    [B,B,S,S,S,B,B],\n",
    "    [W,B,B,B,B,B,W]  \n",
    "    \n",
    "]\n",
    "CL.outer = all_water;\n",
    "\n",
    "C = openmc.Universe();\n",
    "core_cell = openmc.Cell();\n",
    "core_cell.region = -core_bdy;\n",
    "core_cell.fill = CL;\n",
    "C.add_cell(core_cell);\n"
   ]
  },
  {
   "cell_type": "code",
   "execution_count": null,
   "id": "af1a30ab",
   "metadata": {},
   "outputs": [],
   "source": [
    "colors = {}\n",
    "colors[water]='blue';\n",
    "colors[fuel]='yellow';\n",
    "colors[clad]='gray';\n",
    "colors[gas]='red';\n",
    "colors[blanket]='green';"
   ]
  },
  {
   "cell_type": "code",
   "execution_count": null,
   "id": "afa72231",
   "metadata": {},
   "outputs": [],
   "source": [
    "bpc.plot(width=(1,1),pixels=(400,400),color_by='material',colors=colors)"
   ]
  },
  {
   "cell_type": "code",
   "execution_count": null,
   "id": "0d4b6f0f",
   "metadata": {},
   "outputs": [],
   "source": [
    "root_univ = openmc.Universe();\n",
    "\n",
    "all_assy = openmc.Cell();\n",
    "all_assy.region = -core_bdy\n",
    "all_assy.fill = C\n",
    "\n",
    "ref_cell = openmc.Cell();\n",
    "ref_cell.region = +core_bdy & -rpv_bdy\n",
    "ref_cell.fill = water\n",
    "\n",
    "root_univ.add_cells([all_assy,ref_cell])\n",
    "\n"
   ]
  },
  {
   "cell_type": "code",
   "execution_count": null,
   "id": "98fe3d1c",
   "metadata": {},
   "outputs": [],
   "source": [
    "\n",
    "\n",
    "geometry = openmc.Geometry();\n",
    "geometry.root_universe = root_univ;\n",
    "geometry.export_to_xml();"
   ]
  },
  {
   "cell_type": "code",
   "execution_count": null,
   "id": "0ce3dd16",
   "metadata": {},
   "outputs": [],
   "source": [
    "root_univ.plot(width=(150,150),pixels=(400,400),\n",
    "               color_by='material',colors=colors)"
   ]
  },
  {
   "cell_type": "code",
   "execution_count": null,
   "id": "878c1eb1",
   "metadata": {},
   "outputs": [],
   "source": [
    "settings = openmc.Settings();\n",
    "settings.run_mode = 'eigenvalue';\n",
    "settings.particles = 20000;\n",
    "settings.batches = 200;\n",
    "settings.inactive = 50;\n",
    "\n",
    "box = openmc.stats.Box(lower_left=(-c_pitch/2.,-c_pitch/2.,-h_fuel/2.),\n",
    "                      upper_right=(c_pitch/2.,c_pitch/2.,h_fuel/2.),\n",
    "                      only_fissionable=True);\n",
    "\n",
    "src = openmc.Source(space=box);\n",
    "settings.source = src;\n",
    "\n",
    "settings.export_to_xml();"
   ]
  },
  {
   "cell_type": "code",
   "execution_count": null,
   "id": "e5240f50",
   "metadata": {},
   "outputs": [],
   "source": [
    "openmc.run()"
   ]
  },
  {
   "cell_type": "code",
   "execution_count": null,
   "id": "a6970567",
   "metadata": {},
   "outputs": [],
   "source": []
  }
 ],
 "metadata": {
  "kernelspec": {
   "display_name": "Python 3 (ipykernel)",
   "language": "python",
   "name": "python3"
  },
  "language_info": {
   "codemirror_mode": {
    "name": "ipython",
    "version": 3
   },
   "file_extension": ".py",
   "mimetype": "text/x-python",
   "name": "python",
   "nbconvert_exporter": "python",
   "pygments_lexer": "ipython3",
   "version": "3.9.10"
  }
 },
 "nbformat": 4,
 "nbformat_minor": 5
}
