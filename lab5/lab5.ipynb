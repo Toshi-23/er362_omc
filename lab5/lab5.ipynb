{
 "cells": [
  {
   "cell_type": "markdown",
   "id": "b7be9f6c",
   "metadata": {},
   "source": [
    "# Lab 5 - Modified 1-Group Criticality\n",
    "In this lab we will do a modified 1-group criticality calculation for a homogeneous thermal reactor comprising a sphere of U-235 with light water.  The composition is specified (mass density of U-235) and the goal will be to find the critical radius of the sphere. The calculation will be repeated to take into account the effect of a light water reflector.\n",
    "\n",
    "In order to compare the diffusion theory result with that obtained using a neutron transport simulation package, we repeat the calculation using OpenMC.  We will also find the critical radius in the case where the reflector material is changed from light water to graphite.\n",
    "\n",
    "In all cases it will be assumed that the thermal medium is maintained at 20${\\circ}C."
   ]
  },
  {
   "cell_type": "code",
   "execution_count": 4,
   "id": "4b689024",
   "metadata": {},
   "outputs": [
    {
     "name": "stdout",
     "output_type": "stream",
     "text": [
      "Critical Radius from modified 1-group theory: 56.8143 cm\n"
     ]
    }
   ],
   "source": [
    "import numpy as np\n",
    "\n",
    "# 1-Group solution\n",
    "\n",
    "# Parameters\n",
    "N_M = 0.03343; # atoms/b-cm, atom density of water moderator at 20 C\n",
    "\n",
    "rho_F = 0.0145; # g/cm**3, mass density of the fuel (given)\n",
    "N_A = 0.6022; # atoms-cm**2/mol-b, Avagadro's number in weird units\n",
    "M_F = 235.0; # g/mol, gram atomic weight of fuel (approximate)\n",
    "N_F = rho_F*N_A/M_F; # atoms/b-cm, atom density of the fuel\n",
    "\n",
    "sig_a_F = 687; # b, 0.0253-eV micro absorption cros section for U-235\n",
    "g_a_F = 0.9780; # non 1-v factor for U-235 absorption at 20 C\n",
    "sig_a_M = 0.664; # b, 0.0253-ev micro absorption cross section for light water\n",
    "eta_F = 2.065; # reproduction factor for U-235 at 20 C\n",
    "tau_T = 27; # cm**2, fermi age for water at 20 C\n",
    "L_T_M_sq = 8.1; # cm**2, thermal diffusion area for water at 20 C\n",
    "\n",
    "Z = N_F*sig_a_F*g_a_F/(N_M*sig_a_M); # modified 1-group (convenience) parameter. \n",
    "#note constant corrections to average thermal absorption cross sections cancel out.\n",
    "f = Z/(Z+1.); # thermal utilization\n",
    "L_T_sq = L_T_M_sq/(Z+1.); # thermal diffusion area accounting for presence of fuel\n",
    "D_M = 0.16; # cm, diffusion area of moderator at 20 C\n",
    "d = 2.13*D_M; # cm, extrapolation distance\n",
    "\n",
    "k_inf = eta_F*f; # inifinite multiplication factor\n",
    "B_sq = (k_inf - 1.)/(L_T_sq + tau_T); # 1/cm**2, critical buckling\n",
    "R_extrap = np.pi/np.sqrt(B_sq);\n",
    "\n",
    "\n",
    "R = R_extrap - d; # cm, critical radius\n",
    "\n",
    "print(f'Critical Radius from modified 1-group theory: %5.4f cm'%R);\n",
    "\n"
   ]
  },
  {
   "cell_type": "code",
   "execution_count": 5,
   "id": "50e87ced",
   "metadata": {},
   "outputs": [
    {
     "name": "stdout",
     "output_type": "stream",
     "text": [
      "Estimated reflector savings: 6.2812 cm\n",
      "Estimated reflected critical radius: 50.5330 cm\n"
     ]
    }
   ],
   "source": [
    "# Reflector Savings\n",
    "delta = 7.2 + 0.10*((L_T_sq+tau_T)-40.0); # correlation for light water moderated/reflected cores\n",
    "\n",
    "print(f'Estimated reflector savings: %5.4f cm'%delta);\n",
    "\n",
    "R_ref = R - delta;\n",
    "print(f'Estimated reflected critical radius: %5.4f cm'%R_ref);"
   ]
  },
  {
   "cell_type": "markdown",
   "id": "fb99a4ce",
   "metadata": {},
   "source": [
    "## OpenMC Model"
   ]
  },
  {
   "cell_type": "code",
   "execution_count": 6,
   "id": "a487b902",
   "metadata": {},
   "outputs": [],
   "source": [
    "import openmc"
   ]
  },
  {
   "cell_type": "code",
   "execution_count": 14,
   "id": "d5a9bff3",
   "metadata": {},
   "outputs": [],
   "source": [
    "# create a model for the critical radius search\n",
    "rho_M = 1.0\n",
    "rho_tot = rho_M+rho_F;\n",
    "\n",
    "wo_F = rho_F/rho_tot;\n",
    "wo_H = (2./18.)*rho_M/rho_tot;\n",
    "wo_O = (16./18.)*rho_M/rho_tot;\n",
    "\n",
    "\n",
    "# create the model. \"R\" will be the parametric variable\n",
    "def build_model(R):\n",
    "    # U-235 and light water sphere with given fuel composition\n",
    "    fuel = openmc.Material(name='fuel');\n",
    "    fuel.add_nuclide('U235',wo_F,'wo');\n",
    "    fuel.add_nuclide('H1',wo_H,'wo'); # 2 H1's per H2O molecule\n",
    "    fuel.add_nuclide('O16',wo_O,'wo');# 1 O16's per H2O molecule\n",
    "    fuel.add_s_alpha_beta('c_H_in_H2O'); # S(alpha,beta) for water.\n",
    "    fuel.set_density('g/cm3',1.0+rho_F); # approximate mass density of mixture\n",
    "    \n",
    "    materials = openmc.Materials([fuel]);\n",
    "    \n",
    "    fuel_sphere = openmc.Sphere(r=R,boundary_type='vacuum');\n",
    "    \n",
    "    fuel_cell = openmc.Cell();\n",
    "    fuel_cell.fill = fuel;\n",
    "    fuel_cell.region = -fuel_sphere;\n",
    "    \n",
    "    root_universe = openmc.Universe();\n",
    "    root_universe.add_cells([fuel_cell]);\n",
    "    \n",
    "    geometry = openmc.Geometry(root_universe);\n",
    "    \n",
    "    settings = openmc.Settings()\n",
    "    settings.batches = 200;\n",
    "    settings.inactive = 50;\n",
    "    settings.particles = 10000;\n",
    "    \n",
    "    bounds = [-R,-R,-R,R,R,R];\n",
    "    uniform_dist = openmc.stats.Box(bounds[:3],bounds[3:],\n",
    "                                   only_fissionable=True);\n",
    "    settings.source = openmc.source.Source(space=uniform_dist);\n",
    "    \n",
    "    settings.output = {'tallies':False};\n",
    "    \n",
    "    model = openmc.model.Model(geometry,materials,settings);\n",
    "    \n",
    "    return model;"
   ]
  },
  {
   "cell_type": "code",
   "execution_count": 15,
   "id": "5af8cd6b",
   "metadata": {},
   "outputs": [
    {
     "name": "stdout",
     "output_type": "stream",
     "text": [
      "Iteration: 1; Guess of 4.00e+01 produced a keff of 0.93677 +/- 0.00065\n",
      "Iteration: 2; Guess of 6.50e+01 produced a keff of 1.02429 +/- 0.00056\n",
      "Iteration: 3; Guess of 5.25e+01 produced a keff of 0.99404 +/- 0.00065\n",
      "Iteration: 4; Guess of 5.88e+01 produced a keff of 1.01344 +/- 0.00074\n",
      "Iteration: 5; Guess of 5.56e+01 produced a keff of 1.00409 +/- 0.00068\n",
      "Iteration: 6; Guess of 5.41e+01 produced a keff of 0.99894 +/- 0.00071\n",
      "Iteration: 7; Guess of 5.48e+01 produced a keff of 1.00148 +/- 0.00063\n",
      "Iteration: 8; Guess of 5.45e+01 produced a keff of 1.00045 +/- 0.00067\n",
      "Iteration: 9; Guess of 5.43e+01 produced a keff of 0.99993 +/- 0.00070\n",
      "Iteration: 10; Guess of 5.44e+01 produced a keff of 1.00016 +/- 0.00071\n",
      "Iteration: 11; Guess of 5.43e+01 produced a keff of 1.00015 +/- 0.00067\n",
      "Critical Radius: 54.3066 cm\n"
     ]
    }
   ],
   "source": [
    "crit_R, guesses, keffs = openmc.search_for_keff(build_model,\n",
    "                                                bracket=[40.,65.],\n",
    "                                                tol=1e-3,\n",
    "                                                print_iterations=True);\n",
    "print(f'Critical Radius: %5.4f cm' % crit_R);"
   ]
  },
  {
   "cell_type": "markdown",
   "id": "3b9e2d34",
   "metadata": {},
   "source": [
    "This isn't too far from the MCNP result.  If your hairs stand on end when you look at the way that I handled the fuel composition then you'll understand why I'm not super confident about this result, but it doesn't look bad to me.\n",
    "\n",
    "Update:  Actually, I probably did a better job of defining the material in this than what I did in the MCNP input (if you can believe that).  The first time around (i.e. when I wrote the note above) I had neglected to include the S(alpha,beta) thermal scattering treatment in the fuel material.  That resulted in ~2 cm difference in the computed critical radius.  I declare that to be non-trivial.\n",
    "\n",
    "Lesson learned: pay attention to the details!!"
   ]
  },
  {
   "cell_type": "code",
   "execution_count": 20,
   "id": "251a1f64",
   "metadata": {},
   "outputs": [],
   "source": [
    "# model with light water reflector\n",
    "rho_M = 1.0\n",
    "rho_tot = rho_M+rho_F;\n",
    "\n",
    "wo_F = rho_F/rho_tot;\n",
    "wo_H = (2./18.)*rho_M/rho_tot;\n",
    "wo_O = (16./18.)*rho_M/rho_tot;\n",
    "\n",
    "\n",
    "# create the model. \"R\" will be the parametric variable\n",
    "def water_reflected_model(R):\n",
    "    # U-235 and light water sphere with given fuel composition\n",
    "    fuel = openmc.Material(name='fuel');\n",
    "    fuel.add_nuclide('U235',wo_F,'wo');\n",
    "    fuel.add_nuclide('H1',wo_H,'wo'); # 2 H1's per H2O molecule\n",
    "    fuel.add_nuclide('O16',wo_O,'wo');# 1 O16's per H2O molecule\n",
    "    fuel.add_s_alpha_beta('c_H_in_H2O'); # S(alpha,beta) for water.\n",
    "    fuel.set_density('g/cm3',1.0+rho_F); # approximate mass density of mixture\n",
    "    \n",
    "    lw_ref = openmc.Material(name='light water reflector');\n",
    "    lw_ref.add_nuclide('H1',2.,'ao');\n",
    "    lw_ref.add_nuclide('O16',1.,'ao');\n",
    "    lw_ref.add_s_alpha_beta('c_H_in_H2O');\n",
    "    lw_ref.set_density('g/cm3',1.0);\n",
    "    \n",
    "    \n",
    "    materials = openmc.Materials([fuel,lw_ref]);\n",
    "    \n",
    "    fuel_sphere = openmc.Sphere(r=R);\n",
    "    outer_sphere = openmc.Sphere(r=5.*R,boundary_type='vacuum');\n",
    "    # assume the reflector is 5x the radius of the sphere.  That should be enough \n",
    "    # for an (effectively) infinite reflector\n",
    "    \n",
    "    fuel_cell = openmc.Cell();\n",
    "    fuel_cell.fill = fuel;\n",
    "    fuel_cell.region = -fuel_sphere;\n",
    "    \n",
    "    ref_cell = openmc.Cell();\n",
    "    ref_cell.fill = lw_ref;\n",
    "    ref_cell.region = +fuel_sphere & -outer_sphere;\n",
    "    \n",
    "    root_universe = openmc.Universe();\n",
    "    root_universe.add_cells([fuel_cell,ref_cell]);\n",
    "    \n",
    "    geometry = openmc.Geometry(root_universe);\n",
    "    \n",
    "    settings = openmc.Settings()\n",
    "    settings.batches = 200;\n",
    "    settings.inactive = 50;\n",
    "    settings.particles = 10000;\n",
    "    \n",
    "    bounds = [-R,-R,-R,R,R,R];\n",
    "    uniform_dist = openmc.stats.Box(bounds[:3],bounds[3:],\n",
    "                                   only_fissionable=True);\n",
    "    settings.source = openmc.source.Source(space=uniform_dist);\n",
    "    \n",
    "    settings.output = {'tallies':False};\n",
    "    \n",
    "    model = openmc.model.Model(geometry,materials,settings);\n",
    "    \n",
    "    return model;"
   ]
  },
  {
   "cell_type": "code",
   "execution_count": 21,
   "id": "41ac7427",
   "metadata": {},
   "outputs": [
    {
     "name": "stdout",
     "output_type": "stream",
     "text": [
      "Iteration: 1; Guess of 4.00e+01 produced a keff of 0.95613 +/- 0.00070\n",
      "Iteration: 2; Guess of 6.50e+01 produced a keff of 1.03124 +/- 0.00062\n",
      "Iteration: 3; Guess of 5.25e+01 produced a keff of 1.00521 +/- 0.00056\n",
      "Iteration: 4; Guess of 4.62e+01 produced a keff of 0.98413 +/- 0.00067\n",
      "Iteration: 5; Guess of 4.94e+01 produced a keff of 0.99470 +/- 0.00066\n",
      "Iteration: 6; Guess of 5.09e+01 produced a keff of 1.00022 +/- 0.00060\n",
      "Iteration: 7; Guess of 5.02e+01 produced a keff of 0.99830 +/- 0.00059\n",
      "Iteration: 8; Guess of 5.05e+01 produced a keff of 0.99940 +/- 0.00067\n",
      "Iteration: 9; Guess of 5.07e+01 produced a keff of 0.99915 +/- 0.00064\n",
      "Iteration: 10; Guess of 5.08e+01 produced a keff of 0.99951 +/- 0.00069\n",
      "Iteration: 11; Guess of 5.09e+01 produced a keff of 0.99846 +/- 0.00069\n",
      "Critical Radius: 50.8887 cm\n"
     ]
    }
   ],
   "source": [
    "crit_R_reflected, guesses, keffs = openmc.search_for_keff(water_reflected_model,\n",
    "                                                bracket=[40.,65.],\n",
    "                                                tol=1e-3,\n",
    "                                                print_iterations=True);\n",
    "print(f'Critical Radius: %5.4f cm' % crit_R_reflected);"
   ]
  },
  {
   "cell_type": "markdown",
   "id": "2be6b015",
   "metadata": {},
   "source": [
    "This is, again, similar to my previously computed MCNP result.  Note that the reflector savings is not as big as predicted by the correlation we used for the \"analytic\" method."
   ]
  },
  {
   "cell_type": "code",
   "execution_count": 22,
   "id": "fd588747",
   "metadata": {},
   "outputs": [],
   "source": [
    "# model with graphite reflector\n",
    "rho_M = 1.0\n",
    "rho_tot = rho_M+rho_F;\n",
    "\n",
    "wo_F = rho_F/rho_tot;\n",
    "wo_H = (2./18.)*rho_M/rho_tot;\n",
    "wo_O = (16./18.)*rho_M/rho_tot;\n",
    "\n",
    "\n",
    "# create the model. \"R\" will be the parametric variable\n",
    "def graphite_reflected_model(R):\n",
    "    # U-235 and light water sphere with given fuel composition\n",
    "    fuel = openmc.Material(name='fuel');\n",
    "    fuel.add_nuclide('U235',wo_F,'wo');\n",
    "    fuel.add_nuclide('H1',wo_H,'wo'); # 2 H1's per H2O molecule\n",
    "    fuel.add_nuclide('O16',wo_O,'wo');# 1 O16's per H2O molecule\n",
    "    fuel.add_s_alpha_beta('c_H_in_H2O'); # S(alpha,beta) for water.\n",
    "    fuel.set_density('g/cm3',1.0+rho_F); # approximate mass density of mixture\n",
    "    \n",
    "    grph_ref = openmc.Material(name='graphite reflector');\n",
    "    grph_ref.add_nuclide('C0',1.,'ao');\n",
    "    grph_ref.add_s_alpha_beta('c_Graphite');\n",
    "    grph_ref.set_density('g/cm3',1.7);\n",
    "    \n",
    "    \n",
    "    materials = openmc.Materials([fuel,grph_ref]);\n",
    "    \n",
    "    fuel_sphere = openmc.Sphere(r=R);\n",
    "    outer_sphere = openmc.Sphere(r=5.*R,boundary_type='vacuum');\n",
    "    # assume the reflector is 5x the radius of the sphere.  That should be enough \n",
    "    # for an (effectively) infinite reflector\n",
    "    \n",
    "    fuel_cell = openmc.Cell();\n",
    "    fuel_cell.fill = fuel;\n",
    "    fuel_cell.region = -fuel_sphere;\n",
    "    \n",
    "    ref_cell = openmc.Cell();\n",
    "    ref_cell.fill = grph_ref;\n",
    "    ref_cell.region = +fuel_sphere & -outer_sphere;\n",
    "    \n",
    "    root_universe = openmc.Universe();\n",
    "    root_universe.add_cells([fuel_cell,ref_cell]);\n",
    "    \n",
    "    geometry = openmc.Geometry(root_universe);\n",
    "    \n",
    "    settings = openmc.Settings()\n",
    "    settings.batches = 200;\n",
    "    settings.inactive = 50;\n",
    "    settings.particles = 10000;\n",
    "    \n",
    "    bounds = [-R,-R,-R,R,R,R];\n",
    "    uniform_dist = openmc.stats.Box(bounds[:3],bounds[3:],\n",
    "                                   only_fissionable=True);\n",
    "    settings.source = openmc.source.Source(space=uniform_dist);\n",
    "    \n",
    "    settings.output = {'tallies':False};\n",
    "    \n",
    "    model = openmc.model.Model(geometry,materials,settings);\n",
    "    \n",
    "    return model;"
   ]
  },
  {
   "cell_type": "code",
   "execution_count": 23,
   "id": "a6ce3bf0",
   "metadata": {},
   "outputs": [
    {
     "name": "stdout",
     "output_type": "stream",
     "text": [
      "Iteration: 1; Guess of 4.00e+01 produced a keff of 0.99512 +/- 0.00063\n",
      "Iteration: 2; Guess of 6.50e+01 produced a keff of 1.04948 +/- 0.00059\n",
      "Iteration: 3; Guess of 5.25e+01 produced a keff of 1.02955 +/- 0.00061\n",
      "Iteration: 4; Guess of 4.62e+01 produced a keff of 1.01607 +/- 0.00058\n",
      "Iteration: 5; Guess of 4.31e+01 produced a keff of 1.00605 +/- 0.00068\n",
      "Iteration: 6; Guess of 4.16e+01 produced a keff of 1.00154 +/- 0.00066\n",
      "Iteration: 7; Guess of 4.08e+01 produced a keff of 0.99844 +/- 0.00063\n",
      "Iteration: 8; Guess of 4.12e+01 produced a keff of 1.00079 +/- 0.00067\n",
      "Iteration: 9; Guess of 4.10e+01 produced a keff of 1.00032 +/- 0.00060\n",
      "Iteration: 10; Guess of 4.09e+01 produced a keff of 0.99926 +/- 0.00064\n",
      "Iteration: 11; Guess of 4.09e+01 produced a keff of 0.99856 +/- 0.00063\n",
      "Iteration: 12; Guess of 4.10e+01 produced a keff of 0.99947 +/- 0.00062\n",
      "Critical Radius: 40.9521 cm\n"
     ]
    }
   ],
   "source": [
    "crit_R_grph_ref, guesses, keffs = openmc.search_for_keff(graphite_reflected_model,\n",
    "                                                bracket=[40.,65.],\n",
    "                                                tol=1e-3,\n",
    "                                                print_iterations=True);\n",
    "print(f'Critical Radius: %5.4f cm' % crit_R_grph_ref);"
   ]
  },
  {
   "cell_type": "markdown",
   "id": "163b418a",
   "metadata": {},
   "source": [
    "Food for thought: why is graphite so much better as a reflector than light water?"
   ]
  },
  {
   "cell_type": "code",
   "execution_count": null,
   "id": "e0a35048",
   "metadata": {},
   "outputs": [],
   "source": []
  }
 ],
 "metadata": {
  "kernelspec": {
   "display_name": "Python 3",
   "language": "python",
   "name": "python3"
  },
  "language_info": {
   "codemirror_mode": {
    "name": "ipython",
    "version": 3
   },
   "file_extension": ".py",
   "mimetype": "text/x-python",
   "name": "python",
   "nbconvert_exporter": "python",
   "pygments_lexer": "ipython3",
   "version": "3.9.2"
  }
 },
 "nbformat": 4,
 "nbformat_minor": 5
}
