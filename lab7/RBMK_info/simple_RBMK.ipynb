{
 "cells": [
  {
   "cell_type": "markdown",
   "id": "e8f32cf5",
   "metadata": {},
   "source": [
    "# Simple RBMK Model\n",
    "This model is intended to highlight some basic reactor physics properties of an RBMK model.  The simplification will be in the geometric representation of fuel an control elements each of which will be explained in the blocks below."
   ]
  },
  {
   "cell_type": "markdown",
   "id": "96515663",
   "metadata": {},
   "source": [
    "## Materials"
   ]
  },
  {
   "cell_type": "code",
   "execution_count": 1,
   "id": "b9a22161",
   "metadata": {},
   "outputs": [],
   "source": [
    "import openmc\n",
    "import numpy as np\n"
   ]
  },
  {
   "cell_type": "markdown",
   "id": "acf95471",
   "metadata": {},
   "source": [
    "### Fuel Channel Materials\n",
    "\n",
    "Fuel channels will be modeled as a homogeneous mixture of water, slightly enriched uranium fuel, and ziraloy cladding.  In the block below I will work out the volume fractions of each material."
   ]
  },
  {
   "cell_type": "code",
   "execution_count": 2,
   "id": "ed5880cb",
   "metadata": {},
   "outputs": [
    {
     "name": "stdout",
     "output_type": "stream",
     "text": [
      "fuel volume fraction: 0.3694\n",
      "clad volume fraction: 0.1286\n",
      "coolant volume fraction: 0.5020\n"
     ]
    }
   ],
   "source": [
    "# computations to estimate the atom density of various \n",
    "# nuclides comprising the fuel and water that I am smearing\n",
    "# together for the fuel channels.\n",
    "\n",
    "# obviously, this is a \"guesstimate\" and gross simplification\n",
    "# but (aspirationally) can be made more accurate for more robust\n",
    "# calculations\n",
    "\n",
    "r_channel = 8.0/2.; # cm\n",
    "L_channel = 700; # cm\n",
    "\n",
    "V_channel = np.pi*(r_channel**2)*L_channel\n",
    "\n",
    "n_bundles = 2;\n",
    "n_pins_per_bundle = 18;\n",
    "L_bundle = L_channel/n_bundles; # okay; this is a fudge\n",
    "\n",
    "r_fuel = 1.146/2.; # cm, just the radius of the fuel pellet\n",
    "r_clad_o = 1.36/2.; # cm, clad outer radius\n",
    "r_clad_i = r_clad_o - 0.09; # cm, clad inner radius (0.9mm clad thickness)\n",
    "\n",
    "\n",
    "fuel_vol = np.pi*(r_fuel**2)*L_bundle*n_bundles*n_pins_per_bundle; #cm^3\n",
    "fuel_vol_frac = fuel_vol/V_channel;\n",
    "print(f'fuel volume fraction: %5.4f'%fuel_vol_frac);\n",
    "\n",
    "clad_vol = np.pi*(r_clad_o**2 - r_clad_i**2)*L_bundle*n_bundles*n_pins_per_bundle;\n",
    "clad_vol_frac = clad_vol/V_channel;\n",
    "print(f'clad volume fraction: %5.4f'%clad_vol_frac);\n",
    "\n",
    "coolant_vol_frac = 1 - clad_vol_frac - fuel_vol_frac\n",
    "print(f'coolant volume fraction: %5.4f'%coolant_vol_frac);\n"
   ]
  },
  {
   "cell_type": "markdown",
   "id": "086d80c5",
   "metadata": {},
   "source": [
    "with this volume fraction information I can create the fuel channel mixture."
   ]
  },
  {
   "cell_type": "code",
   "execution_count": 3,
   "id": "70e217cd",
   "metadata": {},
   "outputs": [],
   "source": [
    "uo2 = openmc.Material(name='uo2');\n",
    "uo2.add_element('U',1,enrichment=2.2);\n",
    "uo2.add_element('O',2);\n",
    "uo2.set_density('g/cm3',10.5);\n",
    "\n",
    "water = openmc.Material(name='water');\n",
    "water.add_element('H',2);\n",
    "water.add_element('O',1);\n",
    "water.set_density('g/cm3',0.7);\n",
    "\n",
    "clad = openmc.Material(name='clad');\n",
    "clad.add_element('Zr',1);\n",
    "clad.set_density('g/cm3',6.51);\n",
    "\n",
    "fuel_chan_mat = openmc.Material.mix_materials([uo2,water,clad],\n",
    "                                             [fuel_vol_frac,\n",
    "                                             coolant_vol_frac,\n",
    "                                             clad_vol_frac],'vo');\n",
    "\n",
    "fuel_chan_mat.add_s_alpha_beta('c_H_in_H2O');\n"
   ]
  },
  {
   "cell_type": "markdown",
   "id": "c2a83ff3",
   "metadata": {},
   "source": [
    "the graphite and B4C control rods will be modeled simply."
   ]
  },
  {
   "cell_type": "code",
   "execution_count": 4,
   "id": "732d1753",
   "metadata": {},
   "outputs": [],
   "source": [
    "b4c = openmc.Material(name='b4c');\n",
    "b4c.add_element('B',4.);\n",
    "b4c.add_element('C',1.);\n",
    "b4c.set_density('g/cm3',2.52);"
   ]
  },
  {
   "cell_type": "code",
   "execution_count": 5,
   "id": "f0a9f49f",
   "metadata": {},
   "outputs": [],
   "source": [
    "mod = openmc.Material(name='mod');\n",
    "mod.add_element('C',1.);\n",
    "mod.set_density('g/cm3',1.7);\n",
    "mod.add_s_alpha_beta('c_Graphite');"
   ]
  },
  {
   "cell_type": "code",
   "execution_count": 6,
   "id": "85e45824",
   "metadata": {},
   "outputs": [],
   "source": [
    "materials = openmc.Materials()\n",
    "materials += [fuel_chan_mat,b4c,mod];\n",
    "materials.export_to_xml();"
   ]
  },
  {
   "cell_type": "markdown",
   "id": "81ec3966",
   "metadata": {},
   "source": [
    "## Geometry\n",
    "In the next chunks of code I will create universes for fuel channels and control rod channels."
   ]
  },
  {
   "cell_type": "code",
   "execution_count": 9,
   "id": "15774dcd",
   "metadata": {},
   "outputs": [],
   "source": [
    "top = openmc.ZPlane(z0 = L_channel,boundary_type='vacuum');\n",
    "bottom = openmc.ZPlane(z0=0.,boundary_type='vacuum');\n",
    "\n",
    "chan_wall = openmc.ZCylinder(r=r_channel);\n",
    "\n",
    "# fueled universe\n",
    "fuel_chan_cell = openmc.Cell();\n",
    "fuel_chan_cell.fill = fuel_chan_mat;\n",
    "fuel_chan_cell.region = -chan_wall & +bottom & -top;\n",
    "\n",
    "mod_cell = openmc.Cell();\n",
    "mod_cell.fill = mod;\n",
    "mod_cell.region = +chan_wall & +bottom & -top;\n",
    "\n",
    "fu = openmc.Universe();\n",
    "fu.add_cells([fuel_chan_cell,mod_cell]);\n",
    "\n",
    "# control rod universe\n",
    "pct_insert_cr = 0.5;\n",
    "cr_follower_len = 50; # cm, length of graphite follower\n",
    "\n",
    "cr_surf = openmc.ZPlane(z0=pct_insert_cr*L_channel);\n",
    "crf_surf = openmc.ZPlane(z0=pct_insert_cr*L_channel-cr_follower_len);\n",
    "\n",
    "cr_cell = openmc.Cell();\n",
    "cr_cell.fill = b4c;\n",
    "cr_cell.region = -chan_wall & -top & +cr_surf;\n",
    "\n",
    "gf_cell = openmc.Cell();\n",
    "gf_cell.fill = mod;\n",
    "gf_cell.region = -chan_wall & +crf_surf & -cr_surf;\n",
    "\n",
    "cr_water_cell = openmc.Cell();\n",
    "cr_water_cell.fill = water;\n",
    "cr_water_cell.region = -chan_wall & +bottom & -crf_surf;\n",
    "\n",
    "cu = openmc.Universe();\n",
    "cu.add_cells([cr_cell,gf_cell,cr_water_cell]);\n",
    "\n",
    "\n",
    "mod_cell = openmc.Cell();\n",
    "mod_cell.fill = mod;\n",
    "\n",
    "all_mod = openmc.Universe();\n",
    "all_mod.add_cell(mod_cell);\n",
    "\n",
    "\n",
    "n_cells = 3;\n",
    "pitch = 25\n",
    "\n",
    "left = openmc.YPlane(y0=-n_cells*pitch/2.,boundary_type='reflective');\n",
    "right = openmc.YPlane(y0=n_cells*pitch/2.,boundary_type='reflective');\n",
    "front = openmc.XPlane(x0=n_cells*pitch/2.,boundary_type='reflective');\n",
    "back = openmc.XPlane(x0=-n_cells*pitch/2.,boundary_type='reflective');\n",
    "\n",
    "lattice = openmc.RectLattice();\n",
    "lattice.dimension = [3,3];\n",
    "lattice.lower_left = [-n_cells*pitch/2.,-n_cells*pitch/2.];\n",
    "lattice.pitch = [pitch,pitch];\n",
    "\n",
    "lattice.universes = [\n",
    "    [fu,fu,fu],\n",
    "    [fu,cu,fu],\n",
    "    [fu,fu,fu]\n",
    "]\n",
    "\n",
    "lattice.outer = all_mod;\n",
    "\n",
    "core_cell = openmc.Cell();\n",
    "core_cell.fill = lattice;\n",
    "core_cell.region = +left & -right & -front & +back & -top & +bottom;\n",
    "\n",
    "\n",
    "root = openmc.Universe();\n",
    "root.add_cells([core_cell]);\n",
    "\n",
    "geometry = openmc.Geometry();\n",
    "geometry.root_universe = root;\n",
    "geometry.export_to_xml();\n",
    "\n",
    "\n",
    "\n"
   ]
  },
  {
   "cell_type": "code",
   "execution_count": 10,
   "id": "830d2615",
   "metadata": {},
   "outputs": [],
   "source": [
    "colors = {};\n",
    "colors[b4c]='yellow';\n",
    "colors[fuel_chan_mat]='olive';\n",
    "colors[mod]='gray';\n",
    "colors[water]='blue';"
   ]
  },
  {
   "cell_type": "code",
   "execution_count": 11,
   "id": "2a9f5449",
   "metadata": {},
   "outputs": [
    {
     "ename": "RuntimeError",
     "evalue": "Could not find material 2 specified on cell 11",
     "output_type": "error",
     "traceback": [
      "\u001b[0;31m---------------------------------------------------------------------------\u001b[0m",
      "\u001b[0;31mRuntimeError\u001b[0m                              Traceback (most recent call last)",
      "\u001b[0;32m<ipython-input-11-f146817ea818>\u001b[0m in \u001b[0;36m<module>\u001b[0;34m\u001b[0m\n\u001b[1;32m      6\u001b[0m \u001b[0mp\u001b[0m\u001b[0;34m.\u001b[0m\u001b[0mcolors\u001b[0m \u001b[0;34m=\u001b[0m \u001b[0mcolors\u001b[0m\u001b[0;34m;\u001b[0m\u001b[0;34m\u001b[0m\u001b[0;34m\u001b[0m\u001b[0m\n\u001b[1;32m      7\u001b[0m \u001b[0;34m\u001b[0m\u001b[0m\n\u001b[0;32m----> 8\u001b[0;31m \u001b[0mopenmc\u001b[0m\u001b[0;34m.\u001b[0m\u001b[0mplot_inline\u001b[0m\u001b[0;34m(\u001b[0m\u001b[0mp\u001b[0m\u001b[0;34m)\u001b[0m\u001b[0;34m;\u001b[0m\u001b[0;34m\u001b[0m\u001b[0;34m\u001b[0m\u001b[0m\n\u001b[0m",
      "\u001b[0;32m~/anaconda3/envs/omc_latest/lib/python3.9/site-packages/openmc/executor.py\u001b[0m in \u001b[0;36mplot_inline\u001b[0;34m(plots, openmc_exec, cwd, convert_exec)\u001b[0m\n\u001b[1;32m     93\u001b[0m \u001b[0;34m\u001b[0m\u001b[0m\n\u001b[1;32m     94\u001b[0m     \u001b[0;31m# Run OpenMC in geometry plotting mode\u001b[0m\u001b[0;34m\u001b[0m\u001b[0;34m\u001b[0m\u001b[0;34m\u001b[0m\u001b[0m\n\u001b[0;32m---> 95\u001b[0;31m     \u001b[0mplot_geometry\u001b[0m\u001b[0;34m(\u001b[0m\u001b[0;32mFalse\u001b[0m\u001b[0;34m,\u001b[0m \u001b[0mopenmc_exec\u001b[0m\u001b[0;34m,\u001b[0m \u001b[0mcwd\u001b[0m\u001b[0;34m)\u001b[0m\u001b[0;34m\u001b[0m\u001b[0;34m\u001b[0m\u001b[0m\n\u001b[0m\u001b[1;32m     96\u001b[0m \u001b[0;34m\u001b[0m\u001b[0m\n\u001b[1;32m     97\u001b[0m     \u001b[0mimages\u001b[0m \u001b[0;34m=\u001b[0m \u001b[0;34m[\u001b[0m\u001b[0;34m]\u001b[0m\u001b[0;34m\u001b[0m\u001b[0;34m\u001b[0m\u001b[0m\n",
      "\u001b[0;32m~/anaconda3/envs/omc_latest/lib/python3.9/site-packages/openmc/executor.py\u001b[0m in \u001b[0;36mplot_geometry\u001b[0;34m(output, openmc_exec, cwd)\u001b[0m\n\u001b[1;32m     57\u001b[0m \u001b[0;34m\u001b[0m\u001b[0m\n\u001b[1;32m     58\u001b[0m     \"\"\"\n\u001b[0;32m---> 59\u001b[0;31m     \u001b[0m_run\u001b[0m\u001b[0;34m(\u001b[0m\u001b[0;34m[\u001b[0m\u001b[0mopenmc_exec\u001b[0m\u001b[0;34m,\u001b[0m \u001b[0;34m'-p'\u001b[0m\u001b[0;34m]\u001b[0m\u001b[0;34m,\u001b[0m \u001b[0moutput\u001b[0m\u001b[0;34m,\u001b[0m \u001b[0mcwd\u001b[0m\u001b[0;34m)\u001b[0m\u001b[0;34m\u001b[0m\u001b[0;34m\u001b[0m\u001b[0m\n\u001b[0m\u001b[1;32m     60\u001b[0m \u001b[0;34m\u001b[0m\u001b[0m\n\u001b[1;32m     61\u001b[0m \u001b[0;34m\u001b[0m\u001b[0m\n",
      "\u001b[0;32m~/anaconda3/envs/omc_latest/lib/python3.9/site-packages/openmc/executor.py\u001b[0m in \u001b[0;36m_run\u001b[0;34m(args, output, cwd)\u001b[0m\n\u001b[1;32m     36\u001b[0m         \u001b[0merror_msg\u001b[0m \u001b[0;34m=\u001b[0m \u001b[0;34m' '\u001b[0m\u001b[0;34m.\u001b[0m\u001b[0mjoin\u001b[0m\u001b[0;34m(\u001b[0m\u001b[0merror_msg\u001b[0m\u001b[0;34m.\u001b[0m\u001b[0msplit\u001b[0m\u001b[0;34m(\u001b[0m\u001b[0;34m)\u001b[0m\u001b[0;34m)\u001b[0m\u001b[0;34m\u001b[0m\u001b[0;34m\u001b[0m\u001b[0m\n\u001b[1;32m     37\u001b[0m \u001b[0;34m\u001b[0m\u001b[0m\n\u001b[0;32m---> 38\u001b[0;31m         \u001b[0;32mraise\u001b[0m \u001b[0mRuntimeError\u001b[0m\u001b[0;34m(\u001b[0m\u001b[0merror_msg\u001b[0m\u001b[0;34m)\u001b[0m\u001b[0;34m\u001b[0m\u001b[0;34m\u001b[0m\u001b[0m\n\u001b[0m\u001b[1;32m     39\u001b[0m \u001b[0;34m\u001b[0m\u001b[0m\n\u001b[1;32m     40\u001b[0m \u001b[0;34m\u001b[0m\u001b[0m\n",
      "\u001b[0;31mRuntimeError\u001b[0m: Could not find material 2 specified on cell 11"
     ]
    }
   ],
   "source": [
    "p = openmc.Plot();\n",
    "p.width = [-n_cells*pitch/2.,-n_cells*pitch/2.];\n",
    "p.origin = [0.,0.,L_channel/2.];\n",
    "p.pixels = [400,400];\n",
    "p.color_by = 'material';\n",
    "p.colors = colors;\n",
    "\n",
    "openmc.plot_inline(p);"
   ]
  },
  {
   "cell_type": "code",
   "execution_count": null,
   "id": "67620c65",
   "metadata": {},
   "outputs": [],
   "source": []
  }
 ],
 "metadata": {
  "kernelspec": {
   "display_name": "Python 3",
   "language": "python",
   "name": "python3"
  },
  "language_info": {
   "codemirror_mode": {
    "name": "ipython",
    "version": 3
   },
   "file_extension": ".py",
   "mimetype": "text/x-python",
   "name": "python",
   "nbconvert_exporter": "python",
   "pygments_lexer": "ipython3",
   "version": "3.9.2"
  }
 },
 "nbformat": 4,
 "nbformat_minor": 5
}
