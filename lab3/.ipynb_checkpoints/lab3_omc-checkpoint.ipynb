{
 "cells": [
  {
   "cell_type": "markdown",
   "id": "a3a01187",
   "metadata": {},
   "source": [
    "# Lab 3\n",
    "The goals of this lab are as follows:\n",
    "<ol>\n",
    "    <li> reinforce basic modeling concepts with MCNP/OpenMC</li>\n",
    "    <li> introduce energy bins for tallies </li>\n",
    "    <li> introduce non-monoenergetic soruces </li>\n",
    "    <li> To compare results between 1-group and 2-group Neutron Diffusion Theory and MCNP/OpenMC </li>\n",
    "    \n",
    "</ol>\n",
    "\n",
    "The domain comprises an infinite body of water at room temperature.  A neutron point source is located at the orgin.  The point source is modeled as a low energy (0.0253 eV), high energy (1 MeV) and a Watt Fission spectrum representative of neutrons born from fission of U-235. Flux is measured on a series of concentric spheres around the orign and compared to the flux from 1- and 2-group diffusion theory.\n",
    "        "
   ]
  },
  {
   "cell_type": "markdown",
   "id": "574fce6e",
   "metadata": {},
   "source": [
    "## Diffusion Theory Results\n",
    "\n",
    "As with Lab 2, it's a good approach to have a strong notion of what theory says your computational results should be **before** you undertake the computation.  \n",
    "\n",
    "The (1-group) diffusion theory solution for flux from a point source in an infinite non-multiplying medium is:\n",
    "$$\\phi(r) = \\frac{Se^{-r/L}}{4 \\pi D r}$$\n",
    "where $S$ is the source strength, $D$ is the diffusion coefficient for the medium (which is assumed to be homogeneous), and $L$ is the diffusion length for the (homogeneous) medium.\n",
    "\n",
    "For 2-group diffusion theory, the neutrons are segregated by energy into a high energy group (group 1) and a low energy group (group 2).  In some contexts the low energy group is considered \"Thermal\" neutrons and so a subscript \"T\" is used to denote that flux.  The solution in this case is:\n",
    "$$\\phi_1 = \\frac{Se^{-r/\\sqrt{\\tau_T}}}{4 \\pi D_1 r}$$\n",
    "$$\\phi_T = \\frac{SL_T^2}{4 \\pi r \\bar{D}\\left(L_T^2-\\tau_T \\right)}\\left(e^{-r/L_T} - e^{-r/\\sqrt{\\tau_T}}\\right)$$\n",
    "\n",
    "The constants in the above equations have analgous meanings as with 1-group diffusion theory albeit for thier individual groups.  The constants $\\bar{D}$ and $L_T$ are the diffusion coefficent and diffusion length for \"thermal\" neutrons; this number varies with temperature as does the thermal neutron energy spectrum and can be obtained from standard data references."
   ]
  },
  {
   "cell_type": "code",
   "execution_count": 1,
   "id": "bc83c803",
   "metadata": {},
   "outputs": [
    {
     "data": {
      "image/png": "[encoded data removed]",
      "text/plain": [
       "<Figure size 432x288 with 1 Axes>"
      ]
     },
     "metadata": {
      "needs_background": "light"
     },
     "output_type": "display_data"
    }
   ],
   "source": [
    "%matplotlib inline\n",
    "import matplotlib.pyplot as plt\n",
    "import numpy as np\n",
    "\n",
    "S = 1; #n/s, representative unit source strength\n",
    "D = 0.84; #cm, diffusion coefficient for water\n",
    "L = 59; # cm, diffusion length for water at 20 degrees C\n",
    " \n",
    "# one group flux\n",
    "def phi(r):\n",
    "    return (S/(4.*np.pi*D*r))*np.exp(-r/L);\n",
    "\n",
    "# two-group result\n",
    "D1 = 1.016; # cm, diffusion coefficient for fast neutrons\n",
    "tau_t = 368; #cm, neutron age, water\n",
    "\n",
    "# group 1 flux for 2-group theory\n",
    "def phi_1(r):\n",
    "    return (S/(4.*np.pi*D1*r))*np.exp(-r/np.sqrt(tau_t));\n",
    "\n",
    "# thermal flux for 2-group theory\n",
    "def phi_t(r):\n",
    "    const = (S*(L**2))/(4.*np.pi*r*D*(L**2 - tau_t));\n",
    "    return const*(np.exp(-r/L) - np.exp(-r/np.sqrt(tau_t)));\n",
    "\n",
    "rMin = 1e-3;\n",
    "rMax = 30;\n",
    "nR = 1000\n",
    "\n",
    "R = np.linspace(rMin,rMax,nR);\n",
    "\n",
    "one_group_flux = phi(R);\n",
    "fast_flux = phi_1(R);\n",
    "thermal_flux = phi_t(R);\n",
    "\n",
    "plt.semilogy(R,one_group_flux,label='One Group',linestyle='-',\n",
    "            linewidth=4);\n",
    "plt.semilogy(R,fast_flux,label='Fast Flux',linestyle='-.',\n",
    "            linewidth=4);\n",
    "plt.semilogy(R,thermal_flux,label='Thermal Flux',linestyle='--',\n",
    "            linewidth=4);\n",
    "plt.semilogy(R,fast_flux+thermal_flux,\n",
    "            label='Fast + Thermal',linestyle=(0, (3, 5, 1, 5, 1, 5)),\n",
    "            linewidth=4)\n",
    "plt.legend();\n",
    "plt.grid(True);\n",
    "plt.title('One Group and Two Group Analytic Flux',\n",
    "         fontsize=14,fontweight='bold');\n",
    "plt.xlabel('R [cm]',fontsize=12,fontweight='bold');\n",
    "plt.ylabel('$\\phi$ [$n/cm^2-s$]',fontsize=12,fontweight='bold');\n"
   ]
  },
  {
   "cell_type": "markdown",
   "id": "f184c620",
   "metadata": {},
   "source": [
    "As can be seen, at least under these conditions, the 1-group and 2-group (Fast + Thermal) flux results are comparable."
   ]
  },
  {
   "cell_type": "markdown",
   "id": "fb2544c5",
   "metadata": {},
   "source": [
    "## OpenMC Model"
   ]
  },
  {
   "cell_type": "code",
   "execution_count": 2,
   "id": "4a989eff",
   "metadata": {},
   "outputs": [],
   "source": [
    "import openmc"
   ]
  },
  {
   "cell_type": "markdown",
   "id": "a006c648",
   "metadata": {},
   "source": [
    "## Materials\n",
    "The domain under consideration is simply an infinite domain with water at 20 $^{\\circ}$C"
   ]
  },
  {
   "cell_type": "code",
   "execution_count": 3,
   "id": "96896f3d",
   "metadata": {},
   "outputs": [],
   "source": [
    "water = openmc.Material(name='water');\n",
    "water.add_nuclide('H1',2);\n",
    "water.add_nuclide('O16',1);\n",
    "water.set_density('g/cm3',1.0);\n",
    "water.add_s_alpha_beta('c_H_in_H2O');\n",
    "\n",
    "mf = openmc.Materials([water]);\n",
    "mf.export_to_xml()"
   ]
  },
  {
   "cell_type": "markdown",
   "id": "79c357b8",
   "metadata": {},
   "source": [
    "## Geometry\n",
    "The domain is infinite, but I will set up some surfaces on which to obtain flux tallies.  Per the lab directions I want a set of concentric spheres starting at 5 cm and going to 30 cm in 5cm increments"
   ]
  },
  {
   "cell_type": "code",
   "execution_count": 4,
   "id": "a1c2f555",
   "metadata": {},
   "outputs": [],
   "source": [
    "# there's probably a fancier way to do this\n",
    "s1 = openmc.Sphere(r=5.);\n",
    "s2 = openmc.Sphere(r=10.);\n",
    "s3 = openmc.Sphere(r=15.);\n",
    "s4 = openmc.Sphere(r=20.);\n",
    "s5 = openmc.Sphere(r=25.);\n",
    "s6 = openmc.Sphere(r=30.);\n",
    "s7 = openmc.Sphere(r=100.,boundary_type='vacuum'); # outer region\n",
    "\n",
    "\n",
    "c1 = openmc.Cell()\n",
    "c1.fill = water;\n",
    "c1.region = -s1;\n",
    "\n",
    "c2 = openmc.Cell()\n",
    "c2.fill = water;\n",
    "c2.region = +s1 & -s2;\n",
    "\n",
    "c3 = openmc.Cell()\n",
    "c3.fill = water;\n",
    "c3.region = +s2 & -s3;\n",
    "\n",
    "c4 = openmc.Cell()\n",
    "c4.fill = water;\n",
    "c4.region = +s3 & -s4;\n",
    "\n",
    "c5 = openmc.Cell()\n",
    "c5.fill = water;\n",
    "c5.region = +s4 & -s5;\n",
    "\n",
    "c6 = openmc.Cell()\n",
    "c6.fill = water;\n",
    "c6.region = +s5 & -s6;\n",
    "\n",
    "c7 = openmc.Cell()\n",
    "c7.fill = water;\n",
    "c7.region = +s6 & -s7;\n",
    "\n",
    "root = openmc.Universe();\n",
    "root.add_cells([c1,c2,c3,c4,c5,c6,c7]);\n",
    "\n",
    "g = openmc.Geometry();\n",
    "g.root_universe = root;\n",
    "g.export_to_xml();"
   ]
  },
  {
   "cell_type": "markdown",
   "id": "f9e96b37",
   "metadata": {},
   "source": [
    "## Tallies\n",
    "I want surface flux tallies on each of the concentric spheres.  Energy should be binned for thermal (0 to 1eV) and fast (1eV to 20MeV) flux."
   ]
  },
  {
   "cell_type": "code",
   "execution_count": 5,
   "id": "ab9e33a9",
   "metadata": {},
   "outputs": [],
   "source": [
    "tallies = openmc.Tallies(); # object to hold all of the tallies\n",
    "\n",
    "energy_filter = openmc.EnergyFilter([0.0, 1.0, 20.0e6]); #energy filter for all tallies\n",
    "\n",
    "# define a regular mesh in 2D\n",
    "mesh = openmc.RegularMesh();\n",
    "#mesh.n_dimension = 2;\n",
    "mesh.dimension = [241,241];\n",
    "mesh.lower_left = [-30.,-30.];\n",
    "mesh.upper_right = [30.,30.];\n",
    "\n",
    "mesh_filter = openmc.MeshFilter(mesh);\n",
    "\n",
    "t = openmc.Tally(name='flux');\n",
    "t.filters.append(energy_filter);\n",
    "t.filters.append(mesh_filter);\n",
    "t.scores = ['flux'];\n",
    "tallies.append(t);\n",
    "\n",
    "\n",
    "tallies.export_to_xml();"
   ]
  },
  {
   "cell_type": "markdown",
   "id": "09388c60",
   "metadata": {},
   "source": [
    "## Source and Settings\n",
    "I will run this problem with 3 different sources: monoenergetic at 0.0253eV and 2 MeV; and a Watt Fission Spectrum with parameters for U235 fission."
   ]
  },
  {
   "cell_type": "code",
   "execution_count": 6,
   "id": "d355be2a",
   "metadata": {},
   "outputs": [],
   "source": [
    "s1 = openmc.Source();\n",
    "s1.particle = 'neutron';\n",
    "s1.space = openmc.stats.Point(xyz=(0.,0.,0.));\n",
    "s1.angle = openmc.stats.Isotropic();\n",
    "s1.energy = openmc.stats.Discrete([0.0253],[1.0]);\n",
    "s1.strength = 1.;\n",
    "\n",
    "s2 = openmc.Source();\n",
    "s2.particle = 'neutron';\n",
    "s2.space = openmc.stats.Point(xyz=(0.,0.,0.));\n",
    "s2.angle = openmc.stats.Isotropic();\n",
    "s2.energy = openmc.stats.Discrete([2.0e6],[1.0]);\n",
    "s2.strength = 1.;\n",
    "\n",
    "s3 = openmc.Source();\n",
    "s3.particle = 'neutron';\n",
    "s3.space = openmc.stats.Point(xyz=(0.,0.,0.));\n",
    "s3.angle = openmc.stats.Isotropic();\n",
    "s3.energy = openmc.stats.Watt(a=0.988e6,b=2.249e-6); #watch units on constants\n",
    "\n",
    "settings = openmc.Settings();\n",
    "settings.run_mode = 'fixed source';\n",
    "settings.batches = 10;\n",
    "settings.particles = 5000000;\n",
    "\n",
    "settings.source = s3;\n",
    "\n",
    "settings.export_to_xml();\n",
    "\n"
   ]
  },
  {
   "cell_type": "code",
   "execution_count": 7,
   "id": "5a2ac09d",
   "metadata": {},
   "outputs": [
    {
     "name": "stdout",
     "output_type": "stream",
     "text": [
      "                                %%%%%%%%%%%%%%%\n",
      "                           %%%%%%%%%%%%%%%%%%%%%%%%\n",
      "                        %%%%%%%%%%%%%%%%%%%%%%%%%%%%%%\n",
      "                      %%%%%%%%%%%%%%%%%%%%%%%%%%%%%%%%%%\n",
      "                    %%%%%%%%%%%%%%%%%%%%%%%%%%%%%%%%%%%%%%\n",
      "                   %%%%%%%%%%%%%%%%%%%%%%%%%%%%%%%%%%%%%%%%\n",
      "                                    %%%%%%%%%%%%%%%%%%%%%%%%\n",
      "                                     %%%%%%%%%%%%%%%%%%%%%%%%\n",
      "                 ###############      %%%%%%%%%%%%%%%%%%%%%%%%\n",
      "                ##################     %%%%%%%%%%%%%%%%%%%%%%%\n",
      "                ###################     %%%%%%%%%%%%%%%%%%%%%%%\n",
      "                ####################     %%%%%%%%%%%%%%%%%%%%%%\n",
      "                #####################     %%%%%%%%%%%%%%%%%%%%%\n",
      "                ######################     %%%%%%%%%%%%%%%%%%%%\n",
      "                #######################     %%%%%%%%%%%%%%%%%%\n",
      "                 #######################     %%%%%%%%%%%%%%%%%\n",
      "                 ######################     %%%%%%%%%%%%%%%%%\n",
      "                  ####################     %%%%%%%%%%%%%%%%%\n",
      "                    #################     %%%%%%%%%%%%%%%%%\n",
      "                     ###############     %%%%%%%%%%%%%%%%\n",
      "                       ############     %%%%%%%%%%%%%%%\n",
      "                          ########     %%%%%%%%%%%%%%\n",
      "                                      %%%%%%%%%%%\n",
      "\n",
      "                   | The OpenMC Monte Carlo Code\n",
      "         Copyright | 2011-2021 MIT and OpenMC contributors\n",
      "           License | https://docs.openmc.org/en/latest/license.html\n",
      "           Version | 0.12.1\n",
      "          Git SHA1 | d49e6ccb837685e399efdef8b29e46cdc693ccec\n",
      "         Date/Time | 2021-05-05 16:53:42\n",
      "    OpenMP Threads | 36\n",
      "\n",
      " Reading settings XML file...\n",
      " Reading cross sections XML file...\n",
      " Reading materials XML file...\n",
      " Reading geometry XML file...\n",
      " Reading H1 from /home/sblair/OMC_DATA/endfb71_hdf5/H1.h5\n",
      " Reading O16 from /home/sblair/OMC_DATA/endfb71_hdf5/O16.h5\n",
      " Reading c_H_in_H2O from /home/sblair/OMC_DATA/endfb71_hdf5/c_H_in_H2O.h5\n",
      " Minimum neutron data temperature: 294.0 K\n",
      " Maximum neutron data temperature: 294.0 K\n",
      " Reading tallies XML file...\n",
      " Preparing distributed cell instances...\n",
      " Writing summary.h5 file...\n",
      " Maximum neutron transport energy: 20000000.0 eV for H1\n",
      "\n",
      " ===============>     FIXED SOURCE TRANSPORT SIMULATION     <===============\n",
      "\n",
      " Simulating batch 1\n",
      " Simulating batch 2\n",
      " Simulating batch 3\n",
      " Simulating batch 4\n",
      " Simulating batch 5\n",
      " Simulating batch 6\n",
      " Simulating batch 7\n",
      " Simulating batch 8\n",
      " Simulating batch 9\n",
      " Simulating batch 10\n",
      " Creating state point statepoint.10.h5...\n",
      "\n",
      " =======================>     TIMING STATISTICS     <=======================\n",
      "\n",
      " Total time for initialization     = 1.4699e-01 seconds\n",
      "   Reading cross sections          = 1.2346e-01 seconds\n",
      " Total time in simulation          = 1.0252e+02 seconds\n",
      "   Time in transport only          = 1.0251e+02 seconds\n",
      "   Time in active batches          = 1.0252e+02 seconds\n",
      "   Time accumulating tallies       = 3.0018e-03 seconds\n",
      "   Time writing statepoints        = 5.6044e-03 seconds\n",
      " Total time for finalization       = 9.7090e-02 seconds\n",
      " Total time elapsed                = 1.0276e+02 seconds\n",
      " Calculation Rate (active)         = 97544.3 particles/second\n",
      "\n",
      " ============================>     RESULTS     <============================\n",
      "\n",
      " Leakage Fraction            = 0.00001 +/- 0.00000\n",
      "\n"
     ]
    }
   ],
   "source": [
    "openmc.run()"
   ]
  },
  {
   "cell_type": "markdown",
   "id": "3061442d",
   "metadata": {},
   "source": [
    "## Check Results\n",
    "Open the state point file and see what we get"
   ]
  },
  {
   "cell_type": "code",
   "execution_count": 8,
   "id": "01b46690",
   "metadata": {},
   "outputs": [
    {
     "data": {
      "text/plain": [
       "{1: Tally\n",
       " \tID             =\t1\n",
       " \tName           =\tflux\n",
       " \tFilters        =\tEnergyFilter, MeshFilter\n",
       " \tNuclides       =\ttotal\n",
       " \tScores         =\t['flux']\n",
       " \tEstimator      =\ttracklength}"
      ]
     },
     "execution_count": 8,
     "metadata": {},
     "output_type": "execute_result"
    }
   ],
   "source": [
    "sp = openmc.StatePoint('statepoint.10.h5');\n",
    "sp.tallies"
   ]
  },
  {
   "cell_type": "code",
   "execution_count": 9,
   "id": "3e2145da",
   "metadata": {},
   "outputs": [
    {
     "name": "stdout",
     "output_type": "stream",
     "text": [
      "Tally\n",
      "\tID             =\t1\n",
      "\tName           =\tflux\n",
      "\tFilters        =\tEnergyFilter, MeshFilter\n",
      "\tNuclides       =\ttotal\n",
      "\tScores         =\t['flux']\n",
      "\tEstimator      =\ttracklength\n"
     ]
    }
   ],
   "source": [
    "tally = sp.get_tally(scores=['flux']);\n",
    "print(tally)"
   ]
  },
  {
   "cell_type": "code",
   "execution_count": 10,
   "id": "8f4caa70",
   "metadata": {},
   "outputs": [
    {
     "data": {
      "text/plain": [
       "array([[[3.76438320e-05]],\n",
       "\n",
       "       [[3.98100271e-05]],\n",
       "\n",
       "       [[4.43468439e-05]],\n",
       "\n",
       "       ...,\n",
       "\n",
       "       [[2.00597234e-05]],\n",
       "\n",
       "       [[1.85568602e-05]],\n",
       "\n",
       "       [[1.46352583e-05]]])"
      ]
     },
     "execution_count": 10,
     "metadata": {},
     "output_type": "execute_result"
    }
   ],
   "source": [
    "tally.sum"
   ]
  },
  {
   "cell_type": "code",
   "execution_count": 11,
   "id": "1e63f4ef",
   "metadata": {},
   "outputs": [
    {
     "name": "stdout",
     "output_type": "stream",
     "text": [
      "(116162, 1, 1)\n"
     ]
    },
    {
     "data": {
      "text/plain": [
       "(array([[[3.76438320e-06]],\n",
       " \n",
       "        [[3.98100271e-06]],\n",
       " \n",
       "        [[4.43468439e-06]],\n",
       " \n",
       "        ...,\n",
       " \n",
       "        [[2.00597234e-06]],\n",
       " \n",
       "        [[1.85568602e-06]],\n",
       " \n",
       "        [[1.46352583e-06]]]),\n",
       " array([[[5.36545332e-07]],\n",
       " \n",
       "        [[5.32768366e-07]],\n",
       " \n",
       "        [[4.20592455e-07]],\n",
       " \n",
       "        ...,\n",
       " \n",
       "        [[2.14730160e-07]],\n",
       " \n",
       "        [[2.13617911e-07]],\n",
       " \n",
       "        [[2.25621409e-07]]]))"
      ]
     },
     "execution_count": 11,
     "metadata": {},
     "output_type": "execute_result"
    }
   ],
   "source": [
    "print(tally.mean.shape)\n",
    "(tally.mean, tally.std_dev)"
   ]
  },
  {
   "cell_type": "code",
   "execution_count": 12,
   "id": "c6c41886",
   "metadata": {},
   "outputs": [],
   "source": [
    "totalflux = tally.get_slice(scores=['flux'])\n",
    "nb = int(mesh.dimension[0])\n",
    "totalflux.mean.shape = (2,nb,nb);\n",
    "totalflux.std_dev.shape = (2,nb,nb);\n",
    "\n",
    "tFlux = totalflux.mean[0,:,:];\n",
    "tFlux_err = totalflux.std_dev[0,:,:];\n",
    "fFlux = totalflux.mean[1,:,:];\n",
    "fFlux_err = totalflux.std_dev[1,:,:];\n"
   ]
  },
  {
   "cell_type": "code",
   "execution_count": 13,
   "id": "cb4ff0cf",
   "metadata": {},
   "outputs": [
    {
     "data": {
      "image/png": "[encoded data removed]",
      "text/plain": [
       "<Figure size 432x288 with 4 Axes>"
      ]
     },
     "metadata": {
      "needs_background": "light"
     },
     "output_type": "display_data"
    }
   ],
   "source": [
    "fig = plt.subplot(221);\n",
    "fig.imshow(tFlux);\n",
    "fig2 = plt.subplot(222);\n",
    "fig2.imshow(tFlux_err);\n",
    "fig3 = plt.subplot(223);\n",
    "fig3.imshow(fFlux);\n",
    "fig4 = plt.subplot(224);\n",
    "fig4.imshow(fFlux_err);"
   ]
  },
  {
   "cell_type": "code",
   "execution_count": 14,
   "id": "b23efc60",
   "metadata": {},
   "outputs": [
    {
     "name": "stdout",
     "output_type": "stream",
     "text": [
      "120\n"
     ]
    },
    {
     "data": {
      "image/png": "[encoded data removed]",
      "text/plain": [
       "<Figure size 432x288 with 1 Axes>"
      ]
     },
     "metadata": {
      "needs_background": "light"
     },
     "output_type": "display_data"
    }
   ],
   "source": [
    "# consider the thermal flux tally with the 1-group flux result\n",
    "\n",
    "nBins = int((mesh.dimension[0] - 1)/2);\n",
    "print(nBins)\n",
    "tFlux_slice = totalflux.mean[0,nBins:,nBins]\n",
    "fFlux_slice = totalflux.mean[1,nBins:,nBins]\n",
    "npoints = nBins+1;\n",
    "\n",
    "r = np.linspace(0,30,num=npoints);\n",
    "\n",
    "fig = plt.subplot(111);\n",
    "fig.semilogy(r,tFlux_slice,label='thermal flux');\n",
    "fig.semilogy(r,fFlux_slice,label='fast flux');\n",
    "fig.semilogy(r,fFlux_slice+tFlux_slice,label='combined flux');\n",
    "fig.semilogy(R,one_group_flux,label='one-group flux');\n",
    "fig.grid(True);\n",
    "fig.legend();"
   ]
  },
  {
   "cell_type": "code",
   "execution_count": 15,
   "id": "981ead0f",
   "metadata": {},
   "outputs": [
    {
     "data": {
      "text/plain": [
       "0.2280531249657038"
      ]
     },
     "execution_count": 15,
     "metadata": {},
     "output_type": "execute_result"
    }
   ],
   "source": [
    "totalflux.mean[1,nBins:,nBins].max()"
   ]
  },
  {
   "cell_type": "code",
   "execution_count": null,
   "id": "3639a54b",
   "metadata": {},
   "outputs": [],
   "source": []
  }
 ],
 "metadata": {
  "kernelspec": {
   "display_name": "Python 3",
   "language": "python",
   "name": "python3"
  },
  "language_info": {
   "codemirror_mode": {
    "name": "ipython",
    "version": 3
   },
   "file_extension": ".py",
   "mimetype": "text/x-python",
   "name": "python",
   "nbconvert_exporter": "python",
   "pygments_lexer": "ipython3",
   "version": "3.9.2"
  }
 },
 "nbformat": 4,
 "nbformat_minor": 5
}
