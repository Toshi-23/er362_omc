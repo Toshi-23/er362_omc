{
 "cells": [
  {
   "cell_type": "markdown",
   "id": "a42d3a31",
   "metadata": {},
   "source": [
    "# Lab 2 - Comparison with Diffusion Theory\n",
    "The purpose of this lab is to compare flux and reaction rates computed using MCNP (or OpenMC) with those that you compute using Diffusion Theory.\n",
    "\n",
    "A mono-energtic point source is located at the center of a sphere of lead.  The spatial flux distribution and reaction rates computed with OpenMC will be compared with the same results from Diffusion Theory.\n"
   ]
  },
  {
   "cell_type": "markdown",
   "id": "aeaa01f3",
   "metadata": {},
   "source": [
    "## Diffusion Theory Results\n",
    "It is useful to have a good idea of what the expected result will be even before you create your model and begin computation.  \n",
    "\n",
    "For this lab we will compute and plot diffusion theory results to which we will compare OpenMC tally outputs.\n",
    "\n",
    "The given data will be the macroscopic cross section for scattering and absorption: $\\Sigma_a$ and $\\Sigma_s$ respectively; and the average cosine of neutron scattering angle: $\\bar{\\mu}$.  \n",
    "\n",
    "From these, the transport mean free path $(\\lambda_{tr})$ is computed:\n",
    "$$\\lambda_{tr}=\\frac{1}{\\Sigma_{tr}}=\\frac{1}{\\Sigma_s(1-\\bar{\\mu})}$$\n",
    "\n",
    "The diffusion coefficient $(D)$:\n",
    "$$D = \\frac{\\lambda_{tr}}{3}$$\n",
    "and, for diffusion theory with vacuum boundary conditions, the extrapolation distance $(d)$ is needed:\n",
    "$$d=0.71 \\lambda_{tr}$$\n",
    "\n",
    "The diffusion length $(L)$ is also needed which is computed:\n",
    "$$L = \\sqrt{\\frac{D}{\\Sigma_a}}$$\n"
   ]
  },
  {
   "cell_type": "markdown",
   "id": "2530165c",
   "metadata": {},
   "source": [
    "### Parameters"
   ]
  },
  {
   "cell_type": "code",
   "execution_count": 1,
   "id": "584cb913",
   "metadata": {},
   "outputs": [],
   "source": [
    "lead_density = 11.35; # g/cm3\n",
    "Sigma_a_lead = 5.03e-3; # 1/cm, macroscopic absorption cross section for lead\n",
    "Sigma_s_lead = 0.3757; # 1/cm\n",
    "mu_bar = 3.2e-3;\n"
   ]
  },
  {
   "cell_type": "code",
   "execution_count": 2,
   "id": "b37aa719",
   "metadata": {},
   "outputs": [],
   "source": [
    "import numpy as np\n",
    "\n",
    "lam_tr = 1./(Sigma_s_lead*(1.-mu_bar))\n",
    "D = lam_tr/3.\n",
    "d = 0.71*lam_tr\n",
    "L = np.sqrt(D/Sigma_a_lead)"
   ]
  },
  {
   "cell_type": "markdown",
   "id": "c3a0c588",
   "metadata": {},
   "source": [
    "### Analytic Results\n",
    "For a point source in spherical coordinates, the flux as a functio of position is:\n",
    "$$\\phi(r)=\\frac{S \\sinh{\\left(\\frac{R+d-r}{L}\\right)}}{4 \\pi D r \\sinh{\\left(\\frac{R+d}{L} \\right)}}$$\n",
    "Where $S$ is the source strength (neutrons/s) and $R$ is the radius of the diffusive medium; all other variables as previously defined.\n",
    "\n",
    "The diffusion theory solution for flux $(\\phi(r))$ for this problem is plotted below."
   ]
  },
  {
   "cell_type": "code",
   "execution_count": 3,
   "id": "a2cb93af",
   "metadata": {},
   "outputs": [
    {
     "data": {
      "image/png": "[encoded data removed]",
      "text/plain": [
       "<Figure size 432x288 with 1 Axes>"
      ]
     },
     "metadata": {
      "needs_background": "light"
     },
     "output_type": "display_data"
    }
   ],
   "source": [
    "%matplotlib inline\n",
    "import matplotlib.pyplot as plt\n",
    "\n",
    "S = 1000; #n/sec, source strength\n",
    "R = 10; # cm, lead diffusive medium radius\n",
    "\n",
    "def analytic_flux(r):\n",
    "    return S*np.sinh((R+d-r)/(L))/(4.*np.pi*D*r*np.sinh((R+d)/L))\n",
    "    \n",
    "r = np.linspace(1e-1,R,1000)\n",
    "phi = analytic_flux(r)\n",
    "analytic_sol = plt.semilogy(r,phi);\n",
    "plt.setp(analytic_sol,'color','b','linewidth',3);\n",
    "plt.xlabel('r [cm]',fontsize=14,fontweight='bold');\n",
    "plt.ylabel('$\\phi(r)$ [1/cm^2-s]',fontsize=14,fontweight='bold');\n",
    "plt.grid(True);\n",
    "plt.title('Analytic Flux',fontsize=16,fontweight='bold');"
   ]
  },
  {
   "cell_type": "markdown",
   "id": "2ce1f492",
   "metadata": {},
   "source": [
    "The lab also asks the students to compute the rate of neutron absorption.  Accounting for angular symmetry and assuming constant material properties, the absorption rate should be:\n",
    "$$\\text{Absorption Rate } = 4 \\pi \\Sigma_a \\int_0^R \\phi(r) r^2 \\ dr$$"
   ]
  },
  {
   "cell_type": "code",
   "execution_count": 4,
   "id": "341d6d9b",
   "metadata": {},
   "outputs": [
    {
     "name": "stdout",
     "output_type": "stream",
     "text": [
      "Diffusion Theory Absorption rate: 113.834 per second\n"
     ]
    }
   ],
   "source": [
    "import scipy.integrate as integrate\n",
    "\n",
    "abs_rate,err_bnd = integrate.quad(lambda r: analytic_flux(r)*(r**2),\n",
    "                    0,R)\n",
    "abs_rate = 4.*np.pi*Sigma_a_lead*abs_rate\n",
    "print(f'Diffusion Theory Absorption rate: {abs_rate:4.3f} per second')\n"
   ]
  },
  {
   "cell_type": "markdown",
   "id": "6d8567d4",
   "metadata": {},
   "source": [
    "## OpenMC Model"
   ]
  },
  {
   "cell_type": "code",
   "execution_count": 5,
   "id": "b70e1cd3",
   "metadata": {},
   "outputs": [],
   "source": [
    "import openmc"
   ]
  },
  {
   "cell_type": "markdown",
   "id": "603ec041",
   "metadata": {},
   "source": [
    "## Materials\n",
    "\n",
    "For this lab, the only material we need is lead. We will enter this by nuclide so students can get practice with the interface."
   ]
  },
  {
   "cell_type": "code",
   "execution_count": 6,
   "id": "897febb5",
   "metadata": {},
   "outputs": [],
   "source": [
    "lead = openmc.Material(name='lead')\n",
    "lead.add_nuclide('Pb204',0.014)\n",
    "lead.add_nuclide('Pb206',0.241)\n",
    "lead.add_nuclide('Pb207',0.221)\n",
    "lead.add_nuclide('Pb208',0.524)\n",
    "lead.set_density('g/cm3',11.35)\n"
   ]
  },
  {
   "cell_type": "markdown",
   "id": "e66fd252",
   "metadata": {},
   "source": [
    "Alternatively, the lead could have been added elementally"
   ]
  },
  {
   "cell_type": "code",
   "execution_count": 7,
   "id": "0c88a629",
   "metadata": {},
   "outputs": [],
   "source": [
    "lead = openmc.Material(name='lead')\n",
    "lead.add_element('Pb',1.0)\n",
    "lead.set_density('g/cm3',11.35)\n",
    "# if I had the correct atom densities in the box above, these *should* \n",
    "# be equivalent.\n",
    "\n",
    "mf = openmc.Materials([lead])\n",
    "mf.export_to_xml()"
   ]
  },
  {
   "cell_type": "markdown",
   "id": "973cf3dd",
   "metadata": {},
   "source": [
    "## Geometry\n",
    "For a simple geometric domain, I will have a sphere of lead surrounded by a void.  "
   ]
  },
  {
   "cell_type": "code",
   "execution_count": 8,
   "id": "2405bede",
   "metadata": {},
   "outputs": [],
   "source": [
    "sphere_rad = 10.; # cm, radius of sphere\n",
    "sphere = openmc.Sphere(r=sphere_rad)\n",
    "outside = openmc.Sphere(r=1.5*sphere_rad,boundary_type='vacuum')\n",
    "\n",
    "\n",
    "lead_sphere = openmc.Cell()\n",
    "lead_sphere.fill = lead\n",
    "lead_sphere.region = -sphere\n",
    "\n",
    "outside_void = openmc.Cell()\n",
    "outside_void.fill = None\n",
    "outside_void.region = +sphere & -outside\n",
    "\n",
    "root = openmc.Universe()\n",
    "root.add_cells([lead_sphere,outside_void])\n",
    "\n",
    "g = openmc.Geometry()\n",
    "g.root_universe = root\n",
    "g.export_to_xml()\n"
   ]
  },
  {
   "cell_type": "markdown",
   "id": "654b8fcd",
   "metadata": {},
   "source": [
    "## Tallies\n",
    "For this lab, tallies are needed for the following values:\n",
    "<ol>\n",
    "    <li>neutron absorption rate in the lead sphere </li>\n",
    "    <li>flux as a function of radius (out to the extrapolated radius) </li>\n",
    "</ol>"
   ]
  },
  {
   "cell_type": "code",
   "execution_count": 9,
   "id": "c1d7b612",
   "metadata": {},
   "outputs": [],
   "source": [
    "tallies = openmc.Tallies() # object to hold all tallies\n",
    "\n",
    "sphere_filter = openmc.CellFilter(lead_sphere.id)\n",
    "t = openmc.Tally(name='abs_tally')\n",
    "t.filters = [sphere_filter]\n",
    "t.scores = ['absorption']\n",
    "\n",
    "tallies.append(t)\n",
    "\n",
    "regMesh = openmc.RegularMesh()\n",
    "meshDim = 31\n",
    "regMesh.dimension = (meshDim,meshDim)\n",
    "regMesh.lower_left = (0,0)\n",
    "regMesh.upper_right = (R,R)\n",
    "\n",
    "mesh_filt = openmc.MeshFilter(regMesh)\n",
    "\n",
    "t = openmc.Tally(name='flux_tally')\n",
    "t.filters = [mesh_filt]\n",
    "t.scores = ['flux']\n",
    "tallies.append(t)\n",
    "\n",
    "\n",
    "tallies.export_to_xml()"
   ]
  },
  {
   "cell_type": "markdown",
   "id": "9afd7e1a",
   "metadata": {},
   "source": [
    "## Settings\n",
    "This is another fixed-source problem much like lab 1"
   ]
  },
  {
   "cell_type": "code",
   "execution_count": 10,
   "id": "40097a85",
   "metadata": {},
   "outputs": [],
   "source": [
    "settings = openmc.Settings()\n",
    "settings.run_mode = 'fixed source'\n",
    "settings.batches = 50\n",
    "settings.particles = 1000000\n",
    "\n",
    "source = openmc.Source()\n",
    "source.particle = 'neutron'\n",
    "source.space = openmc.stats.Point(xyz=(0.,0.,0.))\n",
    "source.angle = openmc.stats.Isotropic();\n",
    "source.energy = openmc.stats.Discrete([0.0253],[1.0]) #0.0253 eV source\n",
    "source.strength = S\n",
    "\n",
    "\n",
    "settings.source = source;\n",
    "\n",
    "settings.export_to_xml()"
   ]
  },
  {
   "cell_type": "code",
   "execution_count": 11,
   "id": "39b1d6d9",
   "metadata": {},
   "outputs": [
    {
     "name": "stdout",
     "output_type": "stream",
     "text": [
      "                                %%%%%%%%%%%%%%%\n",
      "                           %%%%%%%%%%%%%%%%%%%%%%%%\n",
      "                        %%%%%%%%%%%%%%%%%%%%%%%%%%%%%%\n",
      "                      %%%%%%%%%%%%%%%%%%%%%%%%%%%%%%%%%%\n",
      "                    %%%%%%%%%%%%%%%%%%%%%%%%%%%%%%%%%%%%%%\n",
      "                   %%%%%%%%%%%%%%%%%%%%%%%%%%%%%%%%%%%%%%%%\n",
      "                                    %%%%%%%%%%%%%%%%%%%%%%%%\n",
      "                                     %%%%%%%%%%%%%%%%%%%%%%%%\n",
      "                 ###############      %%%%%%%%%%%%%%%%%%%%%%%%\n",
      "                ##################     %%%%%%%%%%%%%%%%%%%%%%%\n",
      "                ###################     %%%%%%%%%%%%%%%%%%%%%%%\n",
      "                ####################     %%%%%%%%%%%%%%%%%%%%%%\n",
      "                #####################     %%%%%%%%%%%%%%%%%%%%%\n",
      "                ######################     %%%%%%%%%%%%%%%%%%%%\n",
      "                #######################     %%%%%%%%%%%%%%%%%%\n",
      "                 #######################     %%%%%%%%%%%%%%%%%\n",
      "                 ######################     %%%%%%%%%%%%%%%%%\n",
      "                  ####################     %%%%%%%%%%%%%%%%%\n",
      "                    #################     %%%%%%%%%%%%%%%%%\n",
      "                     ###############     %%%%%%%%%%%%%%%%\n",
      "                       ############     %%%%%%%%%%%%%%%\n",
      "                          ########     %%%%%%%%%%%%%%\n",
      "                                      %%%%%%%%%%%\n",
      "\n",
      "                   | The OpenMC Monte Carlo Code\n",
      "         Copyright | 2011-2020 MIT and OpenMC contributors\n",
      "           License | https://docs.openmc.org/en/latest/license.html\n",
      "           Version | 0.12.0\n",
      "          Git SHA1 | 599a722a542ede426c3f1390a88ddb4e4e0045d3\n",
      "         Date/Time | 2021-04-27 15:53:10\n",
      "    OpenMP Threads | 36\n",
      "\n",
      " Reading settings XML file...\n",
      " Reading cross sections XML file...\n",
      " Reading materials XML file...\n",
      " Reading geometry XML file...\n",
      " Reading Pb204 from /home/sblair/OMC_DATA/endfb80_hdf5/Pb204.h5\n",
      " Reading Pb206 from /home/sblair/OMC_DATA/endfb80_hdf5/Pb206.h5\n",
      " Reading Pb207 from /home/sblair/OMC_DATA/endfb80_hdf5/Pb207.h5\n",
      " Reading Pb208 from /home/sblair/OMC_DATA/endfb80_hdf5/Pb208.h5\n",
      " Minimum neutron data temperature: 294.000000 K\n",
      " Maximum neutron data temperature: 294.000000 K\n",
      " Reading tallies XML file...\n",
      " Preparing distributed cell instances...\n",
      " Writing summary.h5 file...\n",
      " Maximum neutron transport energy: 150000000.000000 eV for Pb208\n",
      "\n",
      " ===============>     FIXED SOURCE TRANSPORT SIMULATION     <===============\n",
      "\n",
      " Simulating batch 1\n",
      " Simulating batch 2\n",
      " Simulating batch 3\n",
      " Simulating batch 4\n",
      " Simulating batch 5\n",
      " Simulating batch 6\n",
      " Simulating batch 7\n",
      " Simulating batch 8\n",
      " Simulating batch 9\n",
      " Simulating batch 10\n",
      " Simulating batch 11\n",
      " Simulating batch 12\n",
      " Simulating batch 13\n",
      " Simulating batch 14\n",
      " Simulating batch 15\n",
      " Simulating batch 16\n",
      " Simulating batch 17\n",
      " Simulating batch 18\n",
      " Simulating batch 19\n",
      " Simulating batch 20\n",
      " Simulating batch 21\n",
      " Simulating batch 22\n",
      " Simulating batch 23\n",
      " Simulating batch 24\n",
      " Simulating batch 25\n",
      " Simulating batch 26\n",
      " Simulating batch 27\n",
      " Simulating batch 28\n",
      " Simulating batch 29\n",
      " Simulating batch 30\n",
      " Simulating batch 31\n",
      " Simulating batch 32\n",
      " Simulating batch 33\n",
      " Simulating batch 34\n",
      " Simulating batch 35\n",
      " Simulating batch 36\n",
      " Simulating batch 37\n",
      " Simulating batch 38\n",
      " Simulating batch 39\n",
      " Simulating batch 40\n",
      " Simulating batch 41\n",
      " Simulating batch 42\n",
      " Simulating batch 43\n",
      " Simulating batch 44\n",
      " Simulating batch 45\n",
      " Simulating batch 46\n",
      " Simulating batch 47\n",
      " Simulating batch 48\n",
      " Simulating batch 49\n",
      " Simulating batch 50\n",
      " Creating state point statepoint.50.h5...\n",
      "\n",
      " =======================>     TIMING STATISTICS     <=======================\n",
      "\n",
      " Total time for initialization     = 3.3520e-01 seconds\n",
      "   Reading cross sections          = 2.9376e-01 seconds\n",
      " Total time in simulation          = 8.5464e+01 seconds\n",
      "   Time in transport only          = 8.5438e+01 seconds\n",
      "   Time in active batches          = 8.5464e+01 seconds\n",
      "   Time accumulating tallies       = 5.6704e-04 seconds\n",
      " Total time for finalization       = 2.1653e-03 seconds\n",
      " Total time elapsed                = 8.5805e+01 seconds\n",
      " Calculation Rate (active)         = 585041.0 particles/second\n",
      "\n",
      " ============================>     RESULTS     <============================\n",
      "\n",
      " Leakage Fraction            = 0.86218 +/- 0.00005\n",
      "\n"
     ]
    }
   ],
   "source": [
    "openmc.run()"
   ]
  },
  {
   "cell_type": "markdown",
   "id": "52ca55c0",
   "metadata": {},
   "source": [
    "## Check Results\n",
    "Now we will open the statepoint file and analyze the results"
   ]
  },
  {
   "cell_type": "code",
   "execution_count": 12,
   "id": "905e8ca0",
   "metadata": {},
   "outputs": [
    {
     "data": {
      "text/html": [
       "<div>\n",
       "<style scoped>\n",
       "    .dataframe tbody tr th:only-of-type {\n",
       "        vertical-align: middle;\n",
       "    }\n",
       "\n",
       "    .dataframe tbody tr th {\n",
       "        vertical-align: top;\n",
       "    }\n",
       "\n",
       "    .dataframe thead th {\n",
       "        text-align: right;\n",
       "    }\n",
       "</style>\n",
       "<table border=\"1\" class=\"dataframe\">\n",
       "  <thead>\n",
       "    <tr style=\"text-align: right;\">\n",
       "      <th></th>\n",
       "      <th>cell</th>\n",
       "      <th>nuclide</th>\n",
       "      <th>score</th>\n",
       "      <th>mean</th>\n",
       "      <th>std. dev.</th>\n",
       "    </tr>\n",
       "  </thead>\n",
       "  <tbody>\n",
       "    <tr>\n",
       "      <th>0</th>\n",
       "      <td>1</td>\n",
       "      <td>total</td>\n",
       "      <td>absorption</td>\n",
       "      <td>137.853062</td>\n",
       "      <td>0.011888</td>\n",
       "    </tr>\n",
       "  </tbody>\n",
       "</table>\n",
       "</div>"
      ],
      "text/plain": [
       "   cell nuclide       score        mean  std. dev.\n",
       "0     1   total  absorption  137.853062   0.011888"
      ]
     },
     "execution_count": 12,
     "metadata": {},
     "output_type": "execute_result"
    }
   ],
   "source": [
    "sp = openmc.StatePoint('statepoint.50.h5')\n",
    "abs_tally = sp.get_tally(name='abs_tally')\n",
    "df = abs_tally.get_pandas_dataframe()\n",
    "df.head(1)"
   ]
  },
  {
   "cell_type": "code",
   "execution_count": 13,
   "id": "a9f13bb6",
   "metadata": {},
   "outputs": [
    {
     "name": "stdout",
     "output_type": "stream",
     "text": [
      "Absorption Rate from OpenMC: 137.853 per second.\n"
     ]
    }
   ],
   "source": [
    "abs_rate_omc = df['mean'][0] # there must be a better way\n",
    "print(f'Absorption Rate from OpenMC: {abs_rate_omc:6.3f} per second.')\n"
   ]
  },
  {
   "cell_type": "code",
   "execution_count": 14,
   "id": "adfe3ef5",
   "metadata": {},
   "outputs": [
    {
     "data": {
      "text/plain": [
       "{1: Tally\n",
       " \tID             =\t1\n",
       " \tName           =\tabs_tally\n",
       " \tFilters        =\tCellFilter\n",
       " \tNuclides       =\ttotal\n",
       " \tScores         =\t['absorption']\n",
       " \tEstimator      =\ttracklength,\n",
       " 2: Tally\n",
       " \tID             =\t2\n",
       " \tName           =\tflux_tally\n",
       " \tFilters        =\tMeshFilter\n",
       " \tNuclides       =\ttotal\n",
       " \tScores         =\t['flux']\n",
       " \tEstimator      =\ttracklength}"
      ]
     },
     "execution_count": 14,
     "metadata": {},
     "output_type": "execute_result"
    }
   ],
   "source": [
    "sp.tallies"
   ]
  },
  {
   "cell_type": "code",
   "execution_count": 15,
   "id": "9d68c1ca",
   "metadata": {},
   "outputs": [
    {
     "data": {
      "text/html": [
       "<div>\n",
       "<style scoped>\n",
       "    .dataframe tbody tr th:only-of-type {\n",
       "        vertical-align: middle;\n",
       "    }\n",
       "\n",
       "    .dataframe tbody tr th {\n",
       "        vertical-align: top;\n",
       "    }\n",
       "\n",
       "    .dataframe thead tr th {\n",
       "        text-align: left;\n",
       "    }\n",
       "</style>\n",
       "<table border=\"1\" class=\"dataframe\">\n",
       "  <thead>\n",
       "    <tr>\n",
       "      <th></th>\n",
       "      <th colspan=\"3\" halign=\"left\">mesh 1</th>\n",
       "      <th>nuclide</th>\n",
       "      <th>score</th>\n",
       "      <th>mean</th>\n",
       "      <th>std. dev.</th>\n",
       "    </tr>\n",
       "    <tr>\n",
       "      <th></th>\n",
       "      <th>x</th>\n",
       "      <th>y</th>\n",
       "      <th>z</th>\n",
       "      <th></th>\n",
       "      <th></th>\n",
       "      <th></th>\n",
       "      <th></th>\n",
       "    </tr>\n",
       "  </thead>\n",
       "  <tbody>\n",
       "    <tr>\n",
       "      <th>0</th>\n",
       "      <td>1</td>\n",
       "      <td>1</td>\n",
       "      <td>1</td>\n",
       "      <td>total</td>\n",
       "      <td>flux</td>\n",
       "      <td>178.956933</td>\n",
       "      <td>0.042830</td>\n",
       "    </tr>\n",
       "    <tr>\n",
       "      <th>1</th>\n",
       "      <td>2</td>\n",
       "      <td>1</td>\n",
       "      <td>1</td>\n",
       "      <td>total</td>\n",
       "      <td>flux</td>\n",
       "      <td>80.973944</td>\n",
       "      <td>0.029322</td>\n",
       "    </tr>\n",
       "    <tr>\n",
       "      <th>2</th>\n",
       "      <td>3</td>\n",
       "      <td>1</td>\n",
       "      <td>1</td>\n",
       "      <td>total</td>\n",
       "      <td>flux</td>\n",
       "      <td>56.294542</td>\n",
       "      <td>0.027579</td>\n",
       "    </tr>\n",
       "    <tr>\n",
       "      <th>3</th>\n",
       "      <td>4</td>\n",
       "      <td>1</td>\n",
       "      <td>1</td>\n",
       "      <td>total</td>\n",
       "      <td>flux</td>\n",
       "      <td>44.054779</td>\n",
       "      <td>0.022515</td>\n",
       "    </tr>\n",
       "    <tr>\n",
       "      <th>4</th>\n",
       "      <td>5</td>\n",
       "      <td>1</td>\n",
       "      <td>1</td>\n",
       "      <td>total</td>\n",
       "      <td>flux</td>\n",
       "      <td>36.462107</td>\n",
       "      <td>0.018232</td>\n",
       "    </tr>\n",
       "  </tbody>\n",
       "</table>\n",
       "</div>"
      ],
      "text/plain": [
       "  mesh 1       nuclide score        mean std. dev.\n",
       "       x  y  z                                    \n",
       "0      1  1  1   total  flux  178.956933  0.042830\n",
       "1      2  1  1   total  flux   80.973944  0.029322\n",
       "2      3  1  1   total  flux   56.294542  0.027579\n",
       "3      4  1  1   total  flux   44.054779  0.022515\n",
       "4      5  1  1   total  flux   36.462107  0.018232"
      ]
     },
     "execution_count": 15,
     "metadata": {},
     "output_type": "execute_result"
    }
   ],
   "source": [
    "flux_tally = sp.get_tally(name='flux_tally')\n",
    "df_flux = flux_tally.get_pandas_dataframe()\n",
    "df_flux.head()"
   ]
  },
  {
   "cell_type": "code",
   "execution_count": 16,
   "id": "c94f6c56",
   "metadata": {},
   "outputs": [
    {
     "data": {
      "text/plain": [
       "mesh 1     x            31\n",
       "           y            31\n",
       "           z             1\n",
       "nuclide              total\n",
       "score                 flux\n",
       "mean            178.956933\n",
       "std. dev.          0.04283\n",
       "dtype: object"
      ]
     },
     "execution_count": 16,
     "metadata": {},
     "output_type": "execute_result"
    }
   ],
   "source": [
    "df_flux.max()"
   ]
  },
  {
   "cell_type": "code",
   "execution_count": 17,
   "id": "36bc8134",
   "metadata": {},
   "outputs": [
    {
     "data": {
      "text/plain": [
       "178.95693266796678"
      ]
     },
     "execution_count": 17,
     "metadata": {},
     "output_type": "execute_result"
    }
   ],
   "source": [
    "df_flux['mean'].max()"
   ]
  },
  {
   "cell_type": "code",
   "execution_count": 18,
   "id": "bfbe0b07",
   "metadata": {},
   "outputs": [
    {
     "data": {
      "image/png": "[encoded data removed]",
      "text/plain": [
       "<Figure size 432x288 with 2 Axes>"
      ]
     },
     "metadata": {
      "needs_background": "light"
     },
     "output_type": "display_data"
    }
   ],
   "source": [
    "from matplotlib.colors import LogNorm # so I can use log of tally value\n",
    "\n",
    "fluxes = df_flux['mean'].values\n",
    "rel_err = df_flux['std. dev.'].values / fluxes\n",
    "\n",
    "Xs = df_flux['mesh 1']['x'].values\n",
    "Ys = df_flux['mesh 1']['y'].values\n",
    "fluxes.shape = (meshDim,meshDim)\n",
    "rel_err.shape = (meshDim,meshDim)\n",
    "\n",
    "#fluxes = fluxes.T\n",
    "#rel_err = rel_err.T\n",
    "\n",
    "Xs.shape = (meshDim,meshDim)\n",
    "Ys.shape = (meshDim,meshDim)\n",
    "\n",
    "fig = plt.subplot(121)\n",
    "\n",
    "plt.imshow(fluxes,interpolation='none',norm=LogNorm(),cmap='jet');\n",
    "plt.grid(False);\n",
    "plt.ylim(plt.ylim()[::-1]) #invert the y-axis\n",
    "plt.title('Flux Tally - mean values',fontsize=14,fontweight='bold');\n",
    "#plt.colorbar();\n",
    "\n",
    "fig2 = plt.subplot(122)\n",
    "plt.imshow(rel_err,interpolation='none',cmap='jet');\n",
    "plt.ylim(plt.ylim()[::-1]);\n",
    "plt.title('Rel. Unc.',fontsize=14,fontweight='bold');\n",
    "plt.grid(False);\n",
    "#plt.colorbar();\n"
   ]
  },
  {
   "cell_type": "markdown",
   "id": "d8fdeb4c",
   "metadata": {},
   "source": [
    "Note that the relative uncertainty increases as you move further from the source.  *(take a moment to consider how weird this is in the context of other numerical algorithms in scientific computing)* This is a statistical reality when using Monte Carlo Methods.  The issue is that fewer particles travel that far from the source and, as a consequence, there are fewer \"scoring\" opportunities with those tally sites.  A large part of the theory and practical toolset of a Monte Carlo code has the aim of addressing this problem."
   ]
  },
  {
   "cell_type": "code",
   "execution_count": 19,
   "id": "16e80ad1",
   "metadata": {},
   "outputs": [
    {
     "data": {
      "text/plain": [
       "5.296606954618589"
      ]
     },
     "execution_count": 19,
     "metadata": {},
     "output_type": "execute_result"
    }
   ],
   "source": [
    "fluxes[int(meshDim/2),int(meshDim/2)]"
   ]
  },
  {
   "cell_type": "code",
   "execution_count": 20,
   "id": "08a55f3f",
   "metadata": {},
   "outputs": [
    {
     "data": {
      "text/plain": [
       "178.95693266796678"
      ]
     },
     "execution_count": 20,
     "metadata": {},
     "output_type": "execute_result"
    }
   ],
   "source": [
    "fluxes.max()"
   ]
  },
  {
   "cell_type": "code",
   "execution_count": 21,
   "id": "c91ae5b5",
   "metadata": {},
   "outputs": [
    {
     "data": {
      "text/plain": [
       "0.4338854578966431"
      ]
     },
     "execution_count": 21,
     "metadata": {},
     "output_type": "execute_result"
    }
   ],
   "source": [
    "fluxes.min()"
   ]
  },
  {
   "cell_type": "code",
   "execution_count": 26,
   "id": "01bde399",
   "metadata": {},
   "outputs": [
    {
     "data": {
      "image/png": "[encoded data removed]",
      "text/plain": [
       "<Figure size 432x288 with 1 Axes>"
      ]
     },
     "metadata": {
      "needs_background": "light"
     },
     "output_type": "display_data"
    }
   ],
   "source": [
    "flux_profile = fluxes[0,:]\n",
    "X_ord = Xs[0,:]\n",
    "X_ord = X_ord*(R/(meshDim+1))\n",
    "plt.semilogy(X_ord,flux_profile,label='OpenMC',linestyle='--',\n",
    "            linewidth=4);\n",
    "plt.semilogy(r,phi,label='Diffusion Theory',linestyle='-.',\n",
    "             linewidth=4);\n",
    "plt.xlabel('R [cm]',fontsize=12,fontweight='bold')\n",
    "plt.ylabel('$\\phi$ [$n/cm^2-s$]',fontsize=12,fontweight='bold')\n",
    "plt.legend();\n",
    "plt.grid(True);\n",
    "plt.title('Flux Comparison',fontsize=14,fontweight='bold');"
   ]
  },
  {
   "cell_type": "code",
   "execution_count": null,
   "id": "b4f84b07",
   "metadata": {},
   "outputs": [],
   "source": []
  }
 ],
 "metadata": {
  "kernelspec": {
   "display_name": "Python 3",
   "language": "python",
   "name": "python3"
  },
  "language_info": {
   "codemirror_mode": {
    "name": "ipython",
    "version": 3
   },
   "file_extension": ".py",
   "mimetype": "text/x-python",
   "name": "python",
   "nbconvert_exporter": "python",
   "pygments_lexer": "ipython3",
   "version": "3.9.2"
  }
 },
 "nbformat": 4,
 "nbformat_minor": 5
}
