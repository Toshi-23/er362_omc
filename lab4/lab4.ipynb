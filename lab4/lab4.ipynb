{
 "cells": [
  {
   "cell_type": "markdown",
   "id": "4188104a",
   "metadata": {},
   "source": [
    "# Lab 4\n",
    "The goals of this lab are as follows:\n",
    "1. introduce criticality calculations; and\n",
    "2. compare OpenMC criticality calculation for a simple geometry and material composition to 1-Group Critical Equation.\n",
    "\n",
    "The problem is to find the critical radius of a solid sphere of pure Pu-239.  \n"
   ]
  },
  {
   "cell_type": "markdown",
   "id": "ec649943",
   "metadata": {},
   "source": [
    "## 1-Group Critical Equation\n",
    "The analytic solution is arrived at by using the 1-Group Critical Equation given by:\n",
    "$$B_1^2 = \\frac{k_{\\infty}-1}{L^2}$$\n",
    "where $B_1^2$ is the buckling, and $L^2$ is the diffusion area; and $k_{\\infty}$ is the infinite multiplication factor.  \n",
    "\n",
    "The buckling depends on geometry; for this problem, the domain is spherical and buckling is given by:\n",
    "$$B^{2}=\\left( \\frac{\\pi}{\\tilde{R}}\\right)^{2}$$\n",
    "where $\\tilde{R}$ is the extrapolated radius of the sphere: $\\tilde{R}=R+d$; with $d$ being the extrapolation distance.  The extrapolation distance is base on the diffusion coefficient: $d = 2.13D$ and the diffusion coefficient $(D)$ is based on the macroscopic transport cross section: $D=\\frac{1}{3\\Sigma_{tr}}$.\n",
    "\n",
    "The macroscopic transport cross section is, in turn, computed from the corresponding microscopic cross section $(\\sigma_{tr})$ and the atom density of the Pu-239 material.  \n",
    "\n",
    "We're almost to the bottom of the rabbit hole...\n",
    "\n",
    "The diffusion area is based on the diffusion coefficient and the macroscopic absorption cross section:\n",
    "$$L^{2}=\\frac{D}{\\Sigma_{a}}$$\n",
    "and, similar to the macroscopic transport cross section, $\\Sigma_{a}$ is computed with the atom density of the Pu-239 material and the corresponding microscopic cross section $(\\sigma_a)$\n",
    "\n",
    "Lastly, $k_{\\infty}$ is the infinite multiplication factor.  It is based on the regeneration factor ($\\eta$) which we will take to be a known material property of Pu-239 and the fuel utilization, $f$, which we will take to be unity since the domain where neutrons will be diffusing and interacting is 100% fuel.\n",
    "\n",
    "All of this long discussion is implemented in the code below.  Note that all elements of the equations above can be taken to be known *except* for the radius $R$.\n"
   ]
  },
  {
   "cell_type": "code",
   "execution_count": 2,
   "id": "d3a07811",
   "metadata": {},
   "outputs": [
    {
     "name": "stdout",
     "output_type": "stream",
     "text": [
      "1-group critical radius for sphere of Pu-238: 7.3776 cm\n"
     ]
    }
   ],
   "source": [
    "import numpy as np\n",
    "\n",
    "# data:\n",
    "N_Pu = 0.037; #atoms/b-cm, atom density of Pu-239\n",
    "sig_f = 1.85; #b, fission micro xc\n",
    "sig_a = 2.11; #b, absorption micro xc\n",
    "sig_tr = 6.8; #b, transport micro xc\n",
    "\n",
    "Sig_tr = N_Pu*sig_tr; # 1/cm, transport macro xc\n",
    "D = 1./(3.*Sig_tr); #cm, diffusion coefficient\n",
    "d = 2.13*D; #cm, extrapolation length\n",
    "\n",
    "f = 1.; # fuel utilization\n",
    "eta_pu = 2.61; # 1-group reproduction factor for Pu-239\n",
    "\n",
    "k_inf = f*eta_pu;\n",
    "\n",
    "Sig_a = N_Pu*sig_a; # 1/cm, abs macro xc\n",
    "L_sq = D/Sig_a; # cm**2, diffusion area\n",
    "B_sq = (k_inf-1.)/L_sq; #1/cm**2, buckling\n",
    "\n",
    "R_tild = np.pi/(np.sqrt(B_sq)); # cm, extrapolated radius\n",
    "\n",
    "R = R_tild - d; # cm, 1-group critical radius\n",
    "\n",
    "print(f'1-group critical radius for sphere of Pu-238: %5.4f cm'%R)\n",
    "\n",
    "\n",
    "\n",
    "\n"
   ]
  },
  {
   "cell_type": "markdown",
   "id": "681f7845",
   "metadata": {},
   "source": [
    "## OpenMC model\n",
    "Below we will implment this simple model and use OpenMC features to find the critical radius."
   ]
  },
  {
   "cell_type": "code",
   "execution_count": 3,
   "id": "598212fb",
   "metadata": {},
   "outputs": [],
   "source": [
    "import openmc"
   ]
  },
  {
   "cell_type": "markdown",
   "id": "462785e8",
   "metadata": {},
   "source": [
    "In order to do this analysis we will use OpenMC's criticality search machinery.  The basic idea is that we need to create a function that takes one parameter - in this case $R$ - that will be varied while we search for the value to that parameter that results in $k_{eff}$ being equal to one."
   ]
  },
  {
   "cell_type": "code",
   "execution_count": 9,
   "id": "6362f5c4",
   "metadata": {},
   "outputs": [],
   "source": [
    "# create the model.  \"R\" will be the parametric variable\n",
    "def build_model(R):\n",
    "    # create the sphere material\n",
    "    fuel = openmc.Material(name='fuel');\n",
    "    fuel.add_nuclide('Pu239',1);\n",
    "    fuel.set_density('atom/b-cm',N_Pu);\n",
    "\n",
    "    materials = openmc.Materials([fuel]); \n",
    "    \n",
    "    fuel_sphere = openmc.Sphere(r=R,boundary_type='vacuum');\n",
    "    \n",
    "    fuel_cell = openmc.Cell();\n",
    "    fuel_cell.fill = fuel;\n",
    "    fuel_cell.region = -fuel_sphere;\n",
    "    \n",
    "    root_universe = openmc.Universe();\n",
    "    root_universe.add_cells([fuel_cell]);\n",
    "    \n",
    "    geometry = openmc.Geometry(root_universe);\n",
    "    \n",
    "    settings = openmc.Settings()\n",
    "    settings.batches = 200;\n",
    "    settings.inactive = 50;\n",
    "    settings.particles = 10000;\n",
    "    \n",
    "    bounds = [-R,-R,-R,R,R,R];\n",
    "    uniform_dist = openmc.stats.Box(bounds[:3],bounds[3:],\n",
    "                                    only_fissionable=True);\n",
    "    settings.source = openmc.source.Source(space=uniform_dist);\n",
    "    \n",
    "    # so we don't waste disk input/output tallies that we will  not use\n",
    "    settings.output = {'tallies':False};\n",
    "    \n",
    "    model = openmc.model.Model(geometry,materials,settings);\n",
    "    \n",
    "    return model"
   ]
  },
  {
   "cell_type": "markdown",
   "id": "16d37875",
   "metadata": {},
   "source": [
    "### Search for Critical Radius\n",
    "To perform the search we will employ a call to \n",
    "<code> openmc.search_for_keff</code> function and pass in the relevant arguments."
   ]
  },
  {
   "cell_type": "code",
   "execution_count": 11,
   "id": "ca135146",
   "metadata": {},
   "outputs": [
    {
     "name": "stdout",
     "output_type": "stream",
     "text": [
      "Iteration: 1; Guess of 4.00e+00 produced a keff of 0.63274 +/- 0.00029\n",
      "Iteration: 2; Guess of 1.50e+01 produced a keff of 1.82488 +/- 0.00090\n",
      "Iteration: 3; Guess of 9.50e+00 produced a keff of 1.33705 +/- 0.00071\n",
      "Iteration: 4; Guess of 6.75e+00 produced a keff of 1.01102 +/- 0.00051\n",
      "Iteration: 5; Guess of 5.38e+00 produced a keff of 0.82847 +/- 0.00041\n",
      "Iteration: 6; Guess of 6.06e+00 produced a keff of 0.92161 +/- 0.00045\n",
      "Iteration: 7; Guess of 6.41e+00 produced a keff of 0.96777 +/- 0.00052\n",
      "Iteration: 8; Guess of 6.58e+00 produced a keff of 0.98935 +/- 0.00051\n",
      "Iteration: 9; Guess of 6.66e+00 produced a keff of 1.00126 +/- 0.00053\n",
      "Iteration: 10; Guess of 6.62e+00 produced a keff of 0.99563 +/- 0.00050\n",
      "Iteration: 11; Guess of 6.64e+00 produced a keff of 0.99761 +/- 0.00054\n",
      "Iteration: 12; Guess of 6.65e+00 produced a keff of 0.99904 +/- 0.00047\n",
      "Iteration: 13; Guess of 6.66e+00 produced a keff of 1.00004 +/- 0.00054\n",
      "Critical Radius: 6.6587\n"
     ]
    }
   ],
   "source": [
    "crit_R, guesses, keffs = openmc.search_for_keff(build_model,\n",
    "                                               bracket=[4.,15.],\n",
    "                                               tol=1e-3,print_iterations=True)\n",
    "\n",
    "print(f'Critical Radius: %5.4f'%crit_R);"
   ]
  },
  {
   "cell_type": "code",
   "execution_count": null,
   "id": "9d7e1849",
   "metadata": {},
   "outputs": [],
   "source": []
  }
 ],
 "metadata": {
  "kernelspec": {
   "display_name": "Python 3",
   "language": "python",
   "name": "python3"
  },
  "language_info": {
   "codemirror_mode": {
    "name": "ipython",
    "version": 3
   },
   "file_extension": ".py",
   "mimetype": "text/x-python",
   "name": "python",
   "nbconvert_exporter": "python",
   "pygments_lexer": "ipython3",
   "version": "3.9.2"
  }
 },
 "nbformat": 4,
 "nbformat_minor": 5
}
