{
 "cells": [
  {
   "cell_type": "markdown",
   "id": "288fd066",
   "metadata": {},
   "source": [
    "# Problem 9\n",
    "Estimate the critical radius of a hypothetical bare spherical reactor consisting of a liquid mixture of sodium and plutonium in which the plutonium is present to a 3.0 w/o and the mixture density is approximately 1.0 g/cc."
   ]
  },
  {
   "cell_type": "markdown",
   "id": "1af4398c",
   "metadata": {},
   "source": [
    "## Model\n",
    "Here we create the materials, geometry, and settings comprising a model of our reactor.  "
   ]
  },
  {
   "cell_type": "code",
   "execution_count": 1,
   "id": "0bd54e95",
   "metadata": {},
   "outputs": [],
   "source": [
    "import matplotlib.pyplot as plt\n",
    "import numpy as np\n",
    "import openmc\n",
    "import openmc.model\n",
    "\n",
    "%matplotlib inline"
   ]
  },
  {
   "cell_type": "code",
   "execution_count": 3,
   "id": "b8e7d145",
   "metadata": {},
   "outputs": [],
   "source": [
    "def build_model(radius):\n",
    "    core = openmc.Material(name='core');\n",
    "    core.add_element('Na',0.97,'wo');\n",
    "    core.add_nuclide('Pu239',0.03,'wo');\n",
    "    core.set_density('g/cm3',1.0);\n",
    "\n",
    "    materials = openmc.Materials([core]);\n",
    "    \n",
    "    R = radius;\n",
    "    core_g = openmc.Sphere(r=R,boundary_type='vacuum');\n",
    "\n",
    "\n",
    "    core_c = openmc.Cell();\n",
    "    core_c.fill = core;\n",
    "    core_c.region = -core_g;\n",
    "    core_c.temperature = 900;\n",
    "\n",
    "    root_u = openmc.Universe();\n",
    "    root_u.add_cells([core_c]);\n",
    "\n",
    "    geometry = openmc.Geometry(root_u);\n",
    "    \n",
    "    settings = openmc.Settings();\n",
    "    settings.batches = 300;\n",
    "    settings.inactive = 100;\n",
    "    settings.particles = 20000;\n",
    "\n",
    "    bounds = [-R,-R,-R,R,R,R];\n",
    "    uniform_dist = openmc.stats.Box(bounds[:3],bounds[3:],\n",
    "                                       only_fissionable=True);\n",
    "    settings.source = openmc.source.Source(space=uniform_dist);\n",
    "\n",
    "    settings.temperature['method']='interpolation';\n",
    "    settings.output = {'tallies': False};\n",
    "    \n",
    "    model = openmc.model.Model(geometry,materials,settings);\n",
    "    \n",
    "    return model\n",
    "    \n",
    "    "
   ]
  },
  {
   "cell_type": "markdown",
   "id": "561db6cf",
   "metadata": {},
   "source": [
    "## Search for Critical Radius\n",
    "I have the solution manual and I think the critical radius is around 400 cm but this is a well-behavied sort of root-finding problem so there is no real issue with establishing wide bounds."
   ]
  },
  {
   "cell_type": "code",
   "execution_count": 4,
   "id": "d5d7a235",
   "metadata": {},
   "outputs": [
    {
     "name": "stdout",
     "output_type": "stream",
     "text": [
      "Iteration: 1; Guess of 5.00e+01 produced a keff of 0.03179 +/- 0.00003\n",
      "Iteration: 2; Guess of 1.00e+03 produced a keff of 1.49898 +/- 0.00043\n",
      "Iteration: 3; Guess of 5.25e+02 produced a keff of 1.37261 +/- 0.00044\n",
      "Iteration: 4; Guess of 2.88e+02 produced a keff of 1.05077 +/- 0.00053\n",
      "Iteration: 5; Guess of 1.69e+02 produced a keff of 0.56450 +/- 0.00041\n",
      "Iteration: 6; Guess of 2.28e+02 produced a keff of 0.85414 +/- 0.00046\n",
      "Iteration: 7; Guess of 2.58e+02 produced a keff of 0.96367 +/- 0.00050\n",
      "Iteration: 8; Guess of 2.73e+02 produced a keff of 1.00927 +/- 0.00047\n",
      "Iteration: 9; Guess of 2.65e+02 produced a keff of 0.98703 +/- 0.00050\n",
      "Iteration: 10; Guess of 2.69e+02 produced a keff of 0.99802 +/- 0.00045\n",
      "Iteration: 11; Guess of 2.71e+02 produced a keff of 1.00373 +/- 0.00048\n",
      "Iteration: 12; Guess of 2.70e+02 produced a keff of 1.00104 +/- 0.00049\n",
      "Iteration: 13; Guess of 2.69e+02 produced a keff of 0.99953 +/- 0.00047\n",
      "Iteration: 14; Guess of 2.70e+02 produced a keff of 1.00117 +/- 0.00047\n",
      "Critical radius: 269.6411 cm\n"
     ]
    }
   ],
   "source": [
    "crit_r, guesses, keffs = openmc.search_for_keff(build_model,\n",
    "                                               bracket=[50.,1000.],\n",
    "                                               tol=1e-3,\n",
    "                                               print_iterations=True);\n",
    "\n",
    "print(f'Critical radius: %5.4f cm' % crit_r);"
   ]
  },
  {
   "cell_type": "markdown",
   "id": "cd4f3436",
   "metadata": {},
   "source": [
    "Interesting.  The \"solution\" presented for problem 9 results in a critical radius of 405 cm.  One thing that I can do is to verify that I've (at least) specified the materials correctly.  In the blocks below I will inspect the nuclide densities and compare to what the \"solution\" has computed."
   ]
  },
  {
   "cell_type": "code",
   "execution_count": 6,
   "id": "32edfd06",
   "metadata": {},
   "outputs": [
    {
     "name": "stdout",
     "output_type": "stream",
     "text": [
      "('Na23', 0.025409026770295454)\n",
      "('Pu239', 7.55752319697297e-05)\n"
     ]
    }
   ],
   "source": [
    "core = openmc.Material(name='core');\n",
    "core.add_element('Na',0.97,'wo');\n",
    "core.add_nuclide('Pu239',0.03,'wo');\n",
    "core.set_density('g/cm3',1.0);\n",
    "\n",
    "nuclides = core.get_nuclide_atom_densities();\n",
    "\n",
    "print(nuclides['Na23']);\n",
    "print(nuclides['Pu239']);\n"
   ]
  },
  {
   "cell_type": "markdown",
   "id": "d061dbf5",
   "metadata": {},
   "source": [
    "this closely corresponds to the computed atom densities of 2.54e-2 and 7.56e-5 atoms/b-cm respectively."
   ]
  }
 ],
 "metadata": {
  "kernelspec": {
   "display_name": "Python 3",
   "language": "python",
   "name": "python3"
  },
  "language_info": {
   "codemirror_mode": {
    "name": "ipython",
    "version": 3
   },
   "file_extension": ".py",
   "mimetype": "text/x-python",
   "name": "python",
   "nbconvert_exporter": "python",
   "pygments_lexer": "ipython3",
   "version": "3.9.2"
  }
 },
 "nbformat": 4,
 "nbformat_minor": 5
}
