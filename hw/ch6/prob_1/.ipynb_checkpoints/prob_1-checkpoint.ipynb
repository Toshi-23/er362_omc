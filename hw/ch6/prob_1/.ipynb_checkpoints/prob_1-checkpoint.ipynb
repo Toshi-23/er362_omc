{
 "cells": [
  {
   "cell_type": "markdown",
   "id": "d17f66ed",
   "metadata": {},
   "source": [
    "# Problem 6.1\n",
    "\n",
    "In this problem we are asked to consider a homogeneous mixture of sodium and plutonium.  We will assume the only plutonium isotope is Pu-239 and natural sodium is used.  The Pu-239 fraction is 3 weight percent.  The overall mixture density is 1 g/cc.  \n",
    "\n",
    "Question: what is the fuel utilization and $k_{\\infty}$"
   ]
  },
  {
   "cell_type": "code",
   "execution_count": 1,
   "id": "e6db4c11",
   "metadata": {},
   "outputs": [],
   "source": [
    "%matplotlib inline\n",
    "\n",
    "import openmc\n",
    "import numpy as np\n",
    "import matplotlib.pyplot as plt\n",
    "\n",
    "\n"
   ]
  },
  {
   "cell_type": "markdown",
   "id": "0578dbee",
   "metadata": {},
   "source": [
    "## Materials"
   ]
  },
  {
   "cell_type": "code",
   "execution_count": 2,
   "id": "ab021b53",
   "metadata": {},
   "outputs": [],
   "source": [
    "core = openmc.Material(name='core');\n",
    "core.add_element('Na',0.97,'wo');\n",
    "core.add_nuclide('Pu239',0.03,'wo');\n",
    "core.set_density('g/cm3',1.0);\n",
    "\n",
    "materials = openmc.Materials([core]);\n",
    "materials.export_to_xml();"
   ]
  },
  {
   "cell_type": "markdown",
   "id": "6dec977b",
   "metadata": {},
   "source": [
    "## Geometry\n",
    "We will first model the geometry as a sphere with a reflective boundary"
   ]
  },
  {
   "cell_type": "code",
   "execution_count": 3,
   "id": "38d9a13c",
   "metadata": {},
   "outputs": [],
   "source": [
    "R = 5.0\n",
    "core_g = openmc.Sphere(r=R,boundary_type='reflective');\n",
    "\n",
    "\n",
    "core_c = openmc.Cell();\n",
    "core_c.fill = core;\n",
    "core_c.region = -core_g;\n",
    "core_c.temperature = 900;\n",
    "\n",
    "root_u = openmc.Universe();\n",
    "root_u.add_cells([core_c]);\n",
    "\n",
    "geometry = openmc.Geometry(root_u);\n",
    "\n",
    "geometry.export_to_xml();"
   ]
  },
  {
   "cell_type": "markdown",
   "id": "ba9c389f",
   "metadata": {},
   "source": [
    "## Tallies"
   ]
  },
  {
   "cell_type": "code",
   "execution_count": 4,
   "id": "4c72ceeb",
   "metadata": {},
   "outputs": [],
   "source": [
    "cell_filter = openmc.CellFilter(core_c);\n",
    "\n",
    "\n",
    "nu_tally = openmc.Tally(name='nu');\n",
    "nu_tally.scores = ['nu-fission']\n",
    "nu_tally.filters = [cell_filter];\n",
    "\n",
    "abs_tally = openmc.Tally(name='abs');\n",
    "abs_tally.scores = ['absorption']\n",
    "abs_tally.nuclides = ['Pu239','Na23'];\n",
    "\n",
    "fiss_tally = openmc.Tally(name='fission');\n",
    "fiss_tally.scores = ['fission'];\n",
    "\n",
    "capture_tally = openmc.Tally(name='n_gamma');\n",
    "capture_tally.scores = ['(n,gamma)'];\n",
    "capture_tally.nuclides = ['Pu239'];\n",
    "\n",
    "flux_tally = openmc.Tally(name='flux');\n",
    "flux_tally.scores = ['flux'];\n",
    "N = 1001\n",
    "energy_bins = np.logspace(-3,7,num=N);\n",
    "energy_filter = openmc.EnergyFilter(values=energy_bins);\n",
    "\n",
    "flux_tally.filters = [cell_filter,energy_filter];\n",
    "\n",
    "capture_tally_b = openmc.Tally(name='n_gamma binned');\n",
    "capture_tally_b.scores = ['(n,gamma)'];\n",
    "capture_tally_b.nuclides = ['Pu239'];\n",
    "capture_tally_b.filters = [cell_filter,energy_filter];\n",
    "\n",
    "fission_tally_b = openmc.Tally(name='fission binned');\n",
    "fission_tally_b.scores = ['fission'];\n",
    "fission_tally_b.nuclides = ['Pu239'];\n",
    "fission_tally_b.filters = [cell_filter,energy_filter];\n",
    "\n",
    "\n",
    "\n",
    "\n",
    "tallies = openmc.Tallies([nu_tally,abs_tally,fiss_tally,\n",
    "                          capture_tally,flux_tally,\n",
    "                         capture_tally_b,fission_tally_b]);\n",
    "\n",
    "tallies.export_to_xml();\n"
   ]
  },
  {
   "cell_type": "markdown",
   "id": "c48e99fa",
   "metadata": {},
   "source": [
    "## Settings\n"
   ]
  },
  {
   "cell_type": "code",
   "execution_count": 5,
   "id": "7df9562a",
   "metadata": {},
   "outputs": [],
   "source": [
    "settings = openmc.Settings();\n",
    "settings.batches = 300;\n",
    "settings.inactive = 100;\n",
    "settings.particles = 20000;\n",
    "\n",
    "bounds = [-R,-R,-R,R,R,R];\n",
    "uniform_dist = openmc.stats.Box(bounds[:3],bounds[3:],\n",
    "                                   only_fissionable=True);\n",
    "settings.source = openmc.source.Source(space=uniform_dist);\n",
    "\n",
    "settings.temperature['method']='interpolation';\n",
    "\n",
    "settings.export_to_xml();"
   ]
  },
  {
   "cell_type": "code",
   "execution_count": 6,
   "id": "4e35962b",
   "metadata": {},
   "outputs": [
    {
     "ename": "OSError",
     "evalue": "[Errno 12] Cannot allocate memory",
     "output_type": "error",
     "traceback": [
      "\u001b[0;31m---------------------------------------------------------------------------\u001b[0m",
      "\u001b[0;31mOSError\u001b[0m                                   Traceback (most recent call last)",
      "\u001b[0;32m<ipython-input-6-b3992cdbc7fa>\u001b[0m in \u001b[0;36m<module>\u001b[0;34m\u001b[0m\n\u001b[0;32m----> 1\u001b[0;31m \u001b[0mopenmc\u001b[0m\u001b[0;34m.\u001b[0m\u001b[0mrun\u001b[0m\u001b[0;34m(\u001b[0m\u001b[0;34m)\u001b[0m\u001b[0;34m\u001b[0m\u001b[0;34m\u001b[0m\u001b[0m\n\u001b[0m",
      "\u001b[0;32m~/anaconda2/envs/omc_latest/lib/python3.9/site-packages/openmc/executor.py\u001b[0m in \u001b[0;36mrun\u001b[0;34m(particles, threads, geometry_debug, restart_file, tracks, output, cwd, openmc_exec, mpi_args, event_based)\u001b[0m\n\u001b[1;32m    225\u001b[0m         \u001b[0margs\u001b[0m \u001b[0;34m=\u001b[0m \u001b[0mmpi_args\u001b[0m \u001b[0;34m+\u001b[0m \u001b[0margs\u001b[0m\u001b[0;34m\u001b[0m\u001b[0;34m\u001b[0m\u001b[0m\n\u001b[1;32m    226\u001b[0m \u001b[0;34m\u001b[0m\u001b[0m\n\u001b[0;32m--> 227\u001b[0;31m     \u001b[0m_run\u001b[0m\u001b[0;34m(\u001b[0m\u001b[0margs\u001b[0m\u001b[0;34m,\u001b[0m \u001b[0moutput\u001b[0m\u001b[0;34m,\u001b[0m \u001b[0mcwd\u001b[0m\u001b[0;34m)\u001b[0m\u001b[0;34m\u001b[0m\u001b[0;34m\u001b[0m\u001b[0m\n\u001b[0m",
      "\u001b[0;32m~/anaconda2/envs/omc_latest/lib/python3.9/site-packages/openmc/executor.py\u001b[0m in \u001b[0;36m_run\u001b[0;34m(args, output, cwd)\u001b[0m\n\u001b[1;32m      8\u001b[0m \u001b[0;32mdef\u001b[0m \u001b[0m_run\u001b[0m\u001b[0;34m(\u001b[0m\u001b[0margs\u001b[0m\u001b[0;34m,\u001b[0m \u001b[0moutput\u001b[0m\u001b[0;34m,\u001b[0m \u001b[0mcwd\u001b[0m\u001b[0;34m)\u001b[0m\u001b[0;34m:\u001b[0m\u001b[0;34m\u001b[0m\u001b[0;34m\u001b[0m\u001b[0m\n\u001b[1;32m      9\u001b[0m     \u001b[0;31m# Launch a subprocess\u001b[0m\u001b[0;34m\u001b[0m\u001b[0;34m\u001b[0m\u001b[0;34m\u001b[0m\u001b[0m\n\u001b[0;32m---> 10\u001b[0;31m     p = subprocess.Popen(args, cwd=cwd, stdout=subprocess.PIPE,\n\u001b[0m\u001b[1;32m     11\u001b[0m                          stderr=subprocess.STDOUT, universal_newlines=True)\n\u001b[1;32m     12\u001b[0m \u001b[0;34m\u001b[0m\u001b[0m\n",
      "\u001b[0;32m~/anaconda2/envs/omc_latest/lib/python3.9/subprocess.py\u001b[0m in \u001b[0;36m__init__\u001b[0;34m(self, args, bufsize, executable, stdin, stdout, stderr, preexec_fn, close_fds, shell, cwd, env, universal_newlines, startupinfo, creationflags, restore_signals, start_new_session, pass_fds, user, group, extra_groups, encoding, errors, text, umask)\u001b[0m\n\u001b[1;32m    949\u001b[0m                             encoding=encoding, errors=errors)\n\u001b[1;32m    950\u001b[0m \u001b[0;34m\u001b[0m\u001b[0m\n\u001b[0;32m--> 951\u001b[0;31m             self._execute_child(args, executable, preexec_fn, close_fds,\n\u001b[0m\u001b[1;32m    952\u001b[0m                                 \u001b[0mpass_fds\u001b[0m\u001b[0;34m,\u001b[0m \u001b[0mcwd\u001b[0m\u001b[0;34m,\u001b[0m \u001b[0menv\u001b[0m\u001b[0;34m,\u001b[0m\u001b[0;34m\u001b[0m\u001b[0;34m\u001b[0m\u001b[0m\n\u001b[1;32m    953\u001b[0m                                 \u001b[0mstartupinfo\u001b[0m\u001b[0;34m,\u001b[0m \u001b[0mcreationflags\u001b[0m\u001b[0;34m,\u001b[0m \u001b[0mshell\u001b[0m\u001b[0;34m,\u001b[0m\u001b[0;34m\u001b[0m\u001b[0;34m\u001b[0m\u001b[0m\n",
      "\u001b[0;32m~/anaconda2/envs/omc_latest/lib/python3.9/subprocess.py\u001b[0m in \u001b[0;36m_execute_child\u001b[0;34m(self, args, executable, preexec_fn, close_fds, pass_fds, cwd, env, startupinfo, creationflags, shell, p2cread, p2cwrite, c2pread, c2pwrite, errread, errwrite, restore_signals, gid, gids, uid, umask, start_new_session)\u001b[0m\n\u001b[1;32m   1754\u001b[0m                     \u001b[0mfds_to_keep\u001b[0m \u001b[0;34m=\u001b[0m \u001b[0mset\u001b[0m\u001b[0;34m(\u001b[0m\u001b[0mpass_fds\u001b[0m\u001b[0;34m)\u001b[0m\u001b[0;34m\u001b[0m\u001b[0;34m\u001b[0m\u001b[0m\n\u001b[1;32m   1755\u001b[0m                     \u001b[0mfds_to_keep\u001b[0m\u001b[0;34m.\u001b[0m\u001b[0madd\u001b[0m\u001b[0;34m(\u001b[0m\u001b[0merrpipe_write\u001b[0m\u001b[0;34m)\u001b[0m\u001b[0;34m\u001b[0m\u001b[0;34m\u001b[0m\u001b[0m\n\u001b[0;32m-> 1756\u001b[0;31m                     self.pid = _posixsubprocess.fork_exec(\n\u001b[0m\u001b[1;32m   1757\u001b[0m                             \u001b[0margs\u001b[0m\u001b[0;34m,\u001b[0m \u001b[0mexecutable_list\u001b[0m\u001b[0;34m,\u001b[0m\u001b[0;34m\u001b[0m\u001b[0;34m\u001b[0m\u001b[0m\n\u001b[1;32m   1758\u001b[0m                             \u001b[0mclose_fds\u001b[0m\u001b[0;34m,\u001b[0m \u001b[0mtuple\u001b[0m\u001b[0;34m(\u001b[0m\u001b[0msorted\u001b[0m\u001b[0;34m(\u001b[0m\u001b[0mmap\u001b[0m\u001b[0;34m(\u001b[0m\u001b[0mint\u001b[0m\u001b[0;34m,\u001b[0m \u001b[0mfds_to_keep\u001b[0m\u001b[0;34m)\u001b[0m\u001b[0;34m)\u001b[0m\u001b[0;34m)\u001b[0m\u001b[0;34m,\u001b[0m\u001b[0;34m\u001b[0m\u001b[0;34m\u001b[0m\u001b[0m\n",
      "\u001b[0;31mOSError\u001b[0m: [Errno 12] Cannot allocate memory"
     ]
    }
   ],
   "source": [
    "openmc.run()"
   ]
  },
  {
   "cell_type": "code",
   "execution_count": null,
   "id": "75fdad7b",
   "metadata": {},
   "outputs": [],
   "source": [
    "!cat tallies.out"
   ]
  },
  {
   "cell_type": "markdown",
   "id": "3ae1c20f",
   "metadata": {},
   "source": [
    "The answer calculated for problem 6.1: f = 0.887; from OpenMC it appears to be a pretty close match where the fraction of source neutrons absorbed in Pu239 is roughly 0.89.  \n",
    "\n",
    "The eigenvalue caluclated in OpenMC is only about 1.567; this is much lower than the value presented in the textbook which computes out to 2.315.  \n",
    "\n",
    "The higher $k_{\\infty}$ from the text is driven by the \"nominal 1-group constants for a fast reactor\" presented in Table 6.1 of the text.  In particular the microscopic fission cross section is given as 1.85b while the capture cross section is only 0.26b.  In this OpenMC analysis the capture rate is more than half the fission rate.  This seems to be the biggest difference.\n",
    "\n",
    "I will try to change the temperature of the evaluations to be more representative of a fast reactor."
   ]
  },
  {
   "cell_type": "code",
   "execution_count": null,
   "id": "d0bb80a8",
   "metadata": {},
   "outputs": [],
   "source": [
    "sp = openmc.StatePoint('statepoint.300.h5');\n",
    "\n",
    "flux = sp.get_tally(name='flux');\n",
    "flux_df = flux.get_pandas_dataframe();"
   ]
  },
  {
   "cell_type": "code",
   "execution_count": null,
   "id": "298306e8",
   "metadata": {},
   "outputs": [],
   "source": [
    "flux_vals = flux_df['mean'].to_numpy();"
   ]
  },
  {
   "cell_type": "code",
   "execution_count": null,
   "id": "dca2a10f",
   "metadata": {},
   "outputs": [],
   "source": [
    "energy_x = 0.5*(energy_bins[0:-1]+energy_bins[1:]);"
   ]
  },
  {
   "cell_type": "code",
   "execution_count": null,
   "id": "67e9044f",
   "metadata": {},
   "outputs": [],
   "source": [
    "plt.loglog(energy_x,flux_vals);\n",
    "plt.grid()"
   ]
  },
  {
   "cell_type": "code",
   "execution_count": null,
   "id": "0a74a6fb",
   "metadata": {},
   "outputs": [],
   "source": [
    "#import os\n",
    "#data_path = os.environ.get('DATAPATH');\n",
    "OMC_DATA = \"/home/stu/OMC_DATA/endfb71_hdf5\"\n",
    "\n",
    "na_path = OMC_DATA + \"/Na23.h5\";\n",
    "\n",
    "na23 = openmc.data.IncidentNeutron.from_hdf5(na_path);"
   ]
  },
  {
   "cell_type": "code",
   "execution_count": null,
   "id": "9abad7fa",
   "metadata": {},
   "outputs": [],
   "source": [
    "type(na23)"
   ]
  },
  {
   "cell_type": "code",
   "execution_count": null,
   "id": "67656684",
   "metadata": {},
   "outputs": [],
   "source": [
    "na23.energy"
   ]
  },
  {
   "cell_type": "code",
   "execution_count": null,
   "id": "37b66452",
   "metadata": {},
   "outputs": [],
   "source": [
    "energies = na23.energy['600K'];"
   ]
  },
  {
   "cell_type": "code",
   "execution_count": null,
   "id": "4155a525",
   "metadata": {},
   "outputs": [],
   "source": [
    "print(list(na23.reactions.values()))"
   ]
  },
  {
   "cell_type": "code",
   "execution_count": null,
   "id": "bfb12937",
   "metadata": {},
   "outputs": [],
   "source": [
    "na23_ngamma = na23[102];"
   ]
  },
  {
   "cell_type": "code",
   "execution_count": null,
   "id": "12c32eb5",
   "metadata": {},
   "outputs": [],
   "source": [
    "pu_path = OMC_DATA + \"/Pu239.h5\";\n",
    "\n",
    "pu239 = openmc.data.IncidentNeutron.from_hdf5(pu_path);"
   ]
  },
  {
   "cell_type": "code",
   "execution_count": null,
   "id": "6403748a",
   "metadata": {},
   "outputs": [],
   "source": [
    "pu_energies = pu239.energy['600K'];"
   ]
  },
  {
   "cell_type": "code",
   "execution_count": null,
   "id": "81dbf4c9",
   "metadata": {},
   "outputs": [],
   "source": [
    "print(list(pu239.reactions.values()))"
   ]
  },
  {
   "cell_type": "code",
   "execution_count": null,
   "id": "e5161d14",
   "metadata": {},
   "outputs": [],
   "source": [
    "pu_fission = pu239[18]; \n",
    "pu_ngamma = pu239[102];"
   ]
  },
  {
   "cell_type": "code",
   "execution_count": null,
   "id": "05c85982",
   "metadata": {},
   "outputs": [],
   "source": [
    "plt.loglog(pu_fission.xs['600K'].x,pu_fission.xs['600K'].y,label='fission xc');\n",
    "plt.loglog(pu_ngamma.xs['600K'].x,pu_ngamma.xs['600K'].y,label='n-gamma xc');\n",
    "plt.loglog(energy_x,flux_vals,label='flux');\n",
    "plt.grid();\n",
    "plt.legend();"
   ]
  },
  {
   "cell_type": "markdown",
   "id": "7f4e7b94",
   "metadata": {},
   "source": [
    "Plot the flux spectrum and overlay the Na23 n-gamma xc."
   ]
  },
  {
   "cell_type": "code",
   "execution_count": null,
   "id": "b63486fa",
   "metadata": {},
   "outputs": [],
   "source": [
    "plt.loglog(na23_ngamma.xs['600K'].x,na23_ngamma.xs['600K'].y,label='Na-23 n-gamma');\n",
    "plt.loglog(energy_x,flux_vals,label='flux');\n",
    "plt.grid();\n",
    "plt.legend();"
   ]
  },
  {
   "cell_type": "code",
   "execution_count": null,
   "id": "48a6a70b",
   "metadata": {},
   "outputs": [],
   "source": []
  }
 ],
 "metadata": {
  "kernelspec": {
   "display_name": "Python 3",
   "language": "python",
   "name": "python3"
  },
  "language_info": {
   "codemirror_mode": {
    "name": "ipython",
    "version": 3
   },
   "file_extension": ".py",
   "mimetype": "text/x-python",
   "name": "python",
   "nbconvert_exporter": "python",
   "pygments_lexer": "ipython3",
   "version": "3.9.2"
  }
 },
 "nbformat": 4,
 "nbformat_minor": 5
}
